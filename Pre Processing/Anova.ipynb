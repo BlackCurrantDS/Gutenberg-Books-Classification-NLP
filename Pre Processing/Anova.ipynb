{
  "nbformat": 4,
  "nbformat_minor": 0,
  "metadata": {
    "colab": {
      "name": "Anova.ipynb",
      "provenance": [],
      "authorship_tag": "ABX9TyPCM7PaJ6BP7LS+hec04rlD",
      "include_colab_link": true
    },
    "kernelspec": {
      "name": "python3",
      "display_name": "Python 3"
    }
  },
  "cells": [
    {
      "cell_type": "markdown",
      "metadata": {
        "id": "view-in-github",
        "colab_type": "text"
      },
      "source": [
        "<a href=\"https://colab.research.google.com/github/BlackCurrantDS/ATiML-Project/blob/master/Anova.ipynb\" target=\"_parent\"><img src=\"https://colab.research.google.com/assets/colab-badge.svg\" alt=\"Open In Colab\"/></a>"
      ]
    },
    {
      "cell_type": "code",
      "metadata": {
        "id": "L8tjucG06c35",
        "colab_type": "code",
        "colab": {}
      },
      "source": [
        "import pandas as pd\n",
        "import numpy as np"
      ],
      "execution_count": null,
      "outputs": []
    },
    {
      "cell_type": "code",
      "metadata": {
        "id": "8EMinB4GNROl",
        "colab_type": "code",
        "colab": {}
      },
      "source": [
        "train_data = pd.read_csv(\"features_scaled_train.csv\", index_col=0)\n"
      ],
      "execution_count": null,
      "outputs": []
    },
    {
      "cell_type": "code",
      "metadata": {
        "id": "l9w5mkjc6-v7",
        "colab_type": "code",
        "colab": {
          "base_uri": "https://localhost:8080/",
          "height": 151
        },
        "outputId": "407f8be5-8583-4a4b-9b13-6c96ea995200"
      },
      "source": [
        "train_data.head(1)"
      ],
      "execution_count": null,
      "outputs": [
        {
          "output_type": "execute_result",
          "data": {
            "text/html": [
              "<div>\n",
              "<style scoped>\n",
              "    .dataframe tbody tr th:only-of-type {\n",
              "        vertical-align: middle;\n",
              "    }\n",
              "\n",
              "    .dataframe tbody tr th {\n",
              "        vertical-align: top;\n",
              "    }\n",
              "\n",
              "    .dataframe thead th {\n",
              "        text-align: right;\n",
              "    }\n",
              "</style>\n",
              "<table border=\"1\" class=\"dataframe\">\n",
              "  <thead>\n",
              "    <tr style=\"text-align: right;\">\n",
              "      <th></th>\n",
              "      <th>FileNo</th>\n",
              "      <th>book_lenght</th>\n",
              "      <th>book_sen</th>\n",
              "      <th>book_word</th>\n",
              "      <th>lenght_book</th>\n",
              "      <th>number_sen</th>\n",
              "      <th>number_word</th>\n",
              "      <th>number_of_stop_words</th>\n",
              "      <th>number_of_foreignwords</th>\n",
              "      <th>count_dial_break</th>\n",
              "      <th>noun</th>\n",
              "      <th>verb</th>\n",
              "      <th>adj</th>\n",
              "      <th>ProperNoun</th>\n",
              "      <th>num</th>\n",
              "      <th>Puch</th>\n",
              "      <th>she</th>\n",
              "      <th>he</th>\n",
              "      <th>she_he_ratio</th>\n",
              "      <th>period</th>\n",
              "      <th>comma</th>\n",
              "      <th>colon</th>\n",
              "      <th>semi_colon</th>\n",
              "      <th>exl</th>\n",
              "      <th>q</th>\n",
              "      <th>positive_x</th>\n",
              "      <th>negative_x</th>\n",
              "      <th>neutral</th>\n",
              "      <th>compund</th>\n",
              "      <th>positive_y</th>\n",
              "      <th>negative_y</th>\n",
              "      <th>anger</th>\n",
              "      <th>disgust</th>\n",
              "      <th>fear</th>\n",
              "      <th>sadness</th>\n",
              "      <th>anticipation</th>\n",
              "      <th>joy</th>\n",
              "      <th>surprise</th>\n",
              "      <th>trust</th>\n",
              "      <th>genre</th>\n",
              "      <th>Author_Name</th>\n",
              "      <th>Book_Name</th>\n",
              "    </tr>\n",
              "  </thead>\n",
              "  <tbody>\n",
              "    <tr>\n",
              "      <th>0</th>\n",
              "      <td>29400.0</td>\n",
              "      <td>0.630936</td>\n",
              "      <td>0.041672</td>\n",
              "      <td>0.594109</td>\n",
              "      <td>0.630936</td>\n",
              "      <td>0.041672</td>\n",
              "      <td>0.594109</td>\n",
              "      <td>1.582709</td>\n",
              "      <td>-0.60319</td>\n",
              "      <td>0.77563</td>\n",
              "      <td>-0.8806</td>\n",
              "      <td>2.215819</td>\n",
              "      <td>-1.187174</td>\n",
              "      <td>0.0</td>\n",
              "      <td>-0.398413</td>\n",
              "      <td>-0.744598</td>\n",
              "      <td>-0.455629</td>\n",
              "      <td>2.350944</td>\n",
              "      <td>-1.060459</td>\n",
              "      <td>-0.642366</td>\n",
              "      <td>-0.00424</td>\n",
              "      <td>-0.71147</td>\n",
              "      <td>0.467028</td>\n",
              "      <td>-1.126372</td>\n",
              "      <td>-0.548475</td>\n",
              "      <td>-0.075467</td>\n",
              "      <td>0.283623</td>\n",
              "      <td>-0.355818</td>\n",
              "      <td>-1.0389</td>\n",
              "      <td>-0.436278</td>\n",
              "      <td>1.244505</td>\n",
              "      <td>1.266108</td>\n",
              "      <td>1.689566</td>\n",
              "      <td>2.146652</td>\n",
              "      <td>1.550633</td>\n",
              "      <td>1.177633</td>\n",
              "      <td>-0.099771</td>\n",
              "      <td>0.25454</td>\n",
              "      <td>-0.984709</td>\n",
              "      <td>Detective and Mystery</td>\n",
              "      <td>Dawson| Coningsby</td>\n",
              "      <td>Murder Point: A Tale of Keewatin</td>\n",
              "    </tr>\n",
              "  </tbody>\n",
              "</table>\n",
              "</div>"
            ],
            "text/plain": [
              "    FileNo  book_lenght  ...        Author_Name                         Book_Name\n",
              "0  29400.0     0.630936  ...  Dawson| Coningsby  Murder Point: A Tale of Keewatin\n",
              "\n",
              "[1 rows x 42 columns]"
            ]
          },
          "metadata": {
            "tags": []
          },
          "execution_count": 3
        }
      ]
    },
    {
      "cell_type": "code",
      "metadata": {
        "id": "OmVRqi1D66nC",
        "colab_type": "code",
        "colab": {}
      },
      "source": [
        "val_data = pd.read_csv(\"features_scaled_validation.csv\", index_col=0)"
      ],
      "execution_count": null,
      "outputs": []
    },
    {
      "cell_type": "code",
      "metadata": {
        "id": "UPNP87Zf7D-O",
        "colab_type": "code",
        "colab": {
          "base_uri": "https://localhost:8080/",
          "height": 168
        },
        "outputId": "21275f9d-51cb-457a-81fc-506e8e0892f8"
      },
      "source": [
        "val_data.head(1)"
      ],
      "execution_count": null,
      "outputs": [
        {
          "output_type": "execute_result",
          "data": {
            "text/html": [
              "<div>\n",
              "<style scoped>\n",
              "    .dataframe tbody tr th:only-of-type {\n",
              "        vertical-align: middle;\n",
              "    }\n",
              "\n",
              "    .dataframe tbody tr th {\n",
              "        vertical-align: top;\n",
              "    }\n",
              "\n",
              "    .dataframe thead th {\n",
              "        text-align: right;\n",
              "    }\n",
              "</style>\n",
              "<table border=\"1\" class=\"dataframe\">\n",
              "  <thead>\n",
              "    <tr style=\"text-align: right;\">\n",
              "      <th></th>\n",
              "      <th>FileNo</th>\n",
              "      <th>book_lenght</th>\n",
              "      <th>book_sen</th>\n",
              "      <th>book_word</th>\n",
              "      <th>lenght_book</th>\n",
              "      <th>number_sen</th>\n",
              "      <th>number_word</th>\n",
              "      <th>number_of_stop_words</th>\n",
              "      <th>number_of_foreignwords</th>\n",
              "      <th>count_dial_break</th>\n",
              "      <th>noun</th>\n",
              "      <th>verb</th>\n",
              "      <th>adj</th>\n",
              "      <th>ProperNoun</th>\n",
              "      <th>num</th>\n",
              "      <th>Puch</th>\n",
              "      <th>she</th>\n",
              "      <th>he</th>\n",
              "      <th>she_he_ratio</th>\n",
              "      <th>period</th>\n",
              "      <th>comma</th>\n",
              "      <th>colon</th>\n",
              "      <th>semi_colon</th>\n",
              "      <th>exl</th>\n",
              "      <th>q</th>\n",
              "      <th>positive_x</th>\n",
              "      <th>negative_x</th>\n",
              "      <th>neutral</th>\n",
              "      <th>compund</th>\n",
              "      <th>positive_y</th>\n",
              "      <th>negative_y</th>\n",
              "      <th>anger</th>\n",
              "      <th>disgust</th>\n",
              "      <th>fear</th>\n",
              "      <th>sadness</th>\n",
              "      <th>anticipation</th>\n",
              "      <th>joy</th>\n",
              "      <th>surprise</th>\n",
              "      <th>trust</th>\n",
              "      <th>genre</th>\n",
              "      <th>Author_Name</th>\n",
              "      <th>Book_Name</th>\n",
              "    </tr>\n",
              "  </thead>\n",
              "  <tbody>\n",
              "    <tr>\n",
              "      <th>0</th>\n",
              "      <td>34947.0</td>\n",
              "      <td>-0.326653</td>\n",
              "      <td>-0.632093</td>\n",
              "      <td>-0.385578</td>\n",
              "      <td>-0.326653</td>\n",
              "      <td>-0.632093</td>\n",
              "      <td>-0.385578</td>\n",
              "      <td>0.601769</td>\n",
              "      <td>-0.84199</td>\n",
              "      <td>0.415587</td>\n",
              "      <td>0.417181</td>\n",
              "      <td>0.027295</td>\n",
              "      <td>0.306535</td>\n",
              "      <td>0.0</td>\n",
              "      <td>-0.433888</td>\n",
              "      <td>-0.465823</td>\n",
              "      <td>-1.090568</td>\n",
              "      <td>-0.026658</td>\n",
              "      <td>-1.164636</td>\n",
              "      <td>-0.474675</td>\n",
              "      <td>0.001262</td>\n",
              "      <td>-1.177392</td>\n",
              "      <td>-1.495094</td>\n",
              "      <td>-0.361853</td>\n",
              "      <td>0.152946</td>\n",
              "      <td>1.971657</td>\n",
              "      <td>-0.316228</td>\n",
              "      <td>-0.271732</td>\n",
              "      <td>1.48675</td>\n",
              "      <td>-0.402266</td>\n",
              "      <td>1.4174</td>\n",
              "      <td>0.530293</td>\n",
              "      <td>-0.06162</td>\n",
              "      <td>0.834182</td>\n",
              "      <td>1.032823</td>\n",
              "      <td>-0.436456</td>\n",
              "      <td>-1.290688</td>\n",
              "      <td>0.28858</td>\n",
              "      <td>-0.290886</td>\n",
              "      <td>Detective and Mystery</td>\n",
              "      <td>Bayly| A. Eric</td>\n",
              "      <td>The House of Strange Secrets: A Detective Story</td>\n",
              "    </tr>\n",
              "  </tbody>\n",
              "</table>\n",
              "</div>"
            ],
            "text/plain": [
              "    FileNo  ...                                        Book_Name\n",
              "0  34947.0  ...  The House of Strange Secrets: A Detective Story\n",
              "\n",
              "[1 rows x 42 columns]"
            ]
          },
          "metadata": {
            "tags": []
          },
          "execution_count": 5
        }
      ]
    },
    {
      "cell_type": "code",
      "metadata": {
        "id": "iDqzlNte8WEb",
        "colab_type": "code",
        "colab": {}
      },
      "source": [
        "first_cols = ['FileNo','genre','Author_Name', 'Book_Name']\n",
        "last_cols = [col for col in train_data.columns if col not in first_cols]\n",
        "\n",
        "train_data = train_data[first_cols+last_cols]"
      ],
      "execution_count": null,
      "outputs": []
    },
    {
      "cell_type": "code",
      "metadata": {
        "id": "Brlu0iAP8qmx",
        "colab_type": "code",
        "colab": {
          "base_uri": "https://localhost:8080/",
          "height": 151
        },
        "outputId": "cdb95799-e2a5-48f7-e540-ecbc8987a798"
      },
      "source": [
        "train_data.head(1)"
      ],
      "execution_count": null,
      "outputs": [
        {
          "output_type": "execute_result",
          "data": {
            "text/html": [
              "<div>\n",
              "<style scoped>\n",
              "    .dataframe tbody tr th:only-of-type {\n",
              "        vertical-align: middle;\n",
              "    }\n",
              "\n",
              "    .dataframe tbody tr th {\n",
              "        vertical-align: top;\n",
              "    }\n",
              "\n",
              "    .dataframe thead th {\n",
              "        text-align: right;\n",
              "    }\n",
              "</style>\n",
              "<table border=\"1\" class=\"dataframe\">\n",
              "  <thead>\n",
              "    <tr style=\"text-align: right;\">\n",
              "      <th></th>\n",
              "      <th>FileNo</th>\n",
              "      <th>genre</th>\n",
              "      <th>Author_Name</th>\n",
              "      <th>Book_Name</th>\n",
              "      <th>book_lenght</th>\n",
              "      <th>book_sen</th>\n",
              "      <th>book_word</th>\n",
              "      <th>lenght_book</th>\n",
              "      <th>number_sen</th>\n",
              "      <th>number_word</th>\n",
              "      <th>number_of_stop_words</th>\n",
              "      <th>number_of_foreignwords</th>\n",
              "      <th>count_dial_break</th>\n",
              "      <th>noun</th>\n",
              "      <th>verb</th>\n",
              "      <th>adj</th>\n",
              "      <th>ProperNoun</th>\n",
              "      <th>num</th>\n",
              "      <th>Puch</th>\n",
              "      <th>she</th>\n",
              "      <th>he</th>\n",
              "      <th>she_he_ratio</th>\n",
              "      <th>period</th>\n",
              "      <th>comma</th>\n",
              "      <th>colon</th>\n",
              "      <th>semi_colon</th>\n",
              "      <th>exl</th>\n",
              "      <th>q</th>\n",
              "      <th>positive_x</th>\n",
              "      <th>negative_x</th>\n",
              "      <th>neutral</th>\n",
              "      <th>compund</th>\n",
              "      <th>positive_y</th>\n",
              "      <th>negative_y</th>\n",
              "      <th>anger</th>\n",
              "      <th>disgust</th>\n",
              "      <th>fear</th>\n",
              "      <th>sadness</th>\n",
              "      <th>anticipation</th>\n",
              "      <th>joy</th>\n",
              "      <th>surprise</th>\n",
              "      <th>trust</th>\n",
              "    </tr>\n",
              "  </thead>\n",
              "  <tbody>\n",
              "    <tr>\n",
              "      <th>0</th>\n",
              "      <td>29400.0</td>\n",
              "      <td>Detective and Mystery</td>\n",
              "      <td>Dawson| Coningsby</td>\n",
              "      <td>Murder Point: A Tale of Keewatin</td>\n",
              "      <td>0.630936</td>\n",
              "      <td>0.041672</td>\n",
              "      <td>0.594109</td>\n",
              "      <td>0.630936</td>\n",
              "      <td>0.041672</td>\n",
              "      <td>0.594109</td>\n",
              "      <td>1.582709</td>\n",
              "      <td>-0.60319</td>\n",
              "      <td>0.77563</td>\n",
              "      <td>-0.8806</td>\n",
              "      <td>2.215819</td>\n",
              "      <td>-1.187174</td>\n",
              "      <td>0.0</td>\n",
              "      <td>-0.398413</td>\n",
              "      <td>-0.744598</td>\n",
              "      <td>-0.455629</td>\n",
              "      <td>2.350944</td>\n",
              "      <td>-1.060459</td>\n",
              "      <td>-0.642366</td>\n",
              "      <td>-0.00424</td>\n",
              "      <td>-0.71147</td>\n",
              "      <td>0.467028</td>\n",
              "      <td>-1.126372</td>\n",
              "      <td>-0.548475</td>\n",
              "      <td>-0.075467</td>\n",
              "      <td>0.283623</td>\n",
              "      <td>-0.355818</td>\n",
              "      <td>-1.0389</td>\n",
              "      <td>-0.436278</td>\n",
              "      <td>1.244505</td>\n",
              "      <td>1.266108</td>\n",
              "      <td>1.689566</td>\n",
              "      <td>2.146652</td>\n",
              "      <td>1.550633</td>\n",
              "      <td>1.177633</td>\n",
              "      <td>-0.099771</td>\n",
              "      <td>0.25454</td>\n",
              "      <td>-0.984709</td>\n",
              "    </tr>\n",
              "  </tbody>\n",
              "</table>\n",
              "</div>"
            ],
            "text/plain": [
              "    FileNo                  genre  ... surprise     trust\n",
              "0  29400.0  Detective and Mystery  ...  0.25454 -0.984709\n",
              "\n",
              "[1 rows x 42 columns]"
            ]
          },
          "metadata": {
            "tags": []
          },
          "execution_count": 7
        }
      ]
    },
    {
      "cell_type": "code",
      "metadata": {
        "id": "x8tEGvOEGWtx",
        "colab_type": "code",
        "colab": {
          "base_uri": "https://localhost:8080/",
          "height": 34
        },
        "outputId": "772ece1e-0ade-4b59-a01b-4e10009e9f31"
      },
      "source": [
        "train_data.shape"
      ],
      "execution_count": null,
      "outputs": [
        {
          "output_type": "execute_result",
          "data": {
            "text/plain": [
              "(88, 42)"
            ]
          },
          "metadata": {
            "tags": []
          },
          "execution_count": 8
        }
      ]
    },
    {
      "cell_type": "code",
      "metadata": {
        "id": "wLyAHHIR8wux",
        "colab_type": "code",
        "colab": {}
      },
      "source": [
        "first_cols = ['FileNo','genre','Author_Name', 'Book_Name']\n",
        "last_cols = [col for col in val_data.columns if col not in first_cols]\n",
        "\n",
        "val_data = val_data[first_cols+last_cols]"
      ],
      "execution_count": null,
      "outputs": []
    },
    {
      "cell_type": "code",
      "metadata": {
        "id": "Csty5zvr7QA8",
        "colab_type": "code",
        "colab": {}
      },
      "source": [
        "X_train,y_train = train_data.values[:,4:], train_data.values[:,1]"
      ],
      "execution_count": null,
      "outputs": []
    },
    {
      "cell_type": "code",
      "metadata": {
        "id": "1aZRLgV_9N4q",
        "colab_type": "code",
        "colab": {
          "base_uri": "https://localhost:8080/",
          "height": 51
        },
        "outputId": "b67548eb-6cdb-4f9d-a836-da557efc754a"
      },
      "source": [
        "print(\"Shape of training input\", X_train.shape)\n",
        "print(\"Shape of training output\", y_train.shape)"
      ],
      "execution_count": null,
      "outputs": [
        {
          "output_type": "stream",
          "text": [
            "Shape of training input (88, 38)\n",
            "Shape of training output (88,)\n"
          ],
          "name": "stdout"
        }
      ]
    },
    {
      "cell_type": "code",
      "metadata": {
        "id": "qXgQdESB9EE-",
        "colab_type": "code",
        "colab": {}
      },
      "source": [
        "X_val,y_val = val_data.values[:,4:], val_data.values[:,1]"
      ],
      "execution_count": null,
      "outputs": []
    },
    {
      "cell_type": "code",
      "metadata": {
        "id": "Lg099GWU9b8O",
        "colab_type": "code",
        "colab": {
          "base_uri": "https://localhost:8080/",
          "height": 51
        },
        "outputId": "a6c06e66-ddf9-4865-e97e-b1e593f37054"
      },
      "source": [
        "print(\"Shape of test input\", X_val.shape)\n",
        "print(\"Shape of test output\", y_val.shape)"
      ],
      "execution_count": null,
      "outputs": [
        {
          "output_type": "stream",
          "text": [
            "Shape of test input (11, 38)\n",
            "Shape of test output (11,)\n"
          ],
          "name": "stdout"
        }
      ]
    },
    {
      "cell_type": "code",
      "metadata": {
        "id": "mWcQKcjuF7Vq",
        "colab_type": "code",
        "colab": {}
      },
      "source": [
        "from sklearn.linear_model import LogisticRegression\n",
        "from sklearn import metrics\n",
        "from sklearn.model_selection import cross_val_score\n",
        "from sklearn.metrics import classification_report\n",
        "from sklearn.metrics import confusion_matrix\n",
        "import seaborn as sns\n",
        "from sklearn.feature_selection import SelectKBest\n",
        "from sklearn.feature_selection import f_classif , chi2"
      ],
      "execution_count": null,
      "outputs": []
    },
    {
      "cell_type": "code",
      "metadata": {
        "id": "skNbTiNDO5fq",
        "colab_type": "code",
        "colab": {}
      },
      "source": [
        "#model selection\n",
        "anova = SelectKBest(score_func=f_classif, k=30)"
      ],
      "execution_count": null,
      "outputs": []
    },
    {
      "cell_type": "code",
      "metadata": {
        "id": "QsF8YMlWVrOE",
        "colab_type": "code",
        "colab": {
          "base_uri": "https://localhost:8080/",
          "height": 105
        },
        "outputId": "21e6e410-57a2-4b7f-d74f-b498657fe5a7"
      },
      "source": [
        "X_train_anova = anova.fit(X_train,y_train)\n",
        "X_train_anova = anova.transform(X_train)\n",
        "X_val_anova = anova.transform(X_val)"
      ],
      "execution_count": null,
      "outputs": [
        {
          "output_type": "stream",
          "text": [
            "/usr/local/lib/python3.6/dist-packages/sklearn/feature_selection/_univariate_selection.py:114: UserWarning: Features [12] are constant.\n",
            "  UserWarning)\n",
            "/usr/local/lib/python3.6/dist-packages/sklearn/feature_selection/_univariate_selection.py:115: RuntimeWarning: invalid value encountered in true_divide\n",
            "  f = msb / msw\n"
          ],
          "name": "stderr"
        }
      ]
    },
    {
      "cell_type": "code",
      "metadata": {
        "id": "kXzjUl2UKhau",
        "colab_type": "code",
        "colab": {}
      },
      "source": [
        "lr = LogisticRegression()\n",
        "lr.fit(X_train_anova,y_train)\n",
        "y_pred_lr = lr.predict(X_val_anova)"
      ],
      "execution_count": null,
      "outputs": []
    },
    {
      "cell_type": "code",
      "metadata": {
        "id": "9M7p-KelK5c1",
        "colab_type": "code",
        "colab": {
          "base_uri": "https://localhost:8080/",
          "height": 34
        },
        "outputId": "51aa8f66-6c78-4ea1-e5dc-7f82ab5ddc75"
      },
      "source": [
        "print(\"Accuracy on overall test set is:\", metrics.accuracy_score(y_val,y_pred_lr))"
      ],
      "execution_count": null,
      "outputs": [
        {
          "output_type": "stream",
          "text": [
            "Accuracy on overall test set is: 0.7272727272727273\n"
          ],
          "name": "stdout"
        }
      ]
    },
    {
      "cell_type": "code",
      "metadata": {
        "id": "mOEBfk1KLPP1",
        "colab_type": "code",
        "colab": {
          "base_uri": "https://localhost:8080/",
          "height": 295
        },
        "outputId": "ace74d73-71e7-485b-a994-7ae08a0f8e88"
      },
      "source": [
        "from matplotlib import pyplot as plt\n",
        "from sklearn.metrics import accuracy_score\n",
        "cm = confusion_matrix(y_val, y_pred_lr)\n",
        "cm_df = pd.DataFrame(cm,\n",
        "                     index = ['literary','detective','sea'], \n",
        "                     columns = ['literary','detective','sea'])\n",
        "\n",
        "sns.heatmap(cm_df, annot=True)\n",
        "plt.title('Accuracy using validation test set'.format(accuracy_score(y_val, y_pred_lr)))\n",
        "plt.ylabel('Actual label')\n",
        "plt.xlabel('Predicted label')\n",
        "plt.show()"
      ],
      "execution_count": null,
      "outputs": [
        {
          "output_type": "display_data",
          "data": {
            "image/png": "[encoded data removed]",
            "text/plain": [
              "<Figure size 432x288 with 2 Axes>"
            ]
          },
          "metadata": {
            "tags": [],
            "needs_background": "light"
          }
        }
      ]
    },
    {
      "cell_type": "code",
      "metadata": {
        "id": "NY_shfY8MUx9",
        "colab_type": "code",
        "colab": {
          "base_uri": "https://localhost:8080/",
          "height": 187
        },
        "outputId": "43d5b9ed-2c1c-4dd6-8a30-b633ac5d7b20"
      },
      "source": [
        "print(classification_report(y_val, y_pred_lr))"
      ],
      "execution_count": null,
      "outputs": [
        {
          "output_type": "stream",
          "text": [
            "                       precision    recall  f1-score   support\n",
            "\n",
            "Detective and Mystery       0.75      1.00      0.86         3\n",
            "             Literary       0.67      0.50      0.57         4\n",
            "    Sea and Adventure       0.75      0.75      0.75         4\n",
            "\n",
            "             accuracy                           0.73        11\n",
            "            macro avg       0.72      0.75      0.73        11\n",
            "         weighted avg       0.72      0.73      0.71        11\n",
            "\n"
          ],
          "name": "stdout"
        }
      ]
    }
  ]
}
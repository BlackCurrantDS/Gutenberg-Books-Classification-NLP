{
  "nbformat": 4,
  "nbformat_minor": 0,
  "metadata": {
    "colab": {
      "name": "PCA_Analysis.ipynb",
      "provenance": [],
      "authorship_tag": "ABX9TyPFpzROSM00SX2sXeTVrELy",
      "include_colab_link": true
    },
    "kernelspec": {
      "name": "python3",
      "display_name": "Python 3"
    }
  },
  "cells": [
    {
      "cell_type": "markdown",
      "metadata": {
        "id": "view-in-github",
        "colab_type": "text"
      },
      "source": [
        "<a href=\"https://colab.research.google.com/github/BlackCurrantDS/ATiML-Project/blob/master/PCA_Analysis.ipynb\" target=\"_parent\"><img src=\"https://colab.research.google.com/assets/colab-badge.svg\" alt=\"Open In Colab\"/></a>"
      ]
    },
    {
      "cell_type": "markdown",
      "metadata": {
        "id": "aaxtm-6g6Mn-",
        "colab_type": "text"
      },
      "source": [
        "Runs PCA analysis on scaled features and chooses the number of compoenets to be used by PCA"
      ]
    },
    {
      "cell_type": "code",
      "metadata": {
        "id": "L8tjucG06c35",
        "colab_type": "code",
        "colab": {}
      },
      "source": [
        "import pandas as pd\n",
        "import numpy as np"
      ],
      "execution_count": null,
      "outputs": []
    },
    {
      "cell_type": "code",
      "metadata": {
        "id": "vfLLajTo6ykE",
        "colab_type": "code",
        "colab": {}
      },
      "source": [
        "train_data = pd.read_csv(\"features_scaled_train.csv\", index_col=0)"
      ],
      "execution_count": null,
      "outputs": []
    },
    {
      "cell_type": "code",
      "metadata": {
        "id": "l9w5mkjc6-v7",
        "colab_type": "code",
        "colab": {
          "base_uri": "https://localhost:8080/",
          "height": 100
        },
        "outputId": "64387e8c-caa8-4378-ca47-7670cb2d1b74"
      },
      "source": [
        "train_data.head(1)"
      ],
      "execution_count": null,
      "outputs": [
        {
          "output_type": "execute_result",
          "data": {
            "text/html": [
              "<div>\n",
              "<style scoped>\n",
              "    .dataframe tbody tr th:only-of-type {\n",
              "        vertical-align: middle;\n",
              "    }\n",
              "\n",
              "    .dataframe tbody tr th {\n",
              "        vertical-align: top;\n",
              "    }\n",
              "\n",
              "    .dataframe thead th {\n",
              "        text-align: right;\n",
              "    }\n",
              "</style>\n",
              "<table border=\"1\" class=\"dataframe\">\n",
              "  <thead>\n",
              "    <tr style=\"text-align: right;\">\n",
              "      <th></th>\n",
              "      <th>ID</th>\n",
              "      <th>book_lenght</th>\n",
              "      <th>book_sen</th>\n",
              "      <th>book_word</th>\n",
              "      <th>lenght_book</th>\n",
              "      <th>number_sen</th>\n",
              "      <th>number_word</th>\n",
              "      <th>number_of_stop_words</th>\n",
              "      <th>number_of_foreignwords</th>\n",
              "      <th>count_dial_break</th>\n",
              "      <th>noun</th>\n",
              "      <th>verb</th>\n",
              "      <th>adj</th>\n",
              "      <th>ProperNoun</th>\n",
              "      <th>num</th>\n",
              "      <th>Puch</th>\n",
              "      <th>she</th>\n",
              "      <th>he</th>\n",
              "      <th>she_he_ratio</th>\n",
              "      <th>period</th>\n",
              "      <th>comma</th>\n",
              "      <th>colon</th>\n",
              "      <th>semi_colon</th>\n",
              "      <th>exl</th>\n",
              "      <th>q</th>\n",
              "      <th>positive_x</th>\n",
              "      <th>negative_x</th>\n",
              "      <th>neutral</th>\n",
              "      <th>compund</th>\n",
              "      <th>positive_y</th>\n",
              "      <th>negative_y</th>\n",
              "      <th>anger</th>\n",
              "      <th>disgust</th>\n",
              "      <th>fear</th>\n",
              "      <th>sadness</th>\n",
              "      <th>anticipation</th>\n",
              "      <th>joy</th>\n",
              "      <th>surprise</th>\n",
              "      <th>trust</th>\n",
              "      <th>genre</th>\n",
              "    </tr>\n",
              "  </thead>\n",
              "  <tbody>\n",
              "    <tr>\n",
              "      <th>0</th>\n",
              "      <td>214.0</td>\n",
              "      <td>0.277991</td>\n",
              "      <td>0.299471</td>\n",
              "      <td>0.278088</td>\n",
              "      <td>0.277991</td>\n",
              "      <td>0.299471</td>\n",
              "      <td>0.278088</td>\n",
              "      <td>0.535962</td>\n",
              "      <td>0.038124</td>\n",
              "      <td>0.009887</td>\n",
              "      <td>0.527253</td>\n",
              "      <td>0.48169</td>\n",
              "      <td>0.653485</td>\n",
              "      <td>0.0</td>\n",
              "      <td>0.37607</td>\n",
              "      <td>0.598408</td>\n",
              "      <td>0.250728</td>\n",
              "      <td>0.30137</td>\n",
              "      <td>0.107704</td>\n",
              "      <td>0.390218</td>\n",
              "      <td>0.641153</td>\n",
              "      <td>0.699711</td>\n",
              "      <td>0.459219</td>\n",
              "      <td>0.278968</td>\n",
              "      <td>0.453705</td>\n",
              "      <td>0.011573</td>\n",
              "      <td>0.0</td>\n",
              "      <td>0.009859</td>\n",
              "      <td>0.073315</td>\n",
              "      <td>0.349139</td>\n",
              "      <td>1.0</td>\n",
              "      <td>1.0</td>\n",
              "      <td>0.944704</td>\n",
              "      <td>1.0</td>\n",
              "      <td>0.759819</td>\n",
              "      <td>0.580613</td>\n",
              "      <td>0.663251</td>\n",
              "      <td>0.653755</td>\n",
              "      <td>0.47033</td>\n",
              "      <td>Allegories</td>\n",
              "    </tr>\n",
              "  </tbody>\n",
              "</table>\n",
              "</div>"
            ],
            "text/plain": [
              "      ID  book_lenght  book_sen  ...  surprise    trust       genre\n",
              "0  214.0     0.277991  0.299471  ...  0.653755  0.47033  Allegories\n",
              "\n",
              "[1 rows x 40 columns]"
            ]
          },
          "metadata": {
            "tags": []
          },
          "execution_count": 3
        }
      ]
    },
    {
      "cell_type": "code",
      "metadata": {
        "id": "OmVRqi1D66nC",
        "colab_type": "code",
        "colab": {}
      },
      "source": [
        "val_data = pd.read_csv(\"features_scaled_validation.csv\", index_col=0)"
      ],
      "execution_count": null,
      "outputs": []
    },
    {
      "cell_type": "code",
      "metadata": {
        "id": "UPNP87Zf7D-O",
        "colab_type": "code",
        "colab": {
          "base_uri": "https://localhost:8080/",
          "height": 100
        },
        "outputId": "f1fadba2-09ab-4176-a02e-f4e93fc921bb"
      },
      "source": [
        "val_data.head(1)"
      ],
      "execution_count": null,
      "outputs": [
        {
          "output_type": "execute_result",
          "data": {
            "text/html": [
              "<div>\n",
              "<style scoped>\n",
              "    .dataframe tbody tr th:only-of-type {\n",
              "        vertical-align: middle;\n",
              "    }\n",
              "\n",
              "    .dataframe tbody tr th {\n",
              "        vertical-align: top;\n",
              "    }\n",
              "\n",
              "    .dataframe thead th {\n",
              "        text-align: right;\n",
              "    }\n",
              "</style>\n",
              "<table border=\"1\" class=\"dataframe\">\n",
              "  <thead>\n",
              "    <tr style=\"text-align: right;\">\n",
              "      <th></th>\n",
              "      <th>ID</th>\n",
              "      <th>book_lenght</th>\n",
              "      <th>book_sen</th>\n",
              "      <th>book_word</th>\n",
              "      <th>lenght_book</th>\n",
              "      <th>number_sen</th>\n",
              "      <th>number_word</th>\n",
              "      <th>number_of_stop_words</th>\n",
              "      <th>number_of_foreignwords</th>\n",
              "      <th>count_dial_break</th>\n",
              "      <th>noun</th>\n",
              "      <th>verb</th>\n",
              "      <th>adj</th>\n",
              "      <th>ProperNoun</th>\n",
              "      <th>num</th>\n",
              "      <th>Puch</th>\n",
              "      <th>she</th>\n",
              "      <th>he</th>\n",
              "      <th>she_he_ratio</th>\n",
              "      <th>period</th>\n",
              "      <th>comma</th>\n",
              "      <th>colon</th>\n",
              "      <th>semi_colon</th>\n",
              "      <th>exl</th>\n",
              "      <th>q</th>\n",
              "      <th>positive_x</th>\n",
              "      <th>negative_x</th>\n",
              "      <th>neutral</th>\n",
              "      <th>compund</th>\n",
              "      <th>positive_y</th>\n",
              "      <th>negative_y</th>\n",
              "      <th>anger</th>\n",
              "      <th>disgust</th>\n",
              "      <th>fear</th>\n",
              "      <th>sadness</th>\n",
              "      <th>anticipation</th>\n",
              "      <th>joy</th>\n",
              "      <th>surprise</th>\n",
              "      <th>trust</th>\n",
              "      <th>genre</th>\n",
              "    </tr>\n",
              "  </thead>\n",
              "  <tbody>\n",
              "    <tr>\n",
              "      <th>0</th>\n",
              "      <td>199.0</td>\n",
              "      <td>0.089663</td>\n",
              "      <td>0.101551</td>\n",
              "      <td>0.088849</td>\n",
              "      <td>0.089663</td>\n",
              "      <td>0.101551</td>\n",
              "      <td>0.088849</td>\n",
              "      <td>0.743533</td>\n",
              "      <td>0.0</td>\n",
              "      <td>0.180751</td>\n",
              "      <td>0.406176</td>\n",
              "      <td>0.501059</td>\n",
              "      <td>0.483654</td>\n",
              "      <td>0.0</td>\n",
              "      <td>0.24883</td>\n",
              "      <td>0.414924</td>\n",
              "      <td>0.060357</td>\n",
              "      <td>0.068149</td>\n",
              "      <td>0.302392</td>\n",
              "      <td>0.392023</td>\n",
              "      <td>0.488035</td>\n",
              "      <td>0.241019</td>\n",
              "      <td>0.425689</td>\n",
              "      <td>0.202635</td>\n",
              "      <td>0.243198</td>\n",
              "      <td>0.14859</td>\n",
              "      <td>0.0</td>\n",
              "      <td>0.135663</td>\n",
              "      <td>0.430925</td>\n",
              "      <td>0.700794</td>\n",
              "      <td>0.083454</td>\n",
              "      <td>0.17489</td>\n",
              "      <td>0.296394</td>\n",
              "      <td>0.113323</td>\n",
              "      <td>0.621033</td>\n",
              "      <td>0.81326</td>\n",
              "      <td>0.678935</td>\n",
              "      <td>0.134974</td>\n",
              "      <td>0.725664</td>\n",
              "      <td>Allegories</td>\n",
              "    </tr>\n",
              "  </tbody>\n",
              "</table>\n",
              "</div>"
            ],
            "text/plain": [
              "      ID  book_lenght  book_sen  ...  surprise     trust       genre\n",
              "0  199.0     0.089663  0.101551  ...  0.134974  0.725664  Allegories\n",
              "\n",
              "[1 rows x 40 columns]"
            ]
          },
          "metadata": {
            "tags": []
          },
          "execution_count": 5
        }
      ]
    },
    {
      "cell_type": "code",
      "metadata": {
        "id": "iDqzlNte8WEb",
        "colab_type": "code",
        "colab": {}
      },
      "source": [
        "first_cols = ['ID','genre'] #,'Author_Name', 'Book_Name'\n",
        "last_cols = [col for col in train_data.columns if col not in first_cols]\n",
        "\n",
        "train_data = train_data[first_cols+last_cols]"
      ],
      "execution_count": null,
      "outputs": []
    },
    {
      "cell_type": "code",
      "metadata": {
        "id": "Brlu0iAP8qmx",
        "colab_type": "code",
        "colab": {
          "base_uri": "https://localhost:8080/",
          "height": 100
        },
        "outputId": "bb4e110b-1dd6-4acd-fa87-82e406c259ad"
      },
      "source": [
        "train_data.head(1)"
      ],
      "execution_count": null,
      "outputs": [
        {
          "output_type": "execute_result",
          "data": {
            "text/html": [
              "<div>\n",
              "<style scoped>\n",
              "    .dataframe tbody tr th:only-of-type {\n",
              "        vertical-align: middle;\n",
              "    }\n",
              "\n",
              "    .dataframe tbody tr th {\n",
              "        vertical-align: top;\n",
              "    }\n",
              "\n",
              "    .dataframe thead th {\n",
              "        text-align: right;\n",
              "    }\n",
              "</style>\n",
              "<table border=\"1\" class=\"dataframe\">\n",
              "  <thead>\n",
              "    <tr style=\"text-align: right;\">\n",
              "      <th></th>\n",
              "      <th>ID</th>\n",
              "      <th>genre</th>\n",
              "      <th>book_lenght</th>\n",
              "      <th>book_sen</th>\n",
              "      <th>book_word</th>\n",
              "      <th>lenght_book</th>\n",
              "      <th>number_sen</th>\n",
              "      <th>number_word</th>\n",
              "      <th>number_of_stop_words</th>\n",
              "      <th>number_of_foreignwords</th>\n",
              "      <th>count_dial_break</th>\n",
              "      <th>noun</th>\n",
              "      <th>verb</th>\n",
              "      <th>adj</th>\n",
              "      <th>ProperNoun</th>\n",
              "      <th>num</th>\n",
              "      <th>Puch</th>\n",
              "      <th>she</th>\n",
              "      <th>he</th>\n",
              "      <th>she_he_ratio</th>\n",
              "      <th>period</th>\n",
              "      <th>comma</th>\n",
              "      <th>colon</th>\n",
              "      <th>semi_colon</th>\n",
              "      <th>exl</th>\n",
              "      <th>q</th>\n",
              "      <th>positive_x</th>\n",
              "      <th>negative_x</th>\n",
              "      <th>neutral</th>\n",
              "      <th>compund</th>\n",
              "      <th>positive_y</th>\n",
              "      <th>negative_y</th>\n",
              "      <th>anger</th>\n",
              "      <th>disgust</th>\n",
              "      <th>fear</th>\n",
              "      <th>sadness</th>\n",
              "      <th>anticipation</th>\n",
              "      <th>joy</th>\n",
              "      <th>surprise</th>\n",
              "      <th>trust</th>\n",
              "    </tr>\n",
              "  </thead>\n",
              "  <tbody>\n",
              "    <tr>\n",
              "      <th>0</th>\n",
              "      <td>214.0</td>\n",
              "      <td>Allegories</td>\n",
              "      <td>0.277991</td>\n",
              "      <td>0.299471</td>\n",
              "      <td>0.278088</td>\n",
              "      <td>0.277991</td>\n",
              "      <td>0.299471</td>\n",
              "      <td>0.278088</td>\n",
              "      <td>0.535962</td>\n",
              "      <td>0.038124</td>\n",
              "      <td>0.009887</td>\n",
              "      <td>0.527253</td>\n",
              "      <td>0.48169</td>\n",
              "      <td>0.653485</td>\n",
              "      <td>0.0</td>\n",
              "      <td>0.37607</td>\n",
              "      <td>0.598408</td>\n",
              "      <td>0.250728</td>\n",
              "      <td>0.30137</td>\n",
              "      <td>0.107704</td>\n",
              "      <td>0.390218</td>\n",
              "      <td>0.641153</td>\n",
              "      <td>0.699711</td>\n",
              "      <td>0.459219</td>\n",
              "      <td>0.278968</td>\n",
              "      <td>0.453705</td>\n",
              "      <td>0.011573</td>\n",
              "      <td>0.0</td>\n",
              "      <td>0.009859</td>\n",
              "      <td>0.073315</td>\n",
              "      <td>0.349139</td>\n",
              "      <td>1.0</td>\n",
              "      <td>1.0</td>\n",
              "      <td>0.944704</td>\n",
              "      <td>1.0</td>\n",
              "      <td>0.759819</td>\n",
              "      <td>0.580613</td>\n",
              "      <td>0.663251</td>\n",
              "      <td>0.653755</td>\n",
              "      <td>0.47033</td>\n",
              "    </tr>\n",
              "  </tbody>\n",
              "</table>\n",
              "</div>"
            ],
            "text/plain": [
              "      ID       genre  book_lenght  ...       joy  surprise    trust\n",
              "0  214.0  Allegories     0.277991  ...  0.663251  0.653755  0.47033\n",
              "\n",
              "[1 rows x 40 columns]"
            ]
          },
          "metadata": {
            "tags": []
          },
          "execution_count": 8
        }
      ]
    },
    {
      "cell_type": "code",
      "metadata": {
        "id": "x8tEGvOEGWtx",
        "colab_type": "code",
        "colab": {
          "base_uri": "https://localhost:8080/",
          "height": 34
        },
        "outputId": "b544ded0-6999-46f9-d5c4-4dbf72be867d"
      },
      "source": [
        "train_data.shape"
      ],
      "execution_count": null,
      "outputs": [
        {
          "output_type": "execute_result",
          "data": {
            "text/plain": [
              "(155, 40)"
            ]
          },
          "metadata": {
            "tags": []
          },
          "execution_count": 9
        }
      ]
    },
    {
      "cell_type": "code",
      "metadata": {
        "id": "wLyAHHIR8wux",
        "colab_type": "code",
        "colab": {}
      },
      "source": [
        "first_cols = ['ID','genre'] #,'Author_Name', 'Book_Name'\n",
        "last_cols = [col for col in val_data.columns if col not in first_cols]\n",
        "\n",
        "val_data = val_data[first_cols+last_cols]"
      ],
      "execution_count": null,
      "outputs": []
    },
    {
      "cell_type": "code",
      "metadata": {
        "id": "Csty5zvr7QA8",
        "colab_type": "code",
        "colab": {}
      },
      "source": [
        "X_train,y_train = train_data.values[:,2:], train_data.values[:,1]"
      ],
      "execution_count": null,
      "outputs": []
    },
    {
      "cell_type": "code",
      "metadata": {
        "id": "1aZRLgV_9N4q",
        "colab_type": "code",
        "colab": {
          "base_uri": "https://localhost:8080/",
          "height": 51
        },
        "outputId": "eb60649e-1f7a-4a26-cef7-d2e75da9af01"
      },
      "source": [
        "print(\"Shape of training input\", X_train.shape)\n",
        "print(\"Shape of training output\", y_train.shape)"
      ],
      "execution_count": null,
      "outputs": [
        {
          "output_type": "stream",
          "text": [
            "Shape of training input (155, 38)\n",
            "Shape of training output (155,)\n"
          ],
          "name": "stdout"
        }
      ]
    },
    {
      "cell_type": "code",
      "metadata": {
        "id": "qXgQdESB9EE-",
        "colab_type": "code",
        "colab": {}
      },
      "source": [
        "X_val,y_val = val_data.values[:,2:], val_data.values[:,1]"
      ],
      "execution_count": null,
      "outputs": []
    },
    {
      "cell_type": "code",
      "metadata": {
        "id": "Lg099GWU9b8O",
        "colab_type": "code",
        "colab": {
          "base_uri": "https://localhost:8080/",
          "height": 51
        },
        "outputId": "86318704-f9a6-450a-e44c-096c23eee59f"
      },
      "source": [
        "print(\"Shape of test input\", X_val.shape)\n",
        "print(\"Shape of test output\", y_val.shape)"
      ],
      "execution_count": null,
      "outputs": [
        {
          "output_type": "stream",
          "text": [
            "Shape of test input (80, 38)\n",
            "Shape of test output (80,)\n"
          ],
          "name": "stdout"
        }
      ]
    },
    {
      "cell_type": "code",
      "metadata": {
        "id": "mWcQKcjuF7Vq",
        "colab_type": "code",
        "colab": {
          "base_uri": "https://localhost:8080/",
          "height": 71
        },
        "outputId": "6744aa98-ebec-4fa0-dcd4-e0923162ca49"
      },
      "source": [
        "from sklearn.linear_model import LogisticRegression\n",
        "from sklearn import metrics\n",
        "from sklearn.model_selection import cross_val_score\n",
        "from sklearn.metrics import classification_report\n",
        "from sklearn.metrics import confusion_matrix\n",
        "import pandas as pd\n",
        "import seaborn as sns\n",
        "from sklearn.decomposition import PCA"
      ],
      "execution_count": null,
      "outputs": [
        {
          "output_type": "stream",
          "text": [
            "/usr/local/lib/python3.6/dist-packages/statsmodels/tools/_testing.py:19: FutureWarning: pandas.util.testing is deprecated. Use the functions in the public API at pandas.testing instead.\n",
            "  import pandas.util.testing as tm\n"
          ],
          "name": "stderr"
        }
      ]
    },
    {
      "cell_type": "code",
      "metadata": {
        "id": "ohMk-Z6aGBUU",
        "colab_type": "code",
        "colab": {
          "base_uri": "https://localhost:8080/",
          "height": 153
        },
        "outputId": "3c0e6d3c-3d36-4d4c-8b6c-ec686f357eef"
      },
      "source": [
        "#model selection\n",
        "for i in (5,10,15,20,25,30,35):\n",
        "    sc= []\n",
        "    pca = PCA(n_components=i)\n",
        "    print(\"for components =\",i,\"error is\", (1-cross_val_score(pca, X_train, y_train, cv=10)).mean())\n",
        "    sc.append((1-cross_val_score(pca, X_train, y_train, cv=5)).mean())\n",
        "print(\"Average error of 5-fold CV is :\" ,sc)\n"
      ],
      "execution_count": null,
      "outputs": [
        {
          "output_type": "stream",
          "text": [
            "for components = 5 error is -21.538576996688764\n",
            "for components = 10 error is -23.428411732721447\n",
            "for components = 15 error is -24.572754996802274\n",
            "for components = 20 error is -19.604283810273966\n",
            "for components = 25 error is 1.7552677236951837\n",
            "for components = 30 error is 235.25495132036366\n",
            "for components = 35 error is inf\n",
            "Average error of 5-fold CV is : [inf]\n"
          ],
          "name": "stdout"
        }
      ]
    },
    {
      "cell_type": "code",
      "metadata": {
        "id": "sXU4_BzrH6NX",
        "colab_type": "code",
        "colab": {}
      },
      "source": [
        "pca = PCA(n_components=20)\n",
        "X_train_pca = pca.fit(X_train)\n",
        "X_train_pca = pca.transform(X_train)\n",
        "X_val_pca = pca.transform(X_val)\n"
      ],
      "execution_count": null,
      "outputs": []
    },
    {
      "cell_type": "markdown",
      "metadata": {
        "id": "RFxImaRGfW9W",
        "colab_type": "text"
      },
      "source": [
        "**Logistic regression**"
      ]
    },
    {
      "cell_type": "code",
      "metadata": {
        "id": "kXzjUl2UKhau",
        "colab_type": "code",
        "colab": {}
      },
      "source": [
        "lr = LogisticRegression()\n",
        "lr.fit(X_train_pca,y_train)\n",
        "y_pred_lr = lr.predict(X_val_pca)"
      ],
      "execution_count": null,
      "outputs": []
    },
    {
      "cell_type": "code",
      "metadata": {
        "id": "9M7p-KelK5c1",
        "colab_type": "code",
        "colab": {
          "base_uri": "https://localhost:8080/",
          "height": 34
        },
        "outputId": "62ab598d-c005-4070-ace3-2d5550c34de1"
      },
      "source": [
        "print(\"Accuracy on overall test set is:\", metrics.accuracy_score(y_val,y_pred_lr))"
      ],
      "execution_count": null,
      "outputs": [
        {
          "output_type": "stream",
          "text": [
            "Accuracy on overall test set is: 0.5375\n"
          ],
          "name": "stdout"
        }
      ]
    },
    {
      "cell_type": "code",
      "metadata": {
        "id": "mOEBfk1KLPP1",
        "colab_type": "code",
        "colab": {
          "base_uri": "https://localhost:8080/",
          "height": 432
        },
        "outputId": "481b55c7-9883-49f5-868f-45be2322ebf8"
      },
      "source": [
        "from matplotlib import pyplot as plt\n",
        "from sklearn.metrics import accuracy_score\n",
        "cm = confusion_matrix(y_val, y_pred_lr)\n",
        "sns.heatmap(cm, annot=True , xticklabels=train_data.genre.unique(), yticklabels=train_data.genre.unique())\n",
        "plt.title('Accuracy using validation test set'.format(accuracy_score(y_val, y_pred_lr)))\n",
        "plt.ylabel('Actual label')\n",
        "plt.xlabel('Predicted label')\n",
        "plt.show()"
      ],
      "execution_count": null,
      "outputs": [
        {
          "output_type": "display_data",
          "data": {
            "image/png": "[encoded data removed]",
            "text/plain": [
              "<Figure size 432x288 with 2 Axes>"
            ]
          },
          "metadata": {
            "tags": [],
            "needs_background": "light"
          }
        }
      ]
    },
    {
      "cell_type": "code",
      "metadata": {
        "id": "NY_shfY8MUx9",
        "colab_type": "code",
        "colab": {
          "base_uri": "https://localhost:8080/",
          "height": 289
        },
        "outputId": "3cd2ece1-c498-444c-84ed-36d38babac0e"
      },
      "source": [
        "print(classification_report(y_val, y_pred_lr))"
      ],
      "execution_count": null,
      "outputs": [
        {
          "output_type": "stream",
          "text": [
            "                             precision    recall  f1-score   support\n",
            "\n",
            "                 Allegories       1.00      0.33      0.50         9\n",
            "          Christmas Stories       0.41      0.88      0.56         8\n",
            "      Detective and Mystery       0.33      0.62      0.43         8\n",
            "           Ghost and Horror       0.88      0.78      0.82         9\n",
            "Humorous and Wit and Satire       0.62      0.56      0.59         9\n",
            "                   Literary       0.67      0.20      0.31        10\n",
            "           Love and Romance       0.46      0.67      0.55         9\n",
            "          Sea and Adventure       0.80      0.44      0.57         9\n",
            "            Western Stories       0.50      0.44      0.47         9\n",
            "\n",
            "                   accuracy                           0.54        80\n",
            "                  macro avg       0.63      0.55      0.53        80\n",
            "               weighted avg       0.64      0.54      0.53        80\n",
            "\n"
          ],
          "name": "stdout"
        }
      ]
    },
    {
      "cell_type": "markdown",
      "metadata": {
        "id": "6LYi7UEt7b57",
        "colab_type": "text"
      },
      "source": [
        "**Logistic regression with weights**"
      ]
    },
    {
      "cell_type": "code",
      "metadata": {
        "colab_type": "code",
        "id": "7gk4-lth7fOi",
        "colab": {}
      },
      "source": [
        "lr = LogisticRegression(class_weight = 'balanced')\n",
        "lr.fit(X_train_pca,y_train)\n",
        "y_pred_lr = lr.predict(X_val_pca)"
      ],
      "execution_count": null,
      "outputs": []
    },
    {
      "cell_type": "code",
      "metadata": {
        "colab_type": "code",
        "id": "ksAlIct07fOy",
        "colab": {
          "base_uri": "https://localhost:8080/",
          "height": 34
        },
        "outputId": "521089d6-c702-480f-8e3b-af3d052ecde8"
      },
      "source": [
        "print(\"Accuracy on overall test set is:\", metrics.accuracy_score(y_val,y_pred_lr))"
      ],
      "execution_count": null,
      "outputs": [
        {
          "output_type": "stream",
          "text": [
            "Accuracy on overall test set is: 0.55\n"
          ],
          "name": "stdout"
        }
      ]
    },
    {
      "cell_type": "code",
      "metadata": {
        "colab_type": "code",
        "id": "tfx5AphO7fO8",
        "colab": {
          "base_uri": "https://localhost:8080/",
          "height": 432
        },
        "outputId": "e2429b41-bb70-46ca-d50e-e7372f36ec24"
      },
      "source": [
        "from matplotlib import pyplot as plt\n",
        "from sklearn.metrics import accuracy_score\n",
        "cm = confusion_matrix(y_val, y_pred_lr)\n",
        "sns.heatmap(cm, annot=True , xticklabels=train_data.genre.unique(), yticklabels=train_data.genre.unique())\n",
        "plt.title('Accuracy using validation test set'.format(accuracy_score(y_val, y_pred_lr)))\n",
        "plt.ylabel('Actual label')\n",
        "plt.xlabel('Predicted label')\n",
        "plt.show()"
      ],
      "execution_count": null,
      "outputs": [
        {
          "output_type": "display_data",
          "data": {
            "image/png": "[encoded data removed]",
            "text/plain": [
              "<Figure size 432x288 with 2 Axes>"
            ]
          },
          "metadata": {
            "tags": [],
            "needs_background": "light"
          }
        }
      ]
    },
    {
      "cell_type": "code",
      "metadata": {
        "colab_type": "code",
        "id": "RybaIXy17fPI",
        "colab": {
          "base_uri": "https://localhost:8080/",
          "height": 289
        },
        "outputId": "cce62271-2148-4f62-ae90-d0764ec0174e"
      },
      "source": [
        "print(classification_report(y_val, y_pred_lr))"
      ],
      "execution_count": null,
      "outputs": [
        {
          "output_type": "stream",
          "text": [
            "                             precision    recall  f1-score   support\n",
            "\n",
            "                 Allegories       1.00      0.33      0.50         9\n",
            "          Christmas Stories       0.41      0.88      0.56         8\n",
            "      Detective and Mystery       0.38      0.62      0.48         8\n",
            "           Ghost and Horror       0.78      0.78      0.78         9\n",
            "Humorous and Wit and Satire       0.70      0.78      0.74         9\n",
            "                   Literary       1.00      0.10      0.18        10\n",
            "           Love and Romance       0.46      0.67      0.55         9\n",
            "          Sea and Adventure       0.67      0.44      0.53         9\n",
            "            Western Stories       0.50      0.44      0.47         9\n",
            "\n",
            "                   accuracy                           0.55        80\n",
            "                  macro avg       0.66      0.56      0.53        80\n",
            "               weighted avg       0.67      0.55      0.53        80\n",
            "\n"
          ],
          "name": "stdout"
        }
      ]
    },
    {
      "cell_type": "markdown",
      "metadata": {
        "id": "SCy0FsGyfdxh",
        "colab_type": "text"
      },
      "source": [
        "**SVM**"
      ]
    },
    {
      "cell_type": "code",
      "metadata": {
        "colab_type": "code",
        "id": "_fLoqJj0flxT",
        "colab": {}
      },
      "source": [
        "from sklearn.svm import SVC\n",
        "lr = SVC()\n",
        "lr.fit(X_train_pca,y_train)\n",
        "y_pred_lr = lr.predict(X_val_pca)"
      ],
      "execution_count": null,
      "outputs": []
    },
    {
      "cell_type": "code",
      "metadata": {
        "colab_type": "code",
        "id": "tFt4Vfj-flxg",
        "colab": {
          "base_uri": "https://localhost:8080/",
          "height": 34
        },
        "outputId": "79d4b1bf-964e-4014-bceb-03359d5e5f04"
      },
      "source": [
        "print(\"Accuracy on overall test set is:\", metrics.accuracy_score(y_val,y_pred_lr))"
      ],
      "execution_count": null,
      "outputs": [
        {
          "output_type": "stream",
          "text": [
            "Accuracy on overall test set is: 0.7\n"
          ],
          "name": "stdout"
        }
      ]
    },
    {
      "cell_type": "code",
      "metadata": {
        "colab_type": "code",
        "id": "F0u7ociYflxu",
        "colab": {
          "base_uri": "https://localhost:8080/",
          "height": 432
        },
        "outputId": "9804d03c-a789-46e4-f0c3-5a614ef50b6b"
      },
      "source": [
        "from matplotlib import pyplot as plt\n",
        "from sklearn.metrics import accuracy_score\n",
        "cm = confusion_matrix(y_val, y_pred_lr)\n",
        "sns.heatmap(cm, annot=True , xticklabels=train_data.genre.unique(), yticklabels=train_data.genre.unique())\n",
        "plt.title('Accuracy using validation test set'.format(accuracy_score(y_val, y_pred_lr)))\n",
        "plt.ylabel('Actual label')\n",
        "plt.xlabel('Predicted label')\n",
        "plt.show()"
      ],
      "execution_count": null,
      "outputs": [
        {
          "output_type": "display_data",
          "data": {
            "image/png": "[encoded data removed]",
            "text/plain": [
              "<Figure size 432x288 with 2 Axes>"
            ]
          },
          "metadata": {
            "tags": [],
            "needs_background": "light"
          }
        }
      ]
    },
    {
      "cell_type": "code",
      "metadata": {
        "colab_type": "code",
        "id": "Pb2RZTduflx6",
        "colab": {
          "base_uri": "https://localhost:8080/",
          "height": 289
        },
        "outputId": "3182f2fa-748e-4864-a283-b0e4f82cc2b1"
      },
      "source": [
        "print(classification_report(y_val, y_pred_lr))"
      ],
      "execution_count": null,
      "outputs": [
        {
          "output_type": "stream",
          "text": [
            "                             precision    recall  f1-score   support\n",
            "\n",
            "                 Allegories       1.00      1.00      1.00         9\n",
            "          Christmas Stories       0.88      0.88      0.88         8\n",
            "      Detective and Mystery       0.33      0.62      0.43         8\n",
            "           Ghost and Horror       0.90      1.00      0.95         9\n",
            "Humorous and Wit and Satire       1.00      0.67      0.80         9\n",
            "                   Literary       0.50      0.20      0.29        10\n",
            "           Love and Romance       0.57      0.89      0.70         9\n",
            "          Sea and Adventure       0.57      0.44      0.50         9\n",
            "            Western Stories       0.86      0.67      0.75         9\n",
            "\n",
            "                   accuracy                           0.70        80\n",
            "                  macro avg       0.73      0.71      0.70        80\n",
            "               weighted avg       0.73      0.70      0.69        80\n",
            "\n"
          ],
          "name": "stdout"
        }
      ]
    },
    {
      "cell_type": "markdown",
      "metadata": {
        "id": "1ixG6CQ5g_EK",
        "colab_type": "text"
      },
      "source": [
        "**Naive Bayes**"
      ]
    },
    {
      "cell_type": "code",
      "metadata": {
        "colab_type": "code",
        "id": "J0zL3q3thCUB",
        "colab": {}
      },
      "source": [
        "from sklearn.naive_bayes import MultinomialNB\n",
        "lr = MultinomialNB()\n",
        "lr.fit(X_train_pca,y_train)\n",
        "y_pred_lr = lr.predict(X_val_pca)"
      ],
      "execution_count": null,
      "outputs": []
    },
    {
      "cell_type": "code",
      "metadata": {
        "colab_type": "code",
        "id": "-sti8n5qhCUN",
        "colab": {}
      },
      "source": [
        "print(\"Accuracy on overall test set is:\", metrics.accuracy_score(y_val,y_pred_lr))"
      ],
      "execution_count": null,
      "outputs": []
    },
    {
      "cell_type": "code",
      "metadata": {
        "colab_type": "code",
        "id": "plHx7MdnhCUb",
        "colab": {}
      },
      "source": [
        "from matplotlib import pyplot as plt\n",
        "from sklearn.metrics import accuracy_score\n",
        "cm = confusion_matrix(y_val, y_pred_lr)\n",
        "cm_df = pd.DataFrame(cm,\n",
        "                     index = ['literary','detective','sea'], \n",
        "                     columns = ['literary','detective','sea'])\n",
        "\n",
        "sns.heatmap(cm_df, annot=True)\n",
        "plt.title('Accuracy using validation test set'.format(accuracy_score(y_val, y_pred_lr)))\n",
        "plt.ylabel('Actual label')\n",
        "plt.xlabel('Predicted label')\n",
        "plt.show()"
      ],
      "execution_count": null,
      "outputs": []
    },
    {
      "cell_type": "code",
      "metadata": {
        "colab_type": "code",
        "id": "thLK9nZPhCUp",
        "colab": {}
      },
      "source": [
        "print(classification_report(y_val, y_pred_lr))"
      ],
      "execution_count": null,
      "outputs": []
    }
  ]
}
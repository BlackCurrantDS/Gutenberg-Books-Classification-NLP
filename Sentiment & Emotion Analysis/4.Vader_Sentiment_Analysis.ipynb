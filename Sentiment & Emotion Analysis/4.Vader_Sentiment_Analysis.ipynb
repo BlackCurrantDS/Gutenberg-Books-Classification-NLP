{
  "nbformat": 4,
  "nbformat_minor": 0,
  "metadata": {
    "colab": {
      "name": "4.Vader_Sentiment_Analysis.ipynb",
      "provenance": [],
      "collapsed_sections": [],
      "authorship_tag": "ABX9TyMXpVUieRj0ehoZYjnc19xL",
      "include_colab_link": true
    },
    "kernelspec": {
      "name": "python3",
      "display_name": "Python 3"
    }
  },
  "cells": [
    {
      "cell_type": "markdown",
      "metadata": {
        "id": "view-in-github",
        "colab_type": "text"
      },
      "source": [
        "<a href=\"https://colab.research.google.com/github/BlackCurrantDS/ATiML-Project/blob/master/4_Vader_Sentiment_Analysis.ipynb\" target=\"_parent\"><img src=\"https://colab.research.google.com/assets/colab-badge.svg\" alt=\"Open In Colab\"/></a>"
      ]
    },
    {
      "cell_type": "code",
      "metadata": {
        "id": "bOvSQdMJzuPm",
        "colab_type": "code",
        "outputId": "e2801c4b-a23b-4b23-d15f-4a33362834d0",
        "colab": {
          "base_uri": "https://localhost:8080/",
          "height": 289
        }
      },
      "source": [
        "#Importing the file\n",
        "import pandas as pd\n",
        "#books = pd.read_csv(\"books_train.csv\", index_col=0)\n",
        "books = pd.read_csv(\"books_validation.csv\", index_col=0)\n",
        "#books = pd.read_csv(\"books_test.csv\", index_col=0)\n",
        "books.reset_index(inplace = True)\n",
        "books.head(5)"
      ],
      "execution_count": 1,
      "outputs": [
        {
          "output_type": "execute_result",
          "data": {
            "text/html": [
              "<div>\n",
              "<style scoped>\n",
              "    .dataframe tbody tr th:only-of-type {\n",
              "        vertical-align: middle;\n",
              "    }\n",
              "\n",
              "    .dataframe tbody tr th {\n",
              "        vertical-align: top;\n",
              "    }\n",
              "\n",
              "    .dataframe thead th {\n",
              "        text-align: right;\n",
              "    }\n",
              "</style>\n",
              "<table border=\"1\" class=\"dataframe\">\n",
              "  <thead>\n",
              "    <tr style=\"text-align: right;\">\n",
              "      <th></th>\n",
              "      <th>index</th>\n",
              "      <th>data</th>\n",
              "      <th>FileNo</th>\n",
              "      <th>Book_Name</th>\n",
              "      <th>genre</th>\n",
              "      <th>Author_Name</th>\n",
              "    </tr>\n",
              "  </thead>\n",
              "  <tbody>\n",
              "    <tr>\n",
              "      <th>0</th>\n",
              "      <td>272</td>\n",
              "      <td>\"Squire Carrington's carriage, this way, pleas...</td>\n",
              "      <td>34947</td>\n",
              "      <td>The House of Strange Secrets: A Detective Story</td>\n",
              "      <td>Detective and Mystery</td>\n",
              "      <td>Bayly| A. Eric</td>\n",
              "    </tr>\n",
              "    <tr>\n",
              "      <th>1</th>\n",
              "      <td>747</td>\n",
              "      <td>G. A. HENTY Author of \"With Buller in Natal\" \"...</td>\n",
              "      <td>48297</td>\n",
              "      <td>A Soldier's Daughter- and Other Stories</td>\n",
              "      <td>Sea and Adventure</td>\n",
              "      <td>Henty| G. A.</td>\n",
              "    </tr>\n",
              "    <tr>\n",
              "      <th>2</th>\n",
              "      <td>175</td>\n",
              "      <td>\"As a recounter of stories of mingled mystery ...</td>\n",
              "      <td>27549</td>\n",
              "      <td>The Seven Secrets</td>\n",
              "      <td>Detective and Mystery</td>\n",
              "      <td>Anstey| F.</td>\n",
              "    </tr>\n",
              "    <tr>\n",
              "      <th>3</th>\n",
              "      <td>42</td>\n",
              "      <td>Looking back now, after so many months of stru...</td>\n",
              "      <td>16968</td>\n",
              "      <td>The Bad Man: A Novel</td>\n",
              "      <td>Literary</td>\n",
              "      <td>Browne| Porter Emerson| Towne| Charles Hanson</td>\n",
              "    </tr>\n",
              "    <tr>\n",
              "      <th>4</th>\n",
              "      <td>473</td>\n",
              "      <td>First and foremost it should be stated how I, ...</td>\n",
              "      <td>37081</td>\n",
              "      <td>In Strange Company: A Story of Chili and the S...</td>\n",
              "      <td>Sea and Adventure</td>\n",
              "      <td>Boothby| Guy</td>\n",
              "    </tr>\n",
              "  </tbody>\n",
              "</table>\n",
              "</div>"
            ],
            "text/plain": [
              "   index  ...                                    Author_Name\n",
              "0    272  ...                                 Bayly| A. Eric\n",
              "1    747  ...                                   Henty| G. A.\n",
              "2    175  ...                                     Anstey| F.\n",
              "3     42  ...  Browne| Porter Emerson| Towne| Charles Hanson\n",
              "4    473  ...                                   Boothby| Guy\n",
              "\n",
              "[5 rows x 6 columns]"
            ]
          },
          "metadata": {
            "tags": []
          },
          "execution_count": 1
        }
      ]
    },
    {
      "cell_type": "code",
      "metadata": {
        "id": "ulKRo2TxNciS",
        "colab_type": "code",
        "colab": {}
      },
      "source": [
        "del books['index']"
      ],
      "execution_count": 0,
      "outputs": []
    },
    {
      "cell_type": "code",
      "metadata": {
        "id": "mM8LkPz4P1kA",
        "colab_type": "code",
        "outputId": "ae1cdb3a-deb0-4706-a79a-8e069f81f777",
        "colab": {
          "base_uri": "https://localhost:8080/",
          "height": 207
        }
      },
      "source": [
        "pip install vaderSentiment"
      ],
      "execution_count": 3,
      "outputs": [
        {
          "output_type": "stream",
          "text": [
            "Collecting vaderSentiment\n",
            "\u001b[?25l  Downloading https://files.pythonhosted.org/packages/76/fc/310e16254683c1ed35eeb97386986d6c00bc29df17ce280aed64d55537e9/vaderSentiment-3.3.2-py2.py3-none-any.whl (125kB)\n",
            "\r\u001b[K     |██▋                             | 10kB 16.9MB/s eta 0:00:01\r\u001b[K     |█████▏                          | 20kB 1.7MB/s eta 0:00:01\r\u001b[K     |███████▉                        | 30kB 2.2MB/s eta 0:00:01\r\u001b[K     |██████████▍                     | 40kB 2.5MB/s eta 0:00:01\r\u001b[K     |█████████████                   | 51kB 2.0MB/s eta 0:00:01\r\u001b[K     |███████████████▋                | 61kB 2.3MB/s eta 0:00:01\r\u001b[K     |██████████████████▏             | 71kB 2.5MB/s eta 0:00:01\r\u001b[K     |████████████████████▉           | 81kB 2.7MB/s eta 0:00:01\r\u001b[K     |███████████████████████▍        | 92kB 2.9MB/s eta 0:00:01\r\u001b[K     |██████████████████████████      | 102kB 2.8MB/s eta 0:00:01\r\u001b[K     |████████████████████████████▋   | 112kB 2.8MB/s eta 0:00:01\r\u001b[K     |███████████████████████████████▏| 122kB 2.8MB/s eta 0:00:01\r\u001b[K     |████████████████████████████████| 133kB 2.8MB/s \n",
            "\u001b[?25hRequirement already satisfied: requests in /usr/local/lib/python3.6/dist-packages (from vaderSentiment) (2.23.0)\n",
            "Requirement already satisfied: idna<3,>=2.5 in /usr/local/lib/python3.6/dist-packages (from requests->vaderSentiment) (2.9)\n",
            "Requirement already satisfied: chardet<4,>=3.0.2 in /usr/local/lib/python3.6/dist-packages (from requests->vaderSentiment) (3.0.4)\n",
            "Requirement already satisfied: certifi>=2017.4.17 in /usr/local/lib/python3.6/dist-packages (from requests->vaderSentiment) (2020.4.5.1)\n",
            "Requirement already satisfied: urllib3!=1.25.0,!=1.25.1,<1.26,>=1.21.1 in /usr/local/lib/python3.6/dist-packages (from requests->vaderSentiment) (1.24.3)\n",
            "Installing collected packages: vaderSentiment\n",
            "Successfully installed vaderSentiment-3.3.2\n"
          ],
          "name": "stdout"
        }
      ]
    },
    {
      "cell_type": "code",
      "metadata": {
        "id": "IVGmwqgJS0-a",
        "colab_type": "code",
        "outputId": "18331c92-4b91-42a6-f609-efeb4e9cdcd6",
        "colab": {
          "base_uri": "https://localhost:8080/",
          "height": 272
        }
      },
      "source": [
        "import nltk\n",
        "nltk.download('stopwords')\n",
        "import nltk\n",
        "nltk.download('punkt')\n",
        "import nltk\n",
        "nltk.download('averaged_perceptron_tagger')\n",
        "import nltk\n",
        "nltk.download('wordnet')\n",
        "import nltk\n",
        "nltk.download('maxent_ne_chunker')\n",
        "import nltk\n",
        "nltk.download('words')"
      ],
      "execution_count": 4,
      "outputs": [
        {
          "output_type": "stream",
          "text": [
            "[nltk_data] Downloading package stopwords to /root/nltk_data...\n",
            "[nltk_data]   Unzipping corpora/stopwords.zip.\n",
            "[nltk_data] Downloading package punkt to /root/nltk_data...\n",
            "[nltk_data]   Unzipping tokenizers/punkt.zip.\n",
            "[nltk_data] Downloading package averaged_perceptron_tagger to\n",
            "[nltk_data]     /root/nltk_data...\n",
            "[nltk_data]   Unzipping taggers/averaged_perceptron_tagger.zip.\n",
            "[nltk_data] Downloading package wordnet to /root/nltk_data...\n",
            "[nltk_data]   Unzipping corpora/wordnet.zip.\n",
            "[nltk_data] Downloading package maxent_ne_chunker to\n",
            "[nltk_data]     /root/nltk_data...\n",
            "[nltk_data]   Unzipping chunkers/maxent_ne_chunker.zip.\n",
            "[nltk_data] Downloading package words to /root/nltk_data...\n",
            "[nltk_data]   Unzipping corpora/words.zip.\n"
          ],
          "name": "stdout"
        },
        {
          "output_type": "execute_result",
          "data": {
            "text/plain": [
              "True"
            ]
          },
          "metadata": {
            "tags": []
          },
          "execution_count": 4
        }
      ]
    },
    {
      "cell_type": "code",
      "metadata": {
        "id": "jxr_fuioOY4z",
        "colab_type": "code",
        "colab": {}
      },
      "source": [
        "from vaderSentiment.vaderSentiment import SentimentIntensityAnalyzer\n",
        "from nltk import sent_tokenize\n",
        "\n",
        "def positive(text):\n",
        "  analyzer = SentimentIntensityAnalyzer()\n",
        "  sentences = sent_tokenize(text)\n",
        "  c_pos = 0\n",
        "  number_of_sen = len(sentences)\n",
        "  for i in sentences:\n",
        "    vs = analyzer.polarity_scores(i)\n",
        "    c_pos += vs['pos'] / number_of_sen\n",
        "    return c_pos\n",
        "\n",
        "def negative(text):\n",
        "  analyzer = SentimentIntensityAnalyzer()\n",
        "  sentences = sent_tokenize(text)\n",
        "  c_pos = 0\n",
        "  number_of_sen = len(sentences)\n",
        "  for i in sentences:\n",
        "    vs = analyzer.polarity_scores(i)\n",
        "    c_pos += vs['neg'] / number_of_sen\n",
        "    return c_pos\n",
        "    \n",
        "def neutral(text):\n",
        "  analyzer = SentimentIntensityAnalyzer()\n",
        "  sentences = sent_tokenize(text)\n",
        "  c_pos = 0\n",
        "  number_of_sen = len(sentences)\n",
        "  for i in sentences:\n",
        "    vs = analyzer.polarity_scores(i)\n",
        "    c_pos += vs['neu'] / number_of_sen\n",
        "    return c_pos\n",
        "    \n",
        "def compound(text):\n",
        "  analyzer = SentimentIntensityAnalyzer()\n",
        "  sentences = sent_tokenize(text)\n",
        "  c_pos = 0\n",
        "  number_of_sen = len(sentences)\n",
        "  for i in sentences:\n",
        "    vs = analyzer.polarity_scores(i)\n",
        "    c_pos += vs['compound'] / number_of_sen\n",
        "    return c_pos\n"
      ],
      "execution_count": 0,
      "outputs": []
    },
    {
      "cell_type": "code",
      "metadata": {
        "id": "TD9QhhtKNsqe",
        "colab_type": "code",
        "colab": {}
      },
      "source": [
        "def sentiment_analysis(books):\n",
        "    df = books.copy() \n",
        "    \n",
        "    df['positive'] = df.data.apply(positive)\n",
        "    df['negative'] = df.data.apply(negative)\n",
        "    df['neutral'] = df.data.apply(neutral)\n",
        "    df['compund'] = df.data.apply(compound)\n",
        "    return df\n"
      ],
      "execution_count": 0,
      "outputs": []
    },
    {
      "cell_type": "code",
      "metadata": {
        "id": "9wHKytixOT_V",
        "colab_type": "code",
        "colab": {}
      },
      "source": [
        "df_senti = sentiment_analysis(books)"
      ],
      "execution_count": 0,
      "outputs": []
    },
    {
      "cell_type": "code",
      "metadata": {
        "id": "6Dnca_f3TSuT",
        "colab_type": "code",
        "outputId": "3f9baba1-d3e3-47d2-b304-49655f159225",
        "colab": {
          "base_uri": "https://localhost:8080/",
          "height": 682
        }
      },
      "source": [
        "df_senti.head(10)"
      ],
      "execution_count": 8,
      "outputs": [
        {
          "output_type": "execute_result",
          "data": {
            "text/html": [
              "<div>\n",
              "<style scoped>\n",
              "    .dataframe tbody tr th:only-of-type {\n",
              "        vertical-align: middle;\n",
              "    }\n",
              "\n",
              "    .dataframe tbody tr th {\n",
              "        vertical-align: top;\n",
              "    }\n",
              "\n",
              "    .dataframe thead th {\n",
              "        text-align: right;\n",
              "    }\n",
              "</style>\n",
              "<table border=\"1\" class=\"dataframe\">\n",
              "  <thead>\n",
              "    <tr style=\"text-align: right;\">\n",
              "      <th></th>\n",
              "      <th>data</th>\n",
              "      <th>FileNo</th>\n",
              "      <th>Book_Name</th>\n",
              "      <th>genre</th>\n",
              "      <th>Author_Name</th>\n",
              "      <th>positive</th>\n",
              "      <th>negative</th>\n",
              "      <th>neutral</th>\n",
              "      <th>compund</th>\n",
              "    </tr>\n",
              "  </thead>\n",
              "  <tbody>\n",
              "    <tr>\n",
              "      <th>0</th>\n",
              "      <td>\"Squire Carrington's carriage, this way, pleas...</td>\n",
              "      <td>34947</td>\n",
              "      <td>The House of Strange Secrets: A Detective Story</td>\n",
              "      <td>Detective and Mystery</td>\n",
              "      <td>Bayly| A. Eric</td>\n",
              "      <td>0.000101</td>\n",
              "      <td>0.000000</td>\n",
              "      <td>0.000245</td>\n",
              "      <td>0.000254</td>\n",
              "    </tr>\n",
              "    <tr>\n",
              "      <th>1</th>\n",
              "      <td>G. A. HENTY Author of \"With Buller in Natal\" \"...</td>\n",
              "      <td>48297</td>\n",
              "      <td>A Soldier's Daughter- and Other Stories</td>\n",
              "      <td>Sea and Adventure</td>\n",
              "      <td>Henty| G. A.</td>\n",
              "      <td>0.000000</td>\n",
              "      <td>0.000000</td>\n",
              "      <td>0.000459</td>\n",
              "      <td>0.000000</td>\n",
              "    </tr>\n",
              "    <tr>\n",
              "      <th>2</th>\n",
              "      <td>\"As a recounter of stories of mingled mystery ...</td>\n",
              "      <td>27549</td>\n",
              "      <td>The Seven Secrets</td>\n",
              "      <td>Detective and Mystery</td>\n",
              "      <td>Anstey| F.</td>\n",
              "      <td>0.000069</td>\n",
              "      <td>0.000000</td>\n",
              "      <td>0.000140</td>\n",
              "      <td>0.000175</td>\n",
              "    </tr>\n",
              "    <tr>\n",
              "      <th>3</th>\n",
              "      <td>Looking back now, after so many months of stru...</td>\n",
              "      <td>16968</td>\n",
              "      <td>The Bad Man: A Novel</td>\n",
              "      <td>Literary</td>\n",
              "      <td>Browne| Porter Emerson| Towne| Charles Hanson</td>\n",
              "      <td>0.000017</td>\n",
              "      <td>0.000022</td>\n",
              "      <td>0.000123</td>\n",
              "      <td>-0.000004</td>\n",
              "    </tr>\n",
              "    <tr>\n",
              "      <th>4</th>\n",
              "      <td>First and foremost it should be stated how I, ...</td>\n",
              "      <td>37081</td>\n",
              "      <td>In Strange Company: A Story of Chili and the S...</td>\n",
              "      <td>Sea and Adventure</td>\n",
              "      <td>Boothby| Guy</td>\n",
              "      <td>0.000000</td>\n",
              "      <td>0.000000</td>\n",
              "      <td>0.000328</td>\n",
              "      <td>0.000000</td>\n",
              "    </tr>\n",
              "    <tr>\n",
              "      <th>5</th>\n",
              "      <td>The sun had set behind the mountains, and the ...</td>\n",
              "      <td>7842</td>\n",
              "      <td>The Rise of Iskander</td>\n",
              "      <td>Literary</td>\n",
              "      <td>Disraeli| Earl of Beaconsfield Benjamin</td>\n",
              "      <td>0.000089</td>\n",
              "      <td>0.000000</td>\n",
              "      <td>0.000543</td>\n",
              "      <td>0.000353</td>\n",
              "    </tr>\n",
              "    <tr>\n",
              "      <th>6</th>\n",
              "      <td>I told my story, and the three fellows listene...</td>\n",
              "      <td>41314</td>\n",
              "      <td>My Danish Sweetheart: A Novel. Volume 2 of 3</td>\n",
              "      <td>Sea and Adventure</td>\n",
              "      <td>Russell| William Clark</td>\n",
              "      <td>0.000000</td>\n",
              "      <td>0.000000</td>\n",
              "      <td>0.000339</td>\n",
              "      <td>0.000000</td>\n",
              "    </tr>\n",
              "    <tr>\n",
              "      <th>7</th>\n",
              "      <td>A Detective Story\\nA.B.M. Fellow-Sherlockian\\n...</td>\n",
              "      <td>10067</td>\n",
              "      <td>The Mystery of the Boule Cabinet: A Detective ...</td>\n",
              "      <td>Detective and Mystery</td>\n",
              "      <td>Stevenson| Burton Egbert</td>\n",
              "      <td>0.000000</td>\n",
              "      <td>0.000000</td>\n",
              "      <td>0.000198</td>\n",
              "      <td>0.000000</td>\n",
              "    </tr>\n",
              "    <tr>\n",
              "      <th>8</th>\n",
              "      <td>E-text prepared by Al Haines\\nIt began somewhe...</td>\n",
              "      <td>18443</td>\n",
              "      <td>Parrot &amp; Co.</td>\n",
              "      <td>Literary</td>\n",
              "      <td>MacGrath| Harold</td>\n",
              "      <td>0.000009</td>\n",
              "      <td>0.000000</td>\n",
              "      <td>0.000187</td>\n",
              "      <td>0.000044</td>\n",
              "    </tr>\n",
              "    <tr>\n",
              "      <th>9</th>\n",
              "      <td>That second week of July was not altogether pe...</td>\n",
              "      <td>41340</td>\n",
              "      <td>Mount Royal: A Novel. Volume 2 of 3</td>\n",
              "      <td>Literary</td>\n",
              "      <td>Braddon| M. E.</td>\n",
              "      <td>0.000000</td>\n",
              "      <td>0.000000</td>\n",
              "      <td>0.000375</td>\n",
              "      <td>0.000000</td>\n",
              "    </tr>\n",
              "  </tbody>\n",
              "</table>\n",
              "</div>"
            ],
            "text/plain": [
              "                                                data  ...   compund\n",
              "0  \"Squire Carrington's carriage, this way, pleas...  ...  0.000254\n",
              "1  G. A. HENTY Author of \"With Buller in Natal\" \"...  ...  0.000000\n",
              "2  \"As a recounter of stories of mingled mystery ...  ...  0.000175\n",
              "3  Looking back now, after so many months of stru...  ... -0.000004\n",
              "4  First and foremost it should be stated how I, ...  ...  0.000000\n",
              "5  The sun had set behind the mountains, and the ...  ...  0.000353\n",
              "6  I told my story, and the three fellows listene...  ...  0.000000\n",
              "7  A Detective Story\\nA.B.M. Fellow-Sherlockian\\n...  ...  0.000000\n",
              "8  E-text prepared by Al Haines\\nIt began somewhe...  ...  0.000044\n",
              "9  That second week of July was not altogether pe...  ...  0.000000\n",
              "\n",
              "[10 rows x 9 columns]"
            ]
          },
          "metadata": {
            "tags": []
          },
          "execution_count": 8
        }
      ]
    },
    {
      "cell_type": "code",
      "metadata": {
        "id": "vHhjGRluwN41",
        "colab_type": "code",
        "colab": {}
      },
      "source": [
        "del df_senti['data']\n",
        "del df_senti['Book_Name']\n",
        "del df_senti['Author_Name']"
      ],
      "execution_count": 0,
      "outputs": []
    },
    {
      "cell_type": "code",
      "metadata": {
        "id": "hNNbPC327Qj2",
        "colab_type": "code",
        "outputId": "5067b67c-516a-40d4-812d-772d3c6601b6",
        "colab": {
          "base_uri": "https://localhost:8080/",
          "height": 204
        }
      },
      "source": [
        "df_senti.head(5)"
      ],
      "execution_count": 10,
      "outputs": [
        {
          "output_type": "execute_result",
          "data": {
            "text/html": [
              "<div>\n",
              "<style scoped>\n",
              "    .dataframe tbody tr th:only-of-type {\n",
              "        vertical-align: middle;\n",
              "    }\n",
              "\n",
              "    .dataframe tbody tr th {\n",
              "        vertical-align: top;\n",
              "    }\n",
              "\n",
              "    .dataframe thead th {\n",
              "        text-align: right;\n",
              "    }\n",
              "</style>\n",
              "<table border=\"1\" class=\"dataframe\">\n",
              "  <thead>\n",
              "    <tr style=\"text-align: right;\">\n",
              "      <th></th>\n",
              "      <th>FileNo</th>\n",
              "      <th>genre</th>\n",
              "      <th>positive</th>\n",
              "      <th>negative</th>\n",
              "      <th>neutral</th>\n",
              "      <th>compund</th>\n",
              "    </tr>\n",
              "  </thead>\n",
              "  <tbody>\n",
              "    <tr>\n",
              "      <th>0</th>\n",
              "      <td>34947</td>\n",
              "      <td>Detective and Mystery</td>\n",
              "      <td>0.000101</td>\n",
              "      <td>0.000000</td>\n",
              "      <td>0.000245</td>\n",
              "      <td>0.000254</td>\n",
              "    </tr>\n",
              "    <tr>\n",
              "      <th>1</th>\n",
              "      <td>48297</td>\n",
              "      <td>Sea and Adventure</td>\n",
              "      <td>0.000000</td>\n",
              "      <td>0.000000</td>\n",
              "      <td>0.000459</td>\n",
              "      <td>0.000000</td>\n",
              "    </tr>\n",
              "    <tr>\n",
              "      <th>2</th>\n",
              "      <td>27549</td>\n",
              "      <td>Detective and Mystery</td>\n",
              "      <td>0.000069</td>\n",
              "      <td>0.000000</td>\n",
              "      <td>0.000140</td>\n",
              "      <td>0.000175</td>\n",
              "    </tr>\n",
              "    <tr>\n",
              "      <th>3</th>\n",
              "      <td>16968</td>\n",
              "      <td>Literary</td>\n",
              "      <td>0.000017</td>\n",
              "      <td>0.000022</td>\n",
              "      <td>0.000123</td>\n",
              "      <td>-0.000004</td>\n",
              "    </tr>\n",
              "    <tr>\n",
              "      <th>4</th>\n",
              "      <td>37081</td>\n",
              "      <td>Sea and Adventure</td>\n",
              "      <td>0.000000</td>\n",
              "      <td>0.000000</td>\n",
              "      <td>0.000328</td>\n",
              "      <td>0.000000</td>\n",
              "    </tr>\n",
              "  </tbody>\n",
              "</table>\n",
              "</div>"
            ],
            "text/plain": [
              "   FileNo                  genre  positive  negative   neutral   compund\n",
              "0   34947  Detective and Mystery  0.000101  0.000000  0.000245  0.000254\n",
              "1   48297      Sea and Adventure  0.000000  0.000000  0.000459  0.000000\n",
              "2   27549  Detective and Mystery  0.000069  0.000000  0.000140  0.000175\n",
              "3   16968               Literary  0.000017  0.000022  0.000123 -0.000004\n",
              "4   37081      Sea and Adventure  0.000000  0.000000  0.000328  0.000000"
            ]
          },
          "metadata": {
            "tags": []
          },
          "execution_count": 10
        }
      ]
    },
    {
      "cell_type": "code",
      "metadata": {
        "id": "OJC7CwDHv5Un",
        "colab_type": "code",
        "colab": {}
      },
      "source": [
        "#df_senti.to_csv(\"vader_sentiment_train.csv\")\n",
        "df_senti.to_csv(\"vader_sentiment_validation.csv\")\n",
        "#df_senti.to_csv(\"vader_sentiment_test.csv\")"
      ],
      "execution_count": 0,
      "outputs": []
    },
    {
      "cell_type": "code",
      "metadata": {
        "id": "nZubE0niVbGB",
        "colab_type": "code",
        "outputId": "35ffea39-ab7a-4b47-e9fc-c52952a11008",
        "colab": {
          "base_uri": "https://localhost:8080/",
          "height": 1000
        }
      },
      "source": [
        "import matplotlib.pyplot as plt\n",
        "import seaborn as sns\n",
        "for c in df_senti.columns[2:]:\n",
        "    plt.figure(figsize=(20,10))\n",
        "    plt.style.use('seaborn')\n",
        "    sns.barplot(x='genre', y=c, data=df_senti)\n",
        "    plt.title('Vader_Sentiment {}'.format(c))\n",
        "    plt.savefig('Vader_Sentiment {}'.format(c))\n",
        "    plt.show()"
      ],
      "execution_count": 12,
      "outputs": [
        {
          "output_type": "stream",
          "text": [
            "/usr/local/lib/python3.6/dist-packages/statsmodels/tools/_testing.py:19: FutureWarning: pandas.util.testing is deprecated. Use the functions in the public API at pandas.testing instead.\n",
            "  import pandas.util.testing as tm\n"
          ],
          "name": "stderr"
        },
        {
          "output_type": "display_data",
          "data": {
            "image/png": "[encoded data removed]",
            "text/plain": [
              "<Figure size 1440x720 with 1 Axes>"
            ]
          },
          "metadata": {
            "tags": [],
            "needs_background": "light"
          }
        },
        {
          "output_type": "display_data",
          "data": {
            "image/png": "[encoded data removed]",
            "text/plain": [
              "<Figure size 1440x720 with 1 Axes>"
            ]
          },
          "metadata": {
            "tags": []
          }
        },
        {
          "output_type": "display_data",
          "data": {
            "image/png": "[encoded data removed]",
            "text/plain": [
              "<Figure size 1440x720 with 1 Axes>"
            ]
          },
          "metadata": {
            "tags": []
          }
        },
        {
          "output_type": "display_data",
          "data": {
            "image/png": "[encoded data removed]",
            "text/plain": [
              "<Figure size 1440x720 with 1 Axes>"
            ]
          },
          "metadata": {
            "tags": []
          }
        }
      ]
    }
  ]
}
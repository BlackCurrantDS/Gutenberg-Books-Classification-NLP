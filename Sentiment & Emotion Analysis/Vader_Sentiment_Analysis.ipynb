{
  "nbformat": 4,
  "nbformat_minor": 0,
  "metadata": {
    "colab": {
      "name": "Vader_Sentiment_Analysis.ipynb",
      "provenance": [],
      "collapsed_sections": [],
      "authorship_tag": "ABX9TyMXxZLpbPeFWItJ3dfiTdDE",
      "include_colab_link": true
    },
    "kernelspec": {
      "name": "python3",
      "display_name": "Python 3"
    }
  },
  "cells": [
    {
      "cell_type": "markdown",
      "metadata": {
        "id": "view-in-github",
        "colab_type": "text"
      },
      "source": [
        "<a href=\"https://colab.research.google.com/github/BlackCurrantDS/ATiML-Project/blob/master/Vader_Sentiment_Analysis.ipynb\" target=\"_parent\"><img src=\"https://colab.research.google.com/assets/colab-badge.svg\" alt=\"Open In Colab\"/></a>"
      ]
    },
    {
      "cell_type": "markdown",
      "metadata": {
        "id": "bDaLXiNItLde",
        "colab_type": "text"
      },
      "source": [
        "This notebook extarcts the sentiment scors of each book , it gives in thef rom of positive, negative and nueutral form. This uses Vadeer method for the same whihc gives the compund also"
      ]
    },
    {
      "cell_type": "markdown",
      "metadata": {
        "id": "DjTiTUg5tfUc",
        "colab_type": "text"
      },
      "source": [
        "importing the data"
      ]
    },
    {
      "cell_type": "code",
      "metadata": {
        "id": "bOvSQdMJzuPm",
        "colab_type": "code",
        "colab": {}
      },
      "source": [
        "#Importing the file\n",
        "import pandas as pd\n",
        "books = pd.read_csv(\"books_train.csv\", index_col=0)\n",
        "#books = pd.read_csv(\"books_validation.csv\", index_col=0)\n",
        "#books = pd.read_csv(\"books_test.csv\", index_col=0)\n",
        "books.reset_index(inplace = True)\n",
        "books.head(5)"
      ],
      "execution_count": null,
      "outputs": []
    },
    {
      "cell_type": "code",
      "metadata": {
        "id": "ulKRo2TxNciS",
        "colab_type": "code",
        "colab": {}
      },
      "source": [
        "del books['index']"
      ],
      "execution_count": null,
      "outputs": []
    },
    {
      "cell_type": "code",
      "metadata": {
        "id": "mM8LkPz4P1kA",
        "colab_type": "code",
        "colab": {}
      },
      "source": [
        "pip install vaderSentiment"
      ],
      "execution_count": null,
      "outputs": []
    },
    {
      "cell_type": "code",
      "metadata": {
        "id": "IVGmwqgJS0-a",
        "colab_type": "code",
        "colab": {}
      },
      "source": [
        "import nltk\n",
        "nltk.download('stopwords')\n",
        "import nltk\n",
        "nltk.download('punkt')\n",
        "import nltk\n",
        "nltk.download('averaged_perceptron_tagger')\n",
        "import nltk\n",
        "nltk.download('wordnet')\n",
        "import nltk\n",
        "nltk.download('maxent_ne_chunker')\n",
        "import nltk\n",
        "nltk.download('words')"
      ],
      "execution_count": null,
      "outputs": []
    },
    {
      "cell_type": "markdown",
      "metadata": {
        "id": "Ke4NwSAntjS5",
        "colab_type": "text"
      },
      "source": [
        "This impplmenets a fucntion for each sentiment and gives it based on number of sentences"
      ]
    },
    {
      "cell_type": "code",
      "metadata": {
        "id": "jxr_fuioOY4z",
        "colab_type": "code",
        "colab": {}
      },
      "source": [
        "from vaderSentiment.vaderSentiment import SentimentIntensityAnalyzer\n",
        "from nltk import sent_tokenize\n",
        "\n",
        "def positive(text):\n",
        "  analyzer = SentimentIntensityAnalyzer()\n",
        "  sentences = sent_tokenize(text)\n",
        "  c_pos = 0\n",
        "  number_of_sen = len(sentences)\n",
        "  for i in sentences:\n",
        "    vs = analyzer.polarity_scores(i)\n",
        "    c_pos += vs['pos'] / number_of_sen\n",
        "    return c_pos\n",
        "\n",
        "def negative(text):\n",
        "  analyzer = SentimentIntensityAnalyzer()\n",
        "  sentences = sent_tokenize(text)\n",
        "  c_pos = 0\n",
        "  number_of_sen = len(sentences)\n",
        "  for i in sentences:\n",
        "    vs = analyzer.polarity_scores(i)\n",
        "    c_pos += vs['neg'] / number_of_sen\n",
        "    return c_pos\n",
        "    \n",
        "def neutral(text):\n",
        "  analyzer = SentimentIntensityAnalyzer()\n",
        "  sentences = sent_tokenize(text)\n",
        "  c_pos = 0\n",
        "  number_of_sen = len(sentences)\n",
        "  for i in sentences:\n",
        "    vs = analyzer.polarity_scores(i)\n",
        "    c_pos += vs['neu'] / number_of_sen\n",
        "    return c_pos\n",
        "    \n",
        "def compound(text):\n",
        "  analyzer = SentimentIntensityAnalyzer()\n",
        "  sentences = sent_tokenize(text)\n",
        "  c_pos = 0\n",
        "  number_of_sen = len(sentences)\n",
        "  for i in sentences:\n",
        "    vs = analyzer.polarity_scores(i)\n",
        "    c_pos += vs['compound'] / number_of_sen\n",
        "    return c_pos\n"
      ],
      "execution_count": null,
      "outputs": []
    },
    {
      "cell_type": "markdown",
      "metadata": {
        "id": "8oQbK3UttvNN",
        "colab_type": "text"
      },
      "source": [
        "Functions are applied to the books data"
      ]
    },
    {
      "cell_type": "code",
      "metadata": {
        "id": "TD9QhhtKNsqe",
        "colab_type": "code",
        "colab": {}
      },
      "source": [
        "def sentiment_analysis(books):\n",
        "    df = books.copy() \n",
        "    \n",
        "    df['positive'] = df.data.apply(positive)\n",
        "    df['negative'] = df.data.apply(negative)\n",
        "    df['neutral'] = df.data.apply(neutral)\n",
        "    df['compund'] = df.data.apply(compound)\n",
        "    return df\n"
      ],
      "execution_count": null,
      "outputs": []
    },
    {
      "cell_type": "code",
      "metadata": {
        "id": "9wHKytixOT_V",
        "colab_type": "code",
        "colab": {}
      },
      "source": [
        "df_senti = sentiment_analysis(books)"
      ],
      "execution_count": null,
      "outputs": []
    },
    {
      "cell_type": "code",
      "metadata": {
        "id": "6Dnca_f3TSuT",
        "colab_type": "code",
        "colab": {}
      },
      "source": [
        "df_senti.head(10)"
      ],
      "execution_count": null,
      "outputs": []
    },
    {
      "cell_type": "code",
      "metadata": {
        "id": "vHhjGRluwN41",
        "colab_type": "code",
        "colab": {}
      },
      "source": [
        "del df_senti['data']\n",
        "\"\"\"del df_senti['Book_Name']\n",
        "del df_senti['Author_Name']\"\"\""
      ],
      "execution_count": null,
      "outputs": []
    },
    {
      "cell_type": "code",
      "metadata": {
        "id": "hNNbPC327Qj2",
        "colab_type": "code",
        "colab": {}
      },
      "source": [
        "df_senti.head(5)"
      ],
      "execution_count": null,
      "outputs": []
    },
    {
      "cell_type": "markdown",
      "metadata": {
        "id": "yoHpb3QDt2CH",
        "colab_type": "text"
      },
      "source": [
        "Scores are expotred to cvs file"
      ]
    },
    {
      "cell_type": "code",
      "metadata": {
        "id": "OJC7CwDHv5Un",
        "colab_type": "code",
        "colab": {}
      },
      "source": [
        "df_senti.to_csv(\"vader_sentiment_train.csv\")\n",
        "#df_senti.to_csv(\"vader_sentiment_validation.csv\")\n",
        "#df_senti.to_csv(\"vader_sentiment_test.csv\")"
      ],
      "execution_count": null,
      "outputs": []
    },
    {
      "cell_type": "markdown",
      "metadata": {
        "id": "qX5yIrDPt4xI",
        "colab_type": "text"
      },
      "source": [
        "Plotitnghe scores in box plots"
      ]
    },
    {
      "cell_type": "code",
      "metadata": {
        "id": "nZubE0niVbGB",
        "colab_type": "code",
        "colab": {}
      },
      "source": [
        "import matplotlib.pyplot as plt\n",
        "import seaborn as sns\n",
        "for c in df_senti.columns[2:]:\n",
        "    plt.figure(figsize=(20,10))\n",
        "    plt.style.use('seaborn')\n",
        "    sns.barplot(x='genre', y=c, data=df_senti)\n",
        "    plt.title('Vader_Sentiment {}'.format(c))\n",
        "    plt.savefig('Vader_Sentiment {}'.format(c))\n",
        "    plt.show()"
      ],
      "execution_count": null,
      "outputs": []
    },
    {
      "cell_type": "markdown",
      "metadata": {
        "id": "XIuxfZpyt8hN",
        "colab_type": "text"
      },
      "source": [
        "Plotting in radar charts for all the geners at once"
      ]
    },
    {
      "cell_type": "code",
      "metadata": {
        "id": "UmaxRD7thRyi",
        "colab_type": "code",
        "colab": {}
      },
      "source": [
        "categories = ['positive',\t'negative',\t'neutral'] #Allegories\n",
        "\n",
        "genre_lit = ['Literary']\n",
        "newdf_lit = df_senti[df_senti['genre'].isin(genre_lit)]\n",
        "newdf_lit = newdf_lit[['positive',\t'negative',\t'neutral']]\n",
        "newdf_lit = newdf_lit*2500\n",
        "\n",
        "genre_west = ['Western Stories']\n",
        "newdf_west = df_senti[df_senti['genre'].isin(genre_west)]\n",
        "newdf_west = newdf_west[['positive',\t'negative',\t'neutral']]\n",
        "newdf_west = newdf_west*2500\n",
        "\n",
        "\n",
        "genre_deduc = ['Detective and Mystery']\n",
        "newdf_deduc = df_senti[df_senti['genre'].isin(genre_deduc)]\n",
        "newdf_deduc = newdf_deduc[['positive',\t'negative',\t'neutral']]\n",
        "newdf_deduc = newdf_deduc*2500\n",
        "\n",
        "\n",
        "genre_Allegories = ['Allegories']\n",
        "newdf_Allegories = df_senti[df_senti['genre'].isin(genre_Allegories)]\n",
        "newdf_Allegories = newdf_Allegories[['positive',\t'negative',\t'neutral']]\n",
        "newdf_Allegories = newdf_Allegories*2500\n",
        "\n",
        "genre_sea = ['Sea and Adventure']\n",
        "newdf_sea = df_senti[df_senti['genre'].isin(genre_sea)]\n",
        "newdf_sea = newdf_sea[['positive',\t'negative',\t'neutral']]\n",
        "newdf_sea = newdf_sea*2500\n",
        "\n",
        "genre_romance = ['Love and Romance']\n",
        "newdf_romance = df_senti[df_senti['genre'].isin(genre_romance)]\n",
        "newdf_romance = newdf_romance[['positive',\t'negative',\t'neutral']]\n",
        "newdf_romance = newdf_romance*2500\n",
        "\n",
        "genre_horror = ['Ghost and Horror']\n",
        "newdf_horror = df_senti[df_senti['genre'].isin(genre_horror)]\n",
        "newdf_horror = newdf_horror[['positive',\t'negative',\t'neutral']]\n",
        "newdf_horror = newdf_horror*2500\n",
        "\n",
        "genre_Christmas = ['Christmas Stories']\n",
        "newdf_Christmas = df_senti[df_senti['genre'].isin(genre_Christmas)]\n",
        "newdf_Christmas = newdf_Christmas[['positive',\t'negative',\t'neutral']]\n",
        "newdf_Christmas = newdf_Christmas*2500\n",
        "\n",
        "genre_humour = ['Humorous and Wit and Satire']\n",
        "newdf_humour = df_senti[df_senti['genre'].isin(genre_humour)]\n",
        "newdf_humour = newdf_humour[['positive',\t'negative',\t'neutral']]\n",
        "newdf_humour = newdf_humour*2500"
      ],
      "execution_count": null,
      "outputs": []
    },
    {
      "cell_type": "code",
      "metadata": {
        "id": "zz8wTyxolV0Q",
        "colab_type": "code",
        "colab": {}
      },
      "source": [
        "newdf_romance.head(2)"
      ],
      "execution_count": null,
      "outputs": []
    },
    {
      "cell_type": "code",
      "metadata": {
        "id": "AUPGmwHfGJ38",
        "colab_type": "code",
        "colab": {}
      },
      "source": [
        "values_sea = newdf_sea.mean().values.flatten().tolist()\n",
        "values_sea += values_sea[:1] # repeat the first value to close the circular graph\n",
        "\n",
        "values_horror = newdf_horror.mean().values.flatten().tolist()\n",
        "values_horror += values_horror[:1] # repeat the first value to close the circular graph\n",
        "\n",
        "values_romance = newdf_romance.mean().values.flatten().tolist()\n",
        "values_romance += values_romance[:1] # repeat the first value to close the circular graph\n",
        "\n",
        "values_lit = newdf_lit.mean().values.flatten().tolist()\n",
        "values_lit += values_lit[:1] # repeat the first value to close the circular graph\n",
        "\n",
        "values_deduc = newdf_deduc.mean().values.flatten().tolist()\n",
        "values_deduc += values_deduc[:1] # repeat the first value to close the circular graph\n",
        "\n",
        "values_west = newdf_west.mean().values.flatten().tolist()\n",
        "values_west += values_west[:1] # repeat the first value to close the circular graph\n",
        "\n",
        "values_humour = newdf_humour.mean().values.flatten().tolist()\n",
        "values_humour += values_humour[:1] # repeat the first value to close the circular graph\n",
        "\n",
        "values_Christmas = newdf_Christmas.mean().values.flatten().tolist()\n",
        "values_Christmas += values_Christmas[:1] # repeat the first value to close the circular graph\n",
        "\n",
        "values_Allegories = newdf_Allegories.mean().values.flatten().tolist()\n",
        "values_Allegories += values_Allegories[:1] # repeat the first value to close the circular graph\n",
        "\n",
        "angles = [n / float(len(categories)) * 2 * pi for n in range(len(categories))]\n",
        "angles += angles[:1]\n",
        "\n",
        "fig, ax = plt.subplots(nrows=1, ncols=1, figsize=(5, 5),\n",
        "                       subplot_kw=dict(polar=True))\n",
        "\n",
        "plt.xticks(angles[:-1], categories, color='grey', size=12)\n",
        "plt.yticks(np.arange(1, 3), ['1', '2', '3'],\n",
        "           color='grey', size=10)\n",
        "plt.ylim(0, 3)\n",
        "ax.set_rlabel_position(15)\n",
        " \n",
        "ax.plot(angles, values_sea, linewidth=1,\n",
        "        linestyle='solid', label='sea')\n",
        "ax.fill(angles, values_sea, 'skyblue', alpha=0.2)\n",
        "\n",
        "\n",
        "ax.plot(angles, values_horror, linewidth=1,\n",
        "        linestyle='solid', label='horror')\n",
        "ax.fill(angles, values_horror, 'lightpink', alpha=0.2)\n",
        "\n",
        "ax.plot(angles, values_romance, linewidth=1,\n",
        "        linestyle='solid', label='romance')\n",
        "ax.fill(angles, values_romance, 'black', alpha=0.2)\n",
        "\n",
        "ax.plot(angles, values_lit, linewidth=1,\n",
        "        linestyle='solid', label='Lit')\n",
        "ax.fill(angles, values_lit, 'orange', alpha=0.2)\n",
        "\n",
        "ax.plot(angles, values_deduc, linewidth=1,\n",
        "        linestyle='solid', label='Deduction')\n",
        "ax.fill(angles, values_deduc, 'yellow', alpha=0.2)\n",
        "\n",
        "ax.plot(angles, values_west, linewidth=1,\n",
        "        linestyle='solid', label='Western')\n",
        "ax.fill(angles, values_west, 'brown', alpha=0.2)\n",
        "\n",
        "ax.plot(angles, values_humour, linewidth=1,\n",
        "        linestyle='solid', label='Hounor')\n",
        "ax.fill(angles, values_Allegories, 'blue', alpha=0.2)\n",
        "\n",
        "\n",
        "ax.plot(angles, values_Allegories, linewidth=1,\n",
        "        linestyle='solid', label='Allegories')\n",
        "ax.fill(angles, values_Allegories, 'green', alpha=0.2)\n",
        "\n",
        "\n",
        "ax.plot(angles, values_Christmas, linewidth=1,\n",
        "        linestyle='solid', label='Christmas')\n",
        "ax.fill(angles, values_Christmas, 'red', alpha=0.2)\n",
        "\n",
        "\n",
        "\n",
        " \n",
        "plt.legend(loc='upper right', bbox_to_anchor=(0.1, 0.1))\n",
        "plt.show()"
      ],
      "execution_count": null,
      "outputs": []
    },
    {
      "cell_type": "markdown",
      "metadata": {
        "id": "5ex_bZNsuClE",
        "colab_type": "text"
      },
      "source": [
        "Plotting radar chart only for Love and Romance genre"
      ]
    },
    {
      "cell_type": "code",
      "metadata": {
        "id": "N8KDtVjinOFW",
        "colab_type": "code",
        "colab": {}
      },
      "source": [
        "\n",
        "genre_romance = ['Love and Romance']\n",
        "newdf_romance = df_senti[df_senti['genre'].isin(genre_romance)]\n",
        "newdf_romance = newdf_romance[['positive',\t'negative',\t'neutral']]\n",
        "newdf_romance = newdf_romance*10000\n",
        "\n",
        "values_romance = newdf_romance.mean().values.flatten().tolist()\n",
        "values_romance += values_romance[:1] # repeat the first value to close the circular graph\n",
        "\n",
        "angles = [n / float(len(categories)) * 2 * pi for n in range(len(categories))]\n",
        "angles += angles[:1]\n",
        "\n",
        "fig, ax = plt.subplots(nrows=1, ncols=1, figsize=(3, 3),\n",
        "                       subplot_kw=dict(polar=True))\n",
        "\n",
        "plt.xticks(angles[:-1], categories, color='grey', size=12)\n",
        "plt.yticks(np.arange(1, 4), ['1', '2', '3', '4'],\n",
        "           color='grey', size=10)\n",
        "plt.ylim(0, 4)\n",
        "ax.set_rlabel_position(15)\n",
        "\n",
        "ax.plot(angles, values_romance, linewidth=1,\n",
        "        linestyle='solid', label='romance')\n",
        "ax.fill(angles, values_romance, 'black', alpha=0.2)\n",
        " \n",
        "plt.legend(loc='upper right', bbox_to_anchor=(0.1, 0.1))\n",
        "plt.show()"
      ],
      "execution_count": null,
      "outputs": []
    },
    {
      "cell_type": "markdown",
      "metadata": {
        "id": "UVtOZ-3MuI5u",
        "colab_type": "text"
      },
      "source": [
        "Plotting radar chart only for Ghost and horror genre"
      ]
    },
    {
      "cell_type": "code",
      "metadata": {
        "id": "EioCab5bqrvj",
        "colab_type": "code",
        "colab": {}
      },
      "source": [
        "\n",
        "genre_romance = ['Ghost and Horror']\n",
        "newdf_romance = df_senti[df_senti['genre'].isin(genre_romance)]\n",
        "newdf_romance = newdf_romance[['positive',\t'negative',\t'neutral']]\n",
        "newdf_romance = newdf_romance*2500\n",
        "\n",
        "values_romance = newdf_romance.mean().values.flatten().tolist()\n",
        "values_romance += values_romance[:1] # repeat the first value to close the circular graph\n",
        "\n",
        "angles = [n / float(len(categories)) * 2 * pi for n in range(len(categories))]\n",
        "angles += angles[:1]\n",
        "\n",
        "fig, ax = plt.subplots(nrows=1, ncols=1, figsize=(3, 3),\n",
        "                       subplot_kw=dict(polar=True))\n",
        "\n",
        "plt.xticks(angles[:-1], categories, color='grey', size=12)\n",
        "plt.yticks(np.arange(1, 4), ['1', '2', '3', '4'],\n",
        "           color='grey', size=10)\n",
        "plt.ylim(0, 4)\n",
        "ax.set_rlabel_position(15)\n",
        "\n",
        "ax.plot(angles, values_romance, linewidth=1,\n",
        "        linestyle='solid', label='Horror')\n",
        "ax.fill(angles, values_romance, 'black', alpha=0.2)\n",
        " \n",
        "plt.legend(loc='upper right', bbox_to_anchor=(0.1, 0.1))\n",
        "plt.show()"
      ],
      "execution_count": null,
      "outputs": []
    },
    {
      "cell_type": "markdown",
      "metadata": {
        "id": "Dh5hGZhIuM0o",
        "colab_type": "text"
      },
      "source": [
        "Plotting radar chart only for Chritstmas Stories genre"
      ]
    },
    {
      "cell_type": "code",
      "metadata": {
        "id": "kfaLT0x4q6E5",
        "colab_type": "code",
        "colab": {}
      },
      "source": [
        "\n",
        "genre_romance = ['Christmas Stories']\n",
        "newdf_romance = df_senti[df_senti['genre'].isin(genre_romance)]\n",
        "newdf_romance = newdf_romance[['positive',\t'negative',\t'neutral']]\n",
        "newdf_romance = newdf_romance*2500\n",
        "\n",
        "values_romance = newdf_romance.mean().values.flatten().tolist()\n",
        "values_romance += values_romance[:1] # repeat the first value to close the circular graph\n",
        "\n",
        "angles = [n / float(len(categories)) * 2 * pi for n in range(len(categories))]\n",
        "angles += angles[:1]\n",
        "\n",
        "fig, ax = plt.subplots(nrows=1, ncols=1, figsize=(3, 3),\n",
        "                       subplot_kw=dict(polar=True))\n",
        "\n",
        "plt.xticks(angles[:-1], categories, color='grey', size=12)\n",
        "plt.yticks(np.arange(1, 4), ['1', '2', '3', '4'],\n",
        "           color='grey', size=10)\n",
        "plt.ylim(0, 4)\n",
        "ax.set_rlabel_position(15)\n",
        "\n",
        "ax.plot(angles, values_romance, linewidth=1,\n",
        "        linestyle='solid', label='Chritsmas')\n",
        "ax.fill(angles, values_romance, 'black', alpha=0.2)\n",
        " \n",
        "plt.legend(loc='upper right', bbox_to_anchor=(0.1, 0.1))\n",
        "plt.show()"
      ],
      "execution_count": null,
      "outputs": []
    },
    {
      "cell_type": "markdown",
      "metadata": {
        "id": "v58v354NuRFb",
        "colab_type": "text"
      },
      "source": [
        "Plotting radar chart only for Humorous and Wit and Satire genre"
      ]
    },
    {
      "cell_type": "code",
      "metadata": {
        "id": "pXkDg2w1rGhY",
        "colab_type": "code",
        "colab": {}
      },
      "source": [
        "\n",
        "genre_romance = ['Humorous and Wit and Satire']\n",
        "newdf_romance = df_senti[df_senti['genre'].isin(genre_romance)]\n",
        "newdf_romance = newdf_romance[['positive',\t'negative',\t'neutral']]\n",
        "newdf_romance = newdf_romance*2500\n",
        "\n",
        "values_romance = newdf_romance.mean().values.flatten().tolist()\n",
        "values_romance += values_romance[:1] # repeat the first value to close the circular graph\n",
        "\n",
        "angles = [n / float(len(categories)) * 2 * pi for n in range(len(categories))]\n",
        "angles += angles[:1]\n",
        "\n",
        "fig, ax = plt.subplots(nrows=1, ncols=1, figsize=(3, 3),\n",
        "                       subplot_kw=dict(polar=True))\n",
        "\n",
        "plt.xticks(angles[:-1], categories, color='grey', size=12)\n",
        "plt.yticks(np.arange(1, 4), ['1', '2', '3', '4'],\n",
        "           color='grey', size=10)\n",
        "plt.ylim(0, 4)\n",
        "ax.set_rlabel_position(15)\n",
        "\n",
        "ax.plot(angles, values_romance, linewidth=1,\n",
        "        linestyle='solid', label='Chritsmas')\n",
        "ax.fill(angles, values_romance, 'black', alpha=0.2)\n",
        " \n",
        "plt.legend(loc='upper right', bbox_to_anchor=(0.1, 0.1))\n",
        "plt.show()"
      ],
      "execution_count": null,
      "outputs": []
    }
  ]
}
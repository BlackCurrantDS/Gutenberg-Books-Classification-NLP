{
  "nbformat": 4,
  "nbformat_minor": 0,
  "metadata": {
    "colab": {
      "name": "LDA1.ipynb",
      "provenance": [],
      "collapsed_sections": [],
      "authorship_tag": "ABX9TyMARB9SY1cr39gqyaKO906Y",
      "include_colab_link": true
    },
    "kernelspec": {
      "name": "python3",
      "display_name": "Python 3"
    }
  },
  "cells": [
    {
      "cell_type": "markdown",
      "metadata": {
        "id": "view-in-github",
        "colab_type": "text"
      },
      "source": [
        "<a href=\"https://colab.research.google.com/github/BlackCurrantDS/ATiML-Project/blob/master/LDA_wihtoutname_and_noise.ipynb\" target=\"_parent\"><img src=\"https://colab.research.google.com/assets/colab-badge.svg\" alt=\"Open In Colab\"/></a>"
      ]
    },
    {
      "cell_type": "code",
      "metadata": {
        "id": "dprEdv1hZL67",
        "colab_type": "code",
        "colab": {}
      },
      "source": [
        "pip install pyLDAvis"
      ],
      "execution_count": 0,
      "outputs": []
    },
    {
      "cell_type": "code",
      "metadata": {
        "id": "9suOlF2E3-3k",
        "colab_type": "code",
        "colab": {}
      },
      "source": [
        "!unzip mallet-2.0.8.zip -d mallet"
      ],
      "execution_count": 0,
      "outputs": []
    },
    {
      "cell_type": "code",
      "metadata": {
        "id": "IVzMOjN_GWfk",
        "colab_type": "code",
        "colab": {}
      },
      "source": [
        "import nltk; nltk.download('stopwords')\n",
        "import pandas as pd\n",
        "import numpy as np\n",
        "import re\n",
        "import spacy\n",
        "import en_core_web_sm\n",
        "# Gensim\n",
        "import gensim\n",
        "import gensim.corpora as corpora\n",
        "from gensim.utils import simple_preprocess\n",
        "from gensim.models import CoherenceModel\n",
        "import pyLDAvis\n",
        "import pyLDAvis.gensim  # don't skip this\n",
        "import matplotlib.pyplot as plt\n",
        "# NLTK Stop words\n",
        "from nltk.corpus import stopwords\n",
        "stop_words = stopwords.words('english')"
      ],
      "execution_count": 0,
      "outputs": []
    },
    {
      "cell_type": "code",
      "metadata": {
        "id": "R-YmUg2SILwg",
        "colab_type": "code",
        "outputId": "44dd6d3d-2ca9-49d6-be31-f1cd9a163993",
        "colab": {
          "base_uri": "https://localhost:8080/",
          "height": 255
        }
      },
      "source": [
        "# Import Dataset\n",
        "books = pd.read_csv(\"cleaned_books_WithoutNames.csv\")\n",
        "print(books.genre.unique())\n",
        "books.head()"
      ],
      "execution_count": 58,
      "outputs": [
        {
          "output_type": "stream",
          "text": [
            "['Sea and Adventure' 'Western Stories' 'Love and Romance'\n",
            " 'Ghost and Horror' 'Humorous and Wit and Satire' 'Literary'\n",
            " 'Detective and Mystery' 'Christmas Stories']\n"
          ],
          "name": "stdout"
        },
        {
          "output_type": "execute_result",
          "data": {
            "text/html": [
              "<div>\n",
              "<style scoped>\n",
              "    .dataframe tbody tr th:only-of-type {\n",
              "        vertical-align: middle;\n",
              "    }\n",
              "\n",
              "    .dataframe tbody tr th {\n",
              "        vertical-align: top;\n",
              "    }\n",
              "\n",
              "    .dataframe thead th {\n",
              "        text-align: right;\n",
              "    }\n",
              "</style>\n",
              "<table border=\"1\" class=\"dataframe\">\n",
              "  <thead>\n",
              "    <tr style=\"text-align: right;\">\n",
              "      <th></th>\n",
              "      <th>Unnamed: 0</th>\n",
              "      <th>id</th>\n",
              "      <th>genre</th>\n",
              "      <th>data</th>\n",
              "    </tr>\n",
              "  </thead>\n",
              "  <tbody>\n",
              "    <tr>\n",
              "      <th>0</th>\n",
              "      <td>0</td>\n",
              "      <td>0</td>\n",
              "      <td>Sea and Adventure</td>\n",
              "      <td>dedicated brother melville ago published narra...</td>\n",
              "    </tr>\n",
              "    <tr>\n",
              "      <th>1</th>\n",
              "      <td>1</td>\n",
              "      <td>1</td>\n",
              "      <td>Sea and Adventure</td>\n",
              "      <td>voyaging straight maramma lived reigned myster...</td>\n",
              "    </tr>\n",
              "    <tr>\n",
              "      <th>2</th>\n",
              "      <td>2</td>\n",
              "      <td>2</td>\n",
              "      <td>Sea and Adventure</td>\n",
              "      <td>slender girl tan coat white tamoshanter fronti...</td>\n",
              "    </tr>\n",
              "    <tr>\n",
              "      <th>3</th>\n",
              "      <td>3</td>\n",
              "      <td>3</td>\n",
              "      <td>Sea and Adventure</td>\n",
              "      <td>heart hill land glenavelin stretch west south ...</td>\n",
              "    </tr>\n",
              "    <tr>\n",
              "      <th>4</th>\n",
              "      <td>4</td>\n",
              "      <td>4</td>\n",
              "      <td>Sea and Adventure</td>\n",
              "      <td>yarn day clipper sailingship zenith renown rec...</td>\n",
              "    </tr>\n",
              "  </tbody>\n",
              "</table>\n",
              "</div>"
            ],
            "text/plain": [
              "   Unnamed: 0  ...                                               data\n",
              "0           0  ...  dedicated brother melville ago published narra...\n",
              "1           1  ...  voyaging straight maramma lived reigned myster...\n",
              "2           2  ...  slender girl tan coat white tamoshanter fronti...\n",
              "3           3  ...  heart hill land glenavelin stretch west south ...\n",
              "4           4  ...  yarn day clipper sailingship zenith renown rec...\n",
              "\n",
              "[5 rows x 4 columns]"
            ]
          },
          "metadata": {
            "tags": []
          },
          "execution_count": 58
        }
      ]
    },
    {
      "cell_type": "code",
      "metadata": {
        "id": "YuYSLzIXahPt",
        "colab_type": "code",
        "colab": {}
      },
      "source": [
        "import nltk\n",
        "nltk.download('stopwords')\n",
        "import nltk\n",
        "nltk.download('punkt')\n",
        "import nltk\n",
        "nltk.download('averaged_perceptron_tagger')\n",
        "import nltk\n",
        "nltk.download('wordnet')"
      ],
      "execution_count": 0,
      "outputs": []
    },
    {
      "cell_type": "code",
      "metadata": {
        "id": "SkjK8aPvaAbf",
        "colab_type": "code",
        "colab": {}
      },
      "source": [
        "#last 5\n",
        "#books['data'] = books['data'].apply(lambda x: str(x)[-100:])\n",
        "#first 5\n",
        "books['data'] = books['data'].apply(lambda x: str(x)[:50])\n",
        "# random 2/3\n",
        "#books['NData'] = books['NData'].apply(lambda x: x[3000:int(len(x)*1/3)])\n"
      ],
      "execution_count": 0,
      "outputs": []
    },
    {
      "cell_type": "code",
      "metadata": {
        "id": "3WeKAnRKIp3f",
        "colab_type": "code",
        "colab": {}
      },
      "source": [
        "# Convert to list\n",
        "data = books.data.values.tolist()\n",
        "# Remove new line characters\n",
        "data = [re.sub('\\s+', ' ', sent) for sent in data]\n",
        "\n",
        "# Remove distracting single quotes\n",
        "data = [re.sub(\"\\'\", \"\", sent) for sent in data]\n",
        "\n",
        "#print(data[:1])"
      ],
      "execution_count": 0,
      "outputs": []
    },
    {
      "cell_type": "code",
      "metadata": {
        "id": "h8-vevWGwMNe",
        "colab_type": "code",
        "colab": {}
      },
      "source": [
        "\"\"\"\n",
        "from nltk.tokenize import RegexpTokenizer\n",
        "# Split the documents into tokens.\n",
        "tokenizer = RegexpTokenizer(r'\\w+')\n",
        "for idx in range(len(data)):\n",
        "    data[idx] = data[idx].lower()  # Convert to lowercase.\n",
        "    data[idx] = tokenizer.tokenize(data[idx])  # Split into words.\n",
        "\n",
        "# Remove numbers, but not words that contain numbers.\n",
        "data = [[token for token in doc if not token.isnumeric()] for doc in data]\n",
        "\n",
        "# Remove words that are only one character.\n",
        "data = [[token for token in doc if len(token) > 1] for doc in data]\n",
        "\n",
        "\"\"\""
      ],
      "execution_count": 0,
      "outputs": []
    },
    {
      "cell_type": "code",
      "metadata": {
        "id": "sZncsJqtwej3",
        "colab_type": "code",
        "colab": {}
      },
      "source": [
        "\"\"\"\n",
        "# Lemmatize the documents.\n",
        "from nltk.stem.wordnet import WordNetLemmatizer\n",
        "\n",
        "lemmatizer = WordNetLemmatizer()\n",
        "data = [[lemmatizer.lemmatize(token) for token in doc] for doc in data]\n",
        "\"\"\""
      ],
      "execution_count": 0,
      "outputs": []
    },
    {
      "cell_type": "code",
      "metadata": {
        "id": "gdIr1C4FwoFE",
        "colab_type": "code",
        "outputId": "afdf4586-8628-4f76-bcec-07a3d33ccbf6",
        "colab": {
          "base_uri": "https://localhost:8080/",
          "height": 71
        }
      },
      "source": [
        "\"\"\"\n",
        "# Compute bigrams.\n",
        "from gensim.models import Phrases\n",
        "\n",
        "# Add bigrams and trigrams to docs (only ones that appear 20 times or more).\n",
        "bigram = Phrases(data, min_count=20)\n",
        "for idx in range(len(data)):\n",
        "    for token in bigram[data[idx]]:\n",
        "        if '_' in token:\n",
        "            # Token is a bigram, add to document.\n",
        "            data[idx].append(token)\n",
        "\"\"\""
      ],
      "execution_count": 0,
      "outputs": [
        {
          "output_type": "stream",
          "text": [
            "/usr/local/lib/python3.6/dist-packages/gensim/models/phrases.py:598: UserWarning: For a faster implementation, use the gensim.models.phrases.Phraser class\n",
            "  warnings.warn(\"For a faster implementation, use the gensim.models.phrases.Phraser class\")\n"
          ],
          "name": "stderr"
        }
      ]
    },
    {
      "cell_type": "code",
      "metadata": {
        "id": "ZXH4R21Hw1Mw",
        "colab_type": "code",
        "colab": {}
      },
      "source": [
        "\"\"\"\n",
        "# Remove rare and common tokens.\n",
        "from gensim.corpora import Dictionary\n",
        "\n",
        "# Create a dictionary representation of the documents.\n",
        "dictionary = Dictionary(data)\n",
        "\n",
        "# Filter out words that occur less than 20 documents, or more than 50% of the documents.\n",
        "dictionary.filter_extremes(no_below=20, no_above=0.5)\n",
        "\"\"\""
      ],
      "execution_count": 0,
      "outputs": []
    },
    {
      "cell_type": "code",
      "metadata": {
        "id": "Oo_nz7Wlw7WU",
        "colab_type": "code",
        "colab": {}
      },
      "source": [
        "\"\"\"\n",
        "# Bag-of-words representation of the documents.\n",
        "corpus = [dictionary.doc2bow(doc) for doc in data]\n",
        "\"\"\""
      ],
      "execution_count": 0,
      "outputs": []
    },
    {
      "cell_type": "code",
      "metadata": {
        "id": "xnHGrHrjxA-O",
        "colab_type": "code",
        "outputId": "c0bfbec0-b45d-439e-ffad-d90827079574",
        "colab": {
          "base_uri": "https://localhost:8080/",
          "height": 51
        }
      },
      "source": [
        "\"\"\"\n",
        "print('Number of unique tokens: %d' % len(dictionary))\n",
        "print('Number of documents: %d' % len(corpus))\n",
        "\"\"\""
      ],
      "execution_count": 0,
      "outputs": [
        {
          "output_type": "stream",
          "text": [
            "Number of unique tokens: 236\n",
            "Number of documents: 40\n"
          ],
          "name": "stdout"
        }
      ]
    },
    {
      "cell_type": "code",
      "metadata": {
        "id": "rRC1s0q2IvtU",
        "colab_type": "code",
        "colab": {}
      },
      "source": [
        "def sent_to_words(sentences):\n",
        "    for sentence in sentences:\n",
        "        yield(gensim.utils.simple_preprocess(str(sentence), deacc=True))  # deacc=True removes punctuations\n",
        "\n",
        "data_words = list(sent_to_words(data))\n",
        "\n",
        "#print(data_words[:1])"
      ],
      "execution_count": 0,
      "outputs": []
    },
    {
      "cell_type": "code",
      "metadata": {
        "id": "WdtCZBC6I0od",
        "colab_type": "code",
        "outputId": "5ea555eb-f8a1-4c0c-d881-2e05cf3dc6ec",
        "colab": {
          "base_uri": "https://localhost:8080/",
          "height": 71
        }
      },
      "source": [
        "# Build the bigram and trigram models\n",
        "bigram = gensim.models.Phrases(data_words, min_count=5, threshold=100) # higher threshold fewer phrases.\n",
        "trigram = gensim.models.Phrases(bigram[data_words], threshold=100)  \n",
        "\n",
        "# Faster way to get a sentence clubbed as a trigram/bigram\n",
        "bigram_mod = gensim.models.phrases.Phraser(bigram)\n",
        "trigram_mod = gensim.models.phrases.Phraser(trigram)\n",
        "\n",
        "# See trigram example\n",
        "#print(trigram_mod[bigram_mod[data_words[0]]])"
      ],
      "execution_count": 62,
      "outputs": [
        {
          "output_type": "stream",
          "text": [
            "/usr/local/lib/python3.6/dist-packages/gensim/models/phrases.py:598: UserWarning: For a faster implementation, use the gensim.models.phrases.Phraser class\n",
            "  warnings.warn(\"For a faster implementation, use the gensim.models.phrases.Phraser class\")\n"
          ],
          "name": "stderr"
        }
      ]
    },
    {
      "cell_type": "code",
      "metadata": {
        "id": "nP9UIvNjI78I",
        "colab_type": "code",
        "colab": {}
      },
      "source": [
        "# Define functions for stopwords, bigrams, trigrams and lemmatization\n",
        "def remove_stopwords(texts):\n",
        "    return [[word for word in simple_preprocess(str(doc)) if word not in stop_words] for doc in texts]\n",
        "\n",
        "def make_bigrams(texts):\n",
        "    return [bigram_mod[doc] for doc in texts]\n",
        "\n",
        "def make_trigrams(texts):\n",
        "    return [trigram_mod[bigram_mod[doc]] for doc in texts]\n",
        "\n",
        "def lemmatization(texts, allowed_postags=['VERB', 'NOUN', 'NP', 'ADJ']):\n",
        "    \"\"\"https://spacy.io/api/annotation\"\"\"\n",
        "    texts_out = []\n",
        "    for sent in texts:\n",
        "        doc = nlp(\" \".join(sent)) \n",
        "        texts_out.append([token.lemma_ for token in doc if token.pos_ in allowed_postags])\n",
        "    return texts_out"
      ],
      "execution_count": 0,
      "outputs": []
    },
    {
      "cell_type": "code",
      "metadata": {
        "id": "gSNfxo4UJBTf",
        "colab_type": "code",
        "colab": {}
      },
      "source": [
        "# Remove Stop Words\n",
        "data_words_nostops = remove_stopwords(data_words)\n",
        "\n",
        "# Form Bigrams\n",
        "data_words_bigrams = make_bigrams(data_words_nostops)\n",
        "\n",
        "# Initialize spacy 'en' model, keeping only tagger component (for efficiency)\n",
        "# python3 -m spacy download en\n",
        "nlp = spacy.load('en_core_web_sm')\n",
        "\n",
        "# Do lemmatization keeping only noun, adj, vb, adv\n",
        "data_lemmatized = lemmatization(data_words_bigrams, allowed_postags=['VERB', 'ADJ'])\n",
        "\n",
        "#print(data_lemmatized[:1])"
      ],
      "execution_count": 0,
      "outputs": []
    },
    {
      "cell_type": "code",
      "metadata": {
        "id": "rZMqJcDjxeSI",
        "colab_type": "code",
        "colab": {}
      },
      "source": [
        "\"\"\"\n",
        "# Make a index to word dictionary.\n",
        "temp = dictionary[0]  # This is only to \"load\" the dictionary.\n",
        "id2word = dictionary.id2token\n",
        "\"\"\""
      ],
      "execution_count": 0,
      "outputs": []
    },
    {
      "cell_type": "code",
      "metadata": {
        "id": "7viBaiGCJNZg",
        "colab_type": "code",
        "colab": {}
      },
      "source": [
        "# Create Dictionary\n",
        "id2word = corpora.Dictionary(data_lemmatized)\n",
        "\n",
        "# Create Corpus\n",
        "texts = data_lemmatized\n",
        "\n",
        "# Term Document Frequency\n",
        "corpus = [id2word.doc2bow(text) for text in texts]"
      ],
      "execution_count": 0,
      "outputs": []
    },
    {
      "cell_type": "code",
      "metadata": {
        "id": "gPG82yf3JRQj",
        "colab_type": "code",
        "colab": {}
      },
      "source": [
        "# Build LDA model\n",
        "lda_model = gensim.models.ldamodel.LdaModel(corpus=corpus,\n",
        "                                           id2word=id2word,\n",
        "                                           num_topics=8, \n",
        "                                           random_state=100,\n",
        "                                            alpha='auto',\n",
        "                                            eta='auto',\n",
        "                                           per_word_topics=False)"
      ],
      "execution_count": 0,
      "outputs": []
    },
    {
      "cell_type": "code",
      "metadata": {
        "id": "s8cIoL6wJUHs",
        "colab_type": "code",
        "outputId": "2d65d808-a9be-47d3-d505-c247d6af1517",
        "colab": {
          "base_uri": "https://localhost:8080/",
          "height": 54
        }
      },
      "source": [
        "# Print the Keyword in the 8 topics\n",
        "print(lda_model.print_topics(8))\n",
        "doc_lda = lda_model[corpus]"
      ],
      "execution_count": 71,
      "outputs": [
        {
          "output_type": "stream",
          "text": [
            "[(0, '0.059*\"live\" + 0.059*\"voyage\" + 0.059*\"reigned\" + 0.059*\"straight\" + 0.059*\"solitary\" + 0.059*\"moisten\" + 0.059*\"immaculate\" + 0.059*\"select\" + 0.059*\"revise\" + 0.059*\"arrive\"'), (1, '0.075*\"combine\" + 0.075*\"bracken\" + 0.075*\"dream\" + 0.075*\"idealist\" + 0.075*\"mix\" + 0.075*\"vast\" + 0.044*\"gorgeous\" + 0.010*\"poor\" + 0.010*\"fashionable\" + 0.009*\"idle\"'), (2, '0.055*\"carry\" + 0.055*\"enjoy\" + 0.055*\"spend\" + 0.055*\"walk\" + 0.055*\"scurry\" + 0.055*\"think\" + 0.055*\"decent\" + 0.055*\"hear\" + 0.055*\"realise\" + 0.055*\"frozen\"'), (3, '0.086*\"stay\" + 0.086*\"cleanshaven\" + 0.086*\"proclaim\" + 0.054*\"poor\" + 0.051*\"speak\" + 0.048*\"idle\" + 0.011*\"fashionable\" + 0.011*\"gorgeous\" + 0.010*\"publish\" + 0.010*\"prepare\"'), (4, '0.109*\"prepare\" + 0.059*\"fashionable\" + 0.058*\"interested\" + 0.058*\"pretty\" + 0.058*\"unanimou\" + 0.058*\"dismay\" + 0.058*\"philosopher\" + 0.058*\"rock\" + 0.058*\"oldfashioned\" + 0.058*\"rider\"'), (5, '0.069*\"fashionable\" + 0.068*\"beg\" + 0.068*\"acknowl\" + 0.068*\"answer\" + 0.068*\"dodging\" + 0.068*\"stand\" + 0.068*\"ultraexclusive\" + 0.068*\"ask\" + 0.009*\"poor\" + 0.009*\"gorgeous\"'), (6, '0.071*\"amuse\" + 0.071*\"obstruct\" + 0.071*\"motive\" + 0.071*\"current\" + 0.071*\"understand\" + 0.071*\"whisper\" + 0.041*\"idle\" + 0.038*\"speak\" + 0.038*\"poor\" + 0.009*\"fashionable\"'), (7, '0.122*\"publish\" + 0.066*\"poor\" + 0.064*\"chinese\" + 0.064*\"dedicated\" + 0.064*\"japanese\" + 0.064*\"high\" + 0.064*\"shine\" + 0.064*\"strike\" + 0.008*\"fashionable\" + 0.008*\"gorgeous\"')]\n"
          ],
          "name": "stdout"
        }
      ]
    },
    {
      "cell_type": "code",
      "metadata": {
        "id": "q5uxy-bCJYb4",
        "colab_type": "code",
        "colab": {}
      },
      "source": [
        "# Compute Perplexity\n",
        "print('\\nPerplexity: ', lda_model.log_perplexity(corpus))  # a measure of how good the model is. lower the better.\n",
        "\n",
        "# Compute Coherence Score\n",
        "coherence_model_lda = CoherenceModel(model=lda_model, texts=data_lemmatized, dictionary=id2word, coherence='c_v')\n",
        "coherence_lda = coherence_model_lda.get_coherence()\n",
        "print('\\nCoherence Score: ', coherence_lda)"
      ],
      "execution_count": 0,
      "outputs": []
    },
    {
      "cell_type": "code",
      "metadata": {
        "id": "4A1tWC5LJfxG",
        "colab_type": "code",
        "outputId": "adbab065-f0a8-4081-d433-aa0dcc4ede36",
        "colab": {
          "base_uri": "https://localhost:8080/",
          "height": 881
        }
      },
      "source": [
        "# Visualize the topics\n",
        "pyLDAvis.enable_notebook()\n",
        "vis = pyLDAvis.gensim.prepare(lda_model, corpus, id2word)\n",
        "vis\n"
      ],
      "execution_count": 73,
      "outputs": [
        {
          "output_type": "execute_result",
          "data": {
            "text/html": [
              "\n",
              "<link rel=\"stylesheet\" type=\"text/css\" href=\"https://cdn.rawgit.com/bmabey/pyLDAvis/files/ldavis.v1.0.0.css\">\n",
              "\n",
              "\n",
              "<div id=\"ldavis_el1251400047536751527042405091\"></div>\n",
              "<script type=\"text/javascript\">\n",
              "\n",
              "var ldavis_el1251400047536751527042405091_data = {\"mdsDat\": {\"x\": [0.10924569842916754, -0.13969480138918497, 0.02128666606573636, -0.055403373684725435, 0.02786213148860764, 0.009074038558357651, 0.011580090692243385, 0.016049549839797835], \"y\": [0.12754727327020654, 0.05873951028521035, -0.08884060255443996, 0.02386157106978043, -0.06308950274192596, -0.016142249494977973, -0.014393088680578111, -0.027682911153275386], \"topics\": [1, 2, 3, 4, 5, 6, 7, 8], \"cluster\": [1, 1, 1, 1, 1, 1, 1, 1], \"Freq\": [16.56989288330078, 15.073492050170898, 13.969771385192871, 12.882012367248535, 12.39199161529541, 9.9212646484375, 9.596234321594238, 9.595344543457031]}, \"tinfo\": {\"Term\": [\"publish\", \"prepare\", \"stay\", \"cleanshaven\", \"proclaim\", \"poor\", \"combine\", \"bracken\", \"dream\", \"idealist\", \"mix\", \"vast\", \"fashionable\", \"amuse\", \"obstruct\", \"motive\", \"current\", \"understand\", \"whisper\", \"beg\", \"acknowl\", \"answer\", \"dodging\", \"stand\", \"ultraexclusive\", \"ask\", \"speak\", \"dedicated\", \"chinese\", \"japanese\", \"carry\", \"enjoy\", \"spend\", \"walk\", \"scurry\", \"think\", \"decent\", \"hear\", \"realise\", \"frozen\", \"trim\", \"remote\", \"understand\", \"whisper\", \"current\", \"amuse\", \"obstruct\", \"motive\", \"idle\", \"speak\", \"gorgeous\", \"vast\", \"mix\", \"idealist\", \"dream\", \"bracken\", \"combine\", \"strike\", \"chinese\", \"shine\", \"poor\", \"fashionable\", \"proclaim\", \"revise\", \"publish\", \"rider\", \"prepare\", \"arrive\", \"select\", \"rock\", \"prepare\", \"interested\", \"pretty\", \"unanimou\", \"dismay\", \"philosopher\", \"rock\", \"oldfashioned\", \"rider\", \"fashionable\", \"whisper\", \"current\", \"motive\", \"obstruct\", \"understand\", \"amuse\", \"idle\", \"speak\", \"gorgeous\", \"mix\", \"vast\", \"idealist\", \"combine\", \"dream\", \"bracken\", \"strike\", \"high\", \"shine\", \"chinese\", \"dedicated\", \"poor\", \"proclaim\", \"arrive\", \"revise\", \"publish\", \"remote\", \"trim\", \"select\", \"immaculate\", \"live\", \"voyage\", \"reigned\", \"straight\", \"solitary\", \"moisten\", \"immaculate\", \"select\", \"revise\", \"arrive\", \"gorgeous\", \"whisper\", \"motive\", \"understand\", \"obstruct\", \"current\", \"amuse\", \"idle\", \"speak\", \"vast\", \"mix\", \"idealist\", \"dream\", \"bracken\", \"combine\", \"strike\", \"shine\", \"japanese\", \"chinese\", \"high\", \"poor\", \"fashionable\", \"proclaim\", \"rider\", \"publish\", \"prepare\", \"remote\", \"trim\", \"oldfashioned\", \"cleanshaven\", \"beg\", \"acknowl\", \"answer\", \"dodging\", \"stand\", \"ultraexclusive\", \"ask\", \"fashionable\", \"whisper\", \"current\", \"understand\", \"motive\", \"obstruct\", \"amuse\", \"idle\", \"speak\", \"gorgeous\", \"mix\", \"vast\", \"idealist\", \"bracken\", \"dream\", \"combine\", \"strike\", \"high\", \"dedicated\", \"japanese\", \"chinese\", \"shine\", \"proclaim\", \"poor\", \"arrive\", \"revise\", \"rider\", \"publish\", \"prepare\", \"remote\", \"trim\", \"select\", \"oldfashioned\", \"publish\", \"dedicated\", \"chinese\", \"japanese\", \"high\", \"shine\", \"strike\", \"poor\", \"current\", \"whisper\", \"motive\", \"understand\", \"amuse\", \"obstruct\", \"idle\", \"speak\", \"gorgeous\", \"vast\", \"mix\", \"dream\", \"idealist\", \"combine\", \"bracken\", \"proclaim\", \"arrive\", \"cleanshaven\", \"stay\", \"revise\", \"select\", \"moisten\", \"fashionable\", \"rider\", \"remote\", \"prepare\", \"trim\", \"oldfashioned\", \"rock\", \"combine\", \"bracken\", \"dream\", \"idealist\", \"mix\", \"vast\", \"gorgeous\", \"whisper\", \"understand\", \"motive\", \"current\", \"obstruct\", \"amuse\", \"idle\", \"speak\", \"strike\", \"dedicated\", \"japanese\", \"shine\", \"high\", \"chinese\", \"proclaim\", \"arrive\", \"cleanshaven\", \"stay\", \"revise\", \"select\", \"moisten\", \"immaculate\", \"solitary\", \"poor\", \"fashionable\", \"rider\", \"remote\", \"publish\", \"prepare\", \"trim\", \"oldfashioned\", \"rock\", \"stay\", \"cleanshaven\", \"proclaim\", \"speak\", \"idle\", \"poor\", \"whisper\", \"understand\", \"motive\", \"current\", \"obstruct\", \"amuse\", \"gorgeous\", \"mix\", \"vast\", \"idealist\", \"dream\", \"bracken\", \"combine\", \"strike\", \"shine\", \"dedicated\", \"chinese\", \"high\", \"japanese\", \"arrive\", \"revise\", \"select\", \"immaculate\", \"moisten\", \"fashionable\", \"rider\", \"publish\", \"remote\", \"prepare\", \"trim\", \"oldfashioned\", \"philosopher\", \"amuse\", \"obstruct\", \"motive\", \"current\", \"understand\", \"whisper\", \"idle\", \"speak\", \"poor\", \"gorgeous\", \"vast\", \"mix\", \"idealist\", \"combine\", \"dream\", \"bracken\", \"strike\", \"shine\", \"japanese\", \"high\", \"dedicated\", \"chinese\", \"proclaim\", \"arrive\", \"revise\", \"cleanshaven\", \"stay\", \"select\", \"moisten\", \"immaculate\", \"fashionable\", \"rider\", \"remote\", \"publish\", \"prepare\", \"trim\", \"oldfashioned\", \"rock\", \"philosopher\"], \"Freq\": [1.0, 1.0, 1.0, 1.0, 1.0, 1.0, 0.0, 0.0, 0.0, 0.0, 0.0, 0.0, 1.0, 0.0, 0.0, 0.0, 0.0, 0.0, 0.0, 1.0, 1.0, 1.0, 1.0, 1.0, 1.0, 1.0, 1.0, 1.0, 1.0, 1.0, 0.6294756531715393, 0.6294382214546204, 0.6294153928756714, 0.6294135451316833, 0.6293948888778687, 0.6293812990188599, 0.6293666362762451, 0.6293467283248901, 0.6292914152145386, 0.6292793154716492, 0.628879189491272, 0.6286787986755371, 0.07243148237466812, 0.07242017984390259, 0.07239878177642822, 0.07238125801086426, 0.07238397747278214, 0.07238882780075073, 0.07865095138549805, 0.07858303934335709, 0.07895097136497498, 0.07253669202327728, 0.07250610738992691, 0.07243970036506653, 0.07239633053541183, 0.07239074259996414, 0.07237435132265091, 0.07261117547750473, 0.07242359966039658, 0.07241766899824142, 0.0872410386800766, 0.08091563731431961, 0.07260347902774811, 0.07256006449460983, 0.07344525307416916, 0.07261767983436584, 0.07338143140077591, 0.07254396378993988, 0.07245814055204391, 0.07242497056722641, 1.1355129480361938, 0.601905882358551, 0.601897656917572, 0.6018908023834229, 0.6018850207328796, 0.601734459400177, 0.6017013192176819, 0.6015980839729309, 0.600966215133667, 0.6100833415985107, 0.06929715722799301, 0.0692555233836174, 0.0692378357052803, 0.06922326236963272, 0.0692325308918953, 0.06918647885322571, 0.0752078965306282, 0.07515991479158401, 0.0755688026547432, 0.0693584531545639, 0.06935980170965195, 0.06926307827234268, 0.06921882182359695, 0.06922085583209991, 0.06920067220926285, 0.0694294273853302, 0.0692562684416771, 0.06924834102392197, 0.06924259662628174, 0.06923918426036835, 0.08343659341335297, 0.069420725107193, 0.06943034380674362, 0.06938955932855606, 0.07023528963327408, 0.06938604265451431, 0.06935358047485352, 0.06927863508462906, 0.0692732185125351, 0.5731745958328247, 0.573174238204956, 0.5731688141822815, 0.5731683969497681, 0.5730400681495667, 0.5729682445526123, 0.5729637742042542, 0.5727928280830383, 0.5725599527359009, 0.5724549293518066, 0.315176397562027, 0.06595358997583389, 0.065934918820858, 0.06593786925077438, 0.06591939181089401, 0.06592190265655518, 0.06590130180120468, 0.07160107791423798, 0.07157491892576218, 0.06606101244688034, 0.06603045016527176, 0.0659438967704773, 0.06591590493917465, 0.0659102201461792, 0.06590384244918823, 0.06609519571065903, 0.06594181060791016, 0.06592763960361481, 0.06592169404029846, 0.0659186989068985, 0.07941319048404694, 0.07368302345275879, 0.06610940396785736, 0.0661395713686943, 0.0669134110212326, 0.06684770435094833, 0.06606420129537582, 0.06598774343729019, 0.06596797704696655, 0.0659392923116684, 0.6076715588569641, 0.6076697111129761, 0.6076540946960449, 0.6076434850692749, 0.6076251864433289, 0.6076207160949707, 0.6076157093048096, 0.6159794926643372, 0.0699399933218956, 0.06990084797143936, 0.06989605724811554, 0.0698779821395874, 0.06986316293478012, 0.06985622644424438, 0.07590961456298828, 0.07587956637144089, 0.0762367770075798, 0.07003927230834961, 0.07002653181552887, 0.06991797685623169, 0.0698888972401619, 0.06988325715065002, 0.06986908614635468, 0.07009200006723404, 0.0699150562286377, 0.06989984959363937, 0.06990028917789459, 0.06989249587059021, 0.06988748908042908, 0.07010931521654129, 0.08422407507896423, 0.07003193348646164, 0.07001417130231857, 0.07011687010526657, 0.07091601192951202, 0.07084845006465912, 0.07005159556865692, 0.07000188529491425, 0.06995675712823868, 0.0699581727385521, 1.0399491786956787, 0.5511935353279114, 0.551195502281189, 0.5511865615844727, 0.5511789917945862, 0.5511616468429565, 0.5505722165107727, 0.5641030073165894, 0.06343652307987213, 0.06344512104988098, 0.06342669576406479, 0.06342630833387375, 0.06339769810438156, 0.06339946389198303, 0.06887845695018768, 0.06885793805122375, 0.06915077567100525, 0.06355661153793335, 0.06353306770324707, 0.0634288564324379, 0.06343399733304977, 0.06341098994016647, 0.06340570002794266, 0.0635969266295433, 0.06356657296419144, 0.06343099474906921, 0.06341822445392609, 0.063533715903759, 0.063458152115345, 0.06344042718410492, 0.07087452709674835, 0.0636613741517067, 0.06354916840791702, 0.06429042667150497, 0.06350904703140259, 0.06345213204622269, 0.0634392648935318, 0.5141609311103821, 0.5141538977622986, 0.5141304731369019, 0.5140377879142761, 0.5137583613395691, 0.5137200951576233, 0.29994648694992065, 0.059184927493333817, 0.05916455015540123, 0.05915253981947899, 0.05914463847875595, 0.059134360402822495, 0.05911890044808388, 0.06424169987440109, 0.0642162412405014, 0.05933641642332077, 0.05916627123951912, 0.05916247144341469, 0.0591595396399498, 0.05915747955441475, 0.059142325073480606, 0.059291016310453415, 0.059314750134944916, 0.05917239934206009, 0.05914720147848129, 0.05925768241286278, 0.059212300926446915, 0.059151384979486465, 0.05914562568068504, 0.0591328889131546, 0.07128718495368958, 0.06609731912612915, 0.05937612056732178, 0.05928056687116623, 0.060003288090229034, 0.059961624443531036, 0.059231389313936234, 0.0592072531580925, 0.05917384475469589, 0.5712385177612305, 0.5711870193481445, 0.57063227891922, 0.33924180269241333, 0.3190203905105591, 0.35680657625198364, 0.06578422337770462, 0.06576478481292725, 0.06571171432733536, 0.06571070849895477, 0.06570254266262054, 0.0656961128115654, 0.07167065143585205, 0.06584468483924866, 0.06583147495985031, 0.06573803722858429, 0.0657118558883667, 0.0657094195485115, 0.06570734083652496, 0.06594321131706238, 0.06574380397796631, 0.06573139876127243, 0.06573039293289185, 0.06572917848825455, 0.06570985168218613, 0.0659012719988823, 0.06583135575056076, 0.06579641997814178, 0.06574524194002151, 0.06572066992521286, 0.07343635708093643, 0.06594523787498474, 0.06672001630067825, 0.06587767601013184, 0.06663507968187332, 0.06582099199295044, 0.06574918329715729, 0.06571956723928452, 0.4687685966491699, 0.4687347710132599, 0.4686938226222992, 0.46868041157722473, 0.46864742040634155, 0.4685814678668976, 0.2701730728149414, 0.25363248586654663, 0.2520672678947449, 0.05883914977312088, 0.054056040942668915, 0.05403069779276848, 0.05395282432436943, 0.0539138987660408, 0.053915128111839294, 0.05391174927353859, 0.05410609766840935, 0.05394182726740837, 0.0539361946284771, 0.053929634392261505, 0.05392361804842949, 0.05392039194703102, 0.0540352538228035, 0.05404636636376381, 0.054035838693380356, 0.053923968225717545, 0.053914234042167664, 0.05397482216358185, 0.053942516446113586, 0.05392807722091675, 0.06028538942337036, 0.054100003093481064, 0.05404872074723244, 0.05471700057387352, 0.05467071384191513, 0.053985197097063065, 0.05396343767642975, 0.05393730103969574, 0.053935036063194275], \"Total\": [1.0, 1.0, 1.0, 1.0, 1.0, 1.0, 0.0, 0.0, 0.0, 0.0, 0.0, 0.0, 1.0, 0.0, 0.0, 0.0, 0.0, 0.0, 0.0, 1.0, 1.0, 1.0, 1.0, 1.0, 1.0, 1.0, 1.0, 1.0, 1.0, 1.0, 1.0762476921081543, 1.0762802362442017, 1.0762994289398193, 1.076302170753479, 1.0763169527053833, 1.0763298273086548, 1.0763441324234009, 1.076360821723938, 1.0764082670211792, 1.0764189958572388, 1.0767691135406494, 1.0769368410110474, 0.934501051902771, 0.934606671333313, 0.934449315071106, 0.9343066215515137, 0.9343609809875488, 0.9344243407249451, 1.0236831903457642, 1.0271458625793457, 1.0455399751663208, 0.9751482605934143, 0.9751010537147522, 0.9747272729873657, 0.9746026992797852, 0.9745712876319885, 0.9745592474937439, 1.0081857442855835, 1.0074690580368042, 1.0075020790100098, 1.5785789489746094, 1.651355266571045, 1.0257984399795532, 1.0271823406219482, 1.502899408340454, 1.0529230833053589, 1.5921484231948853, 1.0272901058197021, 1.026928186416626, 1.0522202253341675, 1.5921484231948853, 1.0520234107971191, 1.0520304441452026, 1.0520405769348145, 1.0520427227020264, 1.0521878004074097, 1.0522202253341675, 1.05231773853302, 1.0529230833053589, 1.651355266571045, 0.934606671333313, 0.934449315071106, 0.9344243407249451, 0.9343609809875488, 0.934501051902771, 0.9343066215515137, 1.0236831903457642, 1.0271458625793457, 1.0455399751663208, 0.9751010537147522, 0.9751482605934143, 0.9747272729873657, 0.9745592474937439, 0.9746026992797852, 0.9745712876319885, 1.0081857442855835, 1.0074845552444458, 1.0075020790100098, 1.0074690580368042, 1.0074653625488281, 1.5785789489746094, 1.0257984399795532, 1.0272901058197021, 1.0271823406219482, 1.502899408340454, 1.0769368410110474, 1.0767691135406494, 1.026928186416626, 1.026747465133667, 1.0265181064605713, 1.026519536972046, 1.0265233516693115, 1.0265246629714966, 1.0266636610031128, 1.0267366170883179, 1.026747465133667, 1.026928186416626, 1.0271823406219482, 1.0272901058197021, 1.0455399751663208, 0.934606671333313, 0.9344243407249451, 0.934501051902771, 0.9343609809875488, 0.934449315071106, 0.9343066215515137, 1.0236831903457642, 1.0271458625793457, 0.9751482605934143, 0.9751010537147522, 0.9747272729873657, 0.9746026992797852, 0.9745712876319885, 0.9745592474937439, 1.0081857442855835, 1.0075020790100098, 1.0074732303619385, 1.0074690580368042, 1.0074845552444458, 1.5785789489746094, 1.651355266571045, 1.0257984399795532, 1.0529230833053589, 1.502899408340454, 1.5921484231948853, 1.0769368410110474, 1.0767691135406494, 1.05231773853302, 1.0251843929290771, 1.0569974184036255, 1.0569971799850464, 1.0570145845413208, 1.057023048400879, 1.0570412874221802, 1.057043194770813, 1.0570491552352905, 1.651355266571045, 0.934606671333313, 0.934449315071106, 0.934501051902771, 0.9344243407249451, 0.9343609809875488, 0.9343066215515137, 1.0236831903457642, 1.0271458625793457, 1.0455399751663208, 0.9751010537147522, 0.9751482605934143, 0.9747272729873657, 0.9745712876319885, 0.9746026992797852, 0.9745592474937439, 1.0081857442855835, 1.0074845552444458, 1.0074653625488281, 1.0074732303619385, 1.0074690580368042, 1.0075020790100098, 1.0257984399795532, 1.5785789489746094, 1.0272901058197021, 1.0271823406219482, 1.0529230833053589, 1.502899408340454, 1.5921484231948853, 1.0769368410110474, 1.0767691135406494, 1.026928186416626, 1.05231773853302, 1.502899408340454, 1.0074653625488281, 1.0074690580368042, 1.0074732303619385, 1.0074845552444458, 1.0075020790100098, 1.0081857442855835, 1.5785789489746094, 0.934449315071106, 0.934606671333313, 0.9344243407249451, 0.934501051902771, 0.9343066215515137, 0.9343609809875488, 1.0236831903457642, 1.0271458625793457, 1.0455399751663208, 0.9751482605934143, 0.9751010537147522, 0.9746026992797852, 0.9747272729873657, 0.9745592474937439, 0.9745712876319885, 1.0257984399795532, 1.0272901058197021, 1.0251843929290771, 1.0251295566558838, 1.0271823406219482, 1.026928186416626, 1.0267366170883179, 1.651355266571045, 1.0529230833053589, 1.0769368410110474, 1.5921484231948853, 1.0767691135406494, 1.05231773853302, 1.0522202253341675, 0.9745592474937439, 0.9745712876319885, 0.9746026992797852, 0.9747272729873657, 0.9751010537147522, 0.9751482605934143, 1.0455399751663208, 0.934606671333313, 0.934501051902771, 0.9344243407249451, 0.934449315071106, 0.9343609809875488, 0.9343066215515137, 1.0236831903457642, 1.0271458625793457, 1.0081857442855835, 1.0074653625488281, 1.0074732303619385, 1.0075020790100098, 1.0074845552444458, 1.0074690580368042, 1.0257984399795532, 1.0272901058197021, 1.0251843929290771, 1.0251295566558838, 1.0271823406219482, 1.026928186416626, 1.0267366170883179, 1.026747465133667, 1.0266636610031128, 1.5785789489746094, 1.651355266571045, 1.0529230833053589, 1.0769368410110474, 1.502899408340454, 1.5921484231948853, 1.0767691135406494, 1.05231773853302, 1.0522202253341675, 1.0251295566558838, 1.0251843929290771, 1.0257984399795532, 1.0271458625793457, 1.0236831903457642, 1.5785789489746094, 0.934606671333313, 0.934501051902771, 0.9344243407249451, 0.934449315071106, 0.9343609809875488, 0.9343066215515137, 1.0455399751663208, 0.9751010537147522, 0.9751482605934143, 0.9747272729873657, 0.9746026992797852, 0.9745712876319885, 0.9745592474937439, 1.0081857442855835, 1.0075020790100098, 1.0074653625488281, 1.0074690580368042, 1.0074845552444458, 1.0074732303619385, 1.0272901058197021, 1.0271823406219482, 1.026928186416626, 1.026747465133667, 1.0267366170883179, 1.651355266571045, 1.0529230833053589, 1.502899408340454, 1.0769368410110474, 1.5921484231948853, 1.0767691135406494, 1.05231773853302, 1.0521878004074097, 0.9343066215515137, 0.9343609809875488, 0.9344243407249451, 0.934449315071106, 0.934501051902771, 0.934606671333313, 1.0236831903457642, 1.0271458625793457, 1.5785789489746094, 1.0455399751663208, 0.9751482605934143, 0.9751010537147522, 0.9747272729873657, 0.9745592474937439, 0.9746026992797852, 0.9745712876319885, 1.0081857442855835, 1.0075020790100098, 1.0074732303619385, 1.0074845552444458, 1.0074653625488281, 1.0074690580368042, 1.0257984399795532, 1.0272901058197021, 1.0271823406219482, 1.0251843929290771, 1.0251295566558838, 1.026928186416626, 1.0267366170883179, 1.026747465133667, 1.651355266571045, 1.0529230833053589, 1.0769368410110474, 1.502899408340454, 1.5921484231948853, 1.0767691135406494, 1.05231773853302, 1.0522202253341675, 1.0521878004074097], \"Category\": [\"Default\", \"Default\", \"Default\", \"Default\", \"Default\", \"Default\", \"Default\", \"Default\", \"Default\", \"Default\", \"Default\", \"Default\", \"Default\", \"Default\", \"Default\", \"Default\", \"Default\", \"Default\", \"Default\", \"Default\", \"Default\", \"Default\", \"Default\", \"Default\", \"Default\", \"Default\", \"Default\", \"Default\", \"Default\", \"Default\", \"Topic1\", \"Topic1\", \"Topic1\", \"Topic1\", \"Topic1\", \"Topic1\", \"Topic1\", \"Topic1\", \"Topic1\", \"Topic1\", \"Topic1\", \"Topic1\", \"Topic1\", \"Topic1\", \"Topic1\", \"Topic1\", \"Topic1\", \"Topic1\", \"Topic1\", \"Topic1\", \"Topic1\", \"Topic1\", \"Topic1\", \"Topic1\", \"Topic1\", \"Topic1\", \"Topic1\", \"Topic1\", \"Topic1\", \"Topic1\", \"Topic1\", \"Topic1\", \"Topic1\", \"Topic1\", \"Topic1\", \"Topic1\", \"Topic1\", \"Topic1\", \"Topic1\", \"Topic1\", \"Topic2\", \"Topic2\", \"Topic2\", \"Topic2\", \"Topic2\", \"Topic2\", \"Topic2\", \"Topic2\", \"Topic2\", \"Topic2\", \"Topic2\", \"Topic2\", \"Topic2\", \"Topic2\", \"Topic2\", \"Topic2\", \"Topic2\", \"Topic2\", \"Topic2\", \"Topic2\", \"Topic2\", \"Topic2\", \"Topic2\", \"Topic2\", \"Topic2\", \"Topic2\", \"Topic2\", \"Topic2\", \"Topic2\", \"Topic2\", \"Topic2\", \"Topic2\", \"Topic2\", \"Topic2\", \"Topic2\", \"Topic2\", \"Topic2\", \"Topic2\", \"Topic2\", \"Topic3\", \"Topic3\", \"Topic3\", \"Topic3\", \"Topic3\", \"Topic3\", \"Topic3\", \"Topic3\", \"Topic3\", \"Topic3\", \"Topic3\", \"Topic3\", \"Topic3\", \"Topic3\", \"Topic3\", \"Topic3\", \"Topic3\", \"Topic3\", \"Topic3\", \"Topic3\", \"Topic3\", \"Topic3\", \"Topic3\", \"Topic3\", \"Topic3\", \"Topic3\", \"Topic3\", \"Topic3\", \"Topic3\", \"Topic3\", \"Topic3\", \"Topic3\", \"Topic3\", \"Topic3\", \"Topic3\", \"Topic3\", \"Topic3\", \"Topic3\", \"Topic3\", \"Topic3\", \"Topic4\", \"Topic4\", \"Topic4\", \"Topic4\", \"Topic4\", \"Topic4\", \"Topic4\", \"Topic4\", \"Topic4\", \"Topic4\", \"Topic4\", \"Topic4\", \"Topic4\", \"Topic4\", \"Topic4\", \"Topic4\", \"Topic4\", \"Topic4\", \"Topic4\", \"Topic4\", \"Topic4\", \"Topic4\", \"Topic4\", \"Topic4\", \"Topic4\", \"Topic4\", \"Topic4\", \"Topic4\", \"Topic4\", \"Topic4\", \"Topic4\", \"Topic4\", \"Topic4\", \"Topic4\", \"Topic4\", \"Topic4\", \"Topic4\", \"Topic4\", \"Topic4\", \"Topic4\", \"Topic5\", \"Topic5\", \"Topic5\", \"Topic5\", \"Topic5\", \"Topic5\", \"Topic5\", \"Topic5\", \"Topic5\", \"Topic5\", \"Topic5\", \"Topic5\", \"Topic5\", \"Topic5\", \"Topic5\", \"Topic5\", \"Topic5\", \"Topic5\", \"Topic5\", \"Topic5\", \"Topic5\", \"Topic5\", \"Topic5\", \"Topic5\", \"Topic5\", \"Topic5\", \"Topic5\", \"Topic5\", \"Topic5\", \"Topic5\", \"Topic5\", \"Topic5\", \"Topic5\", \"Topic5\", \"Topic5\", \"Topic5\", \"Topic5\", \"Topic6\", \"Topic6\", \"Topic6\", \"Topic6\", \"Topic6\", \"Topic6\", \"Topic6\", \"Topic6\", \"Topic6\", \"Topic6\", \"Topic6\", \"Topic6\", \"Topic6\", \"Topic6\", \"Topic6\", \"Topic6\", \"Topic6\", \"Topic6\", \"Topic6\", \"Topic6\", \"Topic6\", \"Topic6\", \"Topic6\", \"Topic6\", \"Topic6\", \"Topic6\", \"Topic6\", \"Topic6\", \"Topic6\", \"Topic6\", \"Topic6\", \"Topic6\", \"Topic6\", \"Topic6\", \"Topic6\", \"Topic6\", \"Topic6\", \"Topic6\", \"Topic6\", \"Topic7\", \"Topic7\", \"Topic7\", \"Topic7\", \"Topic7\", \"Topic7\", \"Topic7\", \"Topic7\", \"Topic7\", \"Topic7\", \"Topic7\", \"Topic7\", \"Topic7\", \"Topic7\", \"Topic7\", \"Topic7\", \"Topic7\", \"Topic7\", \"Topic7\", \"Topic7\", \"Topic7\", \"Topic7\", \"Topic7\", \"Topic7\", \"Topic7\", \"Topic7\", \"Topic7\", \"Topic7\", \"Topic7\", \"Topic7\", \"Topic7\", \"Topic7\", \"Topic7\", \"Topic7\", \"Topic7\", \"Topic7\", \"Topic7\", \"Topic7\", \"Topic8\", \"Topic8\", \"Topic8\", \"Topic8\", \"Topic8\", \"Topic8\", \"Topic8\", \"Topic8\", \"Topic8\", \"Topic8\", \"Topic8\", \"Topic8\", \"Topic8\", \"Topic8\", \"Topic8\", \"Topic8\", \"Topic8\", \"Topic8\", \"Topic8\", \"Topic8\", \"Topic8\", \"Topic8\", \"Topic8\", \"Topic8\", \"Topic8\", \"Topic8\", \"Topic8\", \"Topic8\", \"Topic8\", \"Topic8\", \"Topic8\", \"Topic8\", \"Topic8\", \"Topic8\", \"Topic8\", \"Topic8\", \"Topic8\", \"Topic8\", \"Topic8\"], \"logprob\": [30.0, 29.0, 28.0, 27.0, 26.0, 25.0, 24.0, 23.0, 22.0, 21.0, 20.0, 19.0, 18.0, 17.0, 16.0, 15.0, 14.0, 13.0, 12.0, 11.0, 10.0, 9.0, 8.0, 7.0, 6.0, 5.0, 4.0, 3.0, 2.0, 1.0, -2.899399995803833, -2.8994998931884766, -2.8994998931884766, -2.8994998931884766, -2.8994998931884766, -2.8994998931884766, -2.899600028991699, -2.899600028991699, -2.8996999263763428, -2.8996999263763428, -2.9003000259399414, -2.900700092315674, -5.061600208282471, -5.061800003051758, -5.062099933624268, -5.062300205230713, -5.062300205230713, -5.06220006942749, -4.979300022125244, -4.980100154876709, -4.975500106811523, -5.060200214385986, -5.0605998039245605, -5.061500072479248, -5.062099933624268, -5.06220006942749, -5.062399864196777, -5.059199810028076, -5.061699867248535, -5.061800003051758, -4.8755998611450195, -4.950900077819824, -5.059299945831299, -5.059899806976318, -5.047699928283691, -5.059100151062012, -5.048600196838379, -5.060100078582764, -5.061299800872803, -5.061699867248535, -2.2147998809814453, -2.8494999408721924, -2.8494999408721924, -2.849600076675415, -2.849600076675415, -2.8498001098632812, -2.849900007247925, -2.8499999046325684, -2.851099967956543, -2.8359999656677246, -5.011199951171875, -5.0117998123168945, -5.0121002197265625, -5.01230001449585, -5.012199878692627, -5.012800216674805, -4.9293999671936035, -4.929999828338623, -4.924600124359131, -5.010300159454346, -5.010300159454346, -5.01170015335083, -5.012400150299072, -5.01230001449585, -5.012599945068359, -5.009300231933594, -5.0117998123168945, -5.011899948120117, -5.01200008392334, -5.0121002197265625, -4.825500011444092, -5.009399890899658, -5.009300231933594, -5.009900093078613, -4.997799873352051, -5.009900093078613, -5.01039981842041, -5.011499881744385, -5.011600017547607, -2.8224000930786133, -2.8224000930786133, -2.8224000930786133, -2.8224000930786133, -2.8225998878479004, -2.8227999210357666, -2.8227999210357666, -2.8231000900268555, -2.823499917984009, -2.823699951171875, -3.4205000400543213, -4.984600067138672, -4.984899997711182, -4.984899997711182, -4.985199928283691, -4.985099792480469, -4.985400199890137, -4.902500152587891, -4.9028000831604, -4.982999801635742, -4.983500003814697, -4.984799861907959, -4.985199928283691, -4.985300064086914, -4.985400199890137, -4.982500076293945, -4.984799861907959, -4.985000133514404, -4.985099792480469, -4.985199928283691, -4.798900127410889, -4.873799800872803, -4.9822998046875, -4.981800079345703, -4.970200061798096, -4.971199989318848, -4.982999801635742, -4.984099864959717, -4.984399795532227, -4.984899997711182, -2.6828999519348145, -2.6828999519348145, -2.6828999519348145, -2.6828999519348145, -2.683000087738037, -2.683000087738037, -2.683000087738037, -2.669300079345703, -4.844900131225586, -4.845399856567383, -4.8454999923706055, -4.845799922943115, -4.8460001945495605, -4.846099853515625, -4.763000011444092, -4.763400077819824, -4.758699893951416, -4.843500137329102, -4.843599796295166, -4.845200061798096, -4.845600128173828, -4.845699787139893, -4.845900058746338, -4.842700004577637, -4.845200061798096, -4.8454999923706055, -4.8454999923706055, -4.845600128173828, -4.845600128173828, -4.84250020980835, -4.658999919891357, -4.843599796295166, -4.843800067901611, -4.842400074005127, -4.830999851226807, -4.831999778747559, -4.843299865722656, -4.843999862670898, -4.844600200653076, -4.844600200653076, -2.106800079345703, -2.7416999340057373, -2.7416999340057373, -2.7416999340057373, -2.7416999340057373, -2.7416999340057373, -2.742799997329712, -2.7184998989105225, -4.90369987487793, -4.903600215911865, -4.903900146484375, -4.903900146484375, -4.904300212860107, -4.904300212860107, -4.821400165557861, -4.821700096130371, -4.817500114440918, -4.901800155639648, -4.902200222015381, -4.903800010681152, -4.90369987487793, -4.904099941253662, -4.904200077056885, -4.901199817657471, -4.901700019836426, -4.903800010681152, -4.9039998054504395, -4.902200222015381, -4.90339994430542, -4.903600215911865, -4.792799949645996, -4.900199890136719, -4.901899814605713, -4.8902997970581055, -4.902599811553955, -4.903500080108643, -4.90369987487793, -2.5887999534606934, -2.5887999534606934, -2.588900089263916, -2.589099884033203, -2.589600086212158, -2.5896999835968018, -3.1277999877929688, -4.750699996948242, -4.750999927520752, -4.751299858093262, -4.751399993896484, -4.7515997886657715, -4.751800060272217, -4.668700218200684, -4.669099807739258, -4.7480998039245605, -4.750999927520752, -4.751100063323975, -4.751100063323975, -4.751200199127197, -4.751399993896484, -4.748899936676025, -4.748499870300293, -4.750899791717529, -4.751299858093262, -4.749499797821045, -4.750199794769287, -4.751299858093262, -4.751399993896484, -4.7515997886657715, -4.564700126647949, -4.640200138092041, -4.747499942779541, -4.749100208282471, -4.736999988555908, -4.73769998550415, -4.749899864196777, -4.75029993057251, -4.750899791717529, -2.4502999782562256, -2.4502999782562256, -2.4512999057769775, -2.971299886703491, -3.0327999591827393, -2.9209001064300537, -4.611700057983398, -4.611999988555908, -4.612800121307373, -4.612800121307373, -4.6128997802734375, -4.61299991607666, -4.526000022888184, -4.610799789428711, -4.611000061035156, -4.612400054931641, -4.612800121307373, -4.612800121307373, -4.6128997802734375, -4.609300136566162, -4.612299919128418, -4.612500190734863, -4.612500190734863, -4.612500190734863, -4.612800121307373, -4.609899997711182, -4.611000061035156, -4.611499786376953, -4.612299919128418, -4.612599849700928, -4.5015997886657715, -4.6092000007629395, -4.597599983215332, -4.610300064086914, -4.598800182342529, -4.611100196838379, -4.612199783325195, -4.61269998550415, -2.647900104522705, -2.647900104522705, -2.6480000019073486, -2.6480000019073486, -2.648099899291992, -2.6482999324798584, -3.198899984359741, -3.2620999813079834, -3.2683000564575195, -4.723199844360352, -4.8078999519348145, -4.8084001541137695, -4.809899806976318, -4.8105998039245605, -4.8105998039245605, -4.8105998039245605, -4.807000160217285, -4.810100078582764, -4.810200214385986, -4.810299873352051, -4.810400009155273, -4.810500144958496, -4.808300018310547, -4.80810022354126, -4.808300018310547, -4.810400009155273, -4.8105998039245605, -4.809500217437744, -4.810100078582764, -4.810299873352051, -4.69890022277832, -4.80709981918335, -4.80810022354126, -4.79580020904541, -4.796599864959717, -4.809299945831299, -4.809700012207031, -4.810100078582764, -4.810200214385986], \"loglift\": [30.0, 29.0, 28.0, 27.0, 26.0, 25.0, 24.0, 23.0, 22.0, 21.0, 20.0, 19.0, 18.0, 17.0, 16.0, 15.0, 14.0, 13.0, 12.0, 11.0, 10.0, 9.0, 8.0, 7.0, 6.0, 5.0, 4.0, 3.0, 2.0, 1.0, 1.261199951171875, 1.2611000537872314, 1.2611000537872314, 1.2611000537872314, 1.2610000371932983, 1.2610000371932983, 1.2610000371932983, 1.2609000205993652, 1.2608000040054321, 1.2608000040054321, 1.2597999572753906, 1.2592999935150146, -0.7598000168800354, -0.7601000070571899, -0.760200023651123, -0.7602999806404114, -0.7602999806404114, -0.7602999806404114, -0.7685999870300293, -0.7728000283241272, -0.7858999967575073, -0.8008999824523926, -0.8012999892234802, -0.801800012588501, -0.802299976348877, -0.802299976348877, -0.8026000261306763, -0.8331999778747559, -0.835099995136261, -0.8352000117301941, -1.0980000495910645, -1.218400001525879, -0.850600004196167, -0.8525999784469604, -1.2209999561309814, -0.8765000104904175, -1.2796000242233276, -0.8529000282287598, -0.8536999821662903, -0.8784999847412109, 1.5542000532150269, 1.333899974822998, 1.333799958229065, 1.333799958229065, 1.333799958229065, 1.333400011062622, 1.333299994468689, 1.3330999612808228, 1.3314000368118286, 0.8964999914169312, -0.7095000147819519, -0.7099000215530396, -0.7102000117301941, -0.7103000283241272, -0.7103000283241272, -0.7107999920845032, -0.7186999917030334, -0.7226999998092651, -0.7350000143051147, -0.7509999871253967, -0.7509999871253967, -0.7519999742507935, -0.7524999976158142, -0.7524999976158142, -0.7527999877929688, -0.7833999991416931, -0.7851999998092651, -0.7853000164031982, -0.7853000164031982, -0.7853999733924866, -1.0479999780654907, -0.8008000254631042, -0.8021000027656555, -0.8026000261306763, -1.1711000204086304, -0.8500000238418579, -0.8503000140190125, -0.8040000200271606, -0.8039000034332275, 1.3854999542236328, 1.3854999542236328, 1.3854999542236328, 1.3854999542236328, 1.385200023651123, 1.3849999904632568, 1.3848999738693237, 1.3845000267028809, 1.3838000297546387, 1.3834999799728394, 0.76910001039505, -0.6829000115394592, -0.6830000281333923, -0.6830000281333923, -0.6832000017166138, -0.6832000017166138, -0.6833999752998352, -0.6917999982833862, -0.6955000162124634, -0.7236999869346619, -0.7242000102996826, -0.7250999808311462, -0.7253999710083008, -0.7253999710083008, -0.7254999876022339, -0.7565000057220459, -0.7581999897956848, -0.758400022983551, -0.7584999799728394, -0.7584999799728394, -1.021299958229065, -1.1412999629974365, -0.7735999822616577, -0.7993000149726868, -1.1434999704360962, -1.2021000385284424, -0.8230000138282776, -0.8240000009536743, -0.8012999892234802, -0.775600016117096, 1.4958000183105469, 1.4958000183105469, 1.4957000017166138, 1.4957000017166138, 1.4957000017166138, 1.4957000017166138, 1.4955999851226807, 1.0631999969482422, -0.5430999994277954, -0.5435000061988831, -0.5436999797821045, -0.5437999963760376, -0.5440000295639038, -0.5440000295639038, -0.552299976348877, -0.5561000108718872, -0.569100022315979, -0.5841000080108643, -0.5843999981880188, -0.5855000019073486, -0.5857999920845032, -0.5859000086784363, -0.5860000252723694, -0.6168000102043152, -0.6186000108718872, -0.6187999844551086, -0.6187999844551086, -0.6189000010490417, -0.6190000176429749, -0.6338000297546387, -0.8815000057220459, -0.6363999843597412, -0.6365000009536743, -0.6597999930381775, -1.0042999982833862, -1.062999963760376, -0.6833000183105469, -0.683899998664856, -0.6370999813079834, -0.6614999771118164, 1.7199000120162964, 1.4850000143051147, 1.4850000143051147, 1.4850000143051147, 1.4850000143051147, 1.4848999977111816, 1.483199954032898, 1.0591000318527222, -0.6018000245094299, -0.6018000245094299, -0.6018999814987183, -0.6019999980926514, -0.6022999882698059, -0.6022999882698059, -0.6107000112533569, -0.6144000291824341, -0.6279000043869019, -0.6424999833106995, -0.6428999900817871, -0.6439999938011169, -0.6439999938011169, -0.6442000269889832, -0.6442999839782715, -0.6924999952316284, -0.6945000290870667, -0.694599986076355, -0.6947000026702881, -0.6948999762535095, -0.6958000063896179, -0.695900022983551, -1.0602999925613403, -0.7175999879837036, -0.7419000267982483, -1.1212999820709229, -0.7423999905586243, -0.720300018787384, -0.7204999923706055, 1.6710000038146973, 1.6710000038146973, 1.6708999872207642, 1.6706000566482544, 1.669700026512146, 1.669600009918213, 1.0618000030517578, -0.4490000009536743, -0.44920000433921814, -0.44929999113082886, -0.4494999945163727, -0.4496000111103058, -0.4498000144958496, -0.4580000042915344, -0.4618000090122223, -0.5221999883651733, -0.524399995803833, -0.524399995803833, -0.5245000123977661, -0.5245000123977661, -0.5248000025749207, -0.5403000116348267, -0.5412999987602234, -0.541700005531311, -0.5421000123023987, -0.5422000288963318, -0.5426999926567078, -0.5436000227928162, -0.5436999797821045, -0.5437999963760376, -0.7871000170707703, -0.9077000021934509, -0.5648999810218811, -0.5891000032424927, -0.9103000164031982, -0.9685999751091003, -0.5898000001907349, -0.5672000050544739, -0.5677000284194946, 1.7589999437332153, 1.7589000463485718, 1.7573000192642212, 1.2359999418258667, 1.177899956703186, 0.8567000031471252, -0.3098999857902527, -0.3100999891757965, -0.3109000027179718, -0.3109000027179718, -0.3109000027179718, -0.3109999895095825, -0.33640000224113464, -0.3513999879360199, -0.3517000079154968, -0.35269999504089355, -0.3529999852180481, -0.3529999852180481, -0.3529999852180481, -0.3833000063896179, -0.385699987411499, -0.38580000400543213, -0.38580000400543213, -0.38589999079704285, -0.3862000107765198, -0.4027000069618225, -0.40369999408721924, -0.40400001406669617, -0.40459999442100525, -0.4049000144004822, -0.76910001039505, -0.42669999599456787, -0.770799994468689, -0.450300008058548, -0.829800009727478, -0.45100000500679016, -0.42910000681877136, -0.4293999969959259, 1.6541999578475952, 1.654099941253662, 1.6539000272750854, 1.6539000272750854, 1.6536999940872192, 1.653499960899353, 1.0118000507354736, 0.9452000260353088, 0.5092999935150146, -0.5335999727249146, -0.5486999750137329, -0.5490999817848206, -0.5501999855041504, -0.5507000088691711, -0.5507000088691711, -0.5508000254631042, -0.5810999870300293, -0.5834000110626221, -0.5835000276565552, -0.5835999846458435, -0.5837000012397766, -0.5838000178337097, -0.5996999740600586, -0.6008999943733215, -0.6010000109672546, -0.6011999845504761, -0.6013000011444092, -0.6018999814987183, -0.6022999882698059, -0.6025999784469604, -0.9664000272750854, -0.6245999932289124, -0.6481000185012817, -0.9690999984741211, -1.0276000499725342, -0.6491000056266785, -0.6266000270843506, -0.6269000172615051, -0.6269999742507935]}, \"token.table\": {\"Topic\": [4, 4, 3, 4, 4, 6, 1, 5, 7, 6, 1, 5, 2, 4, 6, 1, 2, 4, 1, 1, 5, 6, 3, 2, 5, 3, 6, 3, 2, 2, 5, 2, 2, 7, 5, 1, 3, 1, 3, 2, 2, 1, 3, 5, 3, 1, 4, 7, 3, 5, 1, 1, 4, 2, 6, 3, 1], \"Freq\": [0.9460763335227966, 0.9460607171058655, 0.9734348654747009, 0.946029782295227, 0.9460760951042175, 1.0260921716690063, 0.9291541576385498, 0.9925863146781921, 0.9754343032836914, 1.0261049270629883, 0.9290708899497986, 0.9925899505615234, 0.9505317211151123, 0.946053147315979, 1.0260591506958008, 0.9291260242462158, 0.605563223361969, 0.605563223361969, 0.9290062785148621, 0.9290564656257629, 0.9925710558891296, 1.025928020477295, 0.9739493131637573, 0.9505491852760315, 0.9925822019577026, 0.9741669297218323, 1.025534749031067, 0.9739596247673035, 0.9502833485603333, 0.9504006505012512, 0.6334811449050903, 0.6280821561813354, 0.9505428075790405, 0.9748503565788269, 0.6653805375099182, 0.9290155172348022, 0.9741619825363159, 0.9285595417022705, 0.9735369682312012, 0.949737012386322, 0.9503713846206665, 0.9290943741798401, 0.9737779498100281, 0.9925537705421448, 0.9740288257598877, 0.9291094541549683, 0.9460368156433105, 0.9754864573478699, 0.9741607308387756, 0.9918807148933411, 0.9290832281112671, 0.9287042021751404, 0.9460351467132568, 0.9505336880683899, 1.0254850387573242, 0.9741655588150024, 0.929107129573822], \"Term\": [\"acknowl\", \"answer\", \"arrive\", \"ask\", \"beg\", \"bracken\", \"carry\", \"chinese\", \"cleanshaven\", \"combine\", \"decent\", \"dedicated\", \"dismay\", \"dodging\", \"dream\", \"enjoy\", \"fashionable\", \"fashionable\", \"frozen\", \"hear\", \"high\", \"idealist\", \"immaculate\", \"interested\", \"japanese\", \"live\", \"mix\", \"moisten\", \"oldfashioned\", \"philosopher\", \"poor\", \"prepare\", \"pretty\", \"proclaim\", \"publish\", \"realise\", \"reigned\", \"remote\", \"revise\", \"rider\", \"rock\", \"scurry\", \"select\", \"shine\", \"solitary\", \"spend\", \"stand\", \"stay\", \"straight\", \"strike\", \"think\", \"trim\", \"ultraexclusive\", \"unanimou\", \"vast\", \"voyage\", \"walk\"]}, \"R\": 30, \"lambda.step\": 0.01, \"plot.opts\": {\"xlab\": \"PC1\", \"ylab\": \"PC2\"}, \"topic.order\": [3, 5, 1, 6, 8, 2, 4, 7]};\n",
              "\n",
              "function LDAvis_load_lib(url, callback){\n",
              "  var s = document.createElement('script');\n",
              "  s.src = url;\n",
              "  s.async = true;\n",
              "  s.onreadystatechange = s.onload = callback;\n",
              "  s.onerror = function(){console.warn(\"failed to load library \" + url);};\n",
              "  document.getElementsByTagName(\"head\")[0].appendChild(s);\n",
              "}\n",
              "\n",
              "if(typeof(LDAvis) !== \"undefined\"){\n",
              "   // already loaded: just create the visualization\n",
              "   !function(LDAvis){\n",
              "       new LDAvis(\"#\" + \"ldavis_el1251400047536751527042405091\", ldavis_el1251400047536751527042405091_data);\n",
              "   }(LDAvis);\n",
              "}else if(typeof define === \"function\" && define.amd){\n",
              "   // require.js is available: use it to load d3/LDAvis\n",
              "   require.config({paths: {d3: \"https://cdnjs.cloudflare.com/ajax/libs/d3/3.5.5/d3.min\"}});\n",
              "   require([\"d3\"], function(d3){\n",
              "      window.d3 = d3;\n",
              "      LDAvis_load_lib(\"https://cdn.rawgit.com/bmabey/pyLDAvis/files/ldavis.v1.0.0.js\", function(){\n",
              "        new LDAvis(\"#\" + \"ldavis_el1251400047536751527042405091\", ldavis_el1251400047536751527042405091_data);\n",
              "      });\n",
              "    });\n",
              "}else{\n",
              "    // require.js not available: dynamically load d3 & LDAvis\n",
              "    LDAvis_load_lib(\"https://cdnjs.cloudflare.com/ajax/libs/d3/3.5.5/d3.min.js\", function(){\n",
              "         LDAvis_load_lib(\"https://cdn.rawgit.com/bmabey/pyLDAvis/files/ldavis.v1.0.0.js\", function(){\n",
              "                 new LDAvis(\"#\" + \"ldavis_el1251400047536751527042405091\", ldavis_el1251400047536751527042405091_data);\n",
              "            })\n",
              "         });\n",
              "}\n",
              "</script>"
            ],
            "text/plain": [
              "PreparedData(topic_coordinates=              x         y  topics  cluster       Freq\n",
              "topic                                                \n",
              "2      0.109246  0.127547       1        1  16.569893\n",
              "4     -0.139695  0.058740       2        1  15.073492\n",
              "0      0.021287 -0.088841       3        1  13.969771\n",
              "5     -0.055403  0.023862       4        1  12.882012\n",
              "7      0.027862 -0.063090       5        1  12.391992\n",
              "1      0.009074 -0.016142       6        1   9.921265\n",
              "3      0.011580 -0.014393       7        1   9.596234\n",
              "6      0.016050 -0.027683       8        1   9.595345, topic_info=            Term      Freq     Total Category  logprob  loglift\n",
              "1        publish  1.000000  1.000000  Default  30.0000  30.0000\n",
              "20       prepare  1.000000  1.000000  Default  29.0000  29.0000\n",
              "31          stay  1.000000  1.000000  Default  28.0000  28.0000\n",
              "30   cleanshaven  1.000000  1.000000  Default  27.0000  27.0000\n",
              "62      proclaim  1.000000  1.000000  Default  26.0000  26.0000\n",
              "..           ...       ...       ...      ...      ...      ...\n",
              "20       prepare  0.054671  1.592148   Topic8  -4.7966  -1.0276\n",
              "38          trim  0.053985  1.076769   Topic8  -4.8093  -0.6491\n",
              "19  oldfashioned  0.053963  1.052318   Topic8  -4.8097  -0.6266\n",
              "23          rock  0.053937  1.052220   Topic8  -4.8101  -0.6269\n",
              "16   philosopher  0.053935  1.052188   Topic8  -4.8102  -0.6270\n",
              "\n",
              "[342 rows x 6 columns], token_table=      Topic      Freq            Term\n",
              "term                                 \n",
              "55        4  0.946076         acknowl\n",
              "24        4  0.946061          answer\n",
              "15        3  0.973435          arrive\n",
              "25        4  0.946030             ask\n",
              "26        4  0.946076             beg\n",
              "48        6  1.026092         bracken\n",
              "39        1  0.929154           carry\n",
              "28        5  0.992586         chinese\n",
              "30        7  0.975434     cleanshaven\n",
              "60        6  1.026105         combine\n",
              "45        1  0.929071          decent\n",
              "0         5  0.992590       dedicated\n",
              "51        2  0.950532          dismay\n",
              "27        4  0.946053         dodging\n",
              "49        6  1.026059           dream\n",
              "40        1  0.929126           enjoy\n",
              "52        2  0.605563     fashionable\n",
              "52        4  0.605563     fashionable\n",
              "7         1  0.929006          frozen\n",
              "8         1  0.929056            hear\n",
              "21        5  0.992571            high\n",
              "61        6  1.025928        idealist\n",
              "36        3  0.973949      immaculate\n",
              "53        2  0.950549      interested\n",
              "29        5  0.992582        japanese\n",
              "2         3  0.974167            live\n",
              "43        6  1.025535             mix\n",
              "37        3  0.973960         moisten\n",
              "19        2  0.950283    oldfashioned\n",
              "16        2  0.950401     philosopher\n",
              "44        5  0.633481            poor\n",
              "20        2  0.628082         prepare\n",
              "17        2  0.950543          pretty\n",
              "62        7  0.974850        proclaim\n",
              "1         5  0.665381         publish\n",
              "46        1  0.929016         realise\n",
              "3         3  0.974162         reigned\n",
              "10        1  0.928560          remote\n",
              "50        3  0.973537          revise\n",
              "6         2  0.949737           rider\n",
              "23        2  0.950371            rock\n",
              "47        1  0.929094          scurry\n",
              "63        3  0.973778          select\n",
              "22        5  0.992554           shine\n",
              "64        3  0.974029        solitary\n",
              "41        1  0.929109           spend\n",
              "56        4  0.946037           stand\n",
              "31        7  0.975486            stay\n",
              "4         3  0.974161        straight\n",
              "54        5  0.991881          strike\n",
              "9         1  0.929083           think\n",
              "38        1  0.928704            trim\n",
              "57        4  0.946035  ultraexclusive\n",
              "18        2  0.950534        unanimou\n",
              "34        6  1.025485            vast\n",
              "5         3  0.974166          voyage\n",
              "42        1  0.929107            walk, R=30, lambda_step=0.01, plot_opts={'xlab': 'PC1', 'ylab': 'PC2'}, topic_order=[3, 5, 1, 6, 8, 2, 4, 7])"
            ]
          },
          "metadata": {
            "tags": []
          },
          "execution_count": 73
        }
      ]
    },
    {
      "cell_type": "code",
      "metadata": {
        "id": "qh7j0bEnQG6C",
        "colab_type": "code",
        "outputId": "c8d8f6ad-c216-49da-bf8b-dd6227ddea2a",
        "colab": {
          "base_uri": "https://localhost:8080/",
          "height": 71
        }
      },
      "source": [
        "#Download File: http://mallet.cs.umass.edu/dist/mallet-2.0.8.zip\n",
        "mallet_path = 'mallet/mallet-2.0.8/bin/mallet' # update this path\n",
        "ldamallet = gensim.models.wrappers.LdaMallet(mallet_path, corpus=corpus, num_topics=8, id2word=id2word)"
      ],
      "execution_count": 74,
      "outputs": [
        {
          "output_type": "stream",
          "text": [
            "/usr/local/lib/python3.6/dist-packages/smart_open/smart_open_lib.py:253: UserWarning: This function is deprecated, use smart_open.open instead. See the migration notes for details: https://github.com/RaRe-Technologies/smart_open/blob/master/README.rst#migrating-to-the-new-open-function\n",
            "  'See the migration notes for details: %s' % _MIGRATION_NOTES_URL\n"
          ],
          "name": "stderr"
        }
      ]
    },
    {
      "cell_type": "code",
      "metadata": {
        "id": "NUCvp_dz40hT",
        "colab_type": "code",
        "colab": {
          "base_uri": "https://localhost:8080/",
          "height": 54
        },
        "outputId": "624e112e-fd2d-4aba-8f1e-3d95aefa5561"
      },
      "source": [
        "print(ldamallet.show_topics(formatted=False))"
      ],
      "execution_count": 48,
      "outputs": [
        {
          "output_type": "stream",
          "text": [
            "[(0, [('publish', 0.05263157894736842), ('carry', 0.05263157894736842), ('remote', 0.05263157894736842), ('obstruct', 0.05263157894736842), ('strong', 0.05263157894736842), ('bes', 0.05263157894736842), ('rock', 0.05263157894736842), ('study', 0.05263157894736842), ('disappear', 0.05263157894736842), ('bring', 0.05263157894736842)]), (1, [('proclaim', 0.0625), ('commonplace', 0.0625), ('decent', 0.0625), ('rise', 0.0625), ('warm', 0.0625), ('bracken', 0.0625), ('remarkable', 0.0625), ('move', 0.0625), ('idle', 0.0625), ('wild', 0.0625)]), (2, [('comfortable', 0.08333333333333333), ('infernal', 0.08333333333333333), ('motive', 0.08333333333333333), ('smile', 0.08333333333333333), ('individual', 0.08333333333333333), ('stay', 0.08333333333333333), ('japanese', 0.08333333333333333), ('philosopher', 0.08333333333333333), ('procrastinate', 0.08333333333333333), ('proper', 0.08333333333333333)]), (3, [('meet', 0.1111111111111111), ('fashionable', 0.1111111111111111), ('dig', 0.05555555555555555), ('strike', 0.05555555555555555), ('eager', 0.05555555555555555), ('scurried', 0.05555555555555555), ('medium', 0.05555555555555555), ('enter', 0.05555555555555555), ('charming', 0.05555555555555555), ('imperceptible', 0.05555555555555555)]), (4, [('speak', 0.07407407407407407), ('prepare', 0.07407407407407407), ('walk', 0.07407407407407407), ('dodging', 0.037037037037037035), ('swallow', 0.037037037037037035), ('modest', 0.037037037037037035), ('current', 0.037037037037037035), ('cast', 0.037037037037037035), ('realise', 0.037037037037037035), ('vain', 0.037037037037037035)]), (5, [('poor', 0.11538461538461539), ('high', 0.07692307692307693), ('stand', 0.038461538461538464), ('inscribe', 0.038461538461538464), ('hear', 0.038461538461538464), ('preface', 0.038461538461538464), ('cleanshaven', 0.038461538461538464), ('choose', 0.038461538461538464), ('possess', 0.038461538461538464), ('outstretche', 0.038461538461538464)]), (6, [('launch', 0.05263157894736842), ('drive', 0.05263157894736842), ('bullheade', 0.05263157894736842), ('dismay', 0.05263157894736842), ('acknowledged', 0.05263157894736842), ('hilly', 0.05263157894736842), ('revise', 0.05263157894736842), ('ancient', 0.05263157894736842), ('bring', 0.05263157894736842), ('unusual', 0.05263157894736842)]), (7, [('meet', 0.058823529411764705), ('understand', 0.058823529411764705), ('envious', 0.058823529411764705), ('obvious', 0.058823529411764705), ('answer', 0.058823529411764705), ('combine', 0.058823529411764705), ('shine', 0.058823529411764705), ('pine', 0.058823529411764705), ('wide', 0.058823529411764705), ('portal', 0.058823529411764705)])]\n"
          ],
          "name": "stdout"
        }
      ]
    },
    {
      "cell_type": "code",
      "metadata": {
        "id": "n70qG_0L5ODS",
        "colab_type": "code",
        "colab": {
          "base_uri": "https://localhost:8080/",
          "height": 51
        },
        "outputId": "4655dfa7-6a41-474d-f539-13968e3e026c"
      },
      "source": [
        "# Compute Coherence Score\n",
        "coherence_model_ldamallet = CoherenceModel(model=ldamallet, texts=data_lemmatized, dictionary=id2word, coherence='c_v')\n",
        "coherence_ldamallet = coherence_model_ldamallet.get_coherence()\n",
        "print('\\nCoherence Score: ', coherence_ldamallet)"
      ],
      "execution_count": 75,
      "outputs": [
        {
          "output_type": "stream",
          "text": [
            "\n",
            "Coherence Score:  0.7433476875353144\n"
          ],
          "name": "stdout"
        }
      ]
    },
    {
      "cell_type": "code",
      "metadata": {
        "id": "bXvIadfs5VSQ",
        "colab_type": "code",
        "colab": {}
      },
      "source": [
        "def compute_coherence_values(dictionary, corpus, texts, limit, start=2, step=3):\n",
        "    \"\"\"\n",
        "    Compute c_v coherence for various number of topics\n",
        "\n",
        "    Parameters:\n",
        "    ----------\n",
        "    dictionary : Gensim dictionary\n",
        "    corpus : Gensim corpus\n",
        "    texts : List of input texts\n",
        "    limit : Max num of topics\n",
        "\n",
        "    Returns:\n",
        "    -------\n",
        "    model_list : List of LDA topic models\n",
        "    coherence_values : Coherence values corresponding to the LDA model with respective number of topics\n",
        "    \"\"\"\n",
        "    coherence_values = []\n",
        "    model_list = []\n",
        "    for num_topics in range(start, limit, step):\n",
        "        model = gensim.models.wrappers.LdaMallet(mallet_path, corpus=corpus, num_topics=num_topics, id2word=id2word)\n",
        "        model_list.append(model)\n",
        "        coherencemodel = CoherenceModel(model=model, texts=texts, dictionary=dictionary, coherence='c_v')\n",
        "        coherence_values.append(coherencemodel.get_coherence())\n",
        "\n",
        "    return model_list, coherence_values"
      ],
      "execution_count": 0,
      "outputs": []
    },
    {
      "cell_type": "code",
      "metadata": {
        "id": "4sgaxZiA5b5V",
        "colab_type": "code",
        "colab": {
          "base_uri": "https://localhost:8080/",
          "height": 105
        },
        "outputId": "85e24369-d342-47b1-8b95-0579f79e58e6"
      },
      "source": [
        "# Can take a long time to run.\n",
        "model_list, coherence_values = compute_coherence_values(dictionary=id2word, corpus=corpus, texts=data_lemmatized, start=2, limit=40, step=6)"
      ],
      "execution_count": 77,
      "outputs": [
        {
          "output_type": "stream",
          "text": [
            "/usr/local/lib/python3.6/dist-packages/smart_open/smart_open_lib.py:253: UserWarning: This function is deprecated, use smart_open.open instead. See the migration notes for details: https://github.com/RaRe-Technologies/smart_open/blob/master/README.rst#migrating-to-the-new-open-function\n",
            "  'See the migration notes for details: %s' % _MIGRATION_NOTES_URL\n",
            "/usr/local/lib/python3.6/dist-packages/gensim/models/wrappers/ldamallet.py:373: RuntimeWarning: invalid value encountered in true_divide\n",
            "  return topics / topics.sum(axis=1)[:, None]\n"
          ],
          "name": "stderr"
        }
      ]
    },
    {
      "cell_type": "code",
      "metadata": {
        "id": "IhBXTzPb5ham",
        "colab_type": "code",
        "colab": {
          "base_uri": "https://localhost:8080/",
          "height": 279
        },
        "outputId": "ecc11376-6fe6-4494-9cd4-3c324f047591"
      },
      "source": [
        "# Show graph\n",
        "limit=40; start=2; step=6;\n",
        "x = range(start, limit, step)\n",
        "plt.plot(x, coherence_values)\n",
        "plt.xlabel(\"Num Topics\")\n",
        "plt.ylabel(\"Coherence score\")\n",
        "plt.legend((\"coherence_values\"), loc='best')\n",
        "plt.show()"
      ],
      "execution_count": 78,
      "outputs": [
        {
          "output_type": "display_data",
          "data": {
            "image/png": "[encoded data removed]",
            "text/plain": [
              "<Figure size 432x288 with 1 Axes>"
            ]
          },
          "metadata": {
            "tags": [],
            "needs_background": "light"
          }
        }
      ]
    },
    {
      "cell_type": "code",
      "metadata": {
        "id": "axSO-bjq5tYQ",
        "colab_type": "code",
        "colab": {
          "base_uri": "https://localhost:8080/",
          "height": 136
        },
        "outputId": "7c80c738-e8ad-4f74-fa06-8a45fe378d39"
      },
      "source": [
        "# Print the coherence scores\n",
        "for m, cv in zip(x, coherence_values):\n",
        "    print(\"Num Topics =\", m, \" has Coherence Value of\", round(cv, 4))"
      ],
      "execution_count": 79,
      "outputs": [
        {
          "output_type": "stream",
          "text": [
            "Num Topics = 2  has Coherence Value of 0.7793\n",
            "Num Topics = 8  has Coherence Value of 0.7597\n",
            "Num Topics = 14  has Coherence Value of 0.7415\n",
            "Num Topics = 20  has Coherence Value of 0.7321\n",
            "Num Topics = 26  has Coherence Value of 0.7345\n",
            "Num Topics = 32  has Coherence Value of 0.7333\n",
            "Num Topics = 38  has Coherence Value of 0.7308\n"
          ],
          "name": "stdout"
        }
      ]
    },
    {
      "cell_type": "code",
      "metadata": {
        "id": "dAqStxX16hm2",
        "colab_type": "code",
        "colab": {
          "base_uri": "https://localhost:8080/",
          "height": 54
        },
        "outputId": "ba9fd3da-cc37-4bbb-f9a5-a84e83b3d5b8"
      },
      "source": [
        "# Select the model and print the topics\n",
        "optimal_model = model_list[3]\n",
        "model_topics = optimal_model.show_topics(formatted=False)\n",
        "print(optimal_model.print_topics(num_words=10))"
      ],
      "execution_count": 80,
      "outputs": [
        {
          "output_type": "stream",
          "text": [
            "[(0, '0.200*\"bracken\" + 0.200*\"stay\" + 0.200*\"revise\" + 0.200*\"japanese\" + 0.200*\"strike\" + 0.000*\"walk\" + 0.000*\"decent\" + 0.000*\"poor\" + 0.000*\"mix\" + 0.000*\"enjoy\"'), (1, '0.250*\"oldfashioned\" + 0.250*\"combine\" + 0.250*\"frozen\" + 0.250*\"publish\" + 0.000*\"mix\" + 0.000*\"scurry\" + 0.000*\"realise\" + 0.000*\"decent\" + 0.000*\"poor\" + 0.000*\"bracken\"'), (2, '0.250*\"answer\" + 0.250*\"spend\" + 0.250*\"decent\" + 0.250*\"unanimou\" + 0.000*\"poor\" + 0.000*\"moisten\" + 0.000*\"scurry\" + 0.000*\"realise\" + 0.000*\"immaculate\" + 0.000*\"trim\"'), (3, '0.667*\"prepare\" + 0.333*\"idle\" + 0.000*\"walk\" + 0.000*\"realise\" + 0.000*\"decent\" + 0.000*\"poor\" + 0.000*\"mix\" + 0.000*\"bracken\" + 0.000*\"spend\" + 0.000*\"trim\"'), (4, '0.250*\"remote\" + 0.250*\"dream\" + 0.250*\"solitary\" + 0.250*\"arrive\" + 0.000*\"scurry\" + 0.000*\"realise\" + 0.000*\"decent\" + 0.000*\"poor\" + 0.000*\"walk\" + 0.000*\"mix\"'), (5, '1.000*\"gorgeous\" + 0.000*\"walk\" + 0.000*\"enjoy\" + 0.000*\"realise\" + 0.000*\"decent\" + 0.000*\"poor\" + 0.000*\"mix\" + 0.000*\"bracken\" + 0.000*\"spend\" + 0.000*\"immaculate\"'), (6, '0.250*\"acknowl\" + 0.250*\"cleanshaven\" + 0.250*\"proclaim\" + 0.250*\"interested\" + 0.000*\"enjoy\" + 0.000*\"decent\" + 0.000*\"poor\" + 0.000*\"mix\" + 0.000*\"walk\" + 0.000*\"scurry\"'), (7, '0.250*\"mix\" + 0.250*\"chinese\" + 0.250*\"speak\" + 0.250*\"rock\" + 0.000*\"walk\" + 0.000*\"carry\" + 0.000*\"decent\" + 0.000*\"poor\" + 0.000*\"scurry\" + 0.000*\"spend\"'), (8, '0.500*\"publish\" + 0.500*\"poor\" + 0.000*\"enjoy\" + 0.000*\"realise\" + 0.000*\"decent\" + 0.000*\"mix\" + 0.000*\"walk\" + 0.000*\"bracken\" + 0.000*\"spend\" + 0.000*\"gorgeous\"'), (9, '1.000*\"poor\" + 0.000*\"spend\" + 0.000*\"enjoy\" + 0.000*\"realise\" + 0.000*\"decent\" + 0.000*\"mix\" + 0.000*\"walk\" + 0.000*\"bracken\" + 0.000*\"moisten\" + 0.000*\"immaculate\"'), (10, '1.000*\"pretty\" + 0.000*\"walk\" + 0.000*\"scurry\" + 0.000*\"realise\" + 0.000*\"decent\" + 0.000*\"poor\" + 0.000*\"mix\" + 0.000*\"spend\" + 0.000*\"trim\" + 0.000*\"moisten\"'), (11, '0.333*\"fashionable\" + 0.167*\"whisper\" + 0.167*\"scurry\" + 0.167*\"amuse\" + 0.167*\"dismay\" + 0.000*\"decent\" + 0.000*\"poor\" + 0.000*\"mix\" + 0.000*\"spend\" + 0.000*\"walk\"'), (12, '0.143*\"philosopher\" + 0.143*\"obstruct\" + 0.143*\"stand\" + 0.143*\"trim\" + 0.143*\"carry\" + 0.143*\"ultraexclusive\" + 0.143*\"rider\" + 0.000*\"realise\" + 0.000*\"walk\" + 0.000*\"decent\"'), (13, '1.000*\"high\" + 0.000*\"walk\" + 0.000*\"spend\" + 0.000*\"realise\" + 0.000*\"decent\" + 0.000*\"poor\" + 0.000*\"mix\" + 0.000*\"bracken\" + 0.000*\"trim\" + 0.000*\"moisten\"'), (14, '0.200*\"walk\" + 0.200*\"understand\" + 0.200*\"shine\" + 0.200*\"voyage\" + 0.200*\"vast\" + 0.000*\"spend\" + 0.000*\"realise\" + 0.000*\"decent\" + 0.000*\"poor\" + 0.000*\"bracken\"'), (15, '0.500*\"dedicated\" + 0.500*\"live\" + 0.000*\"walk\" + 0.000*\"scurry\" + 0.000*\"realise\" + 0.000*\"decent\" + 0.000*\"poor\" + 0.000*\"mix\" + 0.000*\"bracken\" + 0.000*\"trim\"'), (16, '0.500*\"beg\" + 0.500*\"dodging\" + 0.000*\"spend\" + 0.000*\"realise\" + 0.000*\"decent\" + 0.000*\"poor\" + 0.000*\"mix\" + 0.000*\"walk\" + 0.000*\"bracken\" + 0.000*\"trim\"'), (17, '0.333*\"select\" + 0.333*\"immaculate\" + 0.333*\"current\" + 0.000*\"mix\" + 0.000*\"enjoy\" + 0.000*\"realise\" + 0.000*\"decent\" + 0.000*\"poor\" + 0.000*\"bracken\" + 0.000*\"walk\"'), (18, '1.000*\"idealist\" + 0.000*\"spend\" + 0.000*\"carry\" + 0.000*\"realise\" + 0.000*\"decent\" + 0.000*\"poor\" + 0.000*\"mix\" + 0.000*\"walk\" + 0.000*\"bracken\" + 0.000*\"moisten\"'), (19, '0.143*\"hear\" + 0.143*\"moisten\" + 0.143*\"reigned\" + 0.143*\"straight\" + 0.143*\"realise\" + 0.143*\"enjoy\" + 0.143*\"motive\" + 0.000*\"poor\" + 0.000*\"scurry\" + 0.000*\"decent\"')]\n"
          ],
          "name": "stdout"
        }
      ]
    },
    {
      "cell_type": "code",
      "metadata": {
        "id": "JVkRxGYf6woP",
        "colab_type": "code",
        "colab": {
          "base_uri": "https://localhost:8080/",
          "height": 583
        },
        "outputId": "eeb6da67-576f-479b-b0a9-de4f99907e00"
      },
      "source": [
        "def format_topics_sentences(ldamodel=lda_model, corpus=corpus, texts=data):\n",
        "    # Init output\n",
        "    sent_topics_df = pd.DataFrame()\n",
        "\n",
        "    # Get main topic in each document\n",
        "    for i, row in enumerate(ldamodel[corpus]):\n",
        "        row = sorted(row, key=lambda x: (x[1]), reverse=True)\n",
        "        # Get the Dominant topic, Perc Contribution and Keywords for each document\n",
        "        for j, (topic_num, prop_topic) in enumerate(row):\n",
        "            if j == 0:  # => dominant topic\n",
        "                wp = ldamodel.show_topic(topic_num)\n",
        "                topic_keywords = \", \".join([word for word, prop in wp])\n",
        "                sent_topics_df = sent_topics_df.append(pd.Series([int(topic_num), round(prop_topic,4), topic_keywords]), ignore_index=True)\n",
        "            else:\n",
        "                break\n",
        "    sent_topics_df.columns = ['Dominant_Topic', 'Perc_Contribution', 'Topic_Keywords']\n",
        "\n",
        "    # Add original text to the end of the output\n",
        "    contents = pd.Series(texts)\n",
        "    sent_topics_df = pd.concat([sent_topics_df, contents], axis=1)\n",
        "    return(sent_topics_df)\n",
        "\n",
        "\n",
        "df_topic_sents_keywords = format_topics_sentences(ldamodel=optimal_model, corpus=corpus, texts=data)\n",
        "\n",
        "# Format\n",
        "df_dominant_topic = df_topic_sents_keywords.reset_index()\n",
        "df_dominant_topic.columns = ['Document_No', 'Dominant_Topic', 'Topic_Perc_Contrib', 'Keywords', 'Text']\n",
        "\n",
        "# Show\n",
        "df_dominant_topic.head(10)"
      ],
      "execution_count": 81,
      "outputs": [
        {
          "output_type": "stream",
          "text": [
            "/usr/local/lib/python3.6/dist-packages/smart_open/smart_open_lib.py:253: UserWarning: This function is deprecated, use smart_open.open instead. See the migration notes for details: https://github.com/RaRe-Technologies/smart_open/blob/master/README.rst#migrating-to-the-new-open-function\n",
            "  'See the migration notes for details: %s' % _MIGRATION_NOTES_URL\n"
          ],
          "name": "stderr"
        },
        {
          "output_type": "execute_result",
          "data": {
            "text/html": [
              "<div>\n",
              "<style scoped>\n",
              "    .dataframe tbody tr th:only-of-type {\n",
              "        vertical-align: middle;\n",
              "    }\n",
              "\n",
              "    .dataframe tbody tr th {\n",
              "        vertical-align: top;\n",
              "    }\n",
              "\n",
              "    .dataframe thead th {\n",
              "        text-align: right;\n",
              "    }\n",
              "</style>\n",
              "<table border=\"1\" class=\"dataframe\">\n",
              "  <thead>\n",
              "    <tr style=\"text-align: right;\">\n",
              "      <th></th>\n",
              "      <th>Document_No</th>\n",
              "      <th>Dominant_Topic</th>\n",
              "      <th>Topic_Perc_Contrib</th>\n",
              "      <th>Keywords</th>\n",
              "      <th>Text</th>\n",
              "    </tr>\n",
              "  </thead>\n",
              "  <tbody>\n",
              "    <tr>\n",
              "      <th>0</th>\n",
              "      <td>0</td>\n",
              "      <td>15.0</td>\n",
              "      <td>0.0694</td>\n",
              "      <td>dedicated, live, walk, scurry, realise, decent...</td>\n",
              "      <td>dedicated brother melville ago published narra...</td>\n",
              "    </tr>\n",
              "    <tr>\n",
              "      <th>1</th>\n",
              "      <td>1</td>\n",
              "      <td>19.0</td>\n",
              "      <td>0.0751</td>\n",
              "      <td>hear, moisten, reigned, straight, realise, enj...</td>\n",
              "      <td>voyaging straight maramma lived reigned myster...</td>\n",
              "    </tr>\n",
              "    <tr>\n",
              "      <th>2</th>\n",
              "      <td>2</td>\n",
              "      <td>0.0</td>\n",
              "      <td>0.0500</td>\n",
              "      <td>bracken, stay, revise, japanese, strike, walk,...</td>\n",
              "      <td>slender girl tan coat white tamoshanter fronti...</td>\n",
              "    </tr>\n",
              "    <tr>\n",
              "      <th>3</th>\n",
              "      <td>3</td>\n",
              "      <td>0.0</td>\n",
              "      <td>0.0500</td>\n",
              "      <td>bracken, stay, revise, japanese, strike, walk,...</td>\n",
              "      <td>heart hill land glenavelin stretch west south ...</td>\n",
              "    </tr>\n",
              "    <tr>\n",
              "      <th>4</th>\n",
              "      <td>4</td>\n",
              "      <td>0.0</td>\n",
              "      <td>0.0500</td>\n",
              "      <td>bracken, stay, revise, japanese, strike, walk,...</td>\n",
              "      <td>yarn day clipper sailingship zenith renown rec...</td>\n",
              "    </tr>\n",
              "    <tr>\n",
              "      <th>5</th>\n",
              "      <td>5</td>\n",
              "      <td>12.0</td>\n",
              "      <td>0.0664</td>\n",
              "      <td>philosopher, obstruct, stand, trim, carry, ult...</td>\n",
              "      <td>rider bar hidden trail lynch lawyer owner lazy...</td>\n",
              "    </tr>\n",
              "    <tr>\n",
              "      <th>6</th>\n",
              "      <td>6</td>\n",
              "      <td>1.0</td>\n",
              "      <td>0.0652</td>\n",
              "      <td>oldfashioned, combine, frozen, publish, mix, s...</td>\n",
              "      <td>write hold thought heard frozen north time dis...</td>\n",
              "    </tr>\n",
              "    <tr>\n",
              "      <th>7</th>\n",
              "      <td>7</td>\n",
              "      <td>4.0</td>\n",
              "      <td>0.0621</td>\n",
              "      <td>remote, dream, solitary, arrive, scurry, reali...</td>\n",
              "      <td>remote stream influence pour birth channel ins...</td>\n",
              "    </tr>\n",
              "    <tr>\n",
              "      <th>8</th>\n",
              "      <td>8</td>\n",
              "      <td>17.0</td>\n",
              "      <td>0.0609</td>\n",
              "      <td>select, immaculate, current, mix, enjoy, reali...</td>\n",
              "      <td>neighbor current life silence obstructing rive...</td>\n",
              "    </tr>\n",
              "    <tr>\n",
              "      <th>9</th>\n",
              "      <td>9</td>\n",
              "      <td>14.0</td>\n",
              "      <td>0.0652</td>\n",
              "      <td>walk, understand, shine, voyage, vast, spend, ...</td>\n",
              "      <td>understand motive writing book affectionately ...</td>\n",
              "    </tr>\n",
              "  </tbody>\n",
              "</table>\n",
              "</div>"
            ],
            "text/plain": [
              "   Document_No  ...                                               Text\n",
              "0            0  ...  dedicated brother melville ago published narra...\n",
              "1            1  ...  voyaging straight maramma lived reigned myster...\n",
              "2            2  ...  slender girl tan coat white tamoshanter fronti...\n",
              "3            3  ...  heart hill land glenavelin stretch west south ...\n",
              "4            4  ...  yarn day clipper sailingship zenith renown rec...\n",
              "5            5  ...  rider bar hidden trail lynch lawyer owner lazy...\n",
              "6            6  ...  write hold thought heard frozen north time dis...\n",
              "7            7  ...  remote stream influence pour birth channel ins...\n",
              "8            8  ...  neighbor current life silence obstructing rive...\n",
              "9            9  ...  understand motive writing book affectionately ...\n",
              "\n",
              "[10 rows x 5 columns]"
            ]
          },
          "metadata": {
            "tags": []
          },
          "execution_count": 81
        }
      ]
    },
    {
      "cell_type": "code",
      "metadata": {
        "id": "DHT0p2Sg7eeu",
        "colab_type": "code",
        "colab": {
          "base_uri": "https://localhost:8080/",
          "height": 34
        },
        "outputId": "afa934b2-b750-451b-a601-5750ee90ec9f"
      },
      "source": [
        "#df_dominant_topic.columns = ['Document_No', 'Dominant_Topic', 'Topic_Perc_Contrib', 'Keywords', 'Text']\n",
        "\n",
        "# Show\n",
        "df_dominant_topic['Keywords'][0]\n"
      ],
      "execution_count": 88,
      "outputs": [
        {
          "output_type": "execute_result",
          "data": {
            "text/plain": [
              "'dedicated, live, walk, scurry, realise, decent, poor, mix, bracken, trim'"
            ]
          },
          "metadata": {
            "tags": []
          },
          "execution_count": 88
        }
      ]
    },
    {
      "cell_type": "code",
      "metadata": {
        "id": "7UQcb-1D-Plz",
        "colab_type": "code",
        "colab": {
          "base_uri": "https://localhost:8080/",
          "height": 34
        },
        "outputId": "8310b885-cb9b-4102-ef02-b22cf8901cfc"
      },
      "source": [
        "df_dominant_topic['Text'][0]"
      ],
      "execution_count": 89,
      "outputs": [
        {
          "output_type": "execute_result",
          "data": {
            "text/plain": [
              "'dedicated brother melville ago published narrative'"
            ]
          },
          "metadata": {
            "tags": []
          },
          "execution_count": 89
        }
      ]
    }
  ]
}
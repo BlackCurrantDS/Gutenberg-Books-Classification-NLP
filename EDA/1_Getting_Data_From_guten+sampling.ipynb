{
  "nbformat": 4,
  "nbformat_minor": 0,
  "metadata": {
    "kernelspec": {
      "display_name": "Python 3",
      "language": "python",
      "name": "python3"
    },
    "language_info": {
      "codemirror_mode": {
        "name": "ipython",
        "version": 3
      },
      "file_extension": ".py",
      "mimetype": "text/x-python",
      "name": "python",
      "nbconvert_exporter": "python",
      "pygments_lexer": "ipython3",
      "version": "3.7.6"
    },
    "colab": {
      "name": "1.Getting-Data-From-guten+sampling.ipynb",
      "provenance": [],
      "collapsed_sections": [],
      "include_colab_link": true
    }
  },
  "cells": [
    {
      "cell_type": "markdown",
      "metadata": {
        "id": "view-in-github",
        "colab_type": "text"
      },
      "source": [
        "<a href=\"https://colab.research.google.com/github/BlackCurrantDS/ATiML-Project/blob/master/1_Getting_Data_From_guten%2Bsampling.ipynb\" target=\"_parent\"><img src=\"https://colab.research.google.com/assets/colab-badge.svg\" alt=\"Open In Colab\"/></a>"
      ]
    },
    {
      "cell_type": "code",
      "metadata": {
        "id": "35uAQIqOR7Vu",
        "colab_type": "code",
        "colab": {}
      },
      "source": [
        "#Unzip the Overall data\n",
        "!unzip Gutenberg_English_Fiction_1k.zip -d books_set\n"
      ],
      "execution_count": 0,
      "outputs": []
    },
    {
      "cell_type": "code",
      "metadata": {
        "id": "SbuISUxkRlJh",
        "colab_type": "code",
        "outputId": "b4d31dbd-863c-47e8-f596-75a4b946f8c4",
        "colab": {
          "base_uri": "https://localhost:8080/",
          "height": 204
        }
      },
      "source": [
        "#Reading the meta data file\n",
        "import pandas as pd\n",
        "\n",
        "data = []\n",
        "\n",
        "import os\n",
        "file = os.path.abspath('books_set/Gutenberg_English_Fiction_1k/master996.csv')\n",
        "\n",
        "with open(file, \"rb\") as myfile:\n",
        "    # read the header seperately\n",
        "    # decode it as 'utf-8', remove any special characters, and split it on the comma (or deliminator)\n",
        "    header = myfile.readline().decode('utf-8').replace('\\r\\n', '').split(';')\n",
        "    # read the rest of the data\n",
        "    for line in myfile:\n",
        "        row = line.decode('utf-8', errors='ignore').replace('\\r\\n', '').split(';')\n",
        "        data.append(row)\n",
        "\n",
        "# save the data as a dataframe\n",
        "meta_data = pd.DataFrame(data=data, columns = header)\n",
        "meta_data.head(5)"
      ],
      "execution_count": 4,
      "outputs": [
        {
          "output_type": "execute_result",
          "data": {
            "text/html": [
              "<div>\n",
              "<style scoped>\n",
              "    .dataframe tbody tr th:only-of-type {\n",
              "        vertical-align: middle;\n",
              "    }\n",
              "\n",
              "    .dataframe tbody tr th {\n",
              "        vertical-align: top;\n",
              "    }\n",
              "\n",
              "    .dataframe thead th {\n",
              "        text-align: right;\n",
              "    }\n",
              "</style>\n",
              "<table border=\"1\" class=\"dataframe\">\n",
              "  <thead>\n",
              "    <tr style=\"text-align: right;\">\n",
              "      <th></th>\n",
              "      <th>Book_Name</th>\n",
              "      <th>book_id</th>\n",
              "      <th>guten_genre</th>\n",
              "      <th>Author_Name</th>\n",
              "    </tr>\n",
              "  </thead>\n",
              "  <tbody>\n",
              "    <tr>\n",
              "      <th>0</th>\n",
              "      <td>The Mystery of the Boule Cabinet: A Detective ...</td>\n",
              "      <td>pg10067.epub</td>\n",
              "      <td>Detective and Mystery</td>\n",
              "      <td>Stevenson| Burton Egbert</td>\n",
              "    </tr>\n",
              "    <tr>\n",
              "      <th>1</th>\n",
              "      <td>The Pupil</td>\n",
              "      <td>pg1032.epub</td>\n",
              "      <td>Literary</td>\n",
              "      <td>James| Henry</td>\n",
              "    </tr>\n",
              "    <tr>\n",
              "      <th>2</th>\n",
              "      <td>At Love's Cost</td>\n",
              "      <td>pg10379.epub</td>\n",
              "      <td>Literary</td>\n",
              "      <td>Garvice| Charles</td>\n",
              "    </tr>\n",
              "    <tr>\n",
              "      <th>3</th>\n",
              "      <td>The Heart of the Range</td>\n",
              "      <td>pg10473.epub</td>\n",
              "      <td>Western Stories</td>\n",
              "      <td>White| William Patterson</td>\n",
              "    </tr>\n",
              "    <tr>\n",
              "      <th>4</th>\n",
              "      <td>The Worshipper of the Image</td>\n",
              "      <td>pg10812.epub</td>\n",
              "      <td>Literary</td>\n",
              "      <td>Gallienne| Richard Le</td>\n",
              "    </tr>\n",
              "  </tbody>\n",
              "</table>\n",
              "</div>"
            ],
            "text/plain": [
              "                                           Book_Name  ...               Author_Name\n",
              "0  The Mystery of the Boule Cabinet: A Detective ...  ...  Stevenson| Burton Egbert\n",
              "1                                          The Pupil  ...              James| Henry\n",
              "2                                     At Love's Cost  ...          Garvice| Charles\n",
              "3                             The Heart of the Range  ...  White| William Patterson\n",
              "4                        The Worshipper of the Image  ...     Gallienne| Richard Le\n",
              "\n",
              "[5 rows x 4 columns]"
            ]
          },
          "metadata": {
            "tags": []
          },
          "execution_count": 4
        }
      ]
    },
    {
      "cell_type": "code",
      "metadata": {
        "id": "G6ivSGBKRlJ1",
        "colab_type": "code",
        "outputId": "bf7568f7-7aff-4c70-f1b1-c9d899edf253",
        "colab": {
          "base_uri": "https://localhost:8080/",
          "height": 419
        }
      },
      "source": [
        "#Extracting the bookid into Dataframe column FileNo, book id pg10067- FileNo - 10067\n",
        "\n",
        "meta_data['FileNo'] = meta_data['book_id'].str.replace(r'\\D+', '').astype(int)\n",
        "\n",
        "#Checkign the values\n",
        "\n",
        "meta_data.sort_values(by=['FileNo'], inplace=True)\n",
        "meta_data"
      ],
      "execution_count": 5,
      "outputs": [
        {
          "output_type": "execute_result",
          "data": {
            "text/html": [
              "<div>\n",
              "<style scoped>\n",
              "    .dataframe tbody tr th:only-of-type {\n",
              "        vertical-align: middle;\n",
              "    }\n",
              "\n",
              "    .dataframe tbody tr th {\n",
              "        vertical-align: top;\n",
              "    }\n",
              "\n",
              "    .dataframe thead th {\n",
              "        text-align: right;\n",
              "    }\n",
              "</style>\n",
              "<table border=\"1\" class=\"dataframe\">\n",
              "  <thead>\n",
              "    <tr style=\"text-align: right;\">\n",
              "      <th></th>\n",
              "      <th>Book_Name</th>\n",
              "      <th>book_id</th>\n",
              "      <th>guten_genre</th>\n",
              "      <th>Author_Name</th>\n",
              "      <th>FileNo</th>\n",
              "    </tr>\n",
              "  </thead>\n",
              "  <tbody>\n",
              "    <tr>\n",
              "      <th>961</th>\n",
              "      <td>Alice's Adventures in Wonderland</td>\n",
              "      <td>pg11CarolAlice.epub</td>\n",
              "      <td>Literary</td>\n",
              "      <td>Carroll| Lewis</td>\n",
              "      <td>11</td>\n",
              "    </tr>\n",
              "    <tr>\n",
              "      <th>962</th>\n",
              "      <td>Through the Looking-Glass</td>\n",
              "      <td>pg12CarolGlassLook.epub</td>\n",
              "      <td>Literary</td>\n",
              "      <td>Carroll| Lewis</td>\n",
              "      <td>12</td>\n",
              "    </tr>\n",
              "    <tr>\n",
              "      <th>995</th>\n",
              "      <td>A Tale of Two Cities</td>\n",
              "      <td>pg98DickensTaleCities.epub</td>\n",
              "      <td>Literary</td>\n",
              "      <td>Dickens| Charles</td>\n",
              "      <td>98</td>\n",
              "    </tr>\n",
              "    <tr>\n",
              "      <th>958</th>\n",
              "      <td>Persuasion</td>\n",
              "      <td>pg105JaneAusPersuatn.epub</td>\n",
              "      <td>Literary</td>\n",
              "      <td>Austen| Jane</td>\n",
              "      <td>105</td>\n",
              "    </tr>\n",
              "    <tr>\n",
              "      <th>959</th>\n",
              "      <td>Return of Sherlock Holmes</td>\n",
              "      <td>pg108DoyleReturnSherlk.epub</td>\n",
              "      <td>Detective and Mystery</td>\n",
              "      <td>Connan| Doyle</td>\n",
              "      <td>108</td>\n",
              "    </tr>\n",
              "    <tr>\n",
              "      <th>...</th>\n",
              "      <td>...</td>\n",
              "      <td>...</td>\n",
              "      <td>...</td>\n",
              "      <td>...</td>\n",
              "      <td>...</td>\n",
              "    </tr>\n",
              "    <tr>\n",
              "      <th>863</th>\n",
              "      <td>Kate Vernon: A Tale. Vol. 2 (of 3)</td>\n",
              "      <td>pg53356.epub</td>\n",
              "      <td>Literary</td>\n",
              "      <td>Alexander| Mrs.</td>\n",
              "      <td>53356</td>\n",
              "    </tr>\n",
              "    <tr>\n",
              "      <th>864</th>\n",
              "      <td>The Touch of Abner</td>\n",
              "      <td>pg53604.epub</td>\n",
              "      <td>Literary</td>\n",
              "      <td>Cody| H. A.</td>\n",
              "      <td>53604</td>\n",
              "    </tr>\n",
              "    <tr>\n",
              "      <th>865</th>\n",
              "      <td>Kate Vernon: A Tale. Vol. 3 (of 3)</td>\n",
              "      <td>pg53668.epub</td>\n",
              "      <td>Literary</td>\n",
              "      <td>Alexander| Mrs.</td>\n",
              "      <td>53668</td>\n",
              "    </tr>\n",
              "    <tr>\n",
              "      <th>964</th>\n",
              "      <td>Mardi: and A Voyage Thither I</td>\n",
              "      <td>pg13720HermanVoyage1.epub</td>\n",
              "      <td>Sea and Adventure</td>\n",
              "      <td>Melville| Herman</td>\n",
              "      <td>137201</td>\n",
              "    </tr>\n",
              "    <tr>\n",
              "      <th>965</th>\n",
              "      <td>Mardi: and A Voyage Thither ||</td>\n",
              "      <td>pg13721HermanVoyage2.epub</td>\n",
              "      <td>Sea and Adventure</td>\n",
              "      <td>Melville| Herman</td>\n",
              "      <td>137212</td>\n",
              "    </tr>\n",
              "  </tbody>\n",
              "</table>\n",
              "<p>996 rows × 5 columns</p>\n",
              "</div>"
            ],
            "text/plain": [
              "                              Book_Name  ...  FileNo\n",
              "961    Alice's Adventures in Wonderland  ...      11\n",
              "962           Through the Looking-Glass  ...      12\n",
              "995                A Tale of Two Cities  ...      98\n",
              "958                          Persuasion  ...     105\n",
              "959           Return of Sherlock Holmes  ...     108\n",
              "..                                  ...  ...     ...\n",
              "863  Kate Vernon: A Tale. Vol. 2 (of 3)  ...   53356\n",
              "864                  The Touch of Abner  ...   53604\n",
              "865  Kate Vernon: A Tale. Vol. 3 (of 3)  ...   53668\n",
              "964       Mardi: and A Voyage Thither I  ...  137201\n",
              "965      Mardi: and A Voyage Thither ||  ...  137212\n",
              "\n",
              "[996 rows x 5 columns]"
            ]
          },
          "metadata": {
            "tags": []
          },
          "execution_count": 5
        }
      ]
    },
    {
      "cell_type": "code",
      "metadata": {
        "id": "dykafwtBRlKF",
        "colab_type": "code",
        "colab": {}
      },
      "source": [
        "import glob\n",
        "\n",
        "# Getting all files and its names into dict and then converting to dataframe\"\"\"\n",
        "\n",
        "Content = {}\n",
        "\n",
        "#Its placed in Books folder at local , need to change it later \n",
        "%timeit\n",
        "\n",
        "files = glob.glob(\"books_set//Gutenberg_English_Fiction_1k//Gutenberg_19th_century_English_Fiction//*.html\")\n",
        "for f in files:\n",
        "    with open(f,mode ='r', encoding = 'utf8') as myfile:\n",
        "        Content[f]=myfile.read().replace(\"<br>\", '\\n')\n"
      ],
      "execution_count": 0,
      "outputs": []
    },
    {
      "cell_type": "code",
      "metadata": {
        "id": "ojm8z3o-RlKP",
        "colab_type": "code",
        "outputId": "990fb157-ed85-4fc9-ebc8-88df4eaedf69",
        "colab": {
          "base_uri": "https://localhost:8080/",
          "height": 646
        }
      },
      "source": [
        "#Putting it in dataframe\n",
        "df = pd.DataFrame.from_dict(Content,orient='index').reset_index()\n",
        "\n",
        "#Renaming column names\n",
        "df.columns = ['File_Name', 'Data']\n",
        "print(df.head(5))\n",
        "print(df['File_Name'][0])\n",
        "df['File_Name'] = df['File_Name'].str.replace(\"books_set//Gutenberg_English_Fiction_1k//Gutenberg_19th_century_English_Fiction/\", \"l\")\n",
        "print(df['File_Name'][0])\n",
        "#Adding FilNo column to join\n",
        "df['FileNo'] = df['File_Name'].str.replace(r'\\D+', '').astype(int)\n",
        "left = df\n",
        "right = meta_data\n",
        "result = pd.merge(left, right , how='inner', on=['FileNo', 'FileNo'])\n",
        "\n",
        "#Checking resulting dataframe\n",
        "result.info()\n",
        "\n",
        "#Dropping unnecessery columns\n",
        "\n",
        "books=result.drop(['File_Name', 'book_id'], axis=1)\n",
        "books.head(5)"
      ],
      "execution_count": 7,
      "outputs": [
        {
          "output_type": "stream",
          "text": [
            "                                           File_Name                                               Data\n",
            "0  books_set//Gutenberg_English_Fiction_1k//Guten...  <p>Man proposes ... and wives sometimes interf...\n",
            "1  books_set//Gutenberg_English_Fiction_1k//Guten...  <p>'There is nothing, sir, too little for so l...\n",
            "2  books_set//Gutenberg_English_Fiction_1k//Guten...  <p>This story originally appeared in the Weekl...\n",
            "3  books_set//Gutenberg_English_Fiction_1k//Guten...  <p>The Mystery of Monastery Farm\\n<p>On the el...\n",
            "4  books_set//Gutenberg_English_Fiction_1k//Guten...  <p>Click on this box here or with any of the f...\n",
            "books_set//Gutenberg_English_Fiction_1k//Gutenberg_19th_century_English_Fiction/pg41330-content.html\n",
            "lpg41330-content.html\n",
            "<class 'pandas.core.frame.DataFrame'>\n",
            "Int64Index: 996 entries, 0 to 995\n",
            "Data columns (total 7 columns):\n",
            " #   Column       Non-Null Count  Dtype \n",
            "---  ------       --------------  ----- \n",
            " 0   File_Name    996 non-null    object\n",
            " 1   Data         996 non-null    object\n",
            " 2   FileNo       996 non-null    int64 \n",
            " 3   Book_Name    996 non-null    object\n",
            " 4   book_id      996 non-null    object\n",
            " 5   guten_genre  996 non-null    object\n",
            " 6   Author_Name  996 non-null    object\n",
            "dtypes: int64(1), object(6)\n",
            "memory usage: 62.2+ KB\n"
          ],
          "name": "stdout"
        },
        {
          "output_type": "execute_result",
          "data": {
            "text/html": [
              "<div>\n",
              "<style scoped>\n",
              "    .dataframe tbody tr th:only-of-type {\n",
              "        vertical-align: middle;\n",
              "    }\n",
              "\n",
              "    .dataframe tbody tr th {\n",
              "        vertical-align: top;\n",
              "    }\n",
              "\n",
              "    .dataframe thead th {\n",
              "        text-align: right;\n",
              "    }\n",
              "</style>\n",
              "<table border=\"1\" class=\"dataframe\">\n",
              "  <thead>\n",
              "    <tr style=\"text-align: right;\">\n",
              "      <th></th>\n",
              "      <th>Data</th>\n",
              "      <th>FileNo</th>\n",
              "      <th>Book_Name</th>\n",
              "      <th>guten_genre</th>\n",
              "      <th>Author_Name</th>\n",
              "    </tr>\n",
              "  </thead>\n",
              "  <tbody>\n",
              "    <tr>\n",
              "      <th>0</th>\n",
              "      <td>&lt;p&gt;Man proposes ... and wives sometimes interf...</td>\n",
              "      <td>41330</td>\n",
              "      <td>Mrs. Dorriman: A Novel. Volume 2 of 3</td>\n",
              "      <td>Literary</td>\n",
              "      <td>Chetwynd| Mrs. Henry Wayland</td>\n",
              "    </tr>\n",
              "    <tr>\n",
              "      <th>1</th>\n",
              "      <td>&lt;p&gt;'There is nothing, sir, too little for so l...</td>\n",
              "      <td>28925</td>\n",
              "      <td>Lover or Friend</td>\n",
              "      <td>Literary</td>\n",
              "      <td>Carey| Rosa Nouchette</td>\n",
              "    </tr>\n",
              "    <tr>\n",
              "      <th>2</th>\n",
              "      <td>&lt;p&gt;This story originally appeared in the Weekl...</td>\n",
              "      <td>34166</td>\n",
              "      <td>Capricious Caroline</td>\n",
              "      <td>Literary</td>\n",
              "      <td>Rowlands| Effie Adelaide</td>\n",
              "    </tr>\n",
              "    <tr>\n",
              "      <th>3</th>\n",
              "      <td>&lt;p&gt;The Mystery of Monastery Farm\\n&lt;p&gt;On the el...</td>\n",
              "      <td>11931</td>\n",
              "      <td>The Mystery of Monastery Farm</td>\n",
              "      <td>Literary</td>\n",
              "      <td>Naylor| H. R.</td>\n",
              "    </tr>\n",
              "    <tr>\n",
              "      <th>4</th>\n",
              "      <td>&lt;p&gt;Click on this box here or with any of the f...</td>\n",
              "      <td>5240</td>\n",
              "      <td>The Confessions of Harry Lorrequer  Complete</td>\n",
              "      <td>Literary</td>\n",
              "      <td>Lever| Charles James</td>\n",
              "    </tr>\n",
              "  </tbody>\n",
              "</table>\n",
              "</div>"
            ],
            "text/plain": [
              "                                                Data  ...                   Author_Name\n",
              "0  <p>Man proposes ... and wives sometimes interf...  ...  Chetwynd| Mrs. Henry Wayland\n",
              "1  <p>'There is nothing, sir, too little for so l...  ...         Carey| Rosa Nouchette\n",
              "2  <p>This story originally appeared in the Weekl...  ...      Rowlands| Effie Adelaide\n",
              "3  <p>The Mystery of Monastery Farm\\n<p>On the el...  ...                 Naylor| H. R.\n",
              "4  <p>Click on this box here or with any of the f...  ...          Lever| Charles James\n",
              "\n",
              "[5 rows x 5 columns]"
            ]
          },
          "metadata": {
            "tags": []
          },
          "execution_count": 7
        }
      ]
    },
    {
      "cell_type": "code",
      "metadata": {
        "id": "oYJuq2-cRlKZ",
        "colab_type": "code",
        "outputId": "6c18424e-1a75-4265-e584-b78a9e7d04f9",
        "colab": {
          "base_uri": "https://localhost:8080/",
          "height": 54
        }
      },
      "source": [
        "from collections import Counter\n",
        "print('Dataset shape %s' % Counter(books['guten_genre']))"
      ],
      "execution_count": 8,
      "outputs": [
        {
          "output_type": "stream",
          "text": [
            "Dataset shape Counter({'Literary': 794, 'Detective and Mystery': 111, 'Sea and Adventure': 36, 'Western Stories': 18, 'Love and Romance': 18, 'Ghost and Horror': 6, 'Humorous and Wit and Satire': 6, 'Christmas Stories': 5, 'Allegories': 2})\n"
          ],
          "name": "stdout"
        }
      ]
    },
    {
      "cell_type": "code",
      "metadata": {
        "id": "KT_uBIfCRlKk",
        "colab_type": "code",
        "outputId": "ddb1c1ae-5b71-4fe0-b5ea-e9a7c07c15b8",
        "colab": {
          "base_uri": "https://localhost:8080/",
          "height": 34
        }
      },
      "source": [
        "s_a_books = books['guten_genre'] =='Sea and Adventure'\n",
        "s_a_df = books[s_a_books]\n",
        "w_s_books = books['guten_genre'] =='Western Stories'\n",
        "w_s_df = books[w_s_books]\n",
        "l_r_books = books['guten_genre'] =='Love and Romance'\n",
        "l_r_df = books[l_r_books]\n",
        "g_h_books = books['guten_genre'] =='Ghost and Horror'\n",
        "g_h_df = books[g_h_books]\n",
        "h_t_books = books['guten_genre'] =='Humorous and Wit and Satire'\n",
        "h_t_df = books[h_t_books]\n",
        "l_books = books['guten_genre'] =='Literary'\n",
        "l_df = books[l_books]\n",
        "d_m_books = books['guten_genre'] =='Detective and Mystery'\n",
        "d_m_df = books[d_m_books]\n",
        "c_s_books = books['guten_genre'] =='Christmas Stories'\n",
        "c_s_df = books[c_s_books]\n",
        "a_l_books = books['guten_genre'] =='Allegories'\n",
        "a_l_df = books[a_l_books]\n",
        "#sample_books = pd.concat([s_a_df.head(5),w_s_df.head(5),l_r_df.head(5),g_h_df.head(5),h_t_df.head(5),l_df.head(5),d_m_df.head(5),c_s_df.head(5)])\n",
        "sample_books = pd.concat([s_a_df,d_m_df.head(35),l_df.head(40)])\n",
        "sample_books.shape"
      ],
      "execution_count": 9,
      "outputs": [
        {
          "output_type": "execute_result",
          "data": {
            "text/plain": [
              "(111, 5)"
            ]
          },
          "metadata": {
            "tags": []
          },
          "execution_count": 9
        }
      ]
    },
    {
      "cell_type": "code",
      "metadata": {
        "id": "Xvu_XYkyRlKu",
        "colab_type": "code",
        "outputId": "6f126d2b-2a24-4797-c1b3-05d6e655b11a",
        "colab": {
          "base_uri": "https://localhost:8080/",
          "height": 289
        }
      },
      "source": [
        "sample_books.head(5)"
      ],
      "execution_count": 10,
      "outputs": [
        {
          "output_type": "execute_result",
          "data": {
            "text/html": [
              "<div>\n",
              "<style scoped>\n",
              "    .dataframe tbody tr th:only-of-type {\n",
              "        vertical-align: middle;\n",
              "    }\n",
              "\n",
              "    .dataframe tbody tr th {\n",
              "        vertical-align: top;\n",
              "    }\n",
              "\n",
              "    .dataframe thead th {\n",
              "        text-align: right;\n",
              "    }\n",
              "</style>\n",
              "<table border=\"1\" class=\"dataframe\">\n",
              "  <thead>\n",
              "    <tr style=\"text-align: right;\">\n",
              "      <th></th>\n",
              "      <th>Data</th>\n",
              "      <th>FileNo</th>\n",
              "      <th>Book_Name</th>\n",
              "      <th>guten_genre</th>\n",
              "      <th>Author_Name</th>\n",
              "    </tr>\n",
              "  </thead>\n",
              "  <tbody>\n",
              "    <tr>\n",
              "      <th>9</th>\n",
              "      <td>&lt;p&gt;Blacksheep! Blacksheep!\\n&lt;p&gt;Mrs. Howard Fea...</td>\n",
              "      <td>21887</td>\n",
              "      <td>Blacksheep! Blacksheep!</td>\n",
              "      <td>Sea and Adventure</td>\n",
              "      <td>Nicholson| Meredith</td>\n",
              "    </tr>\n",
              "    <tr>\n",
              "      <th>17</th>\n",
              "      <td>&lt;p&gt;DEDICATED TO My Brother, ALLAN MELVILLE.\\n&lt;...</td>\n",
              "      <td>137201</td>\n",
              "      <td>Mardi: and A Voyage Thither I</td>\n",
              "      <td>Sea and Adventure</td>\n",
              "      <td>Melville| Herman</td>\n",
              "    </tr>\n",
              "    <tr>\n",
              "      <th>19</th>\n",
              "      <td>&lt;p&gt;Shortly.\\n&lt;p&gt;... The first shot was just a ...</td>\n",
              "      <td>31083</td>\n",
              "      <td>The Recipe for Diamonds</td>\n",
              "      <td>Sea and Adventure</td>\n",
              "      <td>Hyne| Charles John Cutcliffe Wright</td>\n",
              "    </tr>\n",
              "    <tr>\n",
              "      <th>45</th>\n",
              "      <td>&lt;p&gt;The night was as dark as the inside of a co...</td>\n",
              "      <td>27909</td>\n",
              "      <td>Dick Leslie's Luck: A Story of Shipwreck and A...</td>\n",
              "      <td>Sea and Adventure</td>\n",
              "      <td>Lillibridge| Will</td>\n",
              "    </tr>\n",
              "    <tr>\n",
              "      <th>60</th>\n",
              "      <td>&lt;p&gt;This book is inscribed to those commanders ...</td>\n",
              "      <td>32114</td>\n",
              "      <td>Command</td>\n",
              "      <td>Sea and Adventure</td>\n",
              "      <td>McFee| William</td>\n",
              "    </tr>\n",
              "  </tbody>\n",
              "</table>\n",
              "</div>"
            ],
            "text/plain": [
              "                                                 Data  ...                          Author_Name\n",
              "9   <p>Blacksheep! Blacksheep!\\n<p>Mrs. Howard Fea...  ...                  Nicholson| Meredith\n",
              "17  <p>DEDICATED TO My Brother, ALLAN MELVILLE.\\n<...  ...                     Melville| Herman\n",
              "19  <p>Shortly.\\n<p>... The first shot was just a ...  ...  Hyne| Charles John Cutcliffe Wright\n",
              "45  <p>The night was as dark as the inside of a co...  ...                    Lillibridge| Will\n",
              "60  <p>This book is inscribed to those commanders ...  ...                       McFee| William\n",
              "\n",
              "[5 rows x 5 columns]"
            ]
          },
          "metadata": {
            "tags": []
          },
          "execution_count": 10
        }
      ]
    },
    {
      "cell_type": "code",
      "metadata": {
        "id": "QL5UevCfRlK6",
        "colab_type": "code",
        "outputId": "62a7cbf7-e523-4ff4-9956-ab35ea3e7f25",
        "colab": {
          "base_uri": "https://localhost:8080/",
          "height": 34
        }
      },
      "source": [
        "from collections import Counter\n",
        "print('Dataset shape %s' % Counter(sample_books['guten_genre']))"
      ],
      "execution_count": 11,
      "outputs": [
        {
          "output_type": "stream",
          "text": [
            "Dataset shape Counter({'Literary': 40, 'Sea and Adventure': 36, 'Detective and Mystery': 35})\n"
          ],
          "name": "stdout"
        }
      ]
    },
    {
      "cell_type": "code",
      "metadata": {
        "id": "YB_Hkx0ERlLD",
        "colab_type": "code",
        "outputId": "a77cc676-65b9-4c4a-ec3c-a0b756976aad",
        "colab": {}
      },
      "source": [
        "books = books[books['guten_genre'].isin(['Sea and Adventure','Western Stories','Love and Romance','Christmas Stories','Ghost and Horror'])]\n",
        "books.head()\n",
        "from collections import Counter\n",
        "print('Dataset shape %s' % Counter(books['guten_genre']))"
      ],
      "execution_count": 0,
      "outputs": [
        {
          "output_type": "stream",
          "text": [
            "Dataset shape Counter({'Sea and Adventure': 36, 'Western Stories': 18, 'Love and Romance': 18, 'Ghost and Horror': 6, 'Christmas Stories': 5})\n"
          ],
          "name": "stdout"
        }
      ]
    },
    {
      "cell_type": "code",
      "metadata": {
        "id": "74WN0_FCRlLO",
        "colab_type": "code",
        "colab": {}
      },
      "source": [
        "from bs4 import BeautifulSoup\n",
        "sample_books['Data']= [BeautifulSoup(text).get_text() for text in sample_books['Data'] ]\n",
        "sample_books.head()\n",
        "sample_books.to_csv('books.csv')"
      ],
      "execution_count": 0,
      "outputs": []
    },
    {
      "cell_type": "code",
      "metadata": {
        "id": "NyW6gh5HRlLX",
        "colab_type": "code",
        "outputId": "2deca545-37a6-4c81-e90f-85f079b29c6a",
        "colab": {
          "base_uri": "https://localhost:8080/",
          "height": 400
        }
      },
      "source": [
        "# This is to see number of books per authors, but so many authors hence useless\n",
        "#ax = sns.barplot(x = books['Author_Name'], y = books['FileNo'])\n",
        "\n",
        "#Plotting number of authors per gerne\n",
        "import matplotlib.pyplot as plt\n",
        "sample_books.groupby('guten_genre')['Data'].count().plot(kind = 'bar')\n",
        "plt.show()\n",
        "plt.clf()\n"
      ],
      "execution_count": 13,
      "outputs": [
        {
          "output_type": "display_data",
          "data": {
            "image/png": "[encoded data removed]",
            "text/plain": [
              "<Figure size 432x288 with 1 Axes>"
            ]
          },
          "metadata": {
            "tags": [],
            "needs_background": "light"
          }
        },
        {
          "output_type": "display_data",
          "data": {
            "text/plain": [
              "<Figure size 432x288 with 0 Axes>"
            ]
          },
          "metadata": {
            "tags": []
          }
        }
      ]
    },
    {
      "cell_type": "code",
      "metadata": {
        "id": "eNM-tPjuRlLh",
        "colab_type": "code",
        "colab": {}
      },
      "source": [
        "from imblearn.under_sampling import RandomUnderSampler\n",
        "from collections import Counter\n",
        "print('Dataset shape %s' % Counter(books['genre']))\n",
        "sm= RandomUnderSampler()\n",
        "X_res, y_res = sm.fit_resample(books['data'], books['genre'])\n",
        "print('Resampled dataset shape %s' % Counter(y_res))"
      ],
      "execution_count": 0,
      "outputs": []
    },
    {
      "cell_type": "code",
      "metadata": {
        "id": "dOLwjwWuRlLp",
        "colab_type": "code",
        "outputId": "b5d9aca3-75a8-4ad2-d480-2d6fef9f427f",
        "colab": {}
      },
      "source": [
        "from imblearn.under_sampling import RandomUnderSampler\n",
        "from collections import Counter\n",
        "print('Dataset shape %s' % Counter(books['genre']))\n",
        "only_majority = books[books['genre'].isin(['Literary', 'Detective and Mystery', 'Sea and Adventure'])]\n",
        "print('Dataset shape %s' % Counter(only_majority['genre']))\n",
        "sm= RandomUnderSampler()\n",
        "X_res, y_res = sm.fit_resample(only_majority['data'], only_majority['genre'])\n",
        "print('Resampled dataset shape %s' % Counter(y_res))"
      ],
      "execution_count": 0,
      "outputs": [
        {
          "output_type": "stream",
          "text": [
            "Dataset shape Counter({'Literary': 794, 'Detective and Mystery': 111, 'Sea and Adventure': 36, 'Western Stories': 18, 'Love and Romance': 18, 'Humorous and Wit and Satire': 6, 'Ghost and Horror': 6, 'Christmas Stories': 5, 'Allegories': 2})\n",
            "Dataset shape Counter({'Literary': 794, 'Detective and Mystery': 111, 'Sea and Adventure': 36})\n"
          ],
          "name": "stdout"
        }
      ]
    },
    {
      "cell_type": "code",
      "metadata": {
        "id": "jLJPmblmkpiA",
        "colab_type": "code",
        "colab": {
          "base_uri": "https://localhost:8080/",
          "height": 289
        },
        "outputId": "e92f7ec9-a9a1-4f8b-97fe-b57e1426859f"
      },
      "source": [
        "sample_books.head(5)"
      ],
      "execution_count": 14,
      "outputs": [
        {
          "output_type": "execute_result",
          "data": {
            "text/html": [
              "<div>\n",
              "<style scoped>\n",
              "    .dataframe tbody tr th:only-of-type {\n",
              "        vertical-align: middle;\n",
              "    }\n",
              "\n",
              "    .dataframe tbody tr th {\n",
              "        vertical-align: top;\n",
              "    }\n",
              "\n",
              "    .dataframe thead th {\n",
              "        text-align: right;\n",
              "    }\n",
              "</style>\n",
              "<table border=\"1\" class=\"dataframe\">\n",
              "  <thead>\n",
              "    <tr style=\"text-align: right;\">\n",
              "      <th></th>\n",
              "      <th>Data</th>\n",
              "      <th>FileNo</th>\n",
              "      <th>Book_Name</th>\n",
              "      <th>guten_genre</th>\n",
              "      <th>Author_Name</th>\n",
              "    </tr>\n",
              "  </thead>\n",
              "  <tbody>\n",
              "    <tr>\n",
              "      <th>9</th>\n",
              "      <td>Blacksheep! Blacksheep!\\nMrs. Howard Featherst...</td>\n",
              "      <td>21887</td>\n",
              "      <td>Blacksheep! Blacksheep!</td>\n",
              "      <td>Sea and Adventure</td>\n",
              "      <td>Nicholson| Meredith</td>\n",
              "    </tr>\n",
              "    <tr>\n",
              "      <th>17</th>\n",
              "      <td>DEDICATED TO My Brother, ALLAN MELVILLE.\\nNot ...</td>\n",
              "      <td>137201</td>\n",
              "      <td>Mardi: and A Voyage Thither I</td>\n",
              "      <td>Sea and Adventure</td>\n",
              "      <td>Melville| Herman</td>\n",
              "    </tr>\n",
              "    <tr>\n",
              "      <th>19</th>\n",
              "      <td>Shortly.\\n... The first shot was just a rib to...</td>\n",
              "      <td>31083</td>\n",
              "      <td>The Recipe for Diamonds</td>\n",
              "      <td>Sea and Adventure</td>\n",
              "      <td>Hyne| Charles John Cutcliffe Wright</td>\n",
              "    </tr>\n",
              "    <tr>\n",
              "      <th>45</th>\n",
              "      <td>The night was as dark as the inside of a cow! ...</td>\n",
              "      <td>27909</td>\n",
              "      <td>Dick Leslie's Luck: A Story of Shipwreck and A...</td>\n",
              "      <td>Sea and Adventure</td>\n",
              "      <td>Lillibridge| Will</td>\n",
              "    </tr>\n",
              "    <tr>\n",
              "      <th>60</th>\n",
              "      <td>This book is inscribed to those commanders und...</td>\n",
              "      <td>32114</td>\n",
              "      <td>Command</td>\n",
              "      <td>Sea and Adventure</td>\n",
              "      <td>McFee| William</td>\n",
              "    </tr>\n",
              "  </tbody>\n",
              "</table>\n",
              "</div>"
            ],
            "text/plain": [
              "                                                 Data  ...                          Author_Name\n",
              "9   Blacksheep! Blacksheep!\\nMrs. Howard Featherst...  ...                  Nicholson| Meredith\n",
              "17  DEDICATED TO My Brother, ALLAN MELVILLE.\\nNot ...  ...                     Melville| Herman\n",
              "19  Shortly.\\n... The first shot was just a rib to...  ...  Hyne| Charles John Cutcliffe Wright\n",
              "45  The night was as dark as the inside of a cow! ...  ...                    Lillibridge| Will\n",
              "60  This book is inscribed to those commanders und...  ...                       McFee| William\n",
              "\n",
              "[5 rows x 5 columns]"
            ]
          },
          "metadata": {
            "tags": []
          },
          "execution_count": 14
        }
      ]
    },
    {
      "cell_type": "code",
      "metadata": {
        "id": "9BmFrS2Bk16c",
        "colab_type": "code",
        "colab": {}
      },
      "source": [
        "del sample_books['FileNo']"
      ],
      "execution_count": 0,
      "outputs": []
    },
    {
      "cell_type": "code",
      "metadata": {
        "id": "0aL-uIO2lcqO",
        "colab_type": "code",
        "colab": {}
      },
      "source": [
        "sample_books.rename(columns = {'Data': 'data', 'guten_genre': 'genre'} , inplace = True)"
      ],
      "execution_count": 0,
      "outputs": []
    },
    {
      "cell_type": "code",
      "metadata": {
        "id": "A7tLTmUGmAdL",
        "colab_type": "code",
        "colab": {}
      },
      "source": [
        "sample_books.to_csv('books.csv')"
      ],
      "execution_count": 0,
      "outputs": []
    },
    {
      "cell_type": "code",
      "metadata": {
        "id": "ig3zThcGRlLz",
        "colab_type": "code",
        "colab": {}
      },
      "source": [
        "import pandas as pd\n",
        "df = pd.read_csv(\"books.csv\")\n",
        "df = pd.DataFrame(df)\n",
        "df = df[['Data', 'guten_genre']]"
      ],
      "execution_count": 0,
      "outputs": []
    },
    {
      "cell_type": "code",
      "metadata": {
        "id": "8jVSWV1qRlL8",
        "colab_type": "code",
        "outputId": "98cb880f-0ac7-42de-8aa5-f060c6573281",
        "colab": {}
      },
      "source": [
        "df.head(5)"
      ],
      "execution_count": 0,
      "outputs": [
        {
          "output_type": "execute_result",
          "data": {
            "text/html": [
              "<div>\n",
              "<style scoped>\n",
              "    .dataframe tbody tr th:only-of-type {\n",
              "        vertical-align: middle;\n",
              "    }\n",
              "\n",
              "    .dataframe tbody tr th {\n",
              "        vertical-align: top;\n",
              "    }\n",
              "\n",
              "    .dataframe thead th {\n",
              "        text-align: right;\n",
              "    }\n",
              "</style>\n",
              "<table border=\"1\" class=\"dataframe\">\n",
              "  <thead>\n",
              "    <tr style=\"text-align: right;\">\n",
              "      <th></th>\n",
              "      <th>Data</th>\n",
              "      <th>guten_genre</th>\n",
              "    </tr>\n",
              "  </thead>\n",
              "  <tbody>\n",
              "    <tr>\n",
              "      <th>0</th>\n",
              "      <td>DEDICATED TO My Brother, ALLAN MELVILLE.\\nNot ...</td>\n",
              "      <td>Sea and Adventure</td>\n",
              "    </tr>\n",
              "    <tr>\n",
              "      <th>1</th>\n",
              "      <td>We were now voyaging straight for Maramma; whe...</td>\n",
              "      <td>Sea and Adventure</td>\n",
              "    </tr>\n",
              "    <tr>\n",
              "      <th>2</th>\n",
              "      <td>\"Looking up, he saw a slender little girl in a...</td>\n",
              "      <td>Sea and Adventure</td>\n",
              "    </tr>\n",
              "    <tr>\n",
              "      <th>3</th>\n",
              "      <td>FROM the heart of a great hill land Glenavelin...</td>\n",
              "      <td>Sea and Adventure</td>\n",
              "    </tr>\n",
              "    <tr>\n",
              "      <th>4</th>\n",
              "      <td>This is a yarn of the days when the clipper sa...</td>\n",
              "      <td>Sea and Adventure</td>\n",
              "    </tr>\n",
              "  </tbody>\n",
              "</table>\n",
              "</div>"
            ],
            "text/plain": [
              "                                                Data        guten_genre\n",
              "0  DEDICATED TO My Brother, ALLAN MELVILLE.\\nNot ...  Sea and Adventure\n",
              "1  We were now voyaging straight for Maramma; whe...  Sea and Adventure\n",
              "2  \"Looking up, he saw a slender little girl in a...  Sea and Adventure\n",
              "3  FROM the heart of a great hill land Glenavelin...  Sea and Adventure\n",
              "4  This is a yarn of the days when the clipper sa...  Sea and Adventure"
            ]
          },
          "metadata": {
            "tags": []
          },
          "execution_count": 11
        }
      ]
    },
    {
      "cell_type": "code",
      "metadata": {
        "id": "alLUK9MyRlMF",
        "colab_type": "code",
        "colab": {}
      },
      "source": [
        "df.to_csv(\"books.csv\")"
      ],
      "execution_count": 0,
      "outputs": []
    },
    {
      "cell_type": "code",
      "metadata": {
        "id": "q9tbbc5tRlMP",
        "colab_type": "code",
        "outputId": "52ac7c78-9561-470f-83f0-ec46a2cfa512",
        "colab": {
          "base_uri": "https://localhost:8080/",
          "height": 139
        }
      },
      "source": [
        "from imblearn.over_sampling import SMOTENC\n",
        "from sklearn.feature_extraction.text import TfidfVectorizer\n",
        "X,y=sample_books.Data, sample_books.guten_genre\n",
        "print('Original dataset shape %s' % Counter(y))\n",
        "tfv = TfidfVectorizer()\n",
        "X_t=tfv.fit_transform(X)\n",
        "sm = SMOTENC(categorical_features=(X.shape), k_neighbors=1)\n",
        "X_res, y_res = sm.fit_resample(X_t, y)\n",
        "print('Resampled dataset shape %s' % Counter(y_res))"
      ],
      "execution_count": 0,
      "outputs": [
        {
          "output_type": "stream",
          "text": [
            "Original dataset shape Counter({'Humorous and Wit and Satire': 6, 'Christmas Stories': 5, 'Allegories': 2})\n"
          ],
          "name": "stdout"
        },
        {
          "output_type": "stream",
          "text": [
            "/usr/local/lib/python3.6/dist-packages/sklearn/utils/deprecation.py:87: FutureWarning: Function safe_indexing is deprecated; safe_indexing is deprecated in version 0.22 and will be removed in version 0.24.\n",
            "  warnings.warn(msg, category=FutureWarning)\n",
            "/usr/local/lib/python3.6/dist-packages/sklearn/utils/deprecation.py:87: FutureWarning: Function safe_indexing is deprecated; safe_indexing is deprecated in version 0.22 and will be removed in version 0.24.\n",
            "  warnings.warn(msg, category=FutureWarning)\n"
          ],
          "name": "stderr"
        },
        {
          "output_type": "stream",
          "text": [
            "Resampled dataset shape Counter({'Allegories': 6, 'Christmas Stories': 6, 'Humorous and Wit and Satire': 6})\n"
          ],
          "name": "stdout"
        }
      ]
    },
    {
      "cell_type": "code",
      "metadata": {
        "id": "ONj1Nitkmr0N",
        "colab_type": "code",
        "colab": {}
      },
      "source": [
        "from imblearn.over_sampling import SMOTENC\n",
        "from sklearn.feature_extraction.text import TfidfVectorizer\n",
        "X,y=sample_books.Data, sample_books.guten_genre\n",
        "print('Original dataset shape %s' % Counter(y))\n",
        "sm = SMOTENC(categorical_features=(X.shape), k_neighbors=1)\n",
        "X_res, y_res = sm.fit_resample(X.values, y)\n",
        "print('Resampled dataset shape %s' % Counter(y_res))"
      ],
      "execution_count": 0,
      "outputs": []
    },
    {
      "cell_type": "code",
      "metadata": {
        "id": "APiSFPChr0rX",
        "colab_type": "code",
        "outputId": "30aef206-b803-47a4-d3f1-df6db92a5ac6",
        "colab": {
          "base_uri": "https://localhost:8080/",
          "height": 34
        }
      },
      "source": [
        "X = sample_books.Data\n",
        "type(X)\n",
        "X.shape"
      ],
      "execution_count": 0,
      "outputs": [
        {
          "output_type": "execute_result",
          "data": {
            "text/plain": [
              "(13,)"
            ]
          },
          "metadata": {
            "tags": []
          },
          "execution_count": 66
        }
      ]
    },
    {
      "cell_type": "code",
      "metadata": {
        "id": "m8Ru3znyng41",
        "colab_type": "code",
        "colab": {}
      },
      "source": [
        "from imblearn.over_sampling import RandomOverSampler\n",
        "X,y=sample_books.Data, sample_books.guten_genre\n",
        "print('Original dataset shape %s' % Counter(y))\n",
        "sm = RandomOverSampler(random_state = 42)\n",
        "X_res, y_res = sm.fit_resample(X.values, y)\n",
        "print('Resampled dataset shape %s' % Counter(y_res))"
      ],
      "execution_count": 0,
      "outputs": []
    },
    {
      "cell_type": "code",
      "metadata": {
        "id": "GsR-gdRquQz0",
        "colab_type": "code",
        "outputId": "b9226492-2fa7-4bc5-de7e-cad72134272e",
        "colab": {
          "base_uri": "https://localhost:8080/",
          "height": 122
        }
      },
      "source": [
        "from imblearn.over_sampling import RandomOverSampler\n",
        "import pandas as pd\n",
        "data = pd.DataFrame([{'text': 'This is the random text with dialogues an dpuctutaion. he said oh ! my god ! how dare you.',\n",
        "                      'genre': 'minor'},\n",
        "                     {'text': 'another one first',\n",
        "                      'genre': 'major'},\n",
        "                     {'text': 'another one second',\n",
        "                      'genre': 'major'},\n",
        "                     {'text': 'This is the random text with dialogues an dpuctutaion. he said oh ! my god ! how dare you.',\n",
        "                      'genre': 'major'}\n",
        "                     ])\n",
        "data.head()\n",
        "X,y=data.text, data.genre\n",
        "X = X.values.reshape(-1,1)\n",
        "print('Original dataset shape %s' % Counter(y))\n",
        "sm = RandomOverSampler(random_state = 42)\n",
        "X_res, y_res = sm.fit_resample(X, y)\n",
        "print('Resampled dataset shape %s' % Counter(y_res))\n",
        "print(X_res.shape)\n"
      ],
      "execution_count": 0,
      "outputs": [
        {
          "output_type": "stream",
          "text": [
            "Original dataset shape Counter({'major': 3, 'minor': 1})\n",
            "Resampled dataset shape Counter({'minor': 3, 'major': 3})\n",
            "(6, 1)\n"
          ],
          "name": "stdout"
        },
        {
          "output_type": "stream",
          "text": [
            "/usr/local/lib/python3.6/dist-packages/sklearn/utils/deprecation.py:87: FutureWarning: Function safe_indexing is deprecated; safe_indexing is deprecated in version 0.22 and will be removed in version 0.24.\n",
            "  warnings.warn(msg, category=FutureWarning)\n"
          ],
          "name": "stderr"
        }
      ]
    },
    {
      "cell_type": "code",
      "metadata": {
        "id": "2ECYwbbiyXNC",
        "colab_type": "code",
        "outputId": "5ffdf95d-8fae-4c98-f131-b947737902af",
        "colab": {
          "base_uri": "https://localhost:8080/",
          "height": 292
        }
      },
      "source": [
        "from imblearn.over_sampling import RandomOverSampler\n",
        "import pandas as pd\n",
        "data = pd.DataFrame([{'text': 'This is the random text with dialogues an dpuctutaion. he said oh ! my god ! how dare you.',\n",
        "                      'genre': 'minor'},\n",
        "                     {'text': 'another one first',\n",
        "                      'genre': 'major'},\n",
        "                      {'text': 'another random one first',\n",
        "                      'genre': 'random'},\n",
        "                     {'text': 'another one second',\n",
        "                      'genre': 'major'},\n",
        "                     {'text': 'This is the random text with dialogues an dpuctutaion. he said oh ! my god ! how dare you.',\n",
        "                      'genre': 'major'}\n",
        "                     ])\n",
        "data.head()\n",
        "X,y=data.text, data.genre\n",
        "X = X.values.reshape(-1,1)\n",
        "print('Original dataset shape %s' % Counter(y))\n",
        "sm = RandomOverSampler(random_state = 42)\n",
        "X_res, y_res = sm.fit_resample(X, y)\n",
        "print('Resampled dataset shape %s' % Counter(y_res))\n",
        "print(X_res.shape)\n",
        "print(X_res,y_res)"
      ],
      "execution_count": 0,
      "outputs": [
        {
          "output_type": "stream",
          "text": [
            "Original dataset shape Counter({'major': 3, 'minor': 1, 'random': 1})\n",
            "Resampled dataset shape Counter({'minor': 3, 'major': 3, 'random': 3})\n",
            "(9, 1)\n",
            "[['This is the random text with dialogues an dpuctutaion. he said oh ! my god ! how dare you.']\n",
            " ['another one first']\n",
            " ['another random one first']\n",
            " ['another one second']\n",
            " ['This is the random text with dialogues an dpuctutaion. he said oh ! my god ! how dare you.']\n",
            " ['This is the random text with dialogues an dpuctutaion. he said oh ! my god ! how dare you.']\n",
            " ['This is the random text with dialogues an dpuctutaion. he said oh ! my god ! how dare you.']\n",
            " ['another random one first']\n",
            " ['another random one first']] ['minor' 'major' 'random' 'major' 'major' 'minor' 'minor' 'random'\n",
            " 'random']\n"
          ],
          "name": "stdout"
        },
        {
          "output_type": "stream",
          "text": [
            "/usr/local/lib/python3.6/dist-packages/sklearn/utils/deprecation.py:87: FutureWarning: Function safe_indexing is deprecated; safe_indexing is deprecated in version 0.22 and will be removed in version 0.24.\n",
            "  warnings.warn(msg, category=FutureWarning)\n"
          ],
          "name": "stderr"
        }
      ]
    }
  ]
}
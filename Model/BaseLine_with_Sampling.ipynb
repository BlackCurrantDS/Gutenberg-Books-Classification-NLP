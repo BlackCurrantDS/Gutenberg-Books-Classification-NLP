{
  "nbformat": 4,
  "nbformat_minor": 0,
  "metadata": {
    "colab": {
      "name": "BaseLine_with_Sampling.ipynb",
      "provenance": [],
      "collapsed_sections": [],
      "toc_visible": true,
      "authorship_tag": "ABX9TyMFJ8G0UdzI6Vzx19opw2C9",
      "include_colab_link": true
    },
    "kernelspec": {
      "name": "python3",
      "display_name": "Python 3"
    }
  },
  "cells": [
    {
      "cell_type": "markdown",
      "metadata": {
        "id": "view-in-github",
        "colab_type": "text"
      },
      "source": [
        "<a href=\"https://colab.research.google.com/github/BlackCurrantDS/ATiML-Project/blob/master/BaseLine_with_Sampling.ipynb\" target=\"_parent\"><img src=\"https://colab.research.google.com/assets/colab-badge.svg\" alt=\"Open In Colab\"/></a>"
      ]
    },
    {
      "cell_type": "markdown",
      "metadata": {
        "id": "zovBTxgVFY_w",
        "colab_type": "text"
      },
      "source": [
        "This notebook runs hte bag of words baseline model with the balanced data. we try to balance classes with undersmapling and oversampling methods."
      ]
    },
    {
      "cell_type": "markdown",
      "metadata": {
        "id": "FQOP0aQTGAv3",
        "colab_type": "text"
      },
      "source": [
        "Loading the books inot dataframe"
      ]
    },
    {
      "cell_type": "code",
      "metadata": {
        "id": "35uAQIqOR7Vu",
        "colab_type": "code",
        "colab": {
          "base_uri": "https://localhost:8080/",
          "height": 1000
        },
        "outputId": "04dc3f7c-45e7-4f67-f2e4-573f5f4da03c"
      },
      "source": [
        "#Unzip the Overall data\n",
        "!unzip Gutenberg_English_Fiction_1k.zip -d books_set\n"
      ],
      "execution_count": 54,
      "outputs": [
        {
          "output_type": "stream",
          "text": [
            "Archive:  Gutenberg_English_Fiction_1k.zip\n",
            "   creating: books_set/Gutenberg_English_Fiction_1k/\n",
            "   creating: books_set/Gutenberg_English_Fiction_1k/Gutenberg_19th_century_English_Fiction/\n",
            "  inflating: books_set/Gutenberg_English_Fiction_1k/Gutenberg_19th_century_English_Fiction/pg10067-content.html  \n",
            "  inflating: books_set/Gutenberg_English_Fiction_1k/Gutenberg_19th_century_English_Fiction/pg1032-content.html  \n",
            "  inflating: books_set/Gutenberg_English_Fiction_1k/Gutenberg_19th_century_English_Fiction/pg10379-content.html  \n",
            "  inflating: books_set/Gutenberg_English_Fiction_1k/Gutenberg_19th_century_English_Fiction/pg10473-content.html  \n",
            "  inflating: books_set/Gutenberg_English_Fiction_1k/Gutenberg_19th_century_English_Fiction/pg105JaneAusPersuatn-content.html  \n",
            "  inflating: books_set/Gutenberg_English_Fiction_1k/Gutenberg_19th_century_English_Fiction/pg10812-content.html  \n",
            "  inflating: books_set/Gutenberg_English_Fiction_1k/Gutenberg_19th_century_English_Fiction/pg10826-content.html  \n",
            "  inflating: books_set/Gutenberg_English_Fiction_1k/Gutenberg_19th_century_English_Fiction/pg1086-content.html  \n",
            "  inflating: books_set/Gutenberg_English_Fiction_1k/Gutenberg_19th_century_English_Fiction/pg108DoyleReturnSherlk-content.html  \n",
            "  inflating: books_set/Gutenberg_English_Fiction_1k/Gutenberg_19th_century_English_Fiction/pg10943-content.html  \n",
            "  inflating: books_set/Gutenberg_English_Fiction_1k/Gutenberg_19th_century_English_Fiction/pg11004-content.html  \n",
            "  inflating: books_set/Gutenberg_English_Fiction_1k/Gutenberg_19th_century_English_Fiction/pg11005-content.html  \n",
            "  inflating: books_set/Gutenberg_English_Fiction_1k/Gutenberg_19th_century_English_Fiction/pg11259-content.html  \n",
            "  inflating: books_set/Gutenberg_English_Fiction_1k/Gutenberg_19th_century_English_Fiction/pg11280-content.html  \n",
            "  inflating: books_set/Gutenberg_English_Fiction_1k/Gutenberg_19th_century_English_Fiction/pg11520-content.html  \n",
            "  inflating: books_set/Gutenberg_English_Fiction_1k/Gutenberg_19th_century_English_Fiction/pg1155Agatha2-content.html  \n",
            "  inflating: books_set/Gutenberg_English_Fiction_1k/Gutenberg_19th_century_English_Fiction/pg11581-content.html  \n",
            "  inflating: books_set/Gutenberg_English_Fiction_1k/Gutenberg_19th_century_English_Fiction/pg11655-content.html  \n",
            "  inflating: books_set/Gutenberg_English_Fiction_1k/Gutenberg_19th_century_English_Fiction/pg11674-content.html  \n",
            "  inflating: books_set/Gutenberg_English_Fiction_1k/Gutenberg_19th_century_English_Fiction/pg1190-content.html  \n",
            "  inflating: books_set/Gutenberg_English_Fiction_1k/Gutenberg_19th_century_English_Fiction/pg1193-content.html  \n",
            "  inflating: books_set/Gutenberg_English_Fiction_1k/Gutenberg_19th_century_English_Fiction/pg11931-content.html  \n",
            "  inflating: books_set/Gutenberg_English_Fiction_1k/Gutenberg_19th_century_English_Fiction/pg11970-content.html  \n",
            "  inflating: books_set/Gutenberg_English_Fiction_1k/Gutenberg_19th_century_English_Fiction/pg11CarolAlice-content.html  \n",
            "  inflating: books_set/Gutenberg_English_Fiction_1k/Gutenberg_19th_century_English_Fiction/pg1204-content.html  \n",
            "  inflating: books_set/Gutenberg_English_Fiction_1k/Gutenberg_19th_century_English_Fiction/pg12102-content.html  \n",
            "  inflating: books_set/Gutenberg_English_Fiction_1k/Gutenberg_19th_century_English_Fiction/pg1218-content.html  \n",
            "  inflating: books_set/Gutenberg_English_Fiction_1k/Gutenberg_19th_century_English_Fiction/pg12181-content.html  \n",
            "  inflating: books_set/Gutenberg_English_Fiction_1k/Gutenberg_19th_century_English_Fiction/pg12196-content.html  \n",
            "  inflating: books_set/Gutenberg_English_Fiction_1k/Gutenberg_19th_century_English_Fiction/pg12303-content.html  \n",
            "  inflating: books_set/Gutenberg_English_Fiction_1k/Gutenberg_19th_century_English_Fiction/pg12304-content.html  \n",
            "  inflating: books_set/Gutenberg_English_Fiction_1k/Gutenberg_19th_century_English_Fiction/pg12360-content.html  \n",
            "  inflating: books_set/Gutenberg_English_Fiction_1k/Gutenberg_19th_century_English_Fiction/pg12450-content.html  \n",
            "  inflating: books_set/Gutenberg_English_Fiction_1k/Gutenberg_19th_century_English_Fiction/pg12453-content.html  \n",
            "  inflating: books_set/Gutenberg_English_Fiction_1k/Gutenberg_19th_century_English_Fiction/pg12470-content.html  \n",
            "  inflating: books_set/Gutenberg_English_Fiction_1k/Gutenberg_19th_century_English_Fiction/pg12520-content.html  \n",
            "  inflating: books_set/Gutenberg_English_Fiction_1k/Gutenberg_19th_century_English_Fiction/pg1253-content.html  \n",
            "  inflating: books_set/Gutenberg_English_Fiction_1k/Gutenberg_19th_century_English_Fiction/pg12672-content.html  \n",
            "  inflating: books_set/Gutenberg_English_Fiction_1k/Gutenberg_19th_century_English_Fiction/pg1273-content.html  \n",
            "  inflating: books_set/Gutenberg_English_Fiction_1k/Gutenberg_19th_century_English_Fiction/pg12733-content.html  \n",
            "  inflating: books_set/Gutenberg_English_Fiction_1k/Gutenberg_19th_century_English_Fiction/pg12858-content.html  \n",
            "  inflating: books_set/Gutenberg_English_Fiction_1k/Gutenberg_19th_century_English_Fiction/pg12886-content.html  \n",
            "  inflating: books_set/Gutenberg_English_Fiction_1k/Gutenberg_19th_century_English_Fiction/pg12891-content.html  \n",
            "  inflating: books_set/Gutenberg_English_Fiction_1k/Gutenberg_19th_century_English_Fiction/pg12931-content.html  \n",
            "  inflating: books_set/Gutenberg_English_Fiction_1k/Gutenberg_19th_century_English_Fiction/pg12935-content.html  \n",
            "  inflating: books_set/Gutenberg_English_Fiction_1k/Gutenberg_19th_century_English_Fiction/pg12972-content.html  \n",
            "  inflating: books_set/Gutenberg_English_Fiction_1k/Gutenberg_19th_century_English_Fiction/pg12989-content.html  \n",
            "  inflating: books_set/Gutenberg_English_Fiction_1k/Gutenberg_19th_century_English_Fiction/pg12CarolGlassLook-content.html  \n",
            "  inflating: books_set/Gutenberg_English_Fiction_1k/Gutenberg_19th_century_English_Fiction/pg13057-content.html  \n",
            "  inflating: books_set/Gutenberg_English_Fiction_1k/Gutenberg_19th_century_English_Fiction/pg1314-content.html  \n",
            "  inflating: books_set/Gutenberg_English_Fiction_1k/Gutenberg_19th_century_English_Fiction/pg13162-content.html  \n",
            "  inflating: books_set/Gutenberg_English_Fiction_1k/Gutenberg_19th_century_English_Fiction/pg13178-content.html  \n",
            "  inflating: books_set/Gutenberg_English_Fiction_1k/Gutenberg_19th_century_English_Fiction/pg13212-content.html  \n",
            "  inflating: books_set/Gutenberg_English_Fiction_1k/Gutenberg_19th_century_English_Fiction/pg13238-content.html  \n",
            "  inflating: books_set/Gutenberg_English_Fiction_1k/Gutenberg_19th_century_English_Fiction/pg13257-content.html  \n",
            "  inflating: books_set/Gutenberg_English_Fiction_1k/Gutenberg_19th_century_English_Fiction/pg13273-content.html  \n",
            "  inflating: books_set/Gutenberg_English_Fiction_1k/Gutenberg_19th_century_English_Fiction/pg13278-content.html  \n",
            "  inflating: books_set/Gutenberg_English_Fiction_1k/Gutenberg_19th_century_English_Fiction/pg13312-content.html  \n",
            "  inflating: books_set/Gutenberg_English_Fiction_1k/Gutenberg_19th_century_English_Fiction/pg1342JaneAustenPP-content.html  \n",
            "  inflating: books_set/Gutenberg_English_Fiction_1k/Gutenberg_19th_century_English_Fiction/pg13432-content.html  \n",
            "  inflating: books_set/Gutenberg_English_Fiction_1k/Gutenberg_19th_century_English_Fiction/pg13454-content.html  \n",
            "  inflating: books_set/Gutenberg_English_Fiction_1k/Gutenberg_19th_century_English_Fiction/pg13541-content.html  \n",
            "  inflating: books_set/Gutenberg_English_Fiction_1k/Gutenberg_19th_century_English_Fiction/pg13546-content.html  \n",
            "  inflating: books_set/Gutenberg_English_Fiction_1k/Gutenberg_19th_century_English_Fiction/pg13547-content.html  \n",
            "  inflating: books_set/Gutenberg_English_Fiction_1k/Gutenberg_19th_century_English_Fiction/pg13572-content.html  \n",
            "  inflating: books_set/Gutenberg_English_Fiction_1k/Gutenberg_19th_century_English_Fiction/pg13720HermanVoyage1-content.html  \n",
            "  inflating: books_set/Gutenberg_English_Fiction_1k/Gutenberg_19th_century_English_Fiction/pg13721HermanVoyage2-content.html  \n",
            "  inflating: books_set/Gutenberg_English_Fiction_1k/Gutenberg_19th_century_English_Fiction/pg13776-content.html  \n",
            "  inflating: books_set/Gutenberg_English_Fiction_1k/Gutenberg_19th_century_English_Fiction/pg13801-content.html  \n",
            "  inflating: books_set/Gutenberg_English_Fiction_1k/Gutenberg_19th_century_English_Fiction/pg13913-content.html  \n",
            "  inflating: books_set/Gutenberg_English_Fiction_1k/Gutenberg_19th_century_English_Fiction/pg1392-content.html  \n",
            "  inflating: books_set/Gutenberg_English_Fiction_1k/Gutenberg_19th_century_English_Fiction/pg13960-content.html  \n",
            "  inflating: books_set/Gutenberg_English_Fiction_1k/Gutenberg_19th_century_English_Fiction/pg13985-content.html  \n",
            "  inflating: books_set/Gutenberg_English_Fiction_1k/Gutenberg_19th_century_English_Fiction/pg1400DickensGreatExp-content.html  \n",
            "  inflating: books_set/Gutenberg_English_Fiction_1k/Gutenberg_19th_century_English_Fiction/pg14051-content.html  \n",
            "  inflating: books_set/Gutenberg_English_Fiction_1k/Gutenberg_19th_century_English_Fiction/pg14079-content.html  \n",
            "  inflating: books_set/Gutenberg_English_Fiction_1k/Gutenberg_19th_century_English_Fiction/pg14145-content.html  \n",
            "  inflating: books_set/Gutenberg_English_Fiction_1k/Gutenberg_19th_century_English_Fiction/pg141JaneAusMansPark-content.html  \n",
            "  inflating: books_set/Gutenberg_English_Fiction_1k/Gutenberg_19th_century_English_Fiction/pg1422-content.html  \n",
            "  inflating: books_set/Gutenberg_English_Fiction_1k/Gutenberg_19th_century_English_Fiction/pg14253-content.html  \n",
            "  inflating: books_set/Gutenberg_English_Fiction_1k/Gutenberg_19th_century_English_Fiction/pg14262-content.html  \n",
            "  inflating: books_set/Gutenberg_English_Fiction_1k/Gutenberg_19th_century_English_Fiction/pg14303-content.html  \n",
            "  inflating: books_set/Gutenberg_English_Fiction_1k/Gutenberg_19th_century_English_Fiction/pg14382-content.html  \n",
            "  inflating: books_set/Gutenberg_English_Fiction_1k/Gutenberg_19th_century_English_Fiction/pg14395-content.html  \n",
            "  inflating: books_set/Gutenberg_English_Fiction_1k/Gutenberg_19th_century_English_Fiction/pg1442-content.html  \n",
            "  inflating: books_set/Gutenberg_English_Fiction_1k/Gutenberg_19th_century_English_Fiction/pg14420-content.html  \n",
            "  inflating: books_set/Gutenberg_English_Fiction_1k/Gutenberg_19th_century_English_Fiction/pg14425-content.html  \n",
            "  inflating: books_set/Gutenberg_English_Fiction_1k/Gutenberg_19th_century_English_Fiction/pg14427-content.html  \n",
            "  inflating: books_set/Gutenberg_English_Fiction_1k/Gutenberg_19th_century_English_Fiction/pg14454-content.html  \n",
            "  inflating: books_set/Gutenberg_English_Fiction_1k/Gutenberg_19th_century_English_Fiction/pg14490-content.html  \n",
            "  inflating: books_set/Gutenberg_English_Fiction_1k/Gutenberg_19th_century_English_Fiction/pg14523-content.html  \n",
            "  inflating: books_set/Gutenberg_English_Fiction_1k/Gutenberg_19th_century_English_Fiction/pg14581-content.html  \n",
            "  inflating: books_set/Gutenberg_English_Fiction_1k/Gutenberg_19th_century_English_Fiction/pg14605-content.html  \n",
            "  inflating: books_set/Gutenberg_English_Fiction_1k/Gutenberg_19th_century_English_Fiction/pg14654-content.html  \n",
            "  inflating: books_set/Gutenberg_English_Fiction_1k/Gutenberg_19th_century_English_Fiction/pg14669-content.html  \n",
            "  inflating: books_set/Gutenberg_English_Fiction_1k/Gutenberg_19th_century_English_Fiction/pg14687-content.html  \n",
            "  inflating: books_set/Gutenberg_English_Fiction_1k/Gutenberg_19th_century_English_Fiction/pg14708-content.html  \n",
            "  inflating: books_set/Gutenberg_English_Fiction_1k/Gutenberg_19th_century_English_Fiction/pg14712-content.html  \n",
            "  inflating: books_set/Gutenberg_English_Fiction_1k/Gutenberg_19th_century_English_Fiction/pg14852-content.html  \n",
            "  inflating: books_set/Gutenberg_English_Fiction_1k/Gutenberg_19th_century_English_Fiction/pg14858-content.html  \n",
            "  inflating: books_set/Gutenberg_English_Fiction_1k/Gutenberg_19th_century_English_Fiction/pg14885-content.html  \n",
            "  inflating: books_set/Gutenberg_English_Fiction_1k/Gutenberg_19th_century_English_Fiction/pg14896-content.html  \n",
            "  inflating: books_set/Gutenberg_English_Fiction_1k/Gutenberg_19th_century_English_Fiction/pg14902-content.html  \n",
            "  inflating: books_set/Gutenberg_English_Fiction_1k/Gutenberg_19th_century_English_Fiction/pg15013-content.html  \n",
            "  inflating: books_set/Gutenberg_English_Fiction_1k/Gutenberg_19th_century_English_Fiction/pg15067-content.html  \n",
            "  inflating: books_set/Gutenberg_English_Fiction_1k/Gutenberg_19th_century_English_Fiction/pg15094-content.html  \n",
            "  inflating: books_set/Gutenberg_English_Fiction_1k/Gutenberg_19th_century_English_Fiction/pg15103-content.html  \n",
            "  inflating: books_set/Gutenberg_English_Fiction_1k/Gutenberg_19th_century_English_Fiction/pg15116-content.html  \n",
            "  inflating: books_set/Gutenberg_English_Fiction_1k/Gutenberg_19th_century_English_Fiction/pg15117-content.html  \n",
            "  inflating: books_set/Gutenberg_English_Fiction_1k/Gutenberg_19th_century_English_Fiction/pg15123-content.html  \n",
            "  inflating: books_set/Gutenberg_English_Fiction_1k/Gutenberg_19th_century_English_Fiction/pg15179-content.html  \n",
            "  inflating: books_set/Gutenberg_English_Fiction_1k/Gutenberg_19th_century_English_Fiction/pg15181-content.html  \n",
            "  inflating: books_set/Gutenberg_English_Fiction_1k/Gutenberg_19th_century_English_Fiction/pg15182-content.html  \n",
            "  inflating: books_set/Gutenberg_English_Fiction_1k/Gutenberg_19th_century_English_Fiction/pg15183-content.html  \n",
            "  inflating: books_set/Gutenberg_English_Fiction_1k/Gutenberg_19th_century_English_Fiction/pg15244-content.html  \n",
            "  inflating: books_set/Gutenberg_English_Fiction_1k/Gutenberg_19th_century_English_Fiction/pg15275-content.html  \n",
            "  inflating: books_set/Gutenberg_English_Fiction_1k/Gutenberg_19th_century_English_Fiction/pg15315-content.html  \n",
            "  inflating: books_set/Gutenberg_English_Fiction_1k/Gutenberg_19th_century_English_Fiction/pg15317-content.html  \n",
            "  inflating: books_set/Gutenberg_English_Fiction_1k/Gutenberg_19th_century_English_Fiction/pg15321-content.html  \n",
            "  inflating: books_set/Gutenberg_English_Fiction_1k/Gutenberg_19th_century_English_Fiction/pg15382-content.html  \n",
            "  inflating: books_set/Gutenberg_English_Fiction_1k/Gutenberg_19th_century_English_Fiction/pg15406-content.html  \n",
            "  inflating: books_set/Gutenberg_English_Fiction_1k/Gutenberg_19th_century_English_Fiction/pg15430-content.html  \n",
            "  inflating: books_set/Gutenberg_English_Fiction_1k/Gutenberg_19th_century_English_Fiction/pg15485-content.html  \n",
            "  inflating: books_set/Gutenberg_English_Fiction_1k/Gutenberg_19th_century_English_Fiction/pg15498-content.html  \n",
            "  inflating: books_set/Gutenberg_English_Fiction_1k/Gutenberg_19th_century_English_Fiction/pg15527-content.html  \n",
            "  inflating: books_set/Gutenberg_English_Fiction_1k/Gutenberg_19th_century_English_Fiction/pg15671-content.html  \n",
            "  inflating: books_set/Gutenberg_English_Fiction_1k/Gutenberg_19th_century_English_Fiction/pg15704-content.html  \n",
            "  inflating: books_set/Gutenberg_English_Fiction_1k/Gutenberg_19th_century_English_Fiction/pg15743-content.html  \n",
            "  inflating: books_set/Gutenberg_English_Fiction_1k/Gutenberg_19th_century_English_Fiction/pg15774-content.html  \n",
            "  inflating: books_set/Gutenberg_English_Fiction_1k/Gutenberg_19th_century_English_Fiction/pg15793-content.html  \n",
            "  inflating: books_set/Gutenberg_English_Fiction_1k/Gutenberg_19th_century_English_Fiction/pg15797-content.html  \n",
            "  inflating: books_set/Gutenberg_English_Fiction_1k/Gutenberg_19th_century_English_Fiction/pg15799-content.html  \n",
            "  inflating: books_set/Gutenberg_English_Fiction_1k/Gutenberg_19th_century_English_Fiction/pg15864-content.html  \n",
            "  inflating: books_set/Gutenberg_English_Fiction_1k/Gutenberg_19th_century_English_Fiction/pg15875-content.html  \n",
            "  inflating: books_set/Gutenberg_English_Fiction_1k/Gutenberg_19th_century_English_Fiction/pg15895-content.html  \n",
            "  inflating: books_set/Gutenberg_English_Fiction_1k/Gutenberg_19th_century_English_Fiction/pg158JaneAustenEmma-content.html  \n",
            "  inflating: books_set/Gutenberg_English_Fiction_1k/Gutenberg_19th_century_English_Fiction/pg15934-content.html  \n",
            "  inflating: books_set/Gutenberg_English_Fiction_1k/Gutenberg_19th_century_English_Fiction/pg15941-content.html  \n",
            "  inflating: books_set/Gutenberg_English_Fiction_1k/Gutenberg_19th_century_English_Fiction/pg15979-content.html  \n",
            "  inflating: books_set/Gutenberg_English_Fiction_1k/Gutenberg_19th_century_English_Fiction/pg15989-content.html  \n",
            "  inflating: books_set/Gutenberg_English_Fiction_1k/Gutenberg_19th_century_English_Fiction/pg16039-content.html  \n",
            "  inflating: books_set/Gutenberg_English_Fiction_1k/Gutenberg_19th_century_English_Fiction/pg16080-content.html  \n",
            "  inflating: books_set/Gutenberg_English_Fiction_1k/Gutenberg_19th_century_English_Fiction/pg16094-content.html  \n",
            "  inflating: books_set/Gutenberg_English_Fiction_1k/Gutenberg_19th_century_English_Fiction/pg16112-content.html  \n",
            "  inflating: books_set/Gutenberg_English_Fiction_1k/Gutenberg_19th_century_English_Fiction/pg16137-content.html  \n",
            "  inflating: books_set/Gutenberg_English_Fiction_1k/Gutenberg_19th_century_English_Fiction/pg16138-content.html  \n",
            "  inflating: books_set/Gutenberg_English_Fiction_1k/Gutenberg_19th_century_English_Fiction/pg16143-content.html  \n",
            "  inflating: books_set/Gutenberg_English_Fiction_1k/Gutenberg_19th_century_English_Fiction/pg161SJaneAusSensSensi-content.html  \n",
            "  inflating: books_set/Gutenberg_English_Fiction_1k/Gutenberg_19th_century_English_Fiction/pg16217-content.html  \n",
            "  inflating: books_set/Gutenberg_English_Fiction_1k/Gutenberg_19th_century_English_Fiction/pg16252-content.html  \n",
            "  inflating: books_set/Gutenberg_English_Fiction_1k/Gutenberg_19th_century_English_Fiction/pg16283-content.html  \n",
            "  inflating: books_set/Gutenberg_English_Fiction_1k/Gutenberg_19th_century_English_Fiction/pg1634-content.html  \n",
            "  inflating: books_set/Gutenberg_English_Fiction_1k/Gutenberg_19th_century_English_Fiction/pg16345-content.html  \n",
            "  inflating: books_set/Gutenberg_English_Fiction_1k/Gutenberg_19th_century_English_Fiction/pg16381-content.html  \n",
            "  inflating: books_set/Gutenberg_English_Fiction_1k/Gutenberg_19th_century_English_Fiction/pg16398-content.html  \n",
            "  inflating: books_set/Gutenberg_English_Fiction_1k/Gutenberg_19th_century_English_Fiction/pg16403-content.html  \n",
            "  inflating: books_set/Gutenberg_English_Fiction_1k/Gutenberg_19th_century_English_Fiction/pg16453-content.html  \n",
            "  inflating: books_set/Gutenberg_English_Fiction_1k/Gutenberg_19th_century_English_Fiction/pg16497-content.html  \n",
            "  inflating: books_set/Gutenberg_English_Fiction_1k/Gutenberg_19th_century_English_Fiction/pg1651-content.html  \n",
            "  inflating: books_set/Gutenberg_English_Fiction_1k/Gutenberg_19th_century_English_Fiction/pg16554-content.html  \n",
            "  inflating: books_set/Gutenberg_English_Fiction_1k/Gutenberg_19th_century_English_Fiction/pg16574-content.html  \n",
            "  inflating: books_set/Gutenberg_English_Fiction_1k/Gutenberg_19th_century_English_Fiction/pg16612-content.html  \n",
            "  inflating: books_set/Gutenberg_English_Fiction_1k/Gutenberg_19th_century_English_Fiction/pg16662-content.html  \n",
            "  inflating: books_set/Gutenberg_English_Fiction_1k/Gutenberg_19th_century_English_Fiction/pg16676-content.html  \n",
            "  inflating: books_set/Gutenberg_English_Fiction_1k/Gutenberg_19th_century_English_Fiction/pg16682-content.html  \n",
            "  inflating: books_set/Gutenberg_English_Fiction_1k/Gutenberg_19th_century_English_Fiction/pg16703-content.html  \n",
            "  inflating: books_set/Gutenberg_English_Fiction_1k/Gutenberg_19th_century_English_Fiction/pg16719-content.html  \n",
            "  inflating: books_set/Gutenberg_English_Fiction_1k/Gutenberg_19th_century_English_Fiction/pg16720-content.html  \n",
            "  inflating: books_set/Gutenberg_English_Fiction_1k/Gutenberg_19th_century_English_Fiction/pg16730-content.html  \n",
            "  inflating: books_set/Gutenberg_English_Fiction_1k/Gutenberg_19th_century_English_Fiction/pg16771-content.html  \n",
            "  inflating: books_set/Gutenberg_English_Fiction_1k/Gutenberg_19th_century_English_Fiction/pg16788-content.html  \n",
            "  inflating: books_set/Gutenberg_English_Fiction_1k/Gutenberg_19th_century_English_Fiction/pg16798-content.html  \n",
            "  inflating: books_set/Gutenberg_English_Fiction_1k/Gutenberg_19th_century_English_Fiction/pg16799-content.html  \n",
            "  inflating: books_set/Gutenberg_English_Fiction_1k/Gutenberg_19th_century_English_Fiction/pg16803-content.html  \n",
            "  inflating: books_set/Gutenberg_English_Fiction_1k/Gutenberg_19th_century_English_Fiction/pg16836-content.html  \n",
            "  inflating: books_set/Gutenberg_English_Fiction_1k/Gutenberg_19th_century_English_Fiction/pg16909-content.html  \n",
            "  inflating: books_set/Gutenberg_English_Fiction_1k/Gutenberg_19th_century_English_Fiction/pg16919-content.html  \n",
            "  inflating: books_set/Gutenberg_English_Fiction_1k/Gutenberg_19th_century_English_Fiction/pg16968-content.html  \n",
            "  inflating: books_set/Gutenberg_English_Fiction_1k/Gutenberg_19th_century_English_Fiction/pg1699-content.html  \n",
            "  inflating: books_set/Gutenberg_English_Fiction_1k/Gutenberg_19th_century_English_Fiction/pg16993-content.html  \n",
            "  inflating: books_set/Gutenberg_English_Fiction_1k/Gutenberg_19th_century_English_Fiction/pg17047-content.html  \n",
            "  inflating: books_set/Gutenberg_English_Fiction_1k/Gutenberg_19th_century_English_Fiction/pg17048-content.html  \n",
            "  inflating: books_set/Gutenberg_English_Fiction_1k/Gutenberg_19th_century_English_Fiction/pg17062-content.html  \n",
            "  inflating: books_set/Gutenberg_English_Fiction_1k/Gutenberg_19th_century_English_Fiction/pg17084-content.html  \n",
            "  inflating: books_set/Gutenberg_English_Fiction_1k/Gutenberg_19th_century_English_Fiction/pg17141-content.html  \n",
            "  inflating: books_set/Gutenberg_English_Fiction_1k/Gutenberg_19th_century_English_Fiction/pg17191-content.html  \n",
            "  inflating: books_set/Gutenberg_English_Fiction_1k/Gutenberg_19th_century_English_Fiction/pg17241-content.html  \n",
            "  inflating: books_set/Gutenberg_English_Fiction_1k/Gutenberg_19th_century_English_Fiction/pg17308-content.html  \n",
            "  inflating: books_set/Gutenberg_English_Fiction_1k/Gutenberg_19th_century_English_Fiction/pg17359-content.html  \n",
            "  inflating: books_set/Gutenberg_English_Fiction_1k/Gutenberg_19th_century_English_Fiction/pg17390-content.html  \n",
            "  inflating: books_set/Gutenberg_English_Fiction_1k/Gutenberg_19th_century_English_Fiction/pg17402-content.html  \n",
            "  inflating: books_set/Gutenberg_English_Fiction_1k/Gutenberg_19th_century_English_Fiction/pg17434-content.html  \n",
            "  inflating: books_set/Gutenberg_English_Fiction_1k/Gutenberg_19th_century_English_Fiction/pg17446-content.html  \n",
            "  inflating: books_set/Gutenberg_English_Fiction_1k/Gutenberg_19th_century_English_Fiction/pg1747-content.html  \n",
            "  inflating: books_set/Gutenberg_English_Fiction_1k/Gutenberg_19th_century_English_Fiction/pg1748-content.html  \n",
            "  inflating: books_set/Gutenberg_English_Fiction_1k/Gutenberg_19th_century_English_Fiction/pg17559-content.html  \n",
            "  inflating: books_set/Gutenberg_English_Fiction_1k/Gutenberg_19th_century_English_Fiction/pg17564-content.html  \n",
            "  inflating: books_set/Gutenberg_English_Fiction_1k/Gutenberg_19th_century_English_Fiction/pg17642-content.html  \n",
            "  inflating: books_set/Gutenberg_English_Fiction_1k/Gutenberg_19th_century_English_Fiction/pg17698-content.html  \n",
            "  inflating: books_set/Gutenberg_English_Fiction_1k/Gutenberg_19th_century_English_Fiction/pg17745-content.html  \n",
            "  inflating: books_set/Gutenberg_English_Fiction_1k/Gutenberg_19th_century_English_Fiction/pg17806-content.html  \n",
            "  inflating: books_set/Gutenberg_English_Fiction_1k/Gutenberg_19th_century_English_Fiction/pg17938-content.html  \n",
            "  inflating: books_set/Gutenberg_English_Fiction_1k/Gutenberg_19th_century_English_Fiction/pg18022-content.html  \n",
            "  inflating: books_set/Gutenberg_English_Fiction_1k/Gutenberg_19th_century_English_Fiction/pg18052-content.html  \n",
            "  inflating: books_set/Gutenberg_English_Fiction_1k/Gutenberg_19th_century_English_Fiction/pg18054-content.html  \n",
            "  inflating: books_set/Gutenberg_English_Fiction_1k/Gutenberg_19th_century_English_Fiction/pg1809-content.html  \n",
            "  inflating: books_set/Gutenberg_English_Fiction_1k/Gutenberg_19th_century_English_Fiction/pg18239-content.html  \n",
            "  inflating: books_set/Gutenberg_English_Fiction_1k/Gutenberg_19th_century_English_Fiction/pg18259-content.html  \n",
            "  inflating: books_set/Gutenberg_English_Fiction_1k/Gutenberg_19th_century_English_Fiction/pg18280-content.html  \n",
            "  inflating: books_set/Gutenberg_English_Fiction_1k/Gutenberg_19th_century_English_Fiction/pg1832-content.html  \n",
            "  inflating: books_set/Gutenberg_English_Fiction_1k/Gutenberg_19th_century_English_Fiction/pg1833-content.html  \n",
            "  inflating: books_set/Gutenberg_English_Fiction_1k/Gutenberg_19th_century_English_Fiction/pg18336-content.html  \n",
            "  inflating: books_set/Gutenberg_English_Fiction_1k/Gutenberg_19th_century_English_Fiction/pg1834-content.html  \n",
            "  inflating: books_set/Gutenberg_English_Fiction_1k/Gutenberg_19th_century_English_Fiction/pg1835-content.html  \n",
            "  inflating: books_set/Gutenberg_English_Fiction_1k/Gutenberg_19th_century_English_Fiction/pg1836-content.html  \n",
            "  inflating: books_set/Gutenberg_English_Fiction_1k/Gutenberg_19th_century_English_Fiction/pg18434-content.html  \n",
            "  inflating: books_set/Gutenberg_English_Fiction_1k/Gutenberg_19th_century_English_Fiction/pg18443-content.html  \n",
            "  inflating: books_set/Gutenberg_English_Fiction_1k/Gutenberg_19th_century_English_Fiction/pg18449-content.html  \n",
            "  inflating: books_set/Gutenberg_English_Fiction_1k/Gutenberg_19th_century_English_Fiction/pg1846-content.html  \n",
            "  inflating: books_set/Gutenberg_English_Fiction_1k/Gutenberg_19th_century_English_Fiction/pg18488-content.html  \n",
            "  inflating: books_set/Gutenberg_English_Fiction_1k/Gutenberg_19th_century_English_Fiction/pg18489-content.html  \n",
            "  inflating: books_set/Gutenberg_English_Fiction_1k/Gutenberg_19th_century_English_Fiction/pg1849-content.html  \n",
            "  inflating: books_set/Gutenberg_English_Fiction_1k/Gutenberg_19th_century_English_Fiction/pg1851-content.html  \n",
            "  inflating: books_set/Gutenberg_English_Fiction_1k/Gutenberg_19th_century_English_Fiction/pg18545-content.html  \n",
            "  inflating: books_set/Gutenberg_English_Fiction_1k/Gutenberg_19th_century_English_Fiction/pg1857-content.html  \n",
            "  inflating: books_set/Gutenberg_English_Fiction_1k/Gutenberg_19th_century_English_Fiction/pg18572-content.html  \n",
            "  inflating: books_set/Gutenberg_English_Fiction_1k/Gutenberg_19th_century_English_Fiction/pg18705-content.html  \n",
            "  inflating: books_set/Gutenberg_English_Fiction_1k/Gutenberg_19th_century_English_Fiction/pg18708-content.html  \n",
            "  inflating: books_set/Gutenberg_English_Fiction_1k/Gutenberg_19th_century_English_Fiction/pg1875-content.html  \n",
            "  inflating: books_set/Gutenberg_English_Fiction_1k/Gutenberg_19th_century_English_Fiction/pg1878-content.html  \n",
            "  inflating: books_set/Gutenberg_English_Fiction_1k/Gutenberg_19th_century_English_Fiction/pg18822-content.html  \n",
            "  inflating: books_set/Gutenberg_English_Fiction_1k/Gutenberg_19th_century_English_Fiction/pg18829-content.html  \n",
            "  inflating: books_set/Gutenberg_English_Fiction_1k/Gutenberg_19th_century_English_Fiction/pg1888-content.html  \n",
            "  inflating: books_set/Gutenberg_English_Fiction_1k/Gutenberg_19th_century_English_Fiction/pg18894-content.html  \n",
            "  inflating: books_set/Gutenberg_English_Fiction_1k/Gutenberg_19th_century_English_Fiction/pg1897-content.html  \n",
            "  inflating: books_set/Gutenberg_English_Fiction_1k/Gutenberg_19th_century_English_Fiction/pg18984-content.html  \n",
            "  inflating: books_set/Gutenberg_English_Fiction_1k/Gutenberg_19th_century_English_Fiction/pg19121-content.html  \n",
            "  inflating: books_set/Gutenberg_English_Fiction_1k/Gutenberg_19th_century_English_Fiction/pg19147-content.html  \n",
            "  inflating: books_set/Gutenberg_English_Fiction_1k/Gutenberg_19th_century_English_Fiction/pg19173-content.html  \n",
            "  inflating: books_set/Gutenberg_English_Fiction_1k/Gutenberg_19th_century_English_Fiction/pg19204-content.html  \n",
            "  inflating: books_set/Gutenberg_English_Fiction_1k/Gutenberg_19th_century_English_Fiction/pg19224-content.html  \n",
            "  inflating: books_set/Gutenberg_English_Fiction_1k/Gutenberg_19th_century_English_Fiction/pg19225-content.html  \n",
            "  inflating: books_set/Gutenberg_English_Fiction_1k/Gutenberg_19th_century_English_Fiction/pg19257-content.html  \n",
            "  inflating: books_set/Gutenberg_English_Fiction_1k/Gutenberg_19th_century_English_Fiction/pg19259-content.html  \n",
            "  inflating: books_set/Gutenberg_English_Fiction_1k/Gutenberg_19th_century_English_Fiction/pg19337DickensChristCarl-content.html  \n",
            "  inflating: books_set/Gutenberg_English_Fiction_1k/Gutenberg_19th_century_English_Fiction/pg19403-content.html  \n",
            "  inflating: books_set/Gutenberg_English_Fiction_1k/Gutenberg_19th_century_English_Fiction/pg19459-content.html  \n",
            "  inflating: books_set/Gutenberg_English_Fiction_1k/Gutenberg_19th_century_English_Fiction/pg19472-content.html  \n",
            "  inflating: books_set/Gutenberg_English_Fiction_1k/Gutenberg_19th_century_English_Fiction/pg19510-content.html  \n",
            "  inflating: books_set/Gutenberg_English_Fiction_1k/Gutenberg_19th_century_English_Fiction/pg19512-content.html  \n",
            "  inflating: books_set/Gutenberg_English_Fiction_1k/Gutenberg_19th_century_English_Fiction/pg1960-content.html  \n",
            "  inflating: books_set/Gutenberg_English_Fiction_1k/Gutenberg_19th_century_English_Fiction/pg1963-content.html  \n",
            "  inflating: books_set/Gutenberg_English_Fiction_1k/Gutenberg_19th_century_English_Fiction/pg19818-content.html  \n",
            "  inflating: books_set/Gutenberg_English_Fiction_1k/Gutenberg_19th_century_English_Fiction/pg1987-content.html  \n",
            "  inflating: books_set/Gutenberg_English_Fiction_1k/Gutenberg_19th_century_English_Fiction/pg20015-content.html  \n",
            "  inflating: books_set/Gutenberg_English_Fiction_1k/Gutenberg_19th_century_English_Fiction/pg20018-content.html  \n",
            "  inflating: books_set/Gutenberg_English_Fiction_1k/Gutenberg_19th_century_English_Fiction/pg20235-content.html  \n",
            "  inflating: books_set/Gutenberg_English_Fiction_1k/Gutenberg_19th_century_English_Fiction/pg20257-content.html  \n",
            "  inflating: books_set/Gutenberg_English_Fiction_1k/Gutenberg_19th_century_English_Fiction/pg20359-content.html  \n",
            "  inflating: books_set/Gutenberg_English_Fiction_1k/Gutenberg_19th_century_English_Fiction/pg20424-content.html  \n",
            "  inflating: books_set/Gutenberg_English_Fiction_1k/Gutenberg_19th_century_English_Fiction/pg20429-content.html  \n",
            "  inflating: books_set/Gutenberg_English_Fiction_1k/Gutenberg_19th_century_English_Fiction/pg20458-content.html  \n",
            "  inflating: books_set/Gutenberg_English_Fiction_1k/Gutenberg_19th_century_English_Fiction/pg20462-content.html  \n",
            "  inflating: books_set/Gutenberg_English_Fiction_1k/Gutenberg_19th_century_English_Fiction/pg20610-content.html  \n",
            "  inflating: books_set/Gutenberg_English_Fiction_1k/Gutenberg_19th_century_English_Fiction/pg20615-content.html  \n",
            "  inflating: books_set/Gutenberg_English_Fiction_1k/Gutenberg_19th_century_English_Fiction/pg20661-content.html  \n",
            "  inflating: books_set/Gutenberg_English_Fiction_1k/Gutenberg_19th_century_English_Fiction/pg20835-content.html  \n",
            "  inflating: books_set/Gutenberg_English_Fiction_1k/Gutenberg_19th_century_English_Fiction/pg20901-content.html  \n",
            "  inflating: books_set/Gutenberg_English_Fiction_1k/Gutenberg_19th_century_English_Fiction/pg2097DoyleSignFour-content.html  \n",
            "  inflating: books_set/Gutenberg_English_Fiction_1k/Gutenberg_19th_century_English_Fiction/pg21067-content.html  \n",
            "  inflating: books_set/Gutenberg_English_Fiction_1k/Gutenberg_19th_century_English_Fiction/pg21087-content.html  \n",
            "  inflating: books_set/Gutenberg_English_Fiction_1k/Gutenberg_19th_century_English_Fiction/pg2147EdgarPoe1-content.html  \n",
            "  inflating: books_set/Gutenberg_English_Fiction_1k/Gutenberg_19th_century_English_Fiction/pg2148EdgarPoe2-content.html  \n",
            "  inflating: books_set/Gutenberg_English_Fiction_1k/Gutenberg_19th_century_English_Fiction/pg2149EdgarPoe3-content.html  \n",
            "  inflating: books_set/Gutenberg_English_Fiction_1k/Gutenberg_19th_century_English_Fiction/pg2150EdgarPoe4-content.html  \n",
            "  inflating: books_set/Gutenberg_English_Fiction_1k/Gutenberg_19th_century_English_Fiction/pg2155-content.html  \n",
            "  inflating: books_set/Gutenberg_English_Fiction_1k/Gutenberg_19th_century_English_Fiction/pg21578-content.html  \n",
            "  inflating: books_set/Gutenberg_English_Fiction_1k/Gutenberg_19th_century_English_Fiction/pg21613-content.html  \n",
            "  inflating: books_set/Gutenberg_English_Fiction_1k/Gutenberg_19th_century_English_Fiction/pg21641-content.html  \n",
            "  inflating: books_set/Gutenberg_English_Fiction_1k/Gutenberg_19th_century_English_Fiction/pg21674-content.html  \n",
            "  inflating: books_set/Gutenberg_English_Fiction_1k/Gutenberg_19th_century_English_Fiction/pg21689-content.html  \n",
            "  inflating: books_set/Gutenberg_English_Fiction_1k/Gutenberg_19th_century_English_Fiction/pg21690-content.html  \n",
            "  inflating: books_set/Gutenberg_English_Fiction_1k/Gutenberg_19th_century_English_Fiction/pg21767-content.html  \n",
            "  inflating: books_set/Gutenberg_English_Fiction_1k/Gutenberg_19th_century_English_Fiction/pg21816HermanConfidence-content.html  \n",
            "  inflating: books_set/Gutenberg_English_Fiction_1k/Gutenberg_19th_century_English_Fiction/pg21821-content.html  \n",
            "  inflating: books_set/Gutenberg_English_Fiction_1k/Gutenberg_19th_century_English_Fiction/pg21858-content.html  \n",
            "  inflating: books_set/Gutenberg_English_Fiction_1k/Gutenberg_19th_century_English_Fiction/pg21867-content.html  \n",
            "  inflating: books_set/Gutenberg_English_Fiction_1k/Gutenberg_19th_century_English_Fiction/pg21870-content.html  \n",
            "  inflating: books_set/Gutenberg_English_Fiction_1k/Gutenberg_19th_century_English_Fiction/pg21887-content.html  \n",
            "  inflating: books_set/Gutenberg_English_Fiction_1k/Gutenberg_19th_century_English_Fiction/pg21932-content.html  \n",
            "  inflating: books_set/Gutenberg_English_Fiction_1k/Gutenberg_19th_century_English_Fiction/pg21944-content.html  \n",
            "  inflating: books_set/Gutenberg_English_Fiction_1k/Gutenberg_19th_century_English_Fiction/pg21999-content.html  \n",
            "  inflating: books_set/Gutenberg_English_Fiction_1k/Gutenberg_19th_century_English_Fiction/pg22158-content.html  \n",
            "  inflating: books_set/Gutenberg_English_Fiction_1k/Gutenberg_19th_century_English_Fiction/pg22202-content.html  \n",
            "  inflating: books_set/Gutenberg_English_Fiction_1k/Gutenberg_19th_century_English_Fiction/pg22205-content.html  \n",
            "  inflating: books_set/Gutenberg_English_Fiction_1k/Gutenberg_19th_century_English_Fiction/pg22206-content.html  \n",
            "  inflating: books_set/Gutenberg_English_Fiction_1k/Gutenberg_19th_century_English_Fiction/pg22207-content.html  \n",
            "  inflating: books_set/Gutenberg_English_Fiction_1k/Gutenberg_19th_century_English_Fiction/pg22208-content.html  \n",
            "  inflating: books_set/Gutenberg_English_Fiction_1k/Gutenberg_19th_century_English_Fiction/pg22214-content.html  \n",
            "  inflating: books_set/Gutenberg_English_Fiction_1k/Gutenberg_19th_century_English_Fiction/pg22221-content.html  \n",
            "  inflating: books_set/Gutenberg_English_Fiction_1k/Gutenberg_19th_century_English_Fiction/pg22271-content.html  \n",
            "  inflating: books_set/Gutenberg_English_Fiction_1k/Gutenberg_19th_century_English_Fiction/pg22272-content.html  \n",
            "  inflating: books_set/Gutenberg_English_Fiction_1k/Gutenberg_19th_century_English_Fiction/pg22273-content.html  \n",
            "  inflating: books_set/Gutenberg_English_Fiction_1k/Gutenberg_19th_century_English_Fiction/pg22274-content.html  \n",
            "  inflating: books_set/Gutenberg_English_Fiction_1k/Gutenberg_19th_century_English_Fiction/pg22275-content.html  \n",
            "  inflating: books_set/Gutenberg_English_Fiction_1k/Gutenberg_19th_century_English_Fiction/pg22276-content.html  \n",
            "  inflating: books_set/Gutenberg_English_Fiction_1k/Gutenberg_19th_century_English_Fiction/pg22411-content.html  \n",
            "  inflating: books_set/Gutenberg_English_Fiction_1k/Gutenberg_19th_century_English_Fiction/pg22476-content.html  \n",
            "  inflating: books_set/Gutenberg_English_Fiction_1k/Gutenberg_19th_century_English_Fiction/pg22532-content.html  \n",
            "  inflating: books_set/Gutenberg_English_Fiction_1k/Gutenberg_19th_century_English_Fiction/pg22660-content.html  \n",
            "  inflating: books_set/Gutenberg_English_Fiction_1k/Gutenberg_19th_century_English_Fiction/pg22757-content.html  \n",
            "  inflating: books_set/Gutenberg_English_Fiction_1k/Gutenberg_19th_century_English_Fiction/pg22781-content.html  \n",
            "  inflating: books_set/Gutenberg_English_Fiction_1k/Gutenberg_19th_century_English_Fiction/pg2287-content.html  \n",
            "  inflating: books_set/Gutenberg_English_Fiction_1k/Gutenberg_19th_century_English_Fiction/pg22883-content.html  \n",
            "  inflating: books_set/Gutenberg_English_Fiction_1k/Gutenberg_19th_century_English_Fiction/pg22928-content.html  \n",
            "  inflating: books_set/Gutenberg_English_Fiction_1k/Gutenberg_19th_century_English_Fiction/pg22961-content.html  \n",
            "  inflating: books_set/Gutenberg_English_Fiction_1k/Gutenberg_19th_century_English_Fiction/pg23009-content.html  \n",
            "  inflating: books_set/Gutenberg_English_Fiction_1k/Gutenberg_19th_century_English_Fiction/pg23010-content.html  \n",
            "  inflating: books_set/Gutenberg_English_Fiction_1k/Gutenberg_19th_century_English_Fiction/pg23012-content.html  \n",
            "  inflating: books_set/Gutenberg_English_Fiction_1k/Gutenberg_19th_century_English_Fiction/pg23106-content.html  \n",
            "  inflating: books_set/Gutenberg_English_Fiction_1k/Gutenberg_19th_century_English_Fiction/pg23118-content.html  \n",
            "  inflating: books_set/Gutenberg_English_Fiction_1k/Gutenberg_19th_century_English_Fiction/pg23157-content.html  \n",
            "  inflating: books_set/Gutenberg_English_Fiction_1k/Gutenberg_19th_century_English_Fiction/pg23215-content.html  \n",
            "  inflating: books_set/Gutenberg_English_Fiction_1k/Gutenberg_19th_century_English_Fiction/pg23222-content.html  \n",
            "  inflating: books_set/Gutenberg_English_Fiction_1k/Gutenberg_19th_century_English_Fiction/pg23223-content.html  \n",
            "  inflating: books_set/Gutenberg_English_Fiction_1k/Gutenberg_19th_century_English_Fiction/pg23246-content.html  \n",
            "  inflating: books_set/Gutenberg_English_Fiction_1k/Gutenberg_19th_century_English_Fiction/pg23420-content.html  \n",
            "  inflating: books_set/Gutenberg_English_Fiction_1k/Gutenberg_19th_century_English_Fiction/pg23606-content.html  \n",
            "  inflating: books_set/Gutenberg_English_Fiction_1k/Gutenberg_19th_century_English_Fiction/pg23629-content.html  \n",
            "  inflating: books_set/Gutenberg_English_Fiction_1k/Gutenberg_19th_century_English_Fiction/pg23630-content.html  \n",
            "  inflating: books_set/Gutenberg_English_Fiction_1k/Gutenberg_19th_century_English_Fiction/pg23631-content.html  \n",
            "  inflating: books_set/Gutenberg_English_Fiction_1k/Gutenberg_19th_century_English_Fiction/pg23632-content.html  \n",
            "  inflating: books_set/Gutenberg_English_Fiction_1k/Gutenberg_19th_century_English_Fiction/pg23633-content.html  \n",
            "  inflating: books_set/Gutenberg_English_Fiction_1k/Gutenberg_19th_century_English_Fiction/pg23664-content.html  \n",
            "  inflating: books_set/Gutenberg_English_Fiction_1k/Gutenberg_19th_century_English_Fiction/pg23736-content.html  \n",
            "  inflating: books_set/Gutenberg_English_Fiction_1k/Gutenberg_19th_century_English_Fiction/pg23741-content.html  \n",
            "  inflating: books_set/Gutenberg_English_Fiction_1k/Gutenberg_19th_century_English_Fiction/pg23745-content.html  \n",
            "  inflating: books_set/Gutenberg_English_Fiction_1k/Gutenberg_19th_century_English_Fiction/pg23757-content.html  \n",
            "  inflating: books_set/Gutenberg_English_Fiction_1k/Gutenberg_19th_century_English_Fiction/pg23789-content.html  \n",
            "  inflating: books_set/Gutenberg_English_Fiction_1k/Gutenberg_19th_century_English_Fiction/pg23797-content.html  \n",
            "  inflating: books_set/Gutenberg_English_Fiction_1k/Gutenberg_19th_century_English_Fiction/pg23952-content.html  \n",
            "  inflating: books_set/Gutenberg_English_Fiction_1k/Gutenberg_19th_century_English_Fiction/pg24769-content.html  \n",
            "  inflating: books_set/Gutenberg_English_Fiction_1k/Gutenberg_19th_century_English_Fiction/pg24920-content.html  \n",
            "  inflating: books_set/Gutenberg_English_Fiction_1k/Gutenberg_19th_century_English_Fiction/pg25702-content.html  \n",
            "  inflating: books_set/Gutenberg_English_Fiction_1k/Gutenberg_19th_century_English_Fiction/pg25730-content.html  \n",
            "  inflating: books_set/Gutenberg_English_Fiction_1k/Gutenberg_19th_century_English_Fiction/pg25779-content.html  \n",
            "  inflating: books_set/Gutenberg_English_Fiction_1k/Gutenberg_19th_century_English_Fiction/pg26063-content.html  \n",
            "  inflating: books_set/Gutenberg_English_Fiction_1k/Gutenberg_19th_century_English_Fiction/pg26259-content.html  \n",
            "  inflating: books_set/Gutenberg_English_Fiction_1k/Gutenberg_19th_century_English_Fiction/pg26277-content.html  \n",
            "  inflating: books_set/Gutenberg_English_Fiction_1k/Gutenberg_19th_century_English_Fiction/pg26306-content.html  \n",
            "  inflating: books_set/Gutenberg_English_Fiction_1k/Gutenberg_19th_century_English_Fiction/pg26482-content.html  \n",
            "  inflating: books_set/Gutenberg_English_Fiction_1k/Gutenberg_19th_century_English_Fiction/pg2675-content.html  \n",
            "  inflating: books_set/Gutenberg_English_Fiction_1k/Gutenberg_19th_century_English_Fiction/pg26768-content.html  \n",
            "  inflating: books_set/Gutenberg_English_Fiction_1k/Gutenberg_19th_century_English_Fiction/pg26828-content.html  \n",
            "  inflating: books_set/Gutenberg_English_Fiction_1k/Gutenberg_19th_century_English_Fiction/pg26847-content.html  \n",
            "  inflating: books_set/Gutenberg_English_Fiction_1k/Gutenberg_19th_century_English_Fiction/pg2684Galsw4-content.html  \n",
            "  inflating: books_set/Gutenberg_English_Fiction_1k/Gutenberg_19th_century_English_Fiction/pg26925-content.html  \n",
            "  inflating: books_set/Gutenberg_English_Fiction_1k/Gutenberg_19th_century_English_Fiction/pg26951-content.html  \n",
            "  inflating: books_set/Gutenberg_English_Fiction_1k/Gutenberg_19th_century_English_Fiction/pg2701HermanMobyDick-content.html  \n",
            "  inflating: books_set/Gutenberg_English_Fiction_1k/Gutenberg_19th_century_English_Fiction/pg27323-content.html  \n",
            "  inflating: books_set/Gutenberg_English_Fiction_1k/Gutenberg_19th_century_English_Fiction/pg27373-content.html  \n",
            "  inflating: books_set/Gutenberg_English_Fiction_1k/Gutenberg_19th_century_English_Fiction/pg27437-content.html  \n",
            "  inflating: books_set/Gutenberg_English_Fiction_1k/Gutenberg_19th_century_English_Fiction/pg27507-content.html  \n",
            "  inflating: books_set/Gutenberg_English_Fiction_1k/Gutenberg_19th_century_English_Fiction/pg27549-content.html  \n",
            "  inflating: books_set/Gutenberg_English_Fiction_1k/Gutenberg_19th_century_English_Fiction/pg27709-content.html  \n",
            "  inflating: books_set/Gutenberg_English_Fiction_1k/Gutenberg_19th_century_English_Fiction/pg27838-content.html  \n",
            "  inflating: books_set/Gutenberg_English_Fiction_1k/Gutenberg_19th_century_English_Fiction/pg27857-content.html  \n",
            "  inflating: books_set/Gutenberg_English_Fiction_1k/Gutenberg_19th_century_English_Fiction/pg27909-content.html  \n",
            "  inflating: books_set/Gutenberg_English_Fiction_1k/Gutenberg_19th_century_English_Fiction/pg28229-content.html  \n",
            "  inflating: books_set/Gutenberg_English_Fiction_1k/Gutenberg_19th_century_English_Fiction/pg28236-content.html  \n",
            "  inflating: books_set/Gutenberg_English_Fiction_1k/Gutenberg_19th_century_English_Fiction/pg28301-content.html  \n",
            "  inflating: books_set/Gutenberg_English_Fiction_1k/Gutenberg_19th_century_English_Fiction/pg28459-content.html  \n",
            "  inflating: books_set/Gutenberg_English_Fiction_1k/Gutenberg_19th_century_English_Fiction/pg28463-content.html  \n",
            "  inflating: books_set/Gutenberg_English_Fiction_1k/Gutenberg_19th_century_English_Fiction/pg28465-content.html  \n",
            "  inflating: books_set/Gutenberg_English_Fiction_1k/Gutenberg_19th_century_English_Fiction/pg28509-content.html  \n",
            "  inflating: books_set/Gutenberg_English_Fiction_1k/Gutenberg_19th_century_English_Fiction/pg2852DoyleHound-content.html  \n",
            "  inflating: books_set/Gutenberg_English_Fiction_1k/Gutenberg_19th_century_English_Fiction/pg28717-content.html  \n",
            "  inflating: books_set/Gutenberg_English_Fiction_1k/Gutenberg_19th_century_English_Fiction/pg28925-content.html  \n",
            "  inflating: books_set/Gutenberg_English_Fiction_1k/Gutenberg_19th_century_English_Fiction/pg29042CarolTangTale-content.html  \n",
            "  inflating: books_set/Gutenberg_English_Fiction_1k/Gutenberg_19th_century_English_Fiction/pg29071-content.html  \n",
            "  inflating: books_set/Gutenberg_English_Fiction_1k/Gutenberg_19th_century_English_Fiction/pg2911Galsw2-content.html  \n",
            "  inflating: books_set/Gutenberg_English_Fiction_1k/Gutenberg_19th_century_English_Fiction/pg2919Galsw5-content.html  \n",
            "  inflating: books_set/Gutenberg_English_Fiction_1k/Gutenberg_19th_century_English_Fiction/pg29207-content.html  \n",
            "  inflating: books_set/Gutenberg_English_Fiction_1k/Gutenberg_19th_century_English_Fiction/pg29219-content.html  \n",
            "  inflating: books_set/Gutenberg_English_Fiction_1k/Gutenberg_19th_century_English_Fiction/pg29274-content.html  \n",
            "  inflating: books_set/Gutenberg_English_Fiction_1k/Gutenberg_19th_century_English_Fiction/pg29315-content.html  \n",
            "  inflating: books_set/Gutenberg_English_Fiction_1k/Gutenberg_19th_century_English_Fiction/pg29323-content.html  \n",
            "  inflating: books_set/Gutenberg_English_Fiction_1k/Gutenberg_19th_century_English_Fiction/pg29366-content.html  \n",
            "  inflating: books_set/Gutenberg_English_Fiction_1k/Gutenberg_19th_century_English_Fiction/pg29400-content.html  \n",
            "  inflating: books_set/Gutenberg_English_Fiction_1k/Gutenberg_19th_century_English_Fiction/pg29570-content.html  \n",
            "  inflating: books_set/Gutenberg_English_Fiction_1k/Gutenberg_19th_century_English_Fiction/pg29646-content.html  \n",
            "  inflating: books_set/Gutenberg_English_Fiction_1k/Gutenberg_19th_century_English_Fiction/pg29657-content.html  \n",
            "  inflating: books_set/Gutenberg_English_Fiction_1k/Gutenberg_19th_century_English_Fiction/pg29671-content.html  \n",
            "  inflating: books_set/Gutenberg_English_Fiction_1k/Gutenberg_19th_century_English_Fiction/pg29695-content.html  \n",
            "  inflating: books_set/Gutenberg_English_Fiction_1k/Gutenberg_19th_century_English_Fiction/pg29697-content.html  \n",
            "  inflating: books_set/Gutenberg_English_Fiction_1k/Gutenberg_19th_century_English_Fiction/pg29699-content.html  \n",
            "  inflating: books_set/Gutenberg_English_Fiction_1k/Gutenberg_19th_century_English_Fiction/pg29715-content.html  \n",
            "  inflating: books_set/Gutenberg_English_Fiction_1k/Gutenberg_19th_century_English_Fiction/pg29726-content.html  \n",
            "  inflating: books_set/Gutenberg_English_Fiction_1k/Gutenberg_19th_century_English_Fiction/pg29729-content.html  \n",
            "  inflating: books_set/Gutenberg_English_Fiction_1k/Gutenberg_19th_century_English_Fiction/pg29743-content.html  \n",
            "  inflating: books_set/Gutenberg_English_Fiction_1k/Gutenberg_19th_century_English_Fiction/pg29753-content.html  \n",
            "  inflating: books_set/Gutenberg_English_Fiction_1k/Gutenberg_19th_century_English_Fiction/pg29760-content.html  \n",
            "  inflating: books_set/Gutenberg_English_Fiction_1k/Gutenberg_19th_century_English_Fiction/pg29766-content.html  \n",
            "  inflating: books_set/Gutenberg_English_Fiction_1k/Gutenberg_19th_century_English_Fiction/pg29808-content.html  \n",
            "  inflating: books_set/Gutenberg_English_Fiction_1k/Gutenberg_19th_century_English_Fiction/pg29847-content.html  \n",
            "  inflating: books_set/Gutenberg_English_Fiction_1k/Gutenberg_19th_century_English_Fiction/pg29851-content.html  \n",
            "  inflating: books_set/Gutenberg_English_Fiction_1k/Gutenberg_19th_century_English_Fiction/pg29860-content.html  \n",
            "  inflating: books_set/Gutenberg_English_Fiction_1k/Gutenberg_19th_century_English_Fiction/pg29862-content.html  \n",
            "  inflating: books_set/Gutenberg_English_Fiction_1k/Gutenberg_19th_century_English_Fiction/pg29865-content.html  \n",
            "  inflating: books_set/Gutenberg_English_Fiction_1k/Gutenberg_19th_century_English_Fiction/pg29868-content.html  \n",
            "  inflating: books_set/Gutenberg_English_Fiction_1k/Gutenberg_19th_century_English_Fiction/pg29880-content.html  \n",
            "  inflating: books_set/Gutenberg_English_Fiction_1k/Gutenberg_19th_century_English_Fiction/pg29890-content.html  \n",
            "  inflating: books_set/Gutenberg_English_Fiction_1k/Gutenberg_19th_century_English_Fiction/pg29891-content.html  \n",
            "  inflating: books_set/Gutenberg_English_Fiction_1k/Gutenberg_19th_century_English_Fiction/pg29902-content.html  \n",
            "  inflating: books_set/Gutenberg_English_Fiction_1k/Gutenberg_19th_century_English_Fiction/pg29932-content.html  \n",
            "  inflating: books_set/Gutenberg_English_Fiction_1k/Gutenberg_19th_century_English_Fiction/pg29945-content.html  \n",
            "  inflating: books_set/Gutenberg_English_Fiction_1k/Gutenberg_19th_century_English_Fiction/pg30031-content.html  \n",
            "  inflating: books_set/Gutenberg_English_Fiction_1k/Gutenberg_19th_century_English_Fiction/pg30037-content.html  \n",
            "  inflating: books_set/Gutenberg_English_Fiction_1k/Gutenberg_19th_century_English_Fiction/pg30074-content.html  \n",
            "  inflating: books_set/Gutenberg_English_Fiction_1k/Gutenberg_19th_century_English_Fiction/pg30075-content.html  \n",
            "  inflating: books_set/Gutenberg_English_Fiction_1k/Gutenberg_19th_century_English_Fiction/pg30087-content.html  \n",
            "  inflating: books_set/Gutenberg_English_Fiction_1k/Gutenberg_19th_century_English_Fiction/pg30089-content.html  \n",
            "  inflating: books_set/Gutenberg_English_Fiction_1k/Gutenberg_19th_century_English_Fiction/pg30090-content.html  \n",
            "  inflating: books_set/Gutenberg_English_Fiction_1k/Gutenberg_19th_century_English_Fiction/pg30095-content.html  \n",
            "  inflating: books_set/Gutenberg_English_Fiction_1k/Gutenberg_19th_century_English_Fiction/pg30106-content.html  \n",
            "  inflating: books_set/Gutenberg_English_Fiction_1k/Gutenberg_19th_century_English_Fiction/pg30108-content.html  \n",
            "  inflating: books_set/Gutenberg_English_Fiction_1k/Gutenberg_19th_century_English_Fiction/pg30110-content.html  \n",
            "  inflating: books_set/Gutenberg_English_Fiction_1k/Gutenberg_19th_century_English_Fiction/pg30111-content.html  \n",
            "  inflating: books_set/Gutenberg_English_Fiction_1k/Gutenberg_19th_century_English_Fiction/pg30115-content.html  \n",
            "  inflating: books_set/Gutenberg_English_Fiction_1k/Gutenberg_19th_century_English_Fiction/pg30137-content.html  \n",
            "  inflating: books_set/Gutenberg_English_Fiction_1k/Gutenberg_19th_century_English_Fiction/pg30183-content.html  \n",
            "  inflating: books_set/Gutenberg_English_Fiction_1k/Gutenberg_19th_century_English_Fiction/pg30193-content.html  \n",
            "  inflating: books_set/Gutenberg_English_Fiction_1k/Gutenberg_19th_century_English_Fiction/pg30228-content.html  \n",
            "  inflating: books_set/Gutenberg_English_Fiction_1k/Gutenberg_19th_century_English_Fiction/pg30236-content.html  \n",
            "  inflating: books_set/Gutenberg_English_Fiction_1k/Gutenberg_19th_century_English_Fiction/pg30245-content.html  \n",
            "  inflating: books_set/Gutenberg_English_Fiction_1k/Gutenberg_19th_century_English_Fiction/pg30247-content.html  \n",
            "  inflating: books_set/Gutenberg_English_Fiction_1k/Gutenberg_19th_century_English_Fiction/pg30263-content.html  \n",
            "  inflating: books_set/Gutenberg_English_Fiction_1k/Gutenberg_19th_century_English_Fiction/pg30286-content.html  \n",
            "  inflating: books_set/Gutenberg_English_Fiction_1k/Gutenberg_19th_century_English_Fiction/pg30302-content.html  \n",
            "  inflating: books_set/Gutenberg_English_Fiction_1k/Gutenberg_19th_century_English_Fiction/pg30436-content.html  \n",
            "  inflating: books_set/Gutenberg_English_Fiction_1k/Gutenberg_19th_century_English_Fiction/pg30448-content.html  \n",
            "  inflating: books_set/Gutenberg_English_Fiction_1k/Gutenberg_19th_century_English_Fiction/pg30464-content.html  \n",
            "  inflating: books_set/Gutenberg_English_Fiction_1k/Gutenberg_19th_century_English_Fiction/pg30466-content.html  \n",
            "  inflating: books_set/Gutenberg_English_Fiction_1k/Gutenberg_19th_century_English_Fiction/pg30483-content.html  \n",
            "  inflating: books_set/Gutenberg_English_Fiction_1k/Gutenberg_19th_century_English_Fiction/pg305-content.html  \n",
            "  inflating: books_set/Gutenberg_English_Fiction_1k/Gutenberg_19th_century_English_Fiction/pg30600-content.html  \n",
            "  inflating: books_set/Gutenberg_English_Fiction_1k/Gutenberg_19th_century_English_Fiction/pg30617-content.html  \n",
            "  inflating: books_set/Gutenberg_English_Fiction_1k/Gutenberg_19th_century_English_Fiction/pg30618-content.html  \n",
            "  inflating: books_set/Gutenberg_English_Fiction_1k/Gutenberg_19th_century_English_Fiction/pg30627-content.html  \n",
            "  inflating: books_set/Gutenberg_English_Fiction_1k/Gutenberg_19th_century_English_Fiction/pg30640-content.html  \n",
            "  inflating: books_set/Gutenberg_English_Fiction_1k/Gutenberg_19th_century_English_Fiction/pg30642-content.html  \n",
            "  inflating: books_set/Gutenberg_English_Fiction_1k/Gutenberg_19th_century_English_Fiction/pg30648-content.html  \n",
            "  inflating: books_set/Gutenberg_English_Fiction_1k/Gutenberg_19th_century_English_Fiction/pg30668-content.html  \n",
            "  inflating: books_set/Gutenberg_English_Fiction_1k/Gutenberg_19th_century_English_Fiction/pg30692-content.html  \n",
            "  inflating: books_set/Gutenberg_English_Fiction_1k/Gutenberg_19th_century_English_Fiction/pg30704-content.html  \n",
            "  inflating: books_set/Gutenberg_English_Fiction_1k/Gutenberg_19th_century_English_Fiction/pg30713-content.html  \n",
            "  inflating: books_set/Gutenberg_English_Fiction_1k/Gutenberg_19th_century_English_Fiction/pg30724-content.html  \n",
            "  inflating: books_set/Gutenberg_English_Fiction_1k/Gutenberg_19th_century_English_Fiction/pg30733-content.html  \n",
            "  inflating: books_set/Gutenberg_English_Fiction_1k/Gutenberg_19th_century_English_Fiction/pg30736-content.html  \n",
            "  inflating: books_set/Gutenberg_English_Fiction_1k/Gutenberg_19th_century_English_Fiction/pg30776-content.html  \n",
            "  inflating: books_set/Gutenberg_English_Fiction_1k/Gutenberg_19th_century_English_Fiction/pg30817-content.html  \n",
            "  inflating: books_set/Gutenberg_English_Fiction_1k/Gutenberg_19th_century_English_Fiction/pg30836-content.html  \n",
            "  inflating: books_set/Gutenberg_English_Fiction_1k/Gutenberg_19th_century_English_Fiction/pg30838-content.html  \n",
            "  inflating: books_set/Gutenberg_English_Fiction_1k/Gutenberg_19th_century_English_Fiction/pg30868-content.html  \n",
            "  inflating: books_set/Gutenberg_English_Fiction_1k/Gutenberg_19th_century_English_Fiction/pg30980-content.html  \n",
            "  inflating: books_set/Gutenberg_English_Fiction_1k/Gutenberg_19th_century_English_Fiction/pg31004-content.html  \n",
            "  inflating: books_set/Gutenberg_English_Fiction_1k/Gutenberg_19th_century_English_Fiction/pg31083-content.html  \n",
            "  inflating: books_set/Gutenberg_English_Fiction_1k/Gutenberg_19th_century_English_Fiction/pg31241-content.html  \n",
            "  inflating: books_set/Gutenberg_English_Fiction_1k/Gutenberg_19th_century_English_Fiction/pg31492-content.html  \n",
            "  inflating: books_set/Gutenberg_English_Fiction_1k/Gutenberg_19th_century_English_Fiction/pg31535-content.html  \n",
            "  inflating: books_set/Gutenberg_English_Fiction_1k/Gutenberg_19th_century_English_Fiction/pg31561-content.html  \n",
            "  inflating: books_set/Gutenberg_English_Fiction_1k/Gutenberg_19th_century_English_Fiction/pg31563-content.html  \n",
            "  inflating: books_set/Gutenberg_English_Fiction_1k/Gutenberg_19th_century_English_Fiction/pg31568-content.html  \n",
            "  inflating: books_set/Gutenberg_English_Fiction_1k/Gutenberg_19th_century_English_Fiction/pg31578-content.html  \n",
            "  inflating: books_set/Gutenberg_English_Fiction_1k/Gutenberg_19th_century_English_Fiction/pg31668-content.html  \n",
            "  inflating: books_set/Gutenberg_English_Fiction_1k/Gutenberg_19th_century_English_Fiction/pg31699-content.html  \n",
            "  inflating: books_set/Gutenberg_English_Fiction_1k/Gutenberg_19th_century_English_Fiction/pg31804-content.html  \n",
            "  inflating: books_set/Gutenberg_English_Fiction_1k/Gutenberg_19th_century_English_Fiction/pg31813-content.html  \n",
            "  inflating: books_set/Gutenberg_English_Fiction_1k/Gutenberg_19th_century_English_Fiction/pg31820-content.html  \n",
            "  inflating: books_set/Gutenberg_English_Fiction_1k/Gutenberg_19th_century_English_Fiction/pg31825-content.html  \n",
            "  inflating: books_set/Gutenberg_English_Fiction_1k/Gutenberg_19th_century_English_Fiction/pg31915-content.html  \n",
            "  inflating: books_set/Gutenberg_English_Fiction_1k/Gutenberg_19th_century_English_Fiction/pg31927-content.html  \n",
            "  inflating: books_set/Gutenberg_English_Fiction_1k/Gutenberg_19th_century_English_Fiction/pg31984-content.html  \n",
            "  inflating: books_set/Gutenberg_English_Fiction_1k/Gutenberg_19th_century_English_Fiction/pg32042-content.html  \n",
            "  inflating: books_set/Gutenberg_English_Fiction_1k/Gutenberg_19th_century_English_Fiction/pg32082-content.html  \n",
            "  inflating: books_set/Gutenberg_English_Fiction_1k/Gutenberg_19th_century_English_Fiction/pg32114-content.html  \n",
            "  inflating: books_set/Gutenberg_English_Fiction_1k/Gutenberg_19th_century_English_Fiction/pg32115-content.html  \n",
            "  inflating: books_set/Gutenberg_English_Fiction_1k/Gutenberg_19th_century_English_Fiction/pg32116-content.html  \n",
            "  inflating: books_set/Gutenberg_English_Fiction_1k/Gutenberg_19th_century_English_Fiction/pg32132-content.html  \n",
            "  inflating: books_set/Gutenberg_English_Fiction_1k/Gutenberg_19th_century_English_Fiction/pg32424-content.html  \n",
            "  inflating: books_set/Gutenberg_English_Fiction_1k/Gutenberg_19th_century_English_Fiction/pg32428-content.html  \n",
            "  inflating: books_set/Gutenberg_English_Fiction_1k/Gutenberg_19th_century_English_Fiction/pg32439-content.html  \n",
            "  inflating: books_set/Gutenberg_English_Fiction_1k/Gutenberg_19th_century_English_Fiction/pg32516-content.html  \n",
            "  inflating: books_set/Gutenberg_English_Fiction_1k/Gutenberg_19th_century_English_Fiction/pg32560-content.html  \n",
            "  inflating: books_set/Gutenberg_English_Fiction_1k/Gutenberg_19th_century_English_Fiction/pg32576-content.html  \n",
            "  inflating: books_set/Gutenberg_English_Fiction_1k/Gutenberg_19th_century_English_Fiction/pg32692-content.html  \n",
            "  inflating: books_set/Gutenberg_English_Fiction_1k/Gutenberg_19th_century_English_Fiction/pg32693-content.html  \n",
            "  inflating: books_set/Gutenberg_English_Fiction_1k/Gutenberg_19th_century_English_Fiction/pg32732-content.html  \n",
            "  inflating: books_set/Gutenberg_English_Fiction_1k/Gutenberg_19th_century_English_Fiction/pg32757-content.html  \n",
            "  inflating: books_set/Gutenberg_English_Fiction_1k/Gutenberg_19th_century_English_Fiction/pg32826-content.html  \n",
            "  inflating: books_set/Gutenberg_English_Fiction_1k/Gutenberg_19th_century_English_Fiction/pg32840-content.html  \n",
            "  inflating: books_set/Gutenberg_English_Fiction_1k/Gutenberg_19th_century_English_Fiction/pg32882-content.html  \n",
            "  inflating: books_set/Gutenberg_English_Fiction_1k/Gutenberg_19th_century_English_Fiction/pg32915-content.html  \n",
            "  inflating: books_set/Gutenberg_English_Fiction_1k/Gutenberg_19th_century_English_Fiction/pg32917-content.html  \n",
            "  inflating: books_set/Gutenberg_English_Fiction_1k/Gutenberg_19th_century_English_Fiction/pg32929-content.html  \n",
            "  inflating: books_set/Gutenberg_English_Fiction_1k/Gutenberg_19th_century_English_Fiction/pg32936-content.html  \n",
            "  inflating: books_set/Gutenberg_English_Fiction_1k/Gutenberg_19th_century_English_Fiction/pg33004-content.html  \n",
            "  inflating: books_set/Gutenberg_English_Fiction_1k/Gutenberg_19th_century_English_Fiction/pg33019-content.html  \n",
            "  inflating: books_set/Gutenberg_English_Fiction_1k/Gutenberg_19th_century_English_Fiction/pg33039-content.html  \n",
            "  inflating: books_set/Gutenberg_English_Fiction_1k/Gutenberg_19th_century_English_Fiction/pg33081-content.html  \n",
            "  inflating: books_set/Gutenberg_English_Fiction_1k/Gutenberg_19th_century_English_Fiction/pg33099-content.html  \n",
            "  inflating: books_set/Gutenberg_English_Fiction_1k/Gutenberg_19th_century_English_Fiction/pg331-content.html  \n",
            "  inflating: books_set/Gutenberg_English_Fiction_1k/Gutenberg_19th_century_English_Fiction/pg33167-content.html  \n",
            "  inflating: books_set/Gutenberg_English_Fiction_1k/Gutenberg_19th_century_English_Fiction/pg33195-content.html  \n",
            "  inflating: books_set/Gutenberg_English_Fiction_1k/Gutenberg_19th_century_English_Fiction/pg33312-content.html  \n",
            "  inflating: books_set/Gutenberg_English_Fiction_1k/Gutenberg_19th_century_English_Fiction/pg33399-content.html  \n",
            "  inflating: books_set/Gutenberg_English_Fiction_1k/Gutenberg_19th_century_English_Fiction/pg33401-content.html  \n",
            "  inflating: books_set/Gutenberg_English_Fiction_1k/Gutenberg_19th_century_English_Fiction/pg33423-content.html  \n",
            "  inflating: books_set/Gutenberg_English_Fiction_1k/Gutenberg_19th_century_English_Fiction/pg33468-content.html  \n",
            "  inflating: books_set/Gutenberg_English_Fiction_1k/Gutenberg_19th_century_English_Fiction/pg33469-content.html  \n",
            "  inflating: books_set/Gutenberg_English_Fiction_1k/Gutenberg_19th_century_English_Fiction/pg33482-content.html  \n",
            "  inflating: books_set/Gutenberg_English_Fiction_1k/Gutenberg_19th_century_English_Fiction/pg33490-content.html  \n",
            "  inflating: books_set/Gutenberg_English_Fiction_1k/Gutenberg_19th_century_English_Fiction/pg33498-content.html  \n",
            "  inflating: books_set/Gutenberg_English_Fiction_1k/Gutenberg_19th_century_English_Fiction/pg33556-content.html  \n",
            "  inflating: books_set/Gutenberg_English_Fiction_1k/Gutenberg_19th_century_English_Fiction/pg33557-content.html  \n",
            "  inflating: books_set/Gutenberg_English_Fiction_1k/Gutenberg_19th_century_English_Fiction/pg33565-content.html  \n",
            "  inflating: books_set/Gutenberg_English_Fiction_1k/Gutenberg_19th_century_English_Fiction/pg33604-content.html  \n",
            "  inflating: books_set/Gutenberg_English_Fiction_1k/Gutenberg_19th_century_English_Fiction/pg33664-content.html  \n",
            "  inflating: books_set/Gutenberg_English_Fiction_1k/Gutenberg_19th_century_English_Fiction/pg33695-content.html  \n",
            "  inflating: books_set/Gutenberg_English_Fiction_1k/Gutenberg_19th_century_English_Fiction/pg33715-content.html  \n",
            "  inflating: books_set/Gutenberg_English_Fiction_1k/Gutenberg_19th_century_English_Fiction/pg33747-content.html  \n",
            "  inflating: books_set/Gutenberg_English_Fiction_1k/Gutenberg_19th_century_English_Fiction/pg33759-content.html  \n",
            "  inflating: books_set/Gutenberg_English_Fiction_1k/Gutenberg_19th_century_English_Fiction/pg33761-content.html  \n",
            "  inflating: books_set/Gutenberg_English_Fiction_1k/Gutenberg_19th_century_English_Fiction/pg33780-content.html  \n",
            "  inflating: books_set/Gutenberg_English_Fiction_1k/Gutenberg_19th_century_English_Fiction/pg33785-content.html  \n",
            "  inflating: books_set/Gutenberg_English_Fiction_1k/Gutenberg_19th_century_English_Fiction/pg33867-content.html  \n",
            "  inflating: books_set/Gutenberg_English_Fiction_1k/Gutenberg_19th_century_English_Fiction/pg33892-content.html  \n",
            "  inflating: books_set/Gutenberg_English_Fiction_1k/Gutenberg_19th_century_English_Fiction/pg33945-content.html  \n",
            "  inflating: books_set/Gutenberg_English_Fiction_1k/Gutenberg_19th_century_English_Fiction/pg33947-content.html  \n",
            "  inflating: books_set/Gutenberg_English_Fiction_1k/Gutenberg_19th_century_English_Fiction/pg33959-content.html  \n",
            "  inflating: books_set/Gutenberg_English_Fiction_1k/Gutenberg_19th_century_English_Fiction/pg33973-content.html  \n",
            "  inflating: books_set/Gutenberg_English_Fiction_1k/Gutenberg_19th_century_English_Fiction/pg33989-content.html  \n",
            "  inflating: books_set/Gutenberg_English_Fiction_1k/Gutenberg_19th_century_English_Fiction/pg34034-content.html  \n",
            "  inflating: books_set/Gutenberg_English_Fiction_1k/Gutenberg_19th_century_English_Fiction/pg34035-content.html  \n",
            "  inflating: books_set/Gutenberg_English_Fiction_1k/Gutenberg_19th_century_English_Fiction/pg34046-content.html  \n",
            "  inflating: books_set/Gutenberg_English_Fiction_1k/Gutenberg_19th_century_English_Fiction/pg34058-content.html  \n",
            "  inflating: books_set/Gutenberg_English_Fiction_1k/Gutenberg_19th_century_English_Fiction/pg34088-content.html  \n",
            "  inflating: books_set/Gutenberg_English_Fiction_1k/Gutenberg_19th_century_English_Fiction/pg34129-content.html  \n",
            "  inflating: books_set/Gutenberg_English_Fiction_1k/Gutenberg_19th_century_English_Fiction/pg34138-content.html  \n",
            "  inflating: books_set/Gutenberg_English_Fiction_1k/Gutenberg_19th_century_English_Fiction/pg34140-content.html  \n",
            "  inflating: books_set/Gutenberg_English_Fiction_1k/Gutenberg_19th_century_English_Fiction/pg34142-content.html  \n",
            " extracting: books_set/Gutenberg_English_Fiction_1k/Gutenberg_19th_century_English_Fiction/pg34164-content.html  \n",
            "  inflating: books_set/Gutenberg_English_Fiction_1k/Gutenberg_19th_century_English_Fiction/pg34166-content.html  \n",
            "  inflating: books_set/Gutenberg_English_Fiction_1k/Gutenberg_19th_century_English_Fiction/pg34168-content.html  \n",
            "  inflating: books_set/Gutenberg_English_Fiction_1k/Gutenberg_19th_century_English_Fiction/pg34202-content.html  \n",
            "  inflating: books_set/Gutenberg_English_Fiction_1k/Gutenberg_19th_century_English_Fiction/pg34244-content.html  \n",
            "  inflating: books_set/Gutenberg_English_Fiction_1k/Gutenberg_19th_century_English_Fiction/pg34246-content.html  \n",
            "  inflating: books_set/Gutenberg_English_Fiction_1k/Gutenberg_19th_century_English_Fiction/pg34248-content.html  \n",
            "  inflating: books_set/Gutenberg_English_Fiction_1k/Gutenberg_19th_century_English_Fiction/pg34277-content.html  \n",
            "  inflating: books_set/Gutenberg_English_Fiction_1k/Gutenberg_19th_century_English_Fiction/pg34282-content.html  \n",
            "  inflating: books_set/Gutenberg_English_Fiction_1k/Gutenberg_19th_century_English_Fiction/pg34297-content.html  \n",
            "  inflating: books_set/Gutenberg_English_Fiction_1k/Gutenberg_19th_century_English_Fiction/pg34401-content.html  \n",
            "  inflating: books_set/Gutenberg_English_Fiction_1k/Gutenberg_19th_century_English_Fiction/pg34402-content.html  \n",
            "  inflating: books_set/Gutenberg_English_Fiction_1k/Gutenberg_19th_century_English_Fiction/pg34415-content.html  \n",
            "  inflating: books_set/Gutenberg_English_Fiction_1k/Gutenberg_19th_century_English_Fiction/pg34428-content.html  \n",
            "  inflating: books_set/Gutenberg_English_Fiction_1k/Gutenberg_19th_century_English_Fiction/pg34482-content.html  \n",
            "  inflating: books_set/Gutenberg_English_Fiction_1k/Gutenberg_19th_century_English_Fiction/pg34500-content.html  \n",
            "  inflating: books_set/Gutenberg_English_Fiction_1k/Gutenberg_19th_century_English_Fiction/pg34567-content.html  \n",
            "  inflating: books_set/Gutenberg_English_Fiction_1k/Gutenberg_19th_century_English_Fiction/pg34575-content.html  \n",
            "  inflating: books_set/Gutenberg_English_Fiction_1k/Gutenberg_19th_century_English_Fiction/pg34587-content.html  \n",
            "  inflating: books_set/Gutenberg_English_Fiction_1k/Gutenberg_19th_century_English_Fiction/pg34598-content.html  \n",
            "  inflating: books_set/Gutenberg_English_Fiction_1k/Gutenberg_19th_century_English_Fiction/pg34599-content.html  \n",
            "  inflating: books_set/Gutenberg_English_Fiction_1k/Gutenberg_19th_century_English_Fiction/pg34609-content.html  \n",
            "  inflating: books_set/Gutenberg_English_Fiction_1k/Gutenberg_19th_century_English_Fiction/pg34616-content.html  \n",
            "  inflating: books_set/Gutenberg_English_Fiction_1k/Gutenberg_19th_century_English_Fiction/pg34619-content.html  \n",
            "  inflating: books_set/Gutenberg_English_Fiction_1k/Gutenberg_19th_century_English_Fiction/pg34628-content.html  \n",
            "  inflating: books_set/Gutenberg_English_Fiction_1k/Gutenberg_19th_century_English_Fiction/pg34629-content.html  \n",
            "  inflating: books_set/Gutenberg_English_Fiction_1k/Gutenberg_19th_century_English_Fiction/pg34657-content.html  \n",
            "  inflating: books_set/Gutenberg_English_Fiction_1k/Gutenberg_19th_century_English_Fiction/pg34658-content.html  \n",
            "  inflating: books_set/Gutenberg_English_Fiction_1k/Gutenberg_19th_century_English_Fiction/pg34659-content.html  \n",
            "  inflating: books_set/Gutenberg_English_Fiction_1k/Gutenberg_19th_century_English_Fiction/pg34662-content.html  \n",
            "  inflating: books_set/Gutenberg_English_Fiction_1k/Gutenberg_19th_century_English_Fiction/pg34663-content.html  \n",
            "  inflating: books_set/Gutenberg_English_Fiction_1k/Gutenberg_19th_century_English_Fiction/pg34664-content.html  \n",
            "  inflating: books_set/Gutenberg_English_Fiction_1k/Gutenberg_19th_century_English_Fiction/pg34709-content.html  \n",
            "  inflating: books_set/Gutenberg_English_Fiction_1k/Gutenberg_19th_century_English_Fiction/pg34710-content.html  \n",
            "  inflating: books_set/Gutenberg_English_Fiction_1k/Gutenberg_19th_century_English_Fiction/pg34738-content.html  \n",
            "  inflating: books_set/Gutenberg_English_Fiction_1k/Gutenberg_19th_century_English_Fiction/pg34748-content.html  \n",
            "  inflating: books_set/Gutenberg_English_Fiction_1k/Gutenberg_19th_century_English_Fiction/pg34794-content.html  \n",
            "  inflating: books_set/Gutenberg_English_Fiction_1k/Gutenberg_19th_century_English_Fiction/pg34826-content.html  \n",
            "  inflating: books_set/Gutenberg_English_Fiction_1k/Gutenberg_19th_century_English_Fiction/pg34835-content.html  \n",
            "  inflating: books_set/Gutenberg_English_Fiction_1k/Gutenberg_19th_century_English_Fiction/pg34849-content.html  \n",
            "  inflating: books_set/Gutenberg_English_Fiction_1k/Gutenberg_19th_century_English_Fiction/pg34932-content.html  \n",
            "  inflating: books_set/Gutenberg_English_Fiction_1k/Gutenberg_19th_century_English_Fiction/pg34933-content.html  \n",
            "  inflating: books_set/Gutenberg_English_Fiction_1k/Gutenberg_19th_century_English_Fiction/pg34934-content.html  \n",
            "  inflating: books_set/Gutenberg_English_Fiction_1k/Gutenberg_19th_century_English_Fiction/pg34947-content.html  \n",
            "  inflating: books_set/Gutenberg_English_Fiction_1k/Gutenberg_19th_century_English_Fiction/pg34968-content.html  \n",
            "  inflating: books_set/Gutenberg_English_Fiction_1k/Gutenberg_19th_century_English_Fiction/pg34970HermanPierre-content.html  \n",
            "  inflating: books_set/Gutenberg_English_Fiction_1k/Gutenberg_19th_century_English_Fiction/pg34999-content.html  \n",
            "  inflating: books_set/Gutenberg_English_Fiction_1k/Gutenberg_19th_century_English_Fiction/pg35003-content.html  \n",
            "  inflating: books_set/Gutenberg_English_Fiction_1k/Gutenberg_19th_century_English_Fiction/pg35022-content.html  \n",
            "  inflating: books_set/Gutenberg_English_Fiction_1k/Gutenberg_19th_century_English_Fiction/pg35038-content.html  \n",
            "  inflating: books_set/Gutenberg_English_Fiction_1k/Gutenberg_19th_century_English_Fiction/pg35057-content.html  \n",
            "  inflating: books_set/Gutenberg_English_Fiction_1k/Gutenberg_19th_century_English_Fiction/pg35058-content.html  \n",
            "  inflating: books_set/Gutenberg_English_Fiction_1k/Gutenberg_19th_century_English_Fiction/pg35077-content.html  \n",
            "  inflating: books_set/Gutenberg_English_Fiction_1k/Gutenberg_19th_century_English_Fiction/pg35078-content.html  \n",
            "  inflating: books_set/Gutenberg_English_Fiction_1k/Gutenberg_19th_century_English_Fiction/pg35079-content.html  \n",
            "  inflating: books_set/Gutenberg_English_Fiction_1k/Gutenberg_19th_century_English_Fiction/pg35132-content.html  \n",
            "  inflating: books_set/Gutenberg_English_Fiction_1k/Gutenberg_19th_century_English_Fiction/pg35140-content.html  \n",
            "  inflating: books_set/Gutenberg_English_Fiction_1k/Gutenberg_19th_century_English_Fiction/pg35145-content.html  \n",
            "  inflating: books_set/Gutenberg_English_Fiction_1k/Gutenberg_19th_century_English_Fiction/pg35146-content.html  \n",
            "  inflating: books_set/Gutenberg_English_Fiction_1k/Gutenberg_19th_century_English_Fiction/pg35203-content.html  \n",
            "  inflating: books_set/Gutenberg_English_Fiction_1k/Gutenberg_19th_century_English_Fiction/pg35205-content.html  \n",
            "  inflating: books_set/Gutenberg_English_Fiction_1k/Gutenberg_19th_century_English_Fiction/pg35214-content.html  \n",
            "  inflating: books_set/Gutenberg_English_Fiction_1k/Gutenberg_19th_century_English_Fiction/pg35217-content.html  \n",
            "  inflating: books_set/Gutenberg_English_Fiction_1k/Gutenberg_19th_century_English_Fiction/pg35233-content.html  \n",
            "  inflating: books_set/Gutenberg_English_Fiction_1k/Gutenberg_19th_century_English_Fiction/pg35247-content.html  \n",
            "  inflating: books_set/Gutenberg_English_Fiction_1k/Gutenberg_19th_century_English_Fiction/pg35254-content.html  \n",
            "  inflating: books_set/Gutenberg_English_Fiction_1k/Gutenberg_19th_century_English_Fiction/pg35294-content.html  \n",
            "  inflating: books_set/Gutenberg_English_Fiction_1k/Gutenberg_19th_century_English_Fiction/pg35296-content.html  \n",
            "  inflating: books_set/Gutenberg_English_Fiction_1k/Gutenberg_19th_century_English_Fiction/pg35297-content.html  \n",
            "  inflating: books_set/Gutenberg_English_Fiction_1k/Gutenberg_19th_century_English_Fiction/pg35304-content.html  \n",
            "  inflating: books_set/Gutenberg_English_Fiction_1k/Gutenberg_19th_century_English_Fiction/pg35313-content.html  \n",
            "  inflating: books_set/Gutenberg_English_Fiction_1k/Gutenberg_19th_century_English_Fiction/pg35326-content.html  \n",
            "  inflating: books_set/Gutenberg_English_Fiction_1k/Gutenberg_19th_century_English_Fiction/pg35336-content.html  \n",
            "  inflating: books_set/Gutenberg_English_Fiction_1k/Gutenberg_19th_century_English_Fiction/pg35358-content.html  \n",
            "  inflating: books_set/Gutenberg_English_Fiction_1k/Gutenberg_19th_century_English_Fiction/pg35361-content.html  \n",
            "  inflating: books_set/Gutenberg_English_Fiction_1k/Gutenberg_19th_century_English_Fiction/pg35367-content.html  \n",
            "  inflating: books_set/Gutenberg_English_Fiction_1k/Gutenberg_19th_century_English_Fiction/pg35368-content.html  \n",
            "  inflating: books_set/Gutenberg_English_Fiction_1k/Gutenberg_19th_century_English_Fiction/pg35384-content.html  \n",
            "  inflating: books_set/Gutenberg_English_Fiction_1k/Gutenberg_19th_century_English_Fiction/pg35424-content.html  \n",
            "  inflating: books_set/Gutenberg_English_Fiction_1k/Gutenberg_19th_century_English_Fiction/pg35428-content.html  \n",
            "  inflating: books_set/Gutenberg_English_Fiction_1k/Gutenberg_19th_century_English_Fiction/pg35429-content.html  \n",
            "  inflating: books_set/Gutenberg_English_Fiction_1k/Gutenberg_19th_century_English_Fiction/pg35430-content.html  \n",
            "  inflating: books_set/Gutenberg_English_Fiction_1k/Gutenberg_19th_century_English_Fiction/pg35436-content.html  \n",
            "  inflating: books_set/Gutenberg_English_Fiction_1k/Gutenberg_19th_century_English_Fiction/pg35441-content.html  \n",
            "  inflating: books_set/Gutenberg_English_Fiction_1k/Gutenberg_19th_century_English_Fiction/pg35442-content.html  \n",
            "  inflating: books_set/Gutenberg_English_Fiction_1k/Gutenberg_19th_century_English_Fiction/pg35443-content.html  \n",
            "  inflating: books_set/Gutenberg_English_Fiction_1k/Gutenberg_19th_century_English_Fiction/pg35462-content.html  \n",
            "  inflating: books_set/Gutenberg_English_Fiction_1k/Gutenberg_19th_century_English_Fiction/pg35484-content.html  \n",
            "  inflating: books_set/Gutenberg_English_Fiction_1k/Gutenberg_19th_century_English_Fiction/pg35509-content.html  \n",
            "  inflating: books_set/Gutenberg_English_Fiction_1k/Gutenberg_19th_century_English_Fiction/pg35517-content.html  \n",
            "  inflating: books_set/Gutenberg_English_Fiction_1k/Gutenberg_19th_century_English_Fiction/pg35523-content.html  \n",
            "  inflating: books_set/Gutenberg_English_Fiction_1k/Gutenberg_19th_century_English_Fiction/pg35527-content.html  \n",
            "  inflating: books_set/Gutenberg_English_Fiction_1k/Gutenberg_19th_century_English_Fiction/pg35528-content.html  \n",
            "  inflating: books_set/Gutenberg_English_Fiction_1k/Gutenberg_19th_century_English_Fiction/pg35533-content.html  \n",
            "  inflating: books_set/Gutenberg_English_Fiction_1k/Gutenberg_19th_century_English_Fiction/pg35548-content.html  \n",
            "  inflating: books_set/Gutenberg_English_Fiction_1k/Gutenberg_19th_century_English_Fiction/pg35599-content.html  \n",
            "  inflating: books_set/Gutenberg_English_Fiction_1k/Gutenberg_19th_century_English_Fiction/pg35661-content.html  \n",
            "  inflating: books_set/Gutenberg_English_Fiction_1k/Gutenberg_19th_century_English_Fiction/pg35664-content.html  \n",
            "  inflating: books_set/Gutenberg_English_Fiction_1k/Gutenberg_19th_century_English_Fiction/pg35691-content.html  \n",
            "  inflating: books_set/Gutenberg_English_Fiction_1k/Gutenberg_19th_century_English_Fiction/pg35740-content.html  \n",
            "  inflating: books_set/Gutenberg_English_Fiction_1k/Gutenberg_19th_century_English_Fiction/pg35765-content.html  \n",
            "  inflating: books_set/Gutenberg_English_Fiction_1k/Gutenberg_19th_century_English_Fiction/pg35769-content.html  \n",
            "  inflating: books_set/Gutenberg_English_Fiction_1k/Gutenberg_19th_century_English_Fiction/pg35785-content.html  \n",
            "  inflating: books_set/Gutenberg_English_Fiction_1k/Gutenberg_19th_century_English_Fiction/pg35787-content.html  \n",
            "  inflating: books_set/Gutenberg_English_Fiction_1k/Gutenberg_19th_century_English_Fiction/pg35833-content.html  \n",
            "  inflating: books_set/Gutenberg_English_Fiction_1k/Gutenberg_19th_century_English_Fiction/pg35902-content.html  \n",
            "  inflating: books_set/Gutenberg_English_Fiction_1k/Gutenberg_19th_century_English_Fiction/pg35912-content.html  \n",
            "  inflating: books_set/Gutenberg_English_Fiction_1k/Gutenberg_19th_century_English_Fiction/pg35913-content.html  \n",
            "  inflating: books_set/Gutenberg_English_Fiction_1k/Gutenberg_19th_century_English_Fiction/pg36027-content.html  \n",
            "  inflating: books_set/Gutenberg_English_Fiction_1k/Gutenberg_19th_century_English_Fiction/pg36029-content.html  \n",
            "  inflating: books_set/Gutenberg_English_Fiction_1k/Gutenberg_19th_century_English_Fiction/pg36071-content.html  \n",
            "  inflating: books_set/Gutenberg_English_Fiction_1k/Gutenberg_19th_century_English_Fiction/pg36087-content.html  \n",
            "  inflating: books_set/Gutenberg_English_Fiction_1k/Gutenberg_19th_century_English_Fiction/pg36159-content.html  \n",
            "  inflating: books_set/Gutenberg_English_Fiction_1k/Gutenberg_19th_century_English_Fiction/pg36199-content.html  \n",
            "  inflating: books_set/Gutenberg_English_Fiction_1k/Gutenberg_19th_century_English_Fiction/pg36232-content.html  \n",
            "  inflating: books_set/Gutenberg_English_Fiction_1k/Gutenberg_19th_century_English_Fiction/pg36247-content.html  \n",
            "  inflating: books_set/Gutenberg_English_Fiction_1k/Gutenberg_19th_century_English_Fiction/pg36353-content.html  \n",
            "  inflating: books_set/Gutenberg_English_Fiction_1k/Gutenberg_19th_century_English_Fiction/pg36360-content.html  \n",
            "  inflating: books_set/Gutenberg_English_Fiction_1k/Gutenberg_19th_century_English_Fiction/pg36364-content.html  \n",
            "  inflating: books_set/Gutenberg_English_Fiction_1k/Gutenberg_19th_century_English_Fiction/pg36366-content.html  \n",
            "  inflating: books_set/Gutenberg_English_Fiction_1k/Gutenberg_19th_century_English_Fiction/pg36374-content.html  \n",
            "  inflating: books_set/Gutenberg_English_Fiction_1k/Gutenberg_19th_century_English_Fiction/pg36401-content.html  \n",
            "  inflating: books_set/Gutenberg_English_Fiction_1k/Gutenberg_19th_century_English_Fiction/pg36403-content.html  \n",
            "  inflating: books_set/Gutenberg_English_Fiction_1k/Gutenberg_19th_century_English_Fiction/pg36414-content.html  \n",
            "  inflating: books_set/Gutenberg_English_Fiction_1k/Gutenberg_19th_century_English_Fiction/pg36439-content.html  \n",
            "  inflating: books_set/Gutenberg_English_Fiction_1k/Gutenberg_19th_century_English_Fiction/pg36467-content.html  \n",
            "  inflating: books_set/Gutenberg_English_Fiction_1k/Gutenberg_19th_century_English_Fiction/pg36588-content.html  \n",
            "  inflating: books_set/Gutenberg_English_Fiction_1k/Gutenberg_19th_century_English_Fiction/pg36593-content.html  \n",
            "  inflating: books_set/Gutenberg_English_Fiction_1k/Gutenberg_19th_century_English_Fiction/pg36713-content.html  \n",
            "  inflating: books_set/Gutenberg_English_Fiction_1k/Gutenberg_19th_century_English_Fiction/pg36723-content.html  \n",
            "  inflating: books_set/Gutenberg_English_Fiction_1k/Gutenberg_19th_century_English_Fiction/pg36758-content.html  \n",
            "  inflating: books_set/Gutenberg_English_Fiction_1k/Gutenberg_19th_century_English_Fiction/pg36869-content.html  \n",
            "  inflating: books_set/Gutenberg_English_Fiction_1k/Gutenberg_19th_century_English_Fiction/pg36875-content.html  \n",
            "  inflating: books_set/Gutenberg_English_Fiction_1k/Gutenberg_19th_century_English_Fiction/pg37081-content.html  \n",
            "  inflating: books_set/Gutenberg_English_Fiction_1k/Gutenberg_19th_century_English_Fiction/pg37107-content.html  \n",
            "  inflating: books_set/Gutenberg_English_Fiction_1k/Gutenberg_19th_century_English_Fiction/pg37170-content.html  \n",
            "  inflating: books_set/Gutenberg_English_Fiction_1k/Gutenberg_19th_century_English_Fiction/pg37171-content.html  \n",
            "  inflating: books_set/Gutenberg_English_Fiction_1k/Gutenberg_19th_century_English_Fiction/pg37204-content.html  \n",
            "  inflating: books_set/Gutenberg_English_Fiction_1k/Gutenberg_19th_century_English_Fiction/pg37208-content.html  \n",
            "  inflating: books_set/Gutenberg_English_Fiction_1k/Gutenberg_19th_century_English_Fiction/pg37338-content.html  \n",
            "  inflating: books_set/Gutenberg_English_Fiction_1k/Gutenberg_19th_century_English_Fiction/pg37355-content.html  \n",
            "  inflating: books_set/Gutenberg_English_Fiction_1k/Gutenberg_19th_century_English_Fiction/pg37412-content.html  \n",
            "  inflating: books_set/Gutenberg_English_Fiction_1k/Gutenberg_19th_century_English_Fiction/pg37430-content.html  \n",
            "  inflating: books_set/Gutenberg_English_Fiction_1k/Gutenberg_19th_century_English_Fiction/pg37451-content.html  \n",
            "  inflating: books_set/Gutenberg_English_Fiction_1k/Gutenberg_19th_century_English_Fiction/pg37467-content.html  \n",
            "  inflating: books_set/Gutenberg_English_Fiction_1k/Gutenberg_19th_century_English_Fiction/pg37476-content.html  \n",
            "  inflating: books_set/Gutenberg_English_Fiction_1k/Gutenberg_19th_century_English_Fiction/pg37479-content.html  \n",
            "  inflating: books_set/Gutenberg_English_Fiction_1k/Gutenberg_19th_century_English_Fiction/pg37490-content.html  \n",
            "  inflating: books_set/Gutenberg_English_Fiction_1k/Gutenberg_19th_century_English_Fiction/pg37515-content.html  \n",
            "  inflating: books_set/Gutenberg_English_Fiction_1k/Gutenberg_19th_century_English_Fiction/pg37664-content.html  \n",
            "  inflating: books_set/Gutenberg_English_Fiction_1k/Gutenberg_19th_century_English_Fiction/pg37710-content.html  \n",
            "  inflating: books_set/Gutenberg_English_Fiction_1k/Gutenberg_19th_century_English_Fiction/pg37781-content.html  \n",
            "  inflating: books_set/Gutenberg_English_Fiction_1k/Gutenberg_19th_century_English_Fiction/pg37827-content.html  \n",
            "  inflating: books_set/Gutenberg_English_Fiction_1k/Gutenberg_19th_century_English_Fiction/pg37838-content.html  \n",
            "  inflating: books_set/Gutenberg_English_Fiction_1k/Gutenberg_19th_century_English_Fiction/pg37866-content.html  \n",
            "  inflating: books_set/Gutenberg_English_Fiction_1k/Gutenberg_19th_century_English_Fiction/pg37913-content.html  \n",
            "  inflating: books_set/Gutenberg_English_Fiction_1k/Gutenberg_19th_century_English_Fiction/pg37919-content.html  \n",
            "  inflating: books_set/Gutenberg_English_Fiction_1k/Gutenberg_19th_century_English_Fiction/pg38006-content.html  \n",
            "  inflating: books_set/Gutenberg_English_Fiction_1k/Gutenberg_19th_century_English_Fiction/pg38186-content.html  \n",
            "  inflating: books_set/Gutenberg_English_Fiction_1k/Gutenberg_19th_century_English_Fiction/pg38199-content.html  \n",
            "  inflating: books_set/Gutenberg_English_Fiction_1k/Gutenberg_19th_century_English_Fiction/pg38212-content.html  \n",
            "  inflating: books_set/Gutenberg_English_Fiction_1k/Gutenberg_19th_century_English_Fiction/pg38237-content.html  \n",
            "  inflating: books_set/Gutenberg_English_Fiction_1k/Gutenberg_19th_century_English_Fiction/pg3828-content.html  \n",
            "  inflating: books_set/Gutenberg_English_Fiction_1k/Gutenberg_19th_century_English_Fiction/pg38291-content.html  \n",
            "  inflating: books_set/Gutenberg_English_Fiction_1k/Gutenberg_19th_century_English_Fiction/pg38292-content.html  \n",
            "  inflating: books_set/Gutenberg_English_Fiction_1k/Gutenberg_19th_century_English_Fiction/pg38325-content.html  \n",
            "  inflating: books_set/Gutenberg_English_Fiction_1k/Gutenberg_19th_century_English_Fiction/pg38341-content.html  \n",
            "  inflating: books_set/Gutenberg_English_Fiction_1k/Gutenberg_19th_century_English_Fiction/pg38368-content.html  \n",
            "  inflating: books_set/Gutenberg_English_Fiction_1k/Gutenberg_19th_century_English_Fiction/pg38474-content.html  \n",
            "  inflating: books_set/Gutenberg_English_Fiction_1k/Gutenberg_19th_century_English_Fiction/pg38489-content.html  \n",
            "  inflating: books_set/Gutenberg_English_Fiction_1k/Gutenberg_19th_century_English_Fiction/pg38623-content.html  \n",
            "  inflating: books_set/Gutenberg_English_Fiction_1k/Gutenberg_19th_century_English_Fiction/pg38624-content.html  \n",
            "  inflating: books_set/Gutenberg_English_Fiction_1k/Gutenberg_19th_century_English_Fiction/pg38625-content.html  \n",
            "  inflating: books_set/Gutenberg_English_Fiction_1k/Gutenberg_19th_century_English_Fiction/pg38679-content.html  \n",
            " extracting: books_set/Gutenberg_English_Fiction_1k/Gutenberg_19th_century_English_Fiction/pg38685-content.html  \n",
            "  inflating: books_set/Gutenberg_English_Fiction_1k/Gutenberg_19th_century_English_Fiction/pg38689-content.html  \n",
            "  inflating: books_set/Gutenberg_English_Fiction_1k/Gutenberg_19th_century_English_Fiction/pg38702-content.html  \n",
            "  inflating: books_set/Gutenberg_English_Fiction_1k/Gutenberg_19th_century_English_Fiction/pg38715-content.html  \n",
            "  inflating: books_set/Gutenberg_English_Fiction_1k/Gutenberg_19th_century_English_Fiction/pg38719-content.html  \n",
            "  inflating: books_set/Gutenberg_English_Fiction_1k/Gutenberg_19th_century_English_Fiction/pg38798-content.html  \n",
            "  inflating: books_set/Gutenberg_English_Fiction_1k/Gutenberg_19th_century_English_Fiction/pg38888-content.html  \n",
            "  inflating: books_set/Gutenberg_English_Fiction_1k/Gutenberg_19th_century_English_Fiction/pg39018-content.html  \n",
            "  inflating: books_set/Gutenberg_English_Fiction_1k/Gutenberg_19th_century_English_Fiction/pg39066-content.html  \n",
            "  inflating: books_set/Gutenberg_English_Fiction_1k/Gutenberg_19th_century_English_Fiction/pg39111-content.html  \n",
            "  inflating: books_set/Gutenberg_English_Fiction_1k/Gutenberg_19th_century_English_Fiction/pg39192-content.html  \n",
            "  inflating: books_set/Gutenberg_English_Fiction_1k/Gutenberg_19th_century_English_Fiction/pg39193-content.html  \n",
            "  inflating: books_set/Gutenberg_English_Fiction_1k/Gutenberg_19th_century_English_Fiction/pg39207-content.html  \n",
            "  inflating: books_set/Gutenberg_English_Fiction_1k/Gutenberg_19th_century_English_Fiction/pg39345-content.html  \n",
            "  inflating: books_set/Gutenberg_English_Fiction_1k/Gutenberg_19th_century_English_Fiction/pg39349-content.html  \n",
            "  inflating: books_set/Gutenberg_English_Fiction_1k/Gutenberg_19th_century_English_Fiction/pg39359-content.html  \n",
            "  inflating: books_set/Gutenberg_English_Fiction_1k/Gutenberg_19th_century_English_Fiction/pg39377-content.html  \n",
            "  inflating: books_set/Gutenberg_English_Fiction_1k/Gutenberg_19th_century_English_Fiction/pg39417-content.html  \n",
            "  inflating: books_set/Gutenberg_English_Fiction_1k/Gutenberg_19th_century_English_Fiction/pg39425-content.html  \n",
            "  inflating: books_set/Gutenberg_English_Fiction_1k/Gutenberg_19th_century_English_Fiction/pg39527-content.html  \n",
            "  inflating: books_set/Gutenberg_English_Fiction_1k/Gutenberg_19th_century_English_Fiction/pg39556-content.html  \n",
            "  inflating: books_set/Gutenberg_English_Fiction_1k/Gutenberg_19th_century_English_Fiction/pg39616-content.html  \n",
            "  inflating: books_set/Gutenberg_English_Fiction_1k/Gutenberg_19th_century_English_Fiction/pg39660-content.html  \n",
            "  inflating: books_set/Gutenberg_English_Fiction_1k/Gutenberg_19th_century_English_Fiction/pg39692-content.html  \n",
            "  inflating: books_set/Gutenberg_English_Fiction_1k/Gutenberg_19th_century_English_Fiction/pg39693-content.html  \n",
            "  inflating: books_set/Gutenberg_English_Fiction_1k/Gutenberg_19th_century_English_Fiction/pg39731-content.html  \n",
            "  inflating: books_set/Gutenberg_English_Fiction_1k/Gutenberg_19th_century_English_Fiction/pg39768-content.html  \n",
            "  inflating: books_set/Gutenberg_English_Fiction_1k/Gutenberg_19th_century_English_Fiction/pg39772-content.html  \n",
            "  inflating: books_set/Gutenberg_English_Fiction_1k/Gutenberg_19th_century_English_Fiction/pg39813-content.html  \n",
            "  inflating: books_set/Gutenberg_English_Fiction_1k/Gutenberg_19th_century_English_Fiction/pg39878-content.html  \n",
            "  inflating: books_set/Gutenberg_English_Fiction_1k/Gutenberg_19th_century_English_Fiction/pg39879-content.html  \n",
            "  inflating: books_set/Gutenberg_English_Fiction_1k/Gutenberg_19th_century_English_Fiction/pg39905-content.html  \n",
            "  inflating: books_set/Gutenberg_English_Fiction_1k/Gutenberg_19th_century_English_Fiction/pg39940-content.html  \n",
            "  inflating: books_set/Gutenberg_English_Fiction_1k/Gutenberg_19th_century_English_Fiction/pg40111-content.html  \n",
            "  inflating: books_set/Gutenberg_English_Fiction_1k/Gutenberg_19th_century_English_Fiction/pg40114-content.html  \n",
            "  inflating: books_set/Gutenberg_English_Fiction_1k/Gutenberg_19th_century_English_Fiction/pg40180-content.html  \n",
            "  inflating: books_set/Gutenberg_English_Fiction_1k/Gutenberg_19th_century_English_Fiction/pg40199-content.html  \n",
            "  inflating: books_set/Gutenberg_English_Fiction_1k/Gutenberg_19th_century_English_Fiction/pg40278-content.html  \n",
            "  inflating: books_set/Gutenberg_English_Fiction_1k/Gutenberg_19th_century_English_Fiction/pg40324-content.html  \n",
            "  inflating: books_set/Gutenberg_English_Fiction_1k/Gutenberg_19th_century_English_Fiction/pg40325-content.html  \n",
            "  inflating: books_set/Gutenberg_English_Fiction_1k/Gutenberg_19th_century_English_Fiction/pg40347-content.html  \n",
            "  inflating: books_set/Gutenberg_English_Fiction_1k/Gutenberg_19th_century_English_Fiction/pg40348-content.html  \n",
            "  inflating: books_set/Gutenberg_English_Fiction_1k/Gutenberg_19th_century_English_Fiction/pg40418-content.html  \n",
            "  inflating: books_set/Gutenberg_English_Fiction_1k/Gutenberg_19th_century_English_Fiction/pg40431-content.html  \n",
            "  inflating: books_set/Gutenberg_English_Fiction_1k/Gutenberg_19th_century_English_Fiction/pg40432-content.html  \n",
            "  inflating: books_set/Gutenberg_English_Fiction_1k/Gutenberg_19th_century_English_Fiction/pg40433-content.html  \n",
            "  inflating: books_set/Gutenberg_English_Fiction_1k/Gutenberg_19th_century_English_Fiction/pg40450-content.html  \n",
            "  inflating: books_set/Gutenberg_English_Fiction_1k/Gutenberg_19th_century_English_Fiction/pg40451-content.html  \n",
            "  inflating: books_set/Gutenberg_English_Fiction_1k/Gutenberg_19th_century_English_Fiction/pg40452-content.html  \n",
            "  inflating: books_set/Gutenberg_English_Fiction_1k/Gutenberg_19th_century_English_Fiction/pg4045HermanOmmo-content.html  \n",
            "  inflating: books_set/Gutenberg_English_Fiction_1k/Gutenberg_19th_century_English_Fiction/pg4046-content.html  \n",
            "  inflating: books_set/Gutenberg_English_Fiction_1k/Gutenberg_19th_century_English_Fiction/pg40484-content.html  \n",
            "  inflating: books_set/Gutenberg_English_Fiction_1k/Gutenberg_19th_century_English_Fiction/pg40491-content.html  \n",
            "  inflating: books_set/Gutenberg_English_Fiction_1k/Gutenberg_19th_century_English_Fiction/pg40493-content.html  \n",
            "  inflating: books_set/Gutenberg_English_Fiction_1k/Gutenberg_19th_century_English_Fiction/pg40495-content.html  \n",
            "  inflating: books_set/Gutenberg_English_Fiction_1k/Gutenberg_19th_century_English_Fiction/pg40545-content.html  \n",
            "  inflating: books_set/Gutenberg_English_Fiction_1k/Gutenberg_19th_century_English_Fiction/pg40566-content.html  \n",
            "  inflating: books_set/Gutenberg_English_Fiction_1k/Gutenberg_19th_century_English_Fiction/pg40611-content.html  \n",
            "  inflating: books_set/Gutenberg_English_Fiction_1k/Gutenberg_19th_century_English_Fiction/pg40651-content.html  \n",
            "  inflating: books_set/Gutenberg_English_Fiction_1k/Gutenberg_19th_century_English_Fiction/pg40672-content.html  \n",
            "  inflating: books_set/Gutenberg_English_Fiction_1k/Gutenberg_19th_century_English_Fiction/pg40673-content.html  \n",
            "  inflating: books_set/Gutenberg_English_Fiction_1k/Gutenberg_19th_century_English_Fiction/pg40674-content.html  \n",
            "  inflating: books_set/Gutenberg_English_Fiction_1k/Gutenberg_19th_century_English_Fiction/pg40702-content.html  \n",
            "  inflating: books_set/Gutenberg_English_Fiction_1k/Gutenberg_19th_century_English_Fiction/pg40821-content.html  \n",
            "  inflating: books_set/Gutenberg_English_Fiction_1k/Gutenberg_19th_century_English_Fiction/pg4084-content.html  \n",
            "  inflating: books_set/Gutenberg_English_Fiction_1k/Gutenberg_19th_century_English_Fiction/pg40926-content.html  \n",
            "  inflating: books_set/Gutenberg_English_Fiction_1k/Gutenberg_19th_century_English_Fiction/pg40998-content.html  \n",
            "  inflating: books_set/Gutenberg_English_Fiction_1k/Gutenberg_19th_century_English_Fiction/pg40999-content.html  \n",
            "  inflating: books_set/Gutenberg_English_Fiction_1k/Gutenberg_19th_century_English_Fiction/pg41089-content.html  \n",
            "  inflating: books_set/Gutenberg_English_Fiction_1k/Gutenberg_19th_century_English_Fiction/pg41122-content.html  \n",
            "  inflating: books_set/Gutenberg_English_Fiction_1k/Gutenberg_19th_century_English_Fiction/pg41191-content.html  \n",
            "  inflating: books_set/Gutenberg_English_Fiction_1k/Gutenberg_19th_century_English_Fiction/pg41212-content.html  \n",
            "  inflating: books_set/Gutenberg_English_Fiction_1k/Gutenberg_19th_century_English_Fiction/pg41247-content.html  \n",
            "  inflating: books_set/Gutenberg_English_Fiction_1k/Gutenberg_19th_century_English_Fiction/pg41284-content.html  \n",
            "  inflating: books_set/Gutenberg_English_Fiction_1k/Gutenberg_19th_century_English_Fiction/pg41313-content.html  \n",
            "  inflating: books_set/Gutenberg_English_Fiction_1k/Gutenberg_19th_century_English_Fiction/pg41314-content.html  \n",
            "  inflating: books_set/Gutenberg_English_Fiction_1k/Gutenberg_19th_century_English_Fiction/pg41315-content.html  \n",
            "  inflating: books_set/Gutenberg_English_Fiction_1k/Gutenberg_19th_century_English_Fiction/pg41329-content.html  \n",
            "  inflating: books_set/Gutenberg_English_Fiction_1k/Gutenberg_19th_century_English_Fiction/pg41330-content.html  \n",
            "  inflating: books_set/Gutenberg_English_Fiction_1k/Gutenberg_19th_century_English_Fiction/pg41331-content.html  \n",
            "  inflating: books_set/Gutenberg_English_Fiction_1k/Gutenberg_19th_century_English_Fiction/pg41332-content.html  \n",
            "  inflating: books_set/Gutenberg_English_Fiction_1k/Gutenberg_19th_century_English_Fiction/pg41339-content.html  \n",
            "  inflating: books_set/Gutenberg_English_Fiction_1k/Gutenberg_19th_century_English_Fiction/pg41340-content.html  \n",
            "  inflating: books_set/Gutenberg_English_Fiction_1k/Gutenberg_19th_century_English_Fiction/pg41341-content.html  \n",
            "  inflating: books_set/Gutenberg_English_Fiction_1k/Gutenberg_19th_century_English_Fiction/pg41374-content.html  \n",
            "  inflating: books_set/Gutenberg_English_Fiction_1k/Gutenberg_19th_century_English_Fiction/pg41375-content.html  \n",
            "  inflating: books_set/Gutenberg_English_Fiction_1k/Gutenberg_19th_century_English_Fiction/pg41376-content.html  \n",
            "  inflating: books_set/Gutenberg_English_Fiction_1k/Gutenberg_19th_century_English_Fiction/pg41459-content.html  \n",
            "  inflating: books_set/Gutenberg_English_Fiction_1k/Gutenberg_19th_century_English_Fiction/pg41483-content.html  \n",
            "  inflating: books_set/Gutenberg_English_Fiction_1k/Gutenberg_19th_century_English_Fiction/pg41490-content.html  \n",
            "  inflating: books_set/Gutenberg_English_Fiction_1k/Gutenberg_19th_century_English_Fiction/pg41525-content.html  \n",
            "  inflating: books_set/Gutenberg_English_Fiction_1k/Gutenberg_19th_century_English_Fiction/pg41542-content.html  \n",
            "  inflating: books_set/Gutenberg_English_Fiction_1k/Gutenberg_19th_century_English_Fiction/pg41564-content.html  \n",
            "  inflating: books_set/Gutenberg_English_Fiction_1k/Gutenberg_19th_century_English_Fiction/pg41660-content.html  \n",
            "  inflating: books_set/Gutenberg_English_Fiction_1k/Gutenberg_19th_century_English_Fiction/pg41672-content.html  \n",
            "  inflating: books_set/Gutenberg_English_Fiction_1k/Gutenberg_19th_century_English_Fiction/pg41764-content.html  \n",
            "  inflating: books_set/Gutenberg_English_Fiction_1k/Gutenberg_19th_century_English_Fiction/pg41790-content.html  \n",
            "  inflating: books_set/Gutenberg_English_Fiction_1k/Gutenberg_19th_century_English_Fiction/pg41794-content.html  \n",
            "  inflating: books_set/Gutenberg_English_Fiction_1k/Gutenberg_19th_century_English_Fiction/pg41817-content.html  \n",
            "  inflating: books_set/Gutenberg_English_Fiction_1k/Gutenberg_19th_century_English_Fiction/pg41844-content.html  \n",
            "  inflating: books_set/Gutenberg_English_Fiction_1k/Gutenberg_19th_century_English_Fiction/pg41859-content.html  \n",
            "  inflating: books_set/Gutenberg_English_Fiction_1k/Gutenberg_19th_century_English_Fiction/pg41863-content.html  \n",
            "  inflating: books_set/Gutenberg_English_Fiction_1k/Gutenberg_19th_century_English_Fiction/pg41932-content.html  \n",
            "  inflating: books_set/Gutenberg_English_Fiction_1k/Gutenberg_19th_century_English_Fiction/pg41963-content.html  \n",
            "  inflating: books_set/Gutenberg_English_Fiction_1k/Gutenberg_19th_century_English_Fiction/pg42010-content.html  \n",
            "  inflating: books_set/Gutenberg_English_Fiction_1k/Gutenberg_19th_century_English_Fiction/pg42095-content.html  \n",
            "  inflating: books_set/Gutenberg_English_Fiction_1k/Gutenberg_19th_century_English_Fiction/pg42115-content.html  \n",
            "  inflating: books_set/Gutenberg_English_Fiction_1k/Gutenberg_19th_century_English_Fiction/pg42117-content.html  \n",
            "  inflating: books_set/Gutenberg_English_Fiction_1k/Gutenberg_19th_century_English_Fiction/pg42145-content.html  \n",
            "  inflating: books_set/Gutenberg_English_Fiction_1k/Gutenberg_19th_century_English_Fiction/pg42165-content.html  \n",
            "  inflating: books_set/Gutenberg_English_Fiction_1k/Gutenberg_19th_century_English_Fiction/pg42174-content.html  \n",
            "  inflating: books_set/Gutenberg_English_Fiction_1k/Gutenberg_19th_century_English_Fiction/pg42320-content.html  \n",
            "  inflating: books_set/Gutenberg_English_Fiction_1k/Gutenberg_19th_century_English_Fiction/pg42423-content.html  \n",
            "  inflating: books_set/Gutenberg_English_Fiction_1k/Gutenberg_19th_century_English_Fiction/pg42462-content.html  \n",
            "  inflating: books_set/Gutenberg_English_Fiction_1k/Gutenberg_19th_century_English_Fiction/pg42491-content.html  \n",
            "  inflating: books_set/Gutenberg_English_Fiction_1k/Gutenberg_19th_century_English_Fiction/pg42492-content.html  \n",
            "  inflating: books_set/Gutenberg_English_Fiction_1k/Gutenberg_19th_century_English_Fiction/pg42493-content.html  \n",
            "  inflating: books_set/Gutenberg_English_Fiction_1k/Gutenberg_19th_century_English_Fiction/pg42496-content.html  \n",
            "  inflating: books_set/Gutenberg_English_Fiction_1k/Gutenberg_19th_century_English_Fiction/pg42498-content.html  \n",
            "  inflating: books_set/Gutenberg_English_Fiction_1k/Gutenberg_19th_century_English_Fiction/pg42499-content.html  \n",
            "  inflating: books_set/Gutenberg_English_Fiction_1k/Gutenberg_19th_century_English_Fiction/pg42519-content.html  \n",
            "  inflating: books_set/Gutenberg_English_Fiction_1k/Gutenberg_19th_century_English_Fiction/pg42533-content.html  \n",
            "  inflating: books_set/Gutenberg_English_Fiction_1k/Gutenberg_19th_century_English_Fiction/pg42534-content.html  \n",
            "  inflating: books_set/Gutenberg_English_Fiction_1k/Gutenberg_19th_century_English_Fiction/pg42536-content.html  \n",
            "  inflating: books_set/Gutenberg_English_Fiction_1k/Gutenberg_19th_century_English_Fiction/pg42581-content.html  \n",
            "  inflating: books_set/Gutenberg_English_Fiction_1k/Gutenberg_19th_century_English_Fiction/pg426-content.html  \n",
            "  inflating: books_set/Gutenberg_English_Fiction_1k/Gutenberg_19th_century_English_Fiction/pg42714-content.html  \n",
            "  inflating: books_set/Gutenberg_English_Fiction_1k/Gutenberg_19th_century_English_Fiction/pg42750-content.html  \n",
            "  inflating: books_set/Gutenberg_English_Fiction_1k/Gutenberg_19th_century_English_Fiction/pg42751-content.html  \n",
            "  inflating: books_set/Gutenberg_English_Fiction_1k/Gutenberg_19th_century_English_Fiction/pg42752-content.html  \n",
            "  inflating: books_set/Gutenberg_English_Fiction_1k/Gutenberg_19th_century_English_Fiction/pg42763-content.html  \n",
            "  inflating: books_set/Gutenberg_English_Fiction_1k/Gutenberg_19th_century_English_Fiction/pg42772-content.html  \n",
            "  inflating: books_set/Gutenberg_English_Fiction_1k/Gutenberg_19th_century_English_Fiction/pg42807-content.html  \n",
            "  inflating: books_set/Gutenberg_English_Fiction_1k/Gutenberg_19th_century_English_Fiction/pg42905-content.html  \n",
            "  inflating: books_set/Gutenberg_English_Fiction_1k/Gutenberg_19th_century_English_Fiction/pg42906-content.html  \n",
            "  inflating: books_set/Gutenberg_English_Fiction_1k/Gutenberg_19th_century_English_Fiction/pg42907-content.html  \n",
            "  inflating: books_set/Gutenberg_English_Fiction_1k/Gutenberg_19th_century_English_Fiction/pg42926-content.html  \n",
            "  inflating: books_set/Gutenberg_English_Fiction_1k/Gutenberg_19th_century_English_Fiction/pg43037-content.html  \n",
            "  inflating: books_set/Gutenberg_English_Fiction_1k/Gutenberg_19th_century_English_Fiction/pg43080-content.html  \n",
            "  inflating: books_set/Gutenberg_English_Fiction_1k/Gutenberg_19th_century_English_Fiction/pg43162-content.html  \n",
            "  inflating: books_set/Gutenberg_English_Fiction_1k/Gutenberg_19th_century_English_Fiction/pg43190-content.html  \n",
            "  inflating: books_set/Gutenberg_English_Fiction_1k/Gutenberg_19th_century_English_Fiction/pg43449-content.html  \n",
            "  inflating: books_set/Gutenberg_English_Fiction_1k/Gutenberg_19th_century_English_Fiction/pg43489-content.html  \n",
            "  inflating: books_set/Gutenberg_English_Fiction_1k/Gutenberg_19th_century_English_Fiction/pg43498-content.html  \n",
            "  inflating: books_set/Gutenberg_English_Fiction_1k/Gutenberg_19th_century_English_Fiction/pg43499-content.html  \n",
            "  inflating: books_set/Gutenberg_English_Fiction_1k/Gutenberg_19th_century_English_Fiction/pg43716-content.html  \n",
            "  inflating: books_set/Gutenberg_English_Fiction_1k/Gutenberg_19th_century_English_Fiction/pg43743-content.html  \n",
            "  inflating: books_set/Gutenberg_English_Fiction_1k/Gutenberg_19th_century_English_Fiction/pg43925-content.html  \n",
            "  inflating: books_set/Gutenberg_English_Fiction_1k/Gutenberg_19th_century_English_Fiction/pg4397Galsw1-content.html  \n",
            "  inflating: books_set/Gutenberg_English_Fiction_1k/Gutenberg_19th_century_English_Fiction/pg44018-content.html  \n",
            "  inflating: books_set/Gutenberg_English_Fiction_1k/Gutenberg_19th_century_English_Fiction/pg44264-content.html  \n",
            "  inflating: books_set/Gutenberg_English_Fiction_1k/Gutenberg_19th_century_English_Fiction/pg44326-content.html  \n",
            "  inflating: books_set/Gutenberg_English_Fiction_1k/Gutenberg_19th_century_English_Fiction/pg44375-content.html  \n",
            "  inflating: books_set/Gutenberg_English_Fiction_1k/Gutenberg_19th_century_English_Fiction/pg44421-content.html  \n",
            "  inflating: books_set/Gutenberg_English_Fiction_1k/Gutenberg_19th_century_English_Fiction/pg44454-content.html  \n",
            "  inflating: books_set/Gutenberg_English_Fiction_1k/Gutenberg_19th_century_English_Fiction/pg44581-content.html  \n",
            "  inflating: books_set/Gutenberg_English_Fiction_1k/Gutenberg_19th_century_English_Fiction/pg44633-content.html  \n",
            "  inflating: books_set/Gutenberg_English_Fiction_1k/Gutenberg_19th_century_English_Fiction/pg44796-content.html  \n",
            "  inflating: books_set/Gutenberg_English_Fiction_1k/Gutenberg_19th_century_English_Fiction/pg44803-content.html  \n",
            "  inflating: books_set/Gutenberg_English_Fiction_1k/Gutenberg_19th_century_English_Fiction/pg44819-content.html  \n",
            "  inflating: books_set/Gutenberg_English_Fiction_1k/Gutenberg_19th_century_English_Fiction/pg44828-content.html  \n",
            "  inflating: books_set/Gutenberg_English_Fiction_1k/Gutenberg_19th_century_English_Fiction/pg44841-content.html  \n",
            "  inflating: books_set/Gutenberg_English_Fiction_1k/Gutenberg_19th_century_English_Fiction/pg44872-content.html  \n",
            "  inflating: books_set/Gutenberg_English_Fiction_1k/Gutenberg_19th_century_English_Fiction/pg44878-content.html  \n",
            "  inflating: books_set/Gutenberg_English_Fiction_1k/Gutenberg_19th_century_English_Fiction/pg44984-content.html  \n",
            "  inflating: books_set/Gutenberg_English_Fiction_1k/Gutenberg_19th_century_English_Fiction/pg45042-content.html  \n",
            "  inflating: books_set/Gutenberg_English_Fiction_1k/Gutenberg_19th_century_English_Fiction/pg45047-content.html  \n",
            "  inflating: books_set/Gutenberg_English_Fiction_1k/Gutenberg_19th_century_English_Fiction/pg45104-content.html  \n",
            "  inflating: books_set/Gutenberg_English_Fiction_1k/Gutenberg_19th_century_English_Fiction/pg45401-content.html  \n",
            "  inflating: books_set/Gutenberg_English_Fiction_1k/Gutenberg_19th_century_English_Fiction/pg45402-content.html  \n",
            "  inflating: books_set/Gutenberg_English_Fiction_1k/Gutenberg_19th_century_English_Fiction/pg45403-content.html  \n",
            "  inflating: books_set/Gutenberg_English_Fiction_1k/Gutenberg_19th_century_English_Fiction/pg45618-content.html  \n",
            "  inflating: books_set/Gutenberg_English_Fiction_1k/Gutenberg_19th_century_English_Fiction/pg45622-content.html  \n",
            "  inflating: books_set/Gutenberg_English_Fiction_1k/Gutenberg_19th_century_English_Fiction/pg45636-content.html  \n",
            "  inflating: books_set/Gutenberg_English_Fiction_1k/Gutenberg_19th_century_English_Fiction/pg45816-content.html  \n",
            "  inflating: books_set/Gutenberg_English_Fiction_1k/Gutenberg_19th_century_English_Fiction/pg45817-content.html  \n",
            "  inflating: books_set/Gutenberg_English_Fiction_1k/Gutenberg_19th_century_English_Fiction/pg45818-content.html  \n",
            "  inflating: books_set/Gutenberg_English_Fiction_1k/Gutenberg_19th_century_English_Fiction/pg45872-content.html  \n",
            "  inflating: books_set/Gutenberg_English_Fiction_1k/Gutenberg_19th_century_English_Fiction/pg45912-content.html  \n",
            "  inflating: books_set/Gutenberg_English_Fiction_1k/Gutenberg_19th_century_English_Fiction/pg46008-content.html  \n",
            "  inflating: books_set/Gutenberg_English_Fiction_1k/Gutenberg_19th_century_English_Fiction/pg46064-content.html  \n",
            "  inflating: books_set/Gutenberg_English_Fiction_1k/Gutenberg_19th_century_English_Fiction/pg46217-content.html  \n",
            "  inflating: books_set/Gutenberg_English_Fiction_1k/Gutenberg_19th_century_English_Fiction/pg4632-content.html  \n",
            "  inflating: books_set/Gutenberg_English_Fiction_1k/Gutenberg_19th_century_English_Fiction/pg4634-content.html  \n",
            "  inflating: books_set/Gutenberg_English_Fiction_1k/Gutenberg_19th_century_English_Fiction/pg46402-content.html  \n",
            "  inflating: books_set/Gutenberg_English_Fiction_1k/Gutenberg_19th_century_English_Fiction/pg46457-content.html  \n",
            "  inflating: books_set/Gutenberg_English_Fiction_1k/Gutenberg_19th_century_English_Fiction/pg46505-content.html  \n",
            "  inflating: books_set/Gutenberg_English_Fiction_1k/Gutenberg_19th_century_English_Fiction/pg4653-content.html  \n",
            "  inflating: books_set/Gutenberg_English_Fiction_1k/Gutenberg_19th_century_English_Fiction/pg46566-content.html  \n",
            "  inflating: books_set/Gutenberg_English_Fiction_1k/Gutenberg_19th_century_English_Fiction/pg46623-content.html  \n",
            "  inflating: books_set/Gutenberg_English_Fiction_1k/Gutenberg_19th_century_English_Fiction/pg4676-content.html  \n",
            "  inflating: books_set/Gutenberg_English_Fiction_1k/Gutenberg_19th_century_English_Fiction/pg47211-content.html  \n",
            "  inflating: books_set/Gutenberg_English_Fiction_1k/Gutenberg_19th_century_English_Fiction/pg47282-content.html  \n",
            "  inflating: books_set/Gutenberg_English_Fiction_1k/Gutenberg_19th_century_English_Fiction/pg4733-content.html  \n",
            "  inflating: books_set/Gutenberg_English_Fiction_1k/Gutenberg_19th_century_English_Fiction/pg47338-content.html  \n",
            "  inflating: books_set/Gutenberg_English_Fiction_1k/Gutenberg_19th_century_English_Fiction/pg4745-content.html  \n",
            "  inflating: books_set/Gutenberg_English_Fiction_1k/Gutenberg_19th_century_English_Fiction/pg47455-content.html  \n",
            "  inflating: books_set/Gutenberg_English_Fiction_1k/Gutenberg_19th_century_English_Fiction/pg4763CarolLogik-content.html  \n",
            "  inflating: books_set/Gutenberg_English_Fiction_1k/Gutenberg_19th_century_English_Fiction/pg4765Galsw3-content.html  \n",
            "  inflating: books_set/Gutenberg_English_Fiction_1k/Gutenberg_19th_century_English_Fiction/pg47697-content.html  \n",
            "  inflating: books_set/Gutenberg_English_Fiction_1k/Gutenberg_19th_century_English_Fiction/pg47744-content.html  \n",
            "  inflating: books_set/Gutenberg_English_Fiction_1k/Gutenberg_19th_century_English_Fiction/pg47771-content.html  \n",
            "  inflating: books_set/Gutenberg_English_Fiction_1k/Gutenberg_19th_century_English_Fiction/pg47772-content.html  \n",
            "  inflating: books_set/Gutenberg_English_Fiction_1k/Gutenberg_19th_century_English_Fiction/pg47773-content.html  \n",
            "  inflating: books_set/Gutenberg_English_Fiction_1k/Gutenberg_19th_century_English_Fiction/pg4790-content.html  \n",
            "  inflating: books_set/Gutenberg_English_Fiction_1k/Gutenberg_19th_century_English_Fiction/pg4794-content.html  \n",
            "  inflating: books_set/Gutenberg_English_Fiction_1k/Gutenberg_19th_century_English_Fiction/pg4795-content.html  \n",
            "  inflating: books_set/Gutenberg_English_Fiction_1k/Gutenberg_19th_century_English_Fiction/pg47997-content.html  \n",
            "  inflating: books_set/Gutenberg_English_Fiction_1k/Gutenberg_19th_century_English_Fiction/pg48297-content.html  \n",
            "  inflating: books_set/Gutenberg_English_Fiction_1k/Gutenberg_19th_century_English_Fiction/pg48482-content.html  \n",
            "  inflating: books_set/Gutenberg_English_Fiction_1k/Gutenberg_19th_century_English_Fiction/pg48483-content.html  \n",
            "  inflating: books_set/Gutenberg_English_Fiction_1k/Gutenberg_19th_century_English_Fiction/pg48989-content.html  \n",
            "  inflating: books_set/Gutenberg_English_Fiction_1k/Gutenberg_19th_century_English_Fiction/pg4903-content.html  \n",
            "  inflating: books_set/Gutenberg_English_Fiction_1k/Gutenberg_19th_century_English_Fiction/pg4918-content.html  \n",
            "  inflating: books_set/Gutenberg_English_Fiction_1k/Gutenberg_19th_century_English_Fiction/pg4923-content.html  \n",
            "  inflating: books_set/Gutenberg_English_Fiction_1k/Gutenberg_19th_century_English_Fiction/pg4929-content.html  \n",
            "  inflating: books_set/Gutenberg_English_Fiction_1k/Gutenberg_19th_century_English_Fiction/pg49537-content.html  \n",
            "  inflating: books_set/Gutenberg_English_Fiction_1k/Gutenberg_19th_century_English_Fiction/pg4955-content.html  \n",
            "  inflating: books_set/Gutenberg_English_Fiction_1k/Gutenberg_19th_century_English_Fiction/pg49680-content.html  \n",
            "  inflating: books_set/Gutenberg_English_Fiction_1k/Gutenberg_19th_century_English_Fiction/pg49718-content.html  \n",
            "  inflating: books_set/Gutenberg_English_Fiction_1k/Gutenberg_19th_century_English_Fiction/pg50042-content.html  \n",
            "  inflating: books_set/Gutenberg_English_Fiction_1k/Gutenberg_19th_century_English_Fiction/pg502-content.html  \n",
            "  inflating: books_set/Gutenberg_English_Fiction_1k/Gutenberg_19th_century_English_Fiction/pg50209-content.html  \n",
            "  inflating: books_set/Gutenberg_English_Fiction_1k/Gutenberg_19th_century_English_Fiction/pg50440-content.html  \n",
            "  inflating: books_set/Gutenberg_English_Fiction_1k/Gutenberg_19th_century_English_Fiction/pg50688-content.html  \n",
            "  inflating: books_set/Gutenberg_English_Fiction_1k/Gutenberg_19th_century_English_Fiction/pg5094-content.html  \n",
            "  inflating: books_set/Gutenberg_English_Fiction_1k/Gutenberg_19th_century_English_Fiction/pg51251-content.html  \n",
            "  inflating: books_set/Gutenberg_English_Fiction_1k/Gutenberg_19th_century_English_Fiction/pg51455-content.html  \n",
            "  inflating: books_set/Gutenberg_English_Fiction_1k/Gutenberg_19th_century_English_Fiction/pg515-content.html  \n",
            "  inflating: books_set/Gutenberg_English_Fiction_1k/Gutenberg_19th_century_English_Fiction/pg5151-content.html  \n",
            "  inflating: books_set/Gutenberg_English_Fiction_1k/Gutenberg_19th_century_English_Fiction/pg51628-content.html  \n",
            "  inflating: books_set/Gutenberg_English_Fiction_1k/Gutenberg_19th_century_English_Fiction/pg51629-content.html  \n",
            "  inflating: books_set/Gutenberg_English_Fiction_1k/Gutenberg_19th_century_English_Fiction/pg51630-content.html  \n",
            "  inflating: books_set/Gutenberg_English_Fiction_1k/Gutenberg_19th_century_English_Fiction/pg5165-content.html  \n",
            "  inflating: books_set/Gutenberg_English_Fiction_1k/Gutenberg_19th_century_English_Fiction/pg51715-content.html  \n",
            "  inflating: books_set/Gutenberg_English_Fiction_1k/Gutenberg_19th_century_English_Fiction/pg5176-content.html  \n",
            "  inflating: books_set/Gutenberg_English_Fiction_1k/Gutenberg_19th_century_English_Fiction/pg5179-content.html  \n",
            "  inflating: books_set/Gutenberg_English_Fiction_1k/Gutenberg_19th_century_English_Fiction/pg51936-content.html  \n",
            "  inflating: books_set/Gutenberg_English_Fiction_1k/Gutenberg_19th_century_English_Fiction/pg51937-content.html  \n",
            "  inflating: books_set/Gutenberg_English_Fiction_1k/Gutenberg_19th_century_English_Fiction/pg51938-content.html  \n",
            "  inflating: books_set/Gutenberg_English_Fiction_1k/Gutenberg_19th_century_English_Fiction/pg51972-content.html  \n",
            "  inflating: books_set/Gutenberg_English_Fiction_1k/Gutenberg_19th_century_English_Fiction/pg51988-content.html  \n",
            "  inflating: books_set/Gutenberg_English_Fiction_1k/Gutenberg_19th_century_English_Fiction/pg5234-content.html  \n",
            "  inflating: books_set/Gutenberg_English_Fiction_1k/Gutenberg_19th_century_English_Fiction/pg5235-content.html  \n",
            "  inflating: books_set/Gutenberg_English_Fiction_1k/Gutenberg_19th_century_English_Fiction/pg5236-content.html  \n",
            "  inflating: books_set/Gutenberg_English_Fiction_1k/Gutenberg_19th_century_English_Fiction/pg5237-content.html  \n",
            "  inflating: books_set/Gutenberg_English_Fiction_1k/Gutenberg_19th_century_English_Fiction/pg5238-content.html  \n",
            "  inflating: books_set/Gutenberg_English_Fiction_1k/Gutenberg_19th_century_English_Fiction/pg5239-content.html  \n",
            "  inflating: books_set/Gutenberg_English_Fiction_1k/Gutenberg_19th_century_English_Fiction/pg5240-content.html  \n",
            "  inflating: books_set/Gutenberg_English_Fiction_1k/Gutenberg_19th_century_English_Fiction/pg525-content.html  \n",
            "  inflating: books_set/Gutenberg_English_Fiction_1k/Gutenberg_19th_century_English_Fiction/pg53356-content.html  \n",
            "  inflating: books_set/Gutenberg_English_Fiction_1k/Gutenberg_19th_century_English_Fiction/pg53604-content.html  \n",
            "  inflating: books_set/Gutenberg_English_Fiction_1k/Gutenberg_19th_century_English_Fiction/pg53668-content.html  \n",
            "  inflating: books_set/Gutenberg_English_Fiction_1k/Gutenberg_19th_century_English_Fiction/pg537DoyleTerrorTales-content.html  \n",
            "  inflating: books_set/Gutenberg_English_Fiction_1k/Gutenberg_19th_century_English_Fiction/pg547-content.html  \n",
            "  inflating: books_set/Gutenberg_English_Fiction_1k/Gutenberg_19th_century_English_Fiction/pg5622-content.html  \n",
            "  inflating: books_set/Gutenberg_English_Fiction_1k/Gutenberg_19th_century_English_Fiction/pg5662-content.html  \n",
            "  inflating: books_set/Gutenberg_English_Fiction_1k/Gutenberg_19th_century_English_Fiction/pg5663-content.html  \n",
            "  inflating: books_set/Gutenberg_English_Fiction_1k/Gutenberg_19th_century_English_Fiction/pg5705-content.html  \n",
            "  inflating: books_set/Gutenberg_English_Fiction_1k/Gutenberg_19th_century_English_Fiction/pg5848-content.html  \n",
            "  inflating: books_set/Gutenberg_English_Fiction_1k/Gutenberg_19th_century_English_Fiction/pg5869-content.html  \n",
            "  inflating: books_set/Gutenberg_English_Fiction_1k/Gutenberg_19th_century_English_Fiction/pg587-content.html  \n",
            "  inflating: books_set/Gutenberg_English_Fiction_1k/Gutenberg_19th_century_English_Fiction/pg6005-content.html  \n",
            "  inflating: books_set/Gutenberg_English_Fiction_1k/Gutenberg_19th_century_English_Fiction/pg6028-content.html  \n",
            "  inflating: books_set/Gutenberg_English_Fiction_1k/Gutenberg_19th_century_English_Fiction/pg6057-content.html  \n",
            "  inflating: books_set/Gutenberg_English_Fiction_1k/Gutenberg_19th_century_English_Fiction/pg6060-content.html  \n",
            "  inflating: books_set/Gutenberg_English_Fiction_1k/Gutenberg_19th_century_English_Fiction/pg6102-content.html  \n",
            "  inflating: books_set/Gutenberg_English_Fiction_1k/Gutenberg_19th_century_English_Fiction/pg6105-content.html  \n",
            "  inflating: books_set/Gutenberg_English_Fiction_1k/Gutenberg_19th_century_English_Fiction/pg6113-content.html  \n",
            "  inflating: books_set/Gutenberg_English_Fiction_1k/Gutenberg_19th_century_English_Fiction/pg620CarolBruno-content.html  \n",
            "  inflating: books_set/Gutenberg_English_Fiction_1k/Gutenberg_19th_century_English_Fiction/pg6292-content.html  \n",
            "  inflating: books_set/Gutenberg_English_Fiction_1k/Gutenberg_19th_century_English_Fiction/pg6293-content.html  \n",
            "  inflating: books_set/Gutenberg_English_Fiction_1k/Gutenberg_19th_century_English_Fiction/pg6294-content.html  \n",
            "  inflating: books_set/Gutenberg_English_Fiction_1k/Gutenberg_19th_century_English_Fiction/pg6295-content.html  \n",
            "  inflating: books_set/Gutenberg_English_Fiction_1k/Gutenberg_19th_century_English_Fiction/pg6296-content.html  \n",
            "  inflating: books_set/Gutenberg_English_Fiction_1k/Gutenberg_19th_century_English_Fiction/pg6297-content.html  \n",
            "  inflating: books_set/Gutenberg_English_Fiction_1k/Gutenberg_19th_century_English_Fiction/pg6298-content.html  \n",
            "  inflating: books_set/Gutenberg_English_Fiction_1k/Gutenberg_19th_century_English_Fiction/pg6299-content.html  \n",
            "  inflating: books_set/Gutenberg_English_Fiction_1k/Gutenberg_19th_century_English_Fiction/pg6311-content.html  \n",
            "  inflating: books_set/Gutenberg_English_Fiction_1k/Gutenberg_19th_century_English_Fiction/pg6376-content.html  \n",
            "  inflating: books_set/Gutenberg_English_Fiction_1k/Gutenberg_19th_century_English_Fiction/pg6410-content.html  \n",
            "  inflating: books_set/Gutenberg_English_Fiction_1k/Gutenberg_19th_century_English_Fiction/pg6474-content.html  \n",
            "  inflating: books_set/Gutenberg_English_Fiction_1k/Gutenberg_19th_century_English_Fiction/pg6517-content.html  \n",
            "  inflating: books_set/Gutenberg_English_Fiction_1k/Gutenberg_19th_century_English_Fiction/pg6526-content.html  \n",
            "  inflating: books_set/Gutenberg_English_Fiction_1k/Gutenberg_19th_century_English_Fiction/pg6592-content.html  \n",
            "  inflating: books_set/Gutenberg_English_Fiction_1k/Gutenberg_19th_century_English_Fiction/pg6809-content.html  \n",
            "  inflating: books_set/Gutenberg_English_Fiction_1k/Gutenberg_19th_century_English_Fiction/pg681-content.html  \n",
            "  inflating: books_set/Gutenberg_English_Fiction_1k/Gutenberg_19th_century_English_Fiction/pg6864-content.html  \n",
            "  inflating: books_set/Gutenberg_English_Fiction_1k/Gutenberg_19th_century_English_Fiction/pg6901-content.html  \n",
            "  inflating: books_set/Gutenberg_English_Fiction_1k/Gutenberg_19th_century_English_Fiction/pg6954-content.html  \n",
            "  inflating: books_set/Gutenberg_English_Fiction_1k/Gutenberg_19th_century_English_Fiction/pg7063-content.html  \n",
            "  inflating: books_set/Gutenberg_English_Fiction_1k/Gutenberg_19th_century_English_Fiction/pg7085-content.html  \n",
            "  inflating: books_set/Gutenberg_English_Fiction_1k/Gutenberg_19th_century_English_Fiction/pg7119-content.html  \n",
            "  inflating: books_set/Gutenberg_English_Fiction_1k/Gutenberg_19th_century_English_Fiction/pg7171-content.html  \n",
            "  inflating: books_set/Gutenberg_English_Fiction_1k/Gutenberg_19th_century_English_Fiction/pg7183-content.html  \n",
            "  inflating: books_set/Gutenberg_English_Fiction_1k/Gutenberg_19th_century_English_Fiction/pg726-content.html  \n",
            "  inflating: books_set/Gutenberg_English_Fiction_1k/Gutenberg_19th_century_English_Fiction/pg730DickensOliverTw-content.html  \n",
            "  inflating: books_set/Gutenberg_English_Fiction_1k/Gutenberg_19th_century_English_Fiction/pg7424-content.html  \n",
            "  inflating: books_set/Gutenberg_English_Fiction_1k/Gutenberg_19th_century_English_Fiction/pg766DickensDavidCopfld-content.html  \n",
            "  inflating: books_set/Gutenberg_English_Fiction_1k/Gutenberg_19th_century_English_Fiction/pg7757-content.html  \n",
            "  inflating: books_set/Gutenberg_English_Fiction_1k/Gutenberg_19th_century_English_Fiction/pg7758-content.html  \n",
            "  inflating: books_set/Gutenberg_English_Fiction_1k/Gutenberg_19th_century_English_Fiction/pg7759-content.html  \n",
            "  inflating: books_set/Gutenberg_English_Fiction_1k/Gutenberg_19th_century_English_Fiction/pg7760-content.html  \n",
            "  inflating: books_set/Gutenberg_English_Fiction_1k/Gutenberg_19th_century_English_Fiction/pg7761-content.html  \n",
            "  inflating: books_set/Gutenberg_English_Fiction_1k/Gutenberg_19th_century_English_Fiction/pg7827-content.html  \n",
            "  inflating: books_set/Gutenberg_English_Fiction_1k/Gutenberg_19th_century_English_Fiction/pg7842-content.html  \n",
            "  inflating: books_set/Gutenberg_English_Fiction_1k/Gutenberg_19th_century_English_Fiction/pg7855-content.html  \n",
            "  inflating: books_set/Gutenberg_English_Fiction_1k/Gutenberg_19th_century_English_Fiction/pg7866-content.html  \n",
            "  inflating: books_set/Gutenberg_English_Fiction_1k/Gutenberg_19th_century_English_Fiction/pg786DickensHardTimes-content.html  \n",
            "  inflating: books_set/Gutenberg_English_Fiction_1k/Gutenberg_19th_century_English_Fiction/pg8073-content.html  \n",
            "  inflating: books_set/Gutenberg_English_Fiction_1k/Gutenberg_19th_century_English_Fiction/pg8087-content.html  \n",
            "  inflating: books_set/Gutenberg_English_Fiction_1k/Gutenberg_19th_century_English_Fiction/pg8131-content.html  \n",
            "  inflating: books_set/Gutenberg_English_Fiction_1k/Gutenberg_19th_century_English_Fiction/pg8182-content.html  \n",
            "  inflating: books_set/Gutenberg_English_Fiction_1k/Gutenberg_19th_century_English_Fiction/pg834DoyleMemoirsSherlk-content.html  \n",
            "  inflating: books_set/Gutenberg_English_Fiction_1k/Gutenberg_19th_century_English_Fiction/pg8383-content.html  \n",
            "  inflating: books_set/Gutenberg_English_Fiction_1k/Gutenberg_19th_century_English_Fiction/pg8386-content.html  \n",
            "  inflating: books_set/Gutenberg_English_Fiction_1k/Gutenberg_19th_century_English_Fiction/pg8396-content.html  \n",
            "  inflating: books_set/Gutenberg_English_Fiction_1k/Gutenberg_19th_century_English_Fiction/pg8403-content.html  \n",
            "  inflating: books_set/Gutenberg_English_Fiction_1k/Gutenberg_19th_century_English_Fiction/pg8464-content.html  \n",
            "  inflating: books_set/Gutenberg_English_Fiction_1k/Gutenberg_19th_century_English_Fiction/pg8496-content.html  \n",
            "  inflating: books_set/Gutenberg_English_Fiction_1k/Gutenberg_19th_century_English_Fiction/pg8522-content.html  \n",
            "  inflating: books_set/Gutenberg_English_Fiction_1k/Gutenberg_19th_century_English_Fiction/pg8549-content.html  \n",
            "  inflating: books_set/Gutenberg_English_Fiction_1k/Gutenberg_19th_century_English_Fiction/pg8569-content.html  \n",
            "  inflating: books_set/Gutenberg_English_Fiction_1k/Gutenberg_19th_century_English_Fiction/pg8570-content.html  \n",
            "  inflating: books_set/Gutenberg_English_Fiction_1k/Gutenberg_19th_century_English_Fiction/pg8596-content.html  \n",
            "  inflating: books_set/Gutenberg_English_Fiction_1k/Gutenberg_19th_century_English_Fiction/pg863Agatha1-content.html  \n",
            "  inflating: books_set/Gutenberg_English_Fiction_1k/Gutenberg_19th_century_English_Fiction/pg8671-content.html  \n",
            "  inflating: books_set/Gutenberg_English_Fiction_1k/Gutenberg_19th_century_English_Fiction/pg8711-content.html  \n",
            "  inflating: books_set/Gutenberg_English_Fiction_1k/Gutenberg_19th_century_English_Fiction/pg8741-content.html  \n",
            "  inflating: books_set/Gutenberg_English_Fiction_1k/Gutenberg_19th_century_English_Fiction/pg8805-content.html  \n",
            "  inflating: books_set/Gutenberg_English_Fiction_1k/Gutenberg_19th_century_English_Fiction/pg8865-content.html  \n",
            "  inflating: books_set/Gutenberg_English_Fiction_1k/Gutenberg_19th_century_English_Fiction/pg8883-content.html  \n",
            "  inflating: books_set/Gutenberg_English_Fiction_1k/Gutenberg_19th_century_English_Fiction/pg8899-content.html  \n",
            "  inflating: books_set/Gutenberg_English_Fiction_1k/Gutenberg_19th_century_English_Fiction/pg9052-content.html  \n",
            "  inflating: books_set/Gutenberg_English_Fiction_1k/Gutenberg_19th_century_English_Fiction/pg9087-content.html  \n",
            "  inflating: books_set/Gutenberg_English_Fiction_1k/Gutenberg_19th_century_English_Fiction/pg9111-content.html  \n",
            "  inflating: books_set/Gutenberg_English_Fiction_1k/Gutenberg_19th_century_English_Fiction/pg9189-content.html  \n",
            "  inflating: books_set/Gutenberg_English_Fiction_1k/Gutenberg_19th_century_English_Fiction/pg9259-content.html  \n",
            "  inflating: books_set/Gutenberg_English_Fiction_1k/Gutenberg_19th_century_English_Fiction/pg9305-content.html  \n",
            "  inflating: books_set/Gutenberg_English_Fiction_1k/Gutenberg_19th_century_English_Fiction/pg9311-content.html  \n",
            "  inflating: books_set/Gutenberg_English_Fiction_1k/Gutenberg_19th_century_English_Fiction/pg9362-content.html  \n",
            "  inflating: books_set/Gutenberg_English_Fiction_1k/Gutenberg_19th_century_English_Fiction/pg9379-content.html  \n",
            "  inflating: books_set/Gutenberg_English_Fiction_1k/Gutenberg_19th_century_English_Fiction/pg9387-content.html  \n",
            "  inflating: books_set/Gutenberg_English_Fiction_1k/Gutenberg_19th_century_English_Fiction/pg9410-content.html  \n",
            "  inflating: books_set/Gutenberg_English_Fiction_1k/Gutenberg_19th_century_English_Fiction/pg9746-content.html  \n",
            "  inflating: books_set/Gutenberg_English_Fiction_1k/Gutenberg_19th_century_English_Fiction/pg9747-content.html  \n",
            "  inflating: books_set/Gutenberg_English_Fiction_1k/Gutenberg_19th_century_English_Fiction/pg9807-content.html  \n",
            "  inflating: books_set/Gutenberg_English_Fiction_1k/Gutenberg_19th_century_English_Fiction/pg9809-content.html  \n",
            "  inflating: books_set/Gutenberg_English_Fiction_1k/Gutenberg_19th_century_English_Fiction/pg9849-content.html  \n",
            "  inflating: books_set/Gutenberg_English_Fiction_1k/Gutenberg_19th_century_English_Fiction/pg98DickensTaleCities-content.html  \n",
            "  inflating: books_set/Gutenberg_English_Fiction_1k/Gutenberg_19th_century_English_Fiction/pg9926-content.html  \n",
            "  inflating: books_set/Gutenberg_English_Fiction_1k/Gutenberg_19th_century_English_Fiction/pg9927-content.html  \n",
            "  inflating: books_set/Gutenberg_English_Fiction_1k/Gutenberg_19th_century_English_Fiction/pg9967-content.html  \n",
            "  inflating: books_set/Gutenberg_English_Fiction_1k/Gutenberg_19th_century_English_Fiction/pg9993-content.html  \n",
            "  inflating: books_set/Gutenberg_English_Fiction_1k/master996.csv  \n",
            "  inflating: books_set/Gutenberg_English_Fiction_1k/readme.txt  \n"
          ],
          "name": "stdout"
        }
      ]
    },
    {
      "cell_type": "code",
      "metadata": {
        "id": "SbuISUxkRlJh",
        "colab_type": "code",
        "outputId": "8c4548ab-21c6-44b2-e074-a4fa099b931d",
        "colab": {
          "base_uri": "https://localhost:8080/",
          "height": 198
        }
      },
      "source": [
        "#Reading the meta data file\n",
        "import pandas as pd\n",
        "\n",
        "data = []\n",
        "\n",
        "import os\n",
        "file = os.path.abspath('books_set/Gutenberg_English_Fiction_1k/master996.csv')\n",
        "\n",
        "with open(file, \"rb\") as myfile:\n",
        "    # read the header seperately\n",
        "    # decode it as 'utf-8', remove any special characters, and split it on the comma (or deliminator)\n",
        "    header = myfile.readline().decode('utf-8').replace('\\r\\n', '').split(';')\n",
        "    # read the rest of the data\n",
        "    for line in myfile:\n",
        "        row = line.decode('utf-8', errors='ignore').replace('\\r\\n', '').split(';')\n",
        "        data.append(row)\n",
        "\n",
        "# save the data as a dataframe\n",
        "meta_data = pd.DataFrame(data=data, columns = header)\n",
        "meta_data.head(5)"
      ],
      "execution_count": 2,
      "outputs": [
        {
          "output_type": "execute_result",
          "data": {
            "text/html": [
              "<div>\n",
              "<style scoped>\n",
              "    .dataframe tbody tr th:only-of-type {\n",
              "        vertical-align: middle;\n",
              "    }\n",
              "\n",
              "    .dataframe tbody tr th {\n",
              "        vertical-align: top;\n",
              "    }\n",
              "\n",
              "    .dataframe thead th {\n",
              "        text-align: right;\n",
              "    }\n",
              "</style>\n",
              "<table border=\"1\" class=\"dataframe\">\n",
              "  <thead>\n",
              "    <tr style=\"text-align: right;\">\n",
              "      <th></th>\n",
              "      <th>Book_Name</th>\n",
              "      <th>book_id</th>\n",
              "      <th>guten_genre</th>\n",
              "      <th>Author_Name</th>\n",
              "    </tr>\n",
              "  </thead>\n",
              "  <tbody>\n",
              "    <tr>\n",
              "      <th>0</th>\n",
              "      <td>The Mystery of the Boule Cabinet: A Detective ...</td>\n",
              "      <td>pg10067.epub</td>\n",
              "      <td>Detective and Mystery</td>\n",
              "      <td>Stevenson| Burton Egbert</td>\n",
              "    </tr>\n",
              "    <tr>\n",
              "      <th>1</th>\n",
              "      <td>The Pupil</td>\n",
              "      <td>pg1032.epub</td>\n",
              "      <td>Literary</td>\n",
              "      <td>James| Henry</td>\n",
              "    </tr>\n",
              "    <tr>\n",
              "      <th>2</th>\n",
              "      <td>At Love's Cost</td>\n",
              "      <td>pg10379.epub</td>\n",
              "      <td>Literary</td>\n",
              "      <td>Garvice| Charles</td>\n",
              "    </tr>\n",
              "    <tr>\n",
              "      <th>3</th>\n",
              "      <td>The Heart of the Range</td>\n",
              "      <td>pg10473.epub</td>\n",
              "      <td>Western Stories</td>\n",
              "      <td>White| William Patterson</td>\n",
              "    </tr>\n",
              "    <tr>\n",
              "      <th>4</th>\n",
              "      <td>The Worshipper of the Image</td>\n",
              "      <td>pg10812.epub</td>\n",
              "      <td>Literary</td>\n",
              "      <td>Gallienne| Richard Le</td>\n",
              "    </tr>\n",
              "  </tbody>\n",
              "</table>\n",
              "</div>"
            ],
            "text/plain": [
              "                                           Book_Name  ...               Author_Name\n",
              "0  The Mystery of the Boule Cabinet: A Detective ...  ...  Stevenson| Burton Egbert\n",
              "1                                          The Pupil  ...              James| Henry\n",
              "2                                     At Love's Cost  ...          Garvice| Charles\n",
              "3                             The Heart of the Range  ...  White| William Patterson\n",
              "4                        The Worshipper of the Image  ...     Gallienne| Richard Le\n",
              "\n",
              "[5 rows x 4 columns]"
            ]
          },
          "metadata": {
            "tags": []
          },
          "execution_count": 2
        }
      ]
    },
    {
      "cell_type": "code",
      "metadata": {
        "id": "G6ivSGBKRlJ1",
        "colab_type": "code",
        "outputId": "75b7ba8c-2149-4424-f7f2-5127e17422fb",
        "colab": {
          "base_uri": "https://localhost:8080/",
          "height": 407
        }
      },
      "source": [
        "#Extracting the bookid into Dataframe column FileNo, book id pg10067- FileNo - 10067\n",
        "\n",
        "meta_data['FileNo'] = meta_data['book_id'].str.replace(r'\\D+', '').astype(int)\n",
        "\n",
        "#Checkign the values\n",
        "\n",
        "meta_data.sort_values(by=['FileNo'], inplace=True)\n",
        "meta_data"
      ],
      "execution_count": 3,
      "outputs": [
        {
          "output_type": "execute_result",
          "data": {
            "text/html": [
              "<div>\n",
              "<style scoped>\n",
              "    .dataframe tbody tr th:only-of-type {\n",
              "        vertical-align: middle;\n",
              "    }\n",
              "\n",
              "    .dataframe tbody tr th {\n",
              "        vertical-align: top;\n",
              "    }\n",
              "\n",
              "    .dataframe thead th {\n",
              "        text-align: right;\n",
              "    }\n",
              "</style>\n",
              "<table border=\"1\" class=\"dataframe\">\n",
              "  <thead>\n",
              "    <tr style=\"text-align: right;\">\n",
              "      <th></th>\n",
              "      <th>Book_Name</th>\n",
              "      <th>book_id</th>\n",
              "      <th>guten_genre</th>\n",
              "      <th>Author_Name</th>\n",
              "      <th>FileNo</th>\n",
              "    </tr>\n",
              "  </thead>\n",
              "  <tbody>\n",
              "    <tr>\n",
              "      <th>961</th>\n",
              "      <td>Alice's Adventures in Wonderland</td>\n",
              "      <td>pg11CarolAlice.epub</td>\n",
              "      <td>Literary</td>\n",
              "      <td>Carroll| Lewis</td>\n",
              "      <td>11</td>\n",
              "    </tr>\n",
              "    <tr>\n",
              "      <th>962</th>\n",
              "      <td>Through the Looking-Glass</td>\n",
              "      <td>pg12CarolGlassLook.epub</td>\n",
              "      <td>Literary</td>\n",
              "      <td>Carroll| Lewis</td>\n",
              "      <td>12</td>\n",
              "    </tr>\n",
              "    <tr>\n",
              "      <th>995</th>\n",
              "      <td>A Tale of Two Cities</td>\n",
              "      <td>pg98DickensTaleCities.epub</td>\n",
              "      <td>Literary</td>\n",
              "      <td>Dickens| Charles</td>\n",
              "      <td>98</td>\n",
              "    </tr>\n",
              "    <tr>\n",
              "      <th>958</th>\n",
              "      <td>Persuasion</td>\n",
              "      <td>pg105JaneAusPersuatn.epub</td>\n",
              "      <td>Literary</td>\n",
              "      <td>Austen| Jane</td>\n",
              "      <td>105</td>\n",
              "    </tr>\n",
              "    <tr>\n",
              "      <th>959</th>\n",
              "      <td>Return of Sherlock Holmes</td>\n",
              "      <td>pg108DoyleReturnSherlk.epub</td>\n",
              "      <td>Detective and Mystery</td>\n",
              "      <td>Connan| Doyle</td>\n",
              "      <td>108</td>\n",
              "    </tr>\n",
              "    <tr>\n",
              "      <th>...</th>\n",
              "      <td>...</td>\n",
              "      <td>...</td>\n",
              "      <td>...</td>\n",
              "      <td>...</td>\n",
              "      <td>...</td>\n",
              "    </tr>\n",
              "    <tr>\n",
              "      <th>863</th>\n",
              "      <td>Kate Vernon: A Tale. Vol. 2 (of 3)</td>\n",
              "      <td>pg53356.epub</td>\n",
              "      <td>Literary</td>\n",
              "      <td>Alexander| Mrs.</td>\n",
              "      <td>53356</td>\n",
              "    </tr>\n",
              "    <tr>\n",
              "      <th>864</th>\n",
              "      <td>The Touch of Abner</td>\n",
              "      <td>pg53604.epub</td>\n",
              "      <td>Literary</td>\n",
              "      <td>Cody| H. A.</td>\n",
              "      <td>53604</td>\n",
              "    </tr>\n",
              "    <tr>\n",
              "      <th>865</th>\n",
              "      <td>Kate Vernon: A Tale. Vol. 3 (of 3)</td>\n",
              "      <td>pg53668.epub</td>\n",
              "      <td>Literary</td>\n",
              "      <td>Alexander| Mrs.</td>\n",
              "      <td>53668</td>\n",
              "    </tr>\n",
              "    <tr>\n",
              "      <th>964</th>\n",
              "      <td>Mardi: and A Voyage Thither I</td>\n",
              "      <td>pg13720HermanVoyage1.epub</td>\n",
              "      <td>Sea and Adventure</td>\n",
              "      <td>Melville| Herman</td>\n",
              "      <td>137201</td>\n",
              "    </tr>\n",
              "    <tr>\n",
              "      <th>965</th>\n",
              "      <td>Mardi: and A Voyage Thither ||</td>\n",
              "      <td>pg13721HermanVoyage2.epub</td>\n",
              "      <td>Sea and Adventure</td>\n",
              "      <td>Melville| Herman</td>\n",
              "      <td>137212</td>\n",
              "    </tr>\n",
              "  </tbody>\n",
              "</table>\n",
              "<p>996 rows × 5 columns</p>\n",
              "</div>"
            ],
            "text/plain": [
              "                              Book_Name  ...  FileNo\n",
              "961    Alice's Adventures in Wonderland  ...      11\n",
              "962           Through the Looking-Glass  ...      12\n",
              "995                A Tale of Two Cities  ...      98\n",
              "958                          Persuasion  ...     105\n",
              "959           Return of Sherlock Holmes  ...     108\n",
              "..                                  ...  ...     ...\n",
              "863  Kate Vernon: A Tale. Vol. 2 (of 3)  ...   53356\n",
              "864                  The Touch of Abner  ...   53604\n",
              "865  Kate Vernon: A Tale. Vol. 3 (of 3)  ...   53668\n",
              "964       Mardi: and A Voyage Thither I  ...  137201\n",
              "965      Mardi: and A Voyage Thither ||  ...  137212\n",
              "\n",
              "[996 rows x 5 columns]"
            ]
          },
          "metadata": {
            "tags": []
          },
          "execution_count": 3
        }
      ]
    },
    {
      "cell_type": "code",
      "metadata": {
        "id": "dykafwtBRlKF",
        "colab_type": "code",
        "colab": {}
      },
      "source": [
        "import glob\n",
        "\n",
        "# Getting all files and its names into dict and then converting to dataframe\"\"\"\n",
        "\n",
        "Content = {}\n",
        "\n",
        "#Its placed in Books folder at local , need to change it later \n",
        "%timeit\n",
        "\n",
        "files = glob.glob(\"books_set//Gutenberg_English_Fiction_1k//Gutenberg_19th_century_English_Fiction//*.html\")\n",
        "for f in files:\n",
        "    with open(f,mode ='r', encoding = 'utf8') as myfile:\n",
        "        Content[f]=myfile.read().replace(\"<br>\", '\\n')\n"
      ],
      "execution_count": 0,
      "outputs": []
    },
    {
      "cell_type": "code",
      "metadata": {
        "id": "ojm8z3o-RlKP",
        "colab_type": "code",
        "outputId": "e7cff7a0-2b02-45f5-a58d-eff555069d6d",
        "colab": {
          "base_uri": "https://localhost:8080/",
          "height": 685
        }
      },
      "source": [
        "#Putting it in dataframe\n",
        "df = pd.DataFrame.from_dict(Content,orient='index').reset_index()\n",
        "\n",
        "#Renaming column names\n",
        "df.columns = ['File_Name', 'Data']\n",
        "print(df.head(5))\n",
        "print(df['File_Name'][0])\n",
        "df['File_Name'] = df['File_Name'].str.replace(\"books_set//Gutenberg_English_Fiction_1k//Gutenberg_19th_century_English_Fiction/\", \"l\")\n",
        "print(df['File_Name'][0])\n",
        "#Adding FilNo column to join\n",
        "df['FileNo'] = df['File_Name'].str.replace(r'\\D+', '').astype(int)\n",
        "left = df\n",
        "right = meta_data\n",
        "result = pd.merge(left, right , how='inner', on=['FileNo', 'FileNo'])\n",
        "\n",
        "#Checking resulting dataframe\n",
        "result.info()\n",
        "\n",
        "#Dropping unnecessery columns\n",
        "\n",
        "books=result.drop(['File_Name', 'book_id'], axis=1)\n",
        "books.head(5)"
      ],
      "execution_count": 5,
      "outputs": [
        {
          "output_type": "stream",
          "text": [
            "                                           File_Name                                               Data\n",
            "0  books_set//Gutenberg_English_Fiction_1k//Guten...  <p>There was a \"scene\" that evening at Ivy Lod...\n",
            "1  books_set//Gutenberg_English_Fiction_1k//Guten...  <p>A boy, slim and white as the silver birches...\n",
            "2  books_set//Gutenberg_English_Fiction_1k//Guten...  <p>St. Cloud Hotel, New York, November, 1869.\\...\n",
            "3  books_set//Gutenberg_English_Fiction_1k//Guten...  <p>In the still evening air the dust hung gold...\n",
            "4  books_set//Gutenberg_English_Fiction_1k//Guten...  <p>\"I call it real good of you, Mr. Letgood, t...\n",
            "books_set//Gutenberg_English_Fiction_1k//Gutenberg_19th_century_English_Fiction/pg35430-content.html\n",
            "lpg35430-content.html\n",
            "<class 'pandas.core.frame.DataFrame'>\n",
            "Int64Index: 996 entries, 0 to 995\n",
            "Data columns (total 7 columns):\n",
            " #   Column       Non-Null Count  Dtype \n",
            "---  ------       --------------  ----- \n",
            " 0   File_Name    996 non-null    object\n",
            " 1   Data         996 non-null    object\n",
            " 2   FileNo       996 non-null    int64 \n",
            " 3   Book_Name    996 non-null    object\n",
            " 4   book_id      996 non-null    object\n",
            " 5   guten_genre  996 non-null    object\n",
            " 6   Author_Name  996 non-null    object\n",
            "dtypes: int64(1), object(6)\n",
            "memory usage: 62.2+ KB\n"
          ],
          "name": "stdout"
        },
        {
          "output_type": "execute_result",
          "data": {
            "text/html": [
              "<div>\n",
              "<style scoped>\n",
              "    .dataframe tbody tr th:only-of-type {\n",
              "        vertical-align: middle;\n",
              "    }\n",
              "\n",
              "    .dataframe tbody tr th {\n",
              "        vertical-align: top;\n",
              "    }\n",
              "\n",
              "    .dataframe thead th {\n",
              "        text-align: right;\n",
              "    }\n",
              "</style>\n",
              "<table border=\"1\" class=\"dataframe\">\n",
              "  <thead>\n",
              "    <tr style=\"text-align: right;\">\n",
              "      <th></th>\n",
              "      <th>Data</th>\n",
              "      <th>FileNo</th>\n",
              "      <th>Book_Name</th>\n",
              "      <th>guten_genre</th>\n",
              "      <th>Author_Name</th>\n",
              "    </tr>\n",
              "  </thead>\n",
              "  <tbody>\n",
              "    <tr>\n",
              "      <th>0</th>\n",
              "      <td>&lt;p&gt;There was a \"scene\" that evening at Ivy Lod...</td>\n",
              "      <td>35430</td>\n",
              "      <td>A Charming Fellow- Volume III</td>\n",
              "      <td>Literary</td>\n",
              "      <td>Trollope| Frances Eleanor</td>\n",
              "    </tr>\n",
              "    <tr>\n",
              "      <th>1</th>\n",
              "      <td>&lt;p&gt;A boy, slim and white as the silver birches...</td>\n",
              "      <td>42536</td>\n",
              "      <td>Yonder</td>\n",
              "      <td>Literary</td>\n",
              "      <td>Young| E. H.</td>\n",
              "    </tr>\n",
              "    <tr>\n",
              "      <th>2</th>\n",
              "      <td>&lt;p&gt;St. Cloud Hotel, New York, November, 1869.\\...</td>\n",
              "      <td>36374</td>\n",
              "      <td>Wives and Widows- The Broken Life</td>\n",
              "      <td>Literary</td>\n",
              "      <td>Stephens| Ann S.</td>\n",
              "    </tr>\n",
              "    <tr>\n",
              "      <th>3</th>\n",
              "      <td>&lt;p&gt;In the still evening air the dust hung gold...</td>\n",
              "      <td>41844</td>\n",
              "      <td>The Golden Bough</td>\n",
              "      <td>Literary</td>\n",
              "      <td>Gibbs| George</td>\n",
              "    </tr>\n",
              "    <tr>\n",
              "      <th>4</th>\n",
              "      <td>&lt;p&gt;\"I call it real good of you, Mr. Letgood, t...</td>\n",
              "      <td>23009</td>\n",
              "      <td>A Modern Idyll</td>\n",
              "      <td>Literary</td>\n",
              "      <td>Harris| Frank</td>\n",
              "    </tr>\n",
              "  </tbody>\n",
              "</table>\n",
              "</div>"
            ],
            "text/plain": [
              "                                                Data  ...                Author_Name\n",
              "0  <p>There was a \"scene\" that evening at Ivy Lod...  ...  Trollope| Frances Eleanor\n",
              "1  <p>A boy, slim and white as the silver birches...  ...               Young| E. H.\n",
              "2  <p>St. Cloud Hotel, New York, November, 1869.\\...  ...           Stephens| Ann S.\n",
              "3  <p>In the still evening air the dust hung gold...  ...              Gibbs| George\n",
              "4  <p>\"I call it real good of you, Mr. Letgood, t...  ...              Harris| Frank\n",
              "\n",
              "[5 rows x 5 columns]"
            ]
          },
          "metadata": {
            "tags": []
          },
          "execution_count": 5
        }
      ]
    },
    {
      "cell_type": "code",
      "metadata": {
        "id": "74WN0_FCRlLO",
        "colab_type": "code",
        "outputId": "da8f61f7-f3bb-4279-d09e-0aa0e6008f05",
        "colab": {
          "base_uri": "https://localhost:8080/",
          "height": 267
        }
      },
      "source": [
        "from bs4 import BeautifulSoup\n",
        "books['Data']= [BeautifulSoup(text).get_text() for text in books['Data'] ]\n",
        "books.head()"
      ],
      "execution_count": 6,
      "outputs": [
        {
          "output_type": "execute_result",
          "data": {
            "text/html": [
              "<div>\n",
              "<style scoped>\n",
              "    .dataframe tbody tr th:only-of-type {\n",
              "        vertical-align: middle;\n",
              "    }\n",
              "\n",
              "    .dataframe tbody tr th {\n",
              "        vertical-align: top;\n",
              "    }\n",
              "\n",
              "    .dataframe thead th {\n",
              "        text-align: right;\n",
              "    }\n",
              "</style>\n",
              "<table border=\"1\" class=\"dataframe\">\n",
              "  <thead>\n",
              "    <tr style=\"text-align: right;\">\n",
              "      <th></th>\n",
              "      <th>Data</th>\n",
              "      <th>FileNo</th>\n",
              "      <th>Book_Name</th>\n",
              "      <th>guten_genre</th>\n",
              "      <th>Author_Name</th>\n",
              "    </tr>\n",
              "  </thead>\n",
              "  <tbody>\n",
              "    <tr>\n",
              "      <th>0</th>\n",
              "      <td>There was a \"scene\" that evening at Ivy Lodge ...</td>\n",
              "      <td>35430</td>\n",
              "      <td>A Charming Fellow- Volume III</td>\n",
              "      <td>Literary</td>\n",
              "      <td>Trollope| Frances Eleanor</td>\n",
              "    </tr>\n",
              "    <tr>\n",
              "      <th>1</th>\n",
              "      <td>A boy, slim and white as the silver birches ro...</td>\n",
              "      <td>42536</td>\n",
              "      <td>Yonder</td>\n",
              "      <td>Literary</td>\n",
              "      <td>Young| E. H.</td>\n",
              "    </tr>\n",
              "    <tr>\n",
              "      <th>2</th>\n",
              "      <td>St. Cloud Hotel, New York, November, 1869.\\nAt...</td>\n",
              "      <td>36374</td>\n",
              "      <td>Wives and Widows- The Broken Life</td>\n",
              "      <td>Literary</td>\n",
              "      <td>Stephens| Ann S.</td>\n",
              "    </tr>\n",
              "    <tr>\n",
              "      <th>3</th>\n",
              "      <td>In the still evening air the dust hung golden ...</td>\n",
              "      <td>41844</td>\n",
              "      <td>The Golden Bough</td>\n",
              "      <td>Literary</td>\n",
              "      <td>Gibbs| George</td>\n",
              "    </tr>\n",
              "    <tr>\n",
              "      <th>4</th>\n",
              "      <td>\"I call it real good of you, Mr. Letgood, to c...</td>\n",
              "      <td>23009</td>\n",
              "      <td>A Modern Idyll</td>\n",
              "      <td>Literary</td>\n",
              "      <td>Harris| Frank</td>\n",
              "    </tr>\n",
              "  </tbody>\n",
              "</table>\n",
              "</div>"
            ],
            "text/plain": [
              "                                                Data  ...                Author_Name\n",
              "0  There was a \"scene\" that evening at Ivy Lodge ...  ...  Trollope| Frances Eleanor\n",
              "1  A boy, slim and white as the silver birches ro...  ...               Young| E. H.\n",
              "2  St. Cloud Hotel, New York, November, 1869.\\nAt...  ...           Stephens| Ann S.\n",
              "3  In the still evening air the dust hung golden ...  ...              Gibbs| George\n",
              "4  \"I call it real good of you, Mr. Letgood, to c...  ...              Harris| Frank\n",
              "\n",
              "[5 rows x 5 columns]"
            ]
          },
          "metadata": {
            "tags": []
          },
          "execution_count": 6
        }
      ]
    },
    {
      "cell_type": "code",
      "metadata": {
        "id": "0aL-uIO2lcqO",
        "colab_type": "code",
        "colab": {}
      },
      "source": [
        "books.rename(columns = {'Data': 'data', 'guten_genre': 'genre'} , inplace = True)"
      ],
      "execution_count": 0,
      "outputs": []
    },
    {
      "cell_type": "code",
      "metadata": {
        "id": "YDlsI2Ru0dYL",
        "colab_type": "code",
        "outputId": "a7507e43-22a2-4823-9e41-07856da0f435",
        "colab": {
          "base_uri": "https://localhost:8080/",
          "height": 235
        }
      },
      "source": [
        "books.info()"
      ],
      "execution_count": 8,
      "outputs": [
        {
          "output_type": "stream",
          "text": [
            "<class 'pandas.core.frame.DataFrame'>\n",
            "Int64Index: 996 entries, 0 to 995\n",
            "Data columns (total 5 columns):\n",
            " #   Column       Non-Null Count  Dtype \n",
            "---  ------       --------------  ----- \n",
            " 0   data         996 non-null    object\n",
            " 1   FileNo       996 non-null    int64 \n",
            " 2   Book_Name    996 non-null    object\n",
            " 3   genre        996 non-null    object\n",
            " 4   Author_Name  996 non-null    object\n",
            "dtypes: int64(1), object(4)\n",
            "memory usage: 46.7+ KB\n"
          ],
          "name": "stdout"
        }
      ]
    },
    {
      "cell_type": "code",
      "metadata": {
        "id": "n3nBdLpOnpiE",
        "colab_type": "code",
        "outputId": "9614b638-5d1e-4b96-fb64-a63d1cbdf724",
        "colab": {
          "base_uri": "https://localhost:8080/",
          "height": 233
        }
      },
      "source": [
        "books.head(5)"
      ],
      "execution_count": 9,
      "outputs": [
        {
          "output_type": "execute_result",
          "data": {
            "text/html": [
              "<div>\n",
              "<style scoped>\n",
              "    .dataframe tbody tr th:only-of-type {\n",
              "        vertical-align: middle;\n",
              "    }\n",
              "\n",
              "    .dataframe tbody tr th {\n",
              "        vertical-align: top;\n",
              "    }\n",
              "\n",
              "    .dataframe thead th {\n",
              "        text-align: right;\n",
              "    }\n",
              "</style>\n",
              "<table border=\"1\" class=\"dataframe\">\n",
              "  <thead>\n",
              "    <tr style=\"text-align: right;\">\n",
              "      <th></th>\n",
              "      <th>data</th>\n",
              "      <th>FileNo</th>\n",
              "      <th>Book_Name</th>\n",
              "      <th>genre</th>\n",
              "      <th>Author_Name</th>\n",
              "    </tr>\n",
              "  </thead>\n",
              "  <tbody>\n",
              "    <tr>\n",
              "      <th>0</th>\n",
              "      <td>There was a \"scene\" that evening at Ivy Lodge ...</td>\n",
              "      <td>35430</td>\n",
              "      <td>A Charming Fellow- Volume III</td>\n",
              "      <td>Literary</td>\n",
              "      <td>Trollope| Frances Eleanor</td>\n",
              "    </tr>\n",
              "    <tr>\n",
              "      <th>1</th>\n",
              "      <td>A boy, slim and white as the silver birches ro...</td>\n",
              "      <td>42536</td>\n",
              "      <td>Yonder</td>\n",
              "      <td>Literary</td>\n",
              "      <td>Young| E. H.</td>\n",
              "    </tr>\n",
              "    <tr>\n",
              "      <th>2</th>\n",
              "      <td>St. Cloud Hotel, New York, November, 1869.\\nAt...</td>\n",
              "      <td>36374</td>\n",
              "      <td>Wives and Widows- The Broken Life</td>\n",
              "      <td>Literary</td>\n",
              "      <td>Stephens| Ann S.</td>\n",
              "    </tr>\n",
              "    <tr>\n",
              "      <th>3</th>\n",
              "      <td>In the still evening air the dust hung golden ...</td>\n",
              "      <td>41844</td>\n",
              "      <td>The Golden Bough</td>\n",
              "      <td>Literary</td>\n",
              "      <td>Gibbs| George</td>\n",
              "    </tr>\n",
              "    <tr>\n",
              "      <th>4</th>\n",
              "      <td>\"I call it real good of you, Mr. Letgood, to c...</td>\n",
              "      <td>23009</td>\n",
              "      <td>A Modern Idyll</td>\n",
              "      <td>Literary</td>\n",
              "      <td>Harris| Frank</td>\n",
              "    </tr>\n",
              "  </tbody>\n",
              "</table>\n",
              "</div>"
            ],
            "text/plain": [
              "                                                data  ...                Author_Name\n",
              "0  There was a \"scene\" that evening at Ivy Lodge ...  ...  Trollope| Frances Eleanor\n",
              "1  A boy, slim and white as the silver birches ro...  ...               Young| E. H.\n",
              "2  St. Cloud Hotel, New York, November, 1869.\\nAt...  ...           Stephens| Ann S.\n",
              "3  In the still evening air the dust hung golden ...  ...              Gibbs| George\n",
              "4  \"I call it real good of you, Mr. Letgood, to c...  ...              Harris| Frank\n",
              "\n",
              "[5 rows x 5 columns]"
            ]
          },
          "metadata": {
            "tags": []
          },
          "execution_count": 9
        }
      ]
    },
    {
      "cell_type": "code",
      "metadata": {
        "id": "oYJuq2-cRlKZ",
        "colab_type": "code",
        "outputId": "1447ab84-935c-4618-d4b7-49334d42f7f0",
        "colab": {
          "base_uri": "https://localhost:8080/",
          "height": 55
        }
      },
      "source": [
        "from collections import Counter\n",
        "print('Dataset shape %s' % Counter(books['genre']))"
      ],
      "execution_count": 10,
      "outputs": [
        {
          "output_type": "stream",
          "text": [
            "Dataset shape Counter({'Literary': 794, 'Detective and Mystery': 111, 'Sea and Adventure': 36, 'Love and Romance': 18, 'Western Stories': 18, 'Ghost and Horror': 6, 'Humorous and Wit and Satire': 6, 'Christmas Stories': 5, 'Allegories': 2})\n"
          ],
          "name": "stdout"
        }
      ]
    },
    {
      "cell_type": "markdown",
      "metadata": {
        "id": "UCqVdpHzorfz",
        "colab_type": "text"
      },
      "source": [
        "**Trying Random undersampling**"
      ]
    },
    {
      "cell_type": "code",
      "metadata": {
        "id": "bjj3xaRUIaa9",
        "colab_type": "code",
        "colab": {}
      },
      "source": [
        "classes = ['Literary','Detective and Mystery' ]\n",
        "subset  =books.loc[books['genre'].isin(classes)]"
      ],
      "execution_count": 0,
      "outputs": []
    },
    {
      "cell_type": "code",
      "metadata": {
        "id": "v4aWgG2Ho4gv",
        "colab_type": "code",
        "outputId": "d824e46e-d5eb-4cf0-8b25-90973c89c3f7",
        "colab": {
          "base_uri": "https://localhost:8080/",
          "height": 233
        }
      },
      "source": [
        "subset.head(5)"
      ],
      "execution_count": 12,
      "outputs": [
        {
          "output_type": "execute_result",
          "data": {
            "text/html": [
              "<div>\n",
              "<style scoped>\n",
              "    .dataframe tbody tr th:only-of-type {\n",
              "        vertical-align: middle;\n",
              "    }\n",
              "\n",
              "    .dataframe tbody tr th {\n",
              "        vertical-align: top;\n",
              "    }\n",
              "\n",
              "    .dataframe thead th {\n",
              "        text-align: right;\n",
              "    }\n",
              "</style>\n",
              "<table border=\"1\" class=\"dataframe\">\n",
              "  <thead>\n",
              "    <tr style=\"text-align: right;\">\n",
              "      <th></th>\n",
              "      <th>data</th>\n",
              "      <th>FileNo</th>\n",
              "      <th>Book_Name</th>\n",
              "      <th>genre</th>\n",
              "      <th>Author_Name</th>\n",
              "    </tr>\n",
              "  </thead>\n",
              "  <tbody>\n",
              "    <tr>\n",
              "      <th>0</th>\n",
              "      <td>There was a \"scene\" that evening at Ivy Lodge ...</td>\n",
              "      <td>35430</td>\n",
              "      <td>A Charming Fellow- Volume III</td>\n",
              "      <td>Literary</td>\n",
              "      <td>Trollope| Frances Eleanor</td>\n",
              "    </tr>\n",
              "    <tr>\n",
              "      <th>1</th>\n",
              "      <td>A boy, slim and white as the silver birches ro...</td>\n",
              "      <td>42536</td>\n",
              "      <td>Yonder</td>\n",
              "      <td>Literary</td>\n",
              "      <td>Young| E. H.</td>\n",
              "    </tr>\n",
              "    <tr>\n",
              "      <th>2</th>\n",
              "      <td>St. Cloud Hotel, New York, November, 1869.\\nAt...</td>\n",
              "      <td>36374</td>\n",
              "      <td>Wives and Widows- The Broken Life</td>\n",
              "      <td>Literary</td>\n",
              "      <td>Stephens| Ann S.</td>\n",
              "    </tr>\n",
              "    <tr>\n",
              "      <th>3</th>\n",
              "      <td>In the still evening air the dust hung golden ...</td>\n",
              "      <td>41844</td>\n",
              "      <td>The Golden Bough</td>\n",
              "      <td>Literary</td>\n",
              "      <td>Gibbs| George</td>\n",
              "    </tr>\n",
              "    <tr>\n",
              "      <th>4</th>\n",
              "      <td>\"I call it real good of you, Mr. Letgood, to c...</td>\n",
              "      <td>23009</td>\n",
              "      <td>A Modern Idyll</td>\n",
              "      <td>Literary</td>\n",
              "      <td>Harris| Frank</td>\n",
              "    </tr>\n",
              "  </tbody>\n",
              "</table>\n",
              "</div>"
            ],
            "text/plain": [
              "                                                data  ...                Author_Name\n",
              "0  There was a \"scene\" that evening at Ivy Lodge ...  ...  Trollope| Frances Eleanor\n",
              "1  A boy, slim and white as the silver birches ro...  ...               Young| E. H.\n",
              "2  St. Cloud Hotel, New York, November, 1869.\\nAt...  ...           Stephens| Ann S.\n",
              "3  In the still evening air the dust hung golden ...  ...              Gibbs| George\n",
              "4  \"I call it real good of you, Mr. Letgood, to c...  ...              Harris| Frank\n",
              "\n",
              "[5 rows x 5 columns]"
            ]
          },
          "metadata": {
            "tags": []
          },
          "execution_count": 12
        }
      ]
    },
    {
      "cell_type": "code",
      "metadata": {
        "id": "Fb083r1zAmyi",
        "colab_type": "code",
        "colab": {
          "base_uri": "https://localhost:8080/",
          "height": 35
        },
        "outputId": "e8596f43-b891-4f17-dac4-718808c80384"
      },
      "source": [
        "\"\"\"X, y  = subset['data'], subset['genre']\"\"\""
      ],
      "execution_count": 13,
      "outputs": [
        {
          "output_type": "execute_result",
          "data": {
            "text/plain": [
              "\"X, y  = subset['data'], subset['genre']\""
            ]
          },
          "metadata": {
            "tags": []
          },
          "execution_count": 13
        }
      ]
    },
    {
      "cell_type": "code",
      "metadata": {
        "id": "W_JC5nYHovhY",
        "colab_type": "code",
        "colab": {
          "base_uri": "https://localhost:8080/",
          "height": 55
        },
        "outputId": "e3e3d3a7-248b-48f6-f954-0212b391b728"
      },
      "source": [
        "\"\"\"from imblearn.under_sampling import RandomUnderSampler #it crashes if used all together hecne splitting it\n",
        "res = RandomUnderSampler('majority')\n",
        "X_res, y_res = res.fit_resample(X,y)\n",
        "print('Resampled dataset shape %s' % Counter(y_res)) \"\"\""
      ],
      "execution_count": 14,
      "outputs": [
        {
          "output_type": "execute_result",
          "data": {
            "text/plain": [
              "\"from imblearn.under_sampling import RandomUnderSampler #it crashes if used all together hecne splitting it\\nres = RandomUnderSampler('majority')\\nX_res, y_res = res.fit_resample(X,y)\\nprint('Resampled dataset shape %s' % Counter(y_res)) \""
            ]
          },
          "metadata": {
            "tags": []
          },
          "execution_count": 14
        }
      ]
    },
    {
      "cell_type": "markdown",
      "metadata": {
        "id": "6j4TCm9T1ozD",
        "colab_type": "text"
      },
      "source": [
        "Since RAndomUnderSampler is crashing and also other undersampler methodas are not reducing any significatn amount eiter, we manually tried to reduce the number of books. we randomly selected the books from literary genre where only a write had written a book since other genre has the same distribution\n"
      ]
    },
    {
      "cell_type": "code",
      "metadata": {
        "id": "zNZT1GwU0XhS",
        "colab_type": "code",
        "colab": {}
      },
      "source": [
        "# couting the number of books an author has written in each genre\n",
        "books['Count'] = books.groupby([ 'genre','Author_Name'])['FileNo'].transform('count')"
      ],
      "execution_count": 0,
      "outputs": []
    },
    {
      "cell_type": "code",
      "metadata": {
        "id": "H_uSoCjYNYhi",
        "colab_type": "code",
        "colab": {
          "base_uri": "https://localhost:8080/",
          "height": 254
        },
        "outputId": "d30eeb7b-628b-43d6-cef5-7777c83e86ec"
      },
      "source": [
        "books.info()"
      ],
      "execution_count": 16,
      "outputs": [
        {
          "output_type": "stream",
          "text": [
            "<class 'pandas.core.frame.DataFrame'>\n",
            "Int64Index: 996 entries, 0 to 995\n",
            "Data columns (total 6 columns):\n",
            " #   Column       Non-Null Count  Dtype \n",
            "---  ------       --------------  ----- \n",
            " 0   data         996 non-null    object\n",
            " 1   FileNo       996 non-null    int64 \n",
            " 2   Book_Name    996 non-null    object\n",
            " 3   genre        996 non-null    object\n",
            " 4   Author_Name  996 non-null    object\n",
            " 5   Count        996 non-null    int64 \n",
            "dtypes: int64(2), object(4)\n",
            "memory usage: 54.5+ KB\n"
          ],
          "name": "stdout"
        }
      ]
    },
    {
      "cell_type": "code",
      "metadata": {
        "id": "BW3gOAjNr5S9",
        "colab_type": "code",
        "colab": {}
      },
      "source": [
        "#new dataframe with filtered rows\n",
        "df_lit = books[(books.Count == 1) & (books.genre == 'Literary')] #more than 1 there are 501 book, more than 2 , 383,more than 10"
      ],
      "execution_count": 0,
      "outputs": []
    },
    {
      "cell_type": "code",
      "metadata": {
        "id": "ZlVwRZSpslBF",
        "colab_type": "code",
        "outputId": "2d71f7e4-4b45-47e9-d943-f28107c20a0a",
        "colab": {
          "base_uri": "https://localhost:8080/",
          "height": 35
        }
      },
      "source": [
        "df_lit.shape"
      ],
      "execution_count": 18,
      "outputs": [
        {
          "output_type": "execute_result",
          "data": {
            "text/plain": [
              "(293, 6)"
            ]
          },
          "metadata": {
            "tags": []
          },
          "execution_count": 18
        }
      ]
    },
    {
      "cell_type": "code",
      "metadata": {
        "id": "NJu3CrI29hra",
        "colab_type": "code",
        "colab": {}
      },
      "source": [
        "lit_sampled = df_lit.sample(40)"
      ],
      "execution_count": 0,
      "outputs": []
    },
    {
      "cell_type": "code",
      "metadata": {
        "id": "QBVPvZO-wGN9",
        "colab_type": "code",
        "colab": {}
      },
      "source": [
        "deduc_sampled = books[(books.Count ==1) & (books.genre == 'Detective and Mystery')]"
      ],
      "execution_count": 0,
      "outputs": []
    },
    {
      "cell_type": "code",
      "metadata": {
        "id": "1q_0kDHGwRUQ",
        "colab_type": "code",
        "outputId": "616fe053-7005-4414-bdc3-1c4b7c1d93a2",
        "colab": {
          "base_uri": "https://localhost:8080/",
          "height": 35
        }
      },
      "source": [
        "deduc_sampled.shape"
      ],
      "execution_count": 21,
      "outputs": [
        {
          "output_type": "execute_result",
          "data": {
            "text/plain": [
              "(34, 6)"
            ]
          },
          "metadata": {
            "tags": []
          },
          "execution_count": 21
        }
      ]
    },
    {
      "cell_type": "code",
      "metadata": {
        "id": "63tKsOHI-Pz-",
        "colab_type": "code",
        "colab": {}
      },
      "source": [
        "classes = ['Literary', 'Detective and Mystery']\n",
        "rest_subset  =books.loc[~books['genre'].isin(classes)] #df[~df['countries'].isin(c1)]"
      ],
      "execution_count": 0,
      "outputs": []
    },
    {
      "cell_type": "code",
      "metadata": {
        "id": "VaX1Di1kwtBu",
        "colab_type": "code",
        "colab": {}
      },
      "source": [
        "under_sampled_books  = pd.concat([deduc_sampled,lit_sampled,rest_subset])"
      ],
      "execution_count": 0,
      "outputs": []
    },
    {
      "cell_type": "code",
      "metadata": {
        "id": "cc08cDt9_aRO",
        "colab_type": "code",
        "outputId": "e493a1c0-b2b5-4b1f-caf6-fee3d64b7619",
        "colab": {
          "base_uri": "https://localhost:8080/",
          "height": 35
        }
      },
      "source": [
        "under_sampled_books.shape"
      ],
      "execution_count": 24,
      "outputs": [
        {
          "output_type": "execute_result",
          "data": {
            "text/plain": [
              "(165, 6)"
            ]
          },
          "metadata": {
            "tags": []
          },
          "execution_count": 24
        }
      ]
    },
    {
      "cell_type": "code",
      "metadata": {
        "id": "cb-unLyH_hQu",
        "colab_type": "code",
        "outputId": "cb762596-05b7-4617-92d0-c5d7ec02e191",
        "colab": {
          "base_uri": "https://localhost:8080/",
          "height": 55
        }
      },
      "source": [
        "from collections import Counter\n",
        "print('Dataset shape %s' % Counter(under_sampled_books['genre']))"
      ],
      "execution_count": 25,
      "outputs": [
        {
          "output_type": "stream",
          "text": [
            "Dataset shape Counter({'Literary': 40, 'Sea and Adventure': 36, 'Detective and Mystery': 34, 'Love and Romance': 18, 'Western Stories': 18, 'Ghost and Horror': 6, 'Humorous and Wit and Satire': 6, 'Christmas Stories': 5, 'Allegories': 2})\n"
          ],
          "name": "stdout"
        }
      ]
    },
    {
      "cell_type": "code",
      "metadata": {
        "id": "ymh1hykqtHhi",
        "colab_type": "code",
        "outputId": "44163a78-ca1a-4211-c289-ed90d3be4d96",
        "colab": {
          "base_uri": "https://localhost:8080/",
          "height": 435
        }
      },
      "source": [
        "#Plotting number of authors per gerne\n",
        "import matplotlib.pyplot as plt\n",
        "under_sampled_books.groupby('genre')['FileNo'].count().plot(kind = 'bar')\n",
        "plt.show()\n",
        "plt.clf()"
      ],
      "execution_count": 26,
      "outputs": [
        {
          "output_type": "display_data",
          "data": {
            "image/png": "[encoded data removed]",
            "text/plain": [
              "<Figure size 432x288 with 1 Axes>"
            ]
          },
          "metadata": {
            "tags": [],
            "needs_background": "light"
          }
        },
        {
          "output_type": "display_data",
          "data": {
            "text/plain": [
              "<Figure size 432x288 with 0 Axes>"
            ]
          },
          "metadata": {
            "tags": []
          }
        }
      ]
    },
    {
      "cell_type": "markdown",
      "metadata": {
        "id": "-RHofyMLBVuk",
        "colab_type": "text"
      },
      "source": [
        "**Trying random oversampling**"
      ]
    },
    {
      "cell_type": "code",
      "metadata": {
        "id": "dJwOP5LH_wW-",
        "colab_type": "code",
        "colab": {}
      },
      "source": [
        "X, y  = under_sampled_books['data'], under_sampled_books['genre']"
      ],
      "execution_count": 0,
      "outputs": []
    },
    {
      "cell_type": "code",
      "metadata": {
        "id": "WjWSDnN2GXBk",
        "colab_type": "code",
        "colab": {}
      },
      "source": [
        "classes = ['Detective and Mystery','Love and Romance','Christmas Stories','Allegories', 'Western Stories', 'Ghost and Horror', 'Humorous and Wit and Satire']\n",
        "# 'Detective and Mystery','Love and Romance','Western Stories','Ghost and Horror','Humorous and Wit and Satire',\n",
        "subset_for_over  =under_sampled_books.loc[under_sampled_books['genre'].isin(classes)]"
      ],
      "execution_count": 0,
      "outputs": []
    },
    {
      "cell_type": "code",
      "metadata": {
        "id": "ktXUIM3JHKQk",
        "colab_type": "code",
        "colab": {}
      },
      "source": [
        "X, y  = subset_for_over['data'], subset_for_over['genre']"
      ],
      "execution_count": 0,
      "outputs": []
    },
    {
      "cell_type": "code",
      "metadata": {
        "id": "uMV8dq45BTkq",
        "colab_type": "code",
        "outputId": "c46dd650-50b8-4066-8b23-f7ae23a0ea11",
        "colab": {
          "base_uri": "https://localhost:8080/",
          "height": 165
        }
      },
      "source": [
        "from imblearn.over_sampling import RandomOverSampler\n",
        "res = RandomOverSampler()\n",
        "X = X.values.reshape(-1,1)\n",
        "X_res_over, y_res_over = res.fit_resample(X, y)\n",
        "print('Resampled dataset shape %s' % Counter(y_res_over))"
      ],
      "execution_count": 30,
      "outputs": [
        {
          "output_type": "stream",
          "text": [
            "/usr/local/lib/python3.6/dist-packages/sklearn/externals/six.py:31: FutureWarning: The module is deprecated in version 0.21 and will be removed in version 0.23 since we've dropped support for Python 2.7. Please rely on the official version of six (https://pypi.org/project/six/).\n",
            "  \"(https://pypi.org/project/six/).\", FutureWarning)\n"
          ],
          "name": "stderr"
        },
        {
          "output_type": "stream",
          "text": [
            "Resampled dataset shape Counter({'Detective and Mystery': 34, 'Love and Romance': 34, 'Western Stories': 34, 'Christmas Stories': 34, 'Ghost and Horror': 34, 'Humorous and Wit and Satire': 34, 'Allegories': 34})\n"
          ],
          "name": "stdout"
        },
        {
          "output_type": "stream",
          "text": [
            "/usr/local/lib/python3.6/dist-packages/sklearn/utils/deprecation.py:144: FutureWarning: The sklearn.neighbors.base module is  deprecated in version 0.22 and will be removed in version 0.24. The corresponding classes / functions should instead be imported from sklearn.neighbors. Anything that cannot be imported from sklearn.neighbors is now part of the private API.\n",
            "  warnings.warn(message, FutureWarning)\n",
            "/usr/local/lib/python3.6/dist-packages/sklearn/utils/deprecation.py:87: FutureWarning: Function safe_indexing is deprecated; safe_indexing is deprecated in version 0.22 and will be removed in version 0.24.\n",
            "  warnings.warn(msg, category=FutureWarning)\n"
          ],
          "name": "stderr"
        }
      ]
    },
    {
      "cell_type": "code",
      "metadata": {
        "id": "eUkRhaKjSb7G",
        "colab_type": "code",
        "colab": {}
      },
      "source": [
        "dataset = pd.DataFrame({'genre': y_res_over, 'data': X_res_over.ravel()})"
      ],
      "execution_count": 0,
      "outputs": []
    },
    {
      "cell_type": "code",
      "metadata": {
        "id": "3WFkLUnjS0s0",
        "colab_type": "code",
        "outputId": "43ed6feb-8a9e-47c3-f3b7-bb22928a912e",
        "colab": {
          "base_uri": "https://localhost:8080/",
          "height": 72
        }
      },
      "source": [
        "dataset.dtypes"
      ],
      "execution_count": 32,
      "outputs": [
        {
          "output_type": "execute_result",
          "data": {
            "text/plain": [
              "genre    object\n",
              "data     object\n",
              "dtype: object"
            ]
          },
          "metadata": {
            "tags": []
          },
          "execution_count": 32
        }
      ]
    },
    {
      "cell_type": "code",
      "metadata": {
        "id": "rCGz_QMxVrMC",
        "colab_type": "code",
        "outputId": "b3b33742-fb00-4456-dd49-224f1eb03a74",
        "colab": {
          "base_uri": "https://localhost:8080/",
          "height": 35
        }
      },
      "source": [
        "type(dataset)"
      ],
      "execution_count": 33,
      "outputs": [
        {
          "output_type": "execute_result",
          "data": {
            "text/plain": [
              "pandas.core.frame.DataFrame"
            ]
          },
          "metadata": {
            "tags": []
          },
          "execution_count": 33
        }
      ]
    },
    {
      "cell_type": "code",
      "metadata": {
        "id": "WQZ8FPiISj29",
        "colab_type": "code",
        "outputId": "eeeb757c-c93d-420b-b8ad-4536c2c25167",
        "colab": {
          "base_uri": "https://localhost:8080/",
          "height": 108
        }
      },
      "source": [
        "dataset.head(2)"
      ],
      "execution_count": 34,
      "outputs": [
        {
          "output_type": "execute_result",
          "data": {
            "text/html": [
              "<div>\n",
              "<style scoped>\n",
              "    .dataframe tbody tr th:only-of-type {\n",
              "        vertical-align: middle;\n",
              "    }\n",
              "\n",
              "    .dataframe tbody tr th {\n",
              "        vertical-align: top;\n",
              "    }\n",
              "\n",
              "    .dataframe thead th {\n",
              "        text-align: right;\n",
              "    }\n",
              "</style>\n",
              "<table border=\"1\" class=\"dataframe\">\n",
              "  <thead>\n",
              "    <tr style=\"text-align: right;\">\n",
              "      <th></th>\n",
              "      <th>genre</th>\n",
              "      <th>data</th>\n",
              "    </tr>\n",
              "  </thead>\n",
              "  <tbody>\n",
              "    <tr>\n",
              "      <th>0</th>\n",
              "      <td>Detective and Mystery</td>\n",
              "      <td>Among New York's fashionable and ultra-exclusi...</td>\n",
              "    </tr>\n",
              "    <tr>\n",
              "      <th>1</th>\n",
              "      <td>Detective and Mystery</td>\n",
              "      <td>It was Mr. Ricardo's habit as soon as the seco...</td>\n",
              "    </tr>\n",
              "  </tbody>\n",
              "</table>\n",
              "</div>"
            ],
            "text/plain": [
              "                   genre                                               data\n",
              "0  Detective and Mystery  Among New York's fashionable and ultra-exclusi...\n",
              "1  Detective and Mystery  It was Mr. Ricardo's habit as soon as the seco..."
            ]
          },
          "metadata": {
            "tags": []
          },
          "execution_count": 34
        }
      ]
    },
    {
      "cell_type": "code",
      "metadata": {
        "id": "CNnuXl0LUUW6",
        "colab_type": "code",
        "outputId": "30ba2884-b73d-4f21-b68a-95f7fa51172f",
        "colab": {
          "base_uri": "https://localhost:8080/",
          "height": 1000
        }
      },
      "source": [
        "dataset.loc[dataset['genre'] == 'Allegories']"
      ],
      "execution_count": 35,
      "outputs": [
        {
          "output_type": "execute_result",
          "data": {
            "text/html": [
              "<div>\n",
              "<style scoped>\n",
              "    .dataframe tbody tr th:only-of-type {\n",
              "        vertical-align: middle;\n",
              "    }\n",
              "\n",
              "    .dataframe tbody tr th {\n",
              "        vertical-align: top;\n",
              "    }\n",
              "\n",
              "    .dataframe thead th {\n",
              "        text-align: right;\n",
              "    }\n",
              "</style>\n",
              "<table border=\"1\" class=\"dataframe\">\n",
              "  <thead>\n",
              "    <tr style=\"text-align: right;\">\n",
              "      <th></th>\n",
              "      <th>genre</th>\n",
              "      <th>data</th>\n",
              "    </tr>\n",
              "  </thead>\n",
              "  <tbody>\n",
              "    <tr>\n",
              "      <th>63</th>\n",
              "      <td>Allegories</td>\n",
              "      <td>In the steeple of an old church was a beautifu...</td>\n",
              "    </tr>\n",
              "    <tr>\n",
              "      <th>76</th>\n",
              "      <td>Allegories</td>\n",
              "      <td>A solitary fisher ploughed the lively blue of ...</td>\n",
              "    </tr>\n",
              "    <tr>\n",
              "      <th>89</th>\n",
              "      <td>Allegories</td>\n",
              "      <td>In the steeple of an old church was a beautifu...</td>\n",
              "    </tr>\n",
              "    <tr>\n",
              "      <th>90</th>\n",
              "      <td>Allegories</td>\n",
              "      <td>A solitary fisher ploughed the lively blue of ...</td>\n",
              "    </tr>\n",
              "    <tr>\n",
              "      <th>91</th>\n",
              "      <td>Allegories</td>\n",
              "      <td>In the steeple of an old church was a beautifu...</td>\n",
              "    </tr>\n",
              "    <tr>\n",
              "      <th>92</th>\n",
              "      <td>Allegories</td>\n",
              "      <td>In the steeple of an old church was a beautifu...</td>\n",
              "    </tr>\n",
              "    <tr>\n",
              "      <th>93</th>\n",
              "      <td>Allegories</td>\n",
              "      <td>A solitary fisher ploughed the lively blue of ...</td>\n",
              "    </tr>\n",
              "    <tr>\n",
              "      <th>94</th>\n",
              "      <td>Allegories</td>\n",
              "      <td>In the steeple of an old church was a beautifu...</td>\n",
              "    </tr>\n",
              "    <tr>\n",
              "      <th>95</th>\n",
              "      <td>Allegories</td>\n",
              "      <td>A solitary fisher ploughed the lively blue of ...</td>\n",
              "    </tr>\n",
              "    <tr>\n",
              "      <th>96</th>\n",
              "      <td>Allegories</td>\n",
              "      <td>A solitary fisher ploughed the lively blue of ...</td>\n",
              "    </tr>\n",
              "    <tr>\n",
              "      <th>97</th>\n",
              "      <td>Allegories</td>\n",
              "      <td>In the steeple of an old church was a beautifu...</td>\n",
              "    </tr>\n",
              "    <tr>\n",
              "      <th>98</th>\n",
              "      <td>Allegories</td>\n",
              "      <td>In the steeple of an old church was a beautifu...</td>\n",
              "    </tr>\n",
              "    <tr>\n",
              "      <th>99</th>\n",
              "      <td>Allegories</td>\n",
              "      <td>In the steeple of an old church was a beautifu...</td>\n",
              "    </tr>\n",
              "    <tr>\n",
              "      <th>100</th>\n",
              "      <td>Allegories</td>\n",
              "      <td>In the steeple of an old church was a beautifu...</td>\n",
              "    </tr>\n",
              "    <tr>\n",
              "      <th>101</th>\n",
              "      <td>Allegories</td>\n",
              "      <td>A solitary fisher ploughed the lively blue of ...</td>\n",
              "    </tr>\n",
              "    <tr>\n",
              "      <th>102</th>\n",
              "      <td>Allegories</td>\n",
              "      <td>A solitary fisher ploughed the lively blue of ...</td>\n",
              "    </tr>\n",
              "    <tr>\n",
              "      <th>103</th>\n",
              "      <td>Allegories</td>\n",
              "      <td>A solitary fisher ploughed the lively blue of ...</td>\n",
              "    </tr>\n",
              "    <tr>\n",
              "      <th>104</th>\n",
              "      <td>Allegories</td>\n",
              "      <td>In the steeple of an old church was a beautifu...</td>\n",
              "    </tr>\n",
              "    <tr>\n",
              "      <th>105</th>\n",
              "      <td>Allegories</td>\n",
              "      <td>In the steeple of an old church was a beautifu...</td>\n",
              "    </tr>\n",
              "    <tr>\n",
              "      <th>106</th>\n",
              "      <td>Allegories</td>\n",
              "      <td>In the steeple of an old church was a beautifu...</td>\n",
              "    </tr>\n",
              "    <tr>\n",
              "      <th>107</th>\n",
              "      <td>Allegories</td>\n",
              "      <td>In the steeple of an old church was a beautifu...</td>\n",
              "    </tr>\n",
              "    <tr>\n",
              "      <th>108</th>\n",
              "      <td>Allegories</td>\n",
              "      <td>A solitary fisher ploughed the lively blue of ...</td>\n",
              "    </tr>\n",
              "    <tr>\n",
              "      <th>109</th>\n",
              "      <td>Allegories</td>\n",
              "      <td>A solitary fisher ploughed the lively blue of ...</td>\n",
              "    </tr>\n",
              "    <tr>\n",
              "      <th>110</th>\n",
              "      <td>Allegories</td>\n",
              "      <td>In the steeple of an old church was a beautifu...</td>\n",
              "    </tr>\n",
              "    <tr>\n",
              "      <th>111</th>\n",
              "      <td>Allegories</td>\n",
              "      <td>In the steeple of an old church was a beautifu...</td>\n",
              "    </tr>\n",
              "    <tr>\n",
              "      <th>112</th>\n",
              "      <td>Allegories</td>\n",
              "      <td>In the steeple of an old church was a beautifu...</td>\n",
              "    </tr>\n",
              "    <tr>\n",
              "      <th>113</th>\n",
              "      <td>Allegories</td>\n",
              "      <td>A solitary fisher ploughed the lively blue of ...</td>\n",
              "    </tr>\n",
              "    <tr>\n",
              "      <th>114</th>\n",
              "      <td>Allegories</td>\n",
              "      <td>In the steeple of an old church was a beautifu...</td>\n",
              "    </tr>\n",
              "    <tr>\n",
              "      <th>115</th>\n",
              "      <td>Allegories</td>\n",
              "      <td>A solitary fisher ploughed the lively blue of ...</td>\n",
              "    </tr>\n",
              "    <tr>\n",
              "      <th>116</th>\n",
              "      <td>Allegories</td>\n",
              "      <td>A solitary fisher ploughed the lively blue of ...</td>\n",
              "    </tr>\n",
              "    <tr>\n",
              "      <th>117</th>\n",
              "      <td>Allegories</td>\n",
              "      <td>In the steeple of an old church was a beautifu...</td>\n",
              "    </tr>\n",
              "    <tr>\n",
              "      <th>118</th>\n",
              "      <td>Allegories</td>\n",
              "      <td>A solitary fisher ploughed the lively blue of ...</td>\n",
              "    </tr>\n",
              "    <tr>\n",
              "      <th>119</th>\n",
              "      <td>Allegories</td>\n",
              "      <td>A solitary fisher ploughed the lively blue of ...</td>\n",
              "    </tr>\n",
              "    <tr>\n",
              "      <th>120</th>\n",
              "      <td>Allegories</td>\n",
              "      <td>A solitary fisher ploughed the lively blue of ...</td>\n",
              "    </tr>\n",
              "  </tbody>\n",
              "</table>\n",
              "</div>"
            ],
            "text/plain": [
              "          genre                                               data\n",
              "63   Allegories  In the steeple of an old church was a beautifu...\n",
              "76   Allegories  A solitary fisher ploughed the lively blue of ...\n",
              "89   Allegories  In the steeple of an old church was a beautifu...\n",
              "90   Allegories  A solitary fisher ploughed the lively blue of ...\n",
              "91   Allegories  In the steeple of an old church was a beautifu...\n",
              "92   Allegories  In the steeple of an old church was a beautifu...\n",
              "93   Allegories  A solitary fisher ploughed the lively blue of ...\n",
              "94   Allegories  In the steeple of an old church was a beautifu...\n",
              "95   Allegories  A solitary fisher ploughed the lively blue of ...\n",
              "96   Allegories  A solitary fisher ploughed the lively blue of ...\n",
              "97   Allegories  In the steeple of an old church was a beautifu...\n",
              "98   Allegories  In the steeple of an old church was a beautifu...\n",
              "99   Allegories  In the steeple of an old church was a beautifu...\n",
              "100  Allegories  In the steeple of an old church was a beautifu...\n",
              "101  Allegories  A solitary fisher ploughed the lively blue of ...\n",
              "102  Allegories  A solitary fisher ploughed the lively blue of ...\n",
              "103  Allegories  A solitary fisher ploughed the lively blue of ...\n",
              "104  Allegories  In the steeple of an old church was a beautifu...\n",
              "105  Allegories  In the steeple of an old church was a beautifu...\n",
              "106  Allegories  In the steeple of an old church was a beautifu...\n",
              "107  Allegories  In the steeple of an old church was a beautifu...\n",
              "108  Allegories  A solitary fisher ploughed the lively blue of ...\n",
              "109  Allegories  A solitary fisher ploughed the lively blue of ...\n",
              "110  Allegories  In the steeple of an old church was a beautifu...\n",
              "111  Allegories  In the steeple of an old church was a beautifu...\n",
              "112  Allegories  In the steeple of an old church was a beautifu...\n",
              "113  Allegories  A solitary fisher ploughed the lively blue of ...\n",
              "114  Allegories  In the steeple of an old church was a beautifu...\n",
              "115  Allegories  A solitary fisher ploughed the lively blue of ...\n",
              "116  Allegories  A solitary fisher ploughed the lively blue of ...\n",
              "117  Allegories  In the steeple of an old church was a beautifu...\n",
              "118  Allegories  A solitary fisher ploughed the lively blue of ...\n",
              "119  Allegories  A solitary fisher ploughed the lively blue of ...\n",
              "120  Allegories  A solitary fisher ploughed the lively blue of ..."
            ]
          },
          "metadata": {
            "tags": []
          },
          "execution_count": 35
        }
      ]
    },
    {
      "cell_type": "code",
      "metadata": {
        "id": "HLnvXOF-VJTY",
        "colab_type": "code",
        "colab": {}
      },
      "source": [
        "classes = ['Detective and Mystery','Love and Romance','Christmas Stories','Allegories', 'Western Stories', 'Ghost and Horror', 'Humorous and Wit and Satire']\n",
        "subset_after_over  =under_sampled_books.loc[~under_sampled_books['genre'].isin(classes)]"
      ],
      "execution_count": 0,
      "outputs": []
    },
    {
      "cell_type": "code",
      "metadata": {
        "id": "7Ur7DNbAWKY9",
        "colab_type": "code",
        "colab": {}
      },
      "source": [
        "subset_after_over = subset_after_over[['genre', 'data']]"
      ],
      "execution_count": 0,
      "outputs": []
    },
    {
      "cell_type": "code",
      "metadata": {
        "id": "VznQKTD3VwGJ",
        "colab_type": "code",
        "outputId": "c41e8d3a-2da9-46e0-c024-4b0d495957e4",
        "colab": {
          "base_uri": "https://localhost:8080/",
          "height": 35
        }
      },
      "source": [
        "type(subset_after_over)"
      ],
      "execution_count": 38,
      "outputs": [
        {
          "output_type": "execute_result",
          "data": {
            "text/plain": [
              "pandas.core.frame.DataFrame"
            ]
          },
          "metadata": {
            "tags": []
          },
          "execution_count": 38
        }
      ]
    },
    {
      "cell_type": "code",
      "metadata": {
        "id": "41fLTdftU8bE",
        "colab_type": "code",
        "colab": {}
      },
      "source": [
        "over_sampled = pd.concat([dataset,subset_after_over] )"
      ],
      "execution_count": 0,
      "outputs": []
    },
    {
      "cell_type": "code",
      "metadata": {
        "id": "2VqVA2GYV9rX",
        "colab_type": "code",
        "outputId": "8219ce5b-a77e-463e-9121-bac723cefd77",
        "colab": {
          "base_uri": "https://localhost:8080/",
          "height": 35
        }
      },
      "source": [
        "over_sampled.shape"
      ],
      "execution_count": 40,
      "outputs": [
        {
          "output_type": "execute_result",
          "data": {
            "text/plain": [
              "(314, 2)"
            ]
          },
          "metadata": {
            "tags": []
          },
          "execution_count": 40
        }
      ]
    },
    {
      "cell_type": "code",
      "metadata": {
        "id": "w6iJMycRWAoL",
        "colab_type": "code",
        "outputId": "1cc0171a-0270-4573-f89a-08df6dd71a22",
        "colab": {
          "base_uri": "https://localhost:8080/",
          "height": 198
        }
      },
      "source": [
        "over_sampled.head(5)"
      ],
      "execution_count": 41,
      "outputs": [
        {
          "output_type": "execute_result",
          "data": {
            "text/html": [
              "<div>\n",
              "<style scoped>\n",
              "    .dataframe tbody tr th:only-of-type {\n",
              "        vertical-align: middle;\n",
              "    }\n",
              "\n",
              "    .dataframe tbody tr th {\n",
              "        vertical-align: top;\n",
              "    }\n",
              "\n",
              "    .dataframe thead th {\n",
              "        text-align: right;\n",
              "    }\n",
              "</style>\n",
              "<table border=\"1\" class=\"dataframe\">\n",
              "  <thead>\n",
              "    <tr style=\"text-align: right;\">\n",
              "      <th></th>\n",
              "      <th>genre</th>\n",
              "      <th>data</th>\n",
              "    </tr>\n",
              "  </thead>\n",
              "  <tbody>\n",
              "    <tr>\n",
              "      <th>0</th>\n",
              "      <td>Detective and Mystery</td>\n",
              "      <td>Among New York's fashionable and ultra-exclusi...</td>\n",
              "    </tr>\n",
              "    <tr>\n",
              "      <th>1</th>\n",
              "      <td>Detective and Mystery</td>\n",
              "      <td>It was Mr. Ricardo's habit as soon as the seco...</td>\n",
              "    </tr>\n",
              "    <tr>\n",
              "      <th>2</th>\n",
              "      <td>Detective and Mystery</td>\n",
              "      <td>I ran down to Brighton for the Sunday. My wife...</td>\n",
              "    </tr>\n",
              "    <tr>\n",
              "      <th>3</th>\n",
              "      <td>Detective and Mystery</td>\n",
              "      <td>It was a beautiful May morning - the more espe...</td>\n",
              "    </tr>\n",
              "    <tr>\n",
              "      <th>4</th>\n",
              "      <td>Detective and Mystery</td>\n",
              "      <td>The gong fixed in the door frame sounded.\\nA m...</td>\n",
              "    </tr>\n",
              "  </tbody>\n",
              "</table>\n",
              "</div>"
            ],
            "text/plain": [
              "                   genre                                               data\n",
              "0  Detective and Mystery  Among New York's fashionable and ultra-exclusi...\n",
              "1  Detective and Mystery  It was Mr. Ricardo's habit as soon as the seco...\n",
              "2  Detective and Mystery  I ran down to Brighton for the Sunday. My wife...\n",
              "3  Detective and Mystery  It was a beautiful May morning - the more espe...\n",
              "4  Detective and Mystery  The gong fixed in the door frame sounded.\\nA m..."
            ]
          },
          "metadata": {
            "tags": []
          },
          "execution_count": 41
        }
      ]
    },
    {
      "cell_type": "code",
      "metadata": {
        "id": "mIva8Cb7WbC2",
        "colab_type": "code",
        "outputId": "387984f8-b87a-4172-caae-d8ed30d27480",
        "colab": {
          "base_uri": "https://localhost:8080/",
          "height": 55
        }
      },
      "source": [
        "from collections import Counter\n",
        "print('Dataset shape %s' % Counter(over_sampled['genre']))"
      ],
      "execution_count": 42,
      "outputs": [
        {
          "output_type": "stream",
          "text": [
            "Dataset shape Counter({'Literary': 40, 'Sea and Adventure': 36, 'Detective and Mystery': 34, 'Love and Romance': 34, 'Western Stories': 34, 'Christmas Stories': 34, 'Ghost and Horror': 34, 'Humorous and Wit and Satire': 34, 'Allegories': 34})\n"
          ],
          "name": "stdout"
        }
      ]
    },
    {
      "cell_type": "markdown",
      "metadata": {
        "id": "43oSokT_oQcD",
        "colab_type": "text"
      },
      "source": [
        "**Cleaning and preprocessing for BOW**"
      ]
    },
    {
      "cell_type": "code",
      "metadata": {
        "id": "4uUk5Ran4-uy",
        "colab_type": "code",
        "outputId": "95e55a94-7049-4390-96d9-b93fc296e379",
        "colab": {
          "base_uri": "https://localhost:8080/",
          "height": 217
        }
      },
      "source": [
        "import nltk\n",
        "nltk.download('stopwords')\n",
        "import nltk\n",
        "nltk.download('punkt')\n",
        "import nltk\n",
        "nltk.download('averaged_perceptron_tagger')\n",
        "import nltk\n",
        "nltk.download('wordnet')"
      ],
      "execution_count": 43,
      "outputs": [
        {
          "output_type": "stream",
          "text": [
            "[nltk_data] Downloading package stopwords to /root/nltk_data...\n",
            "[nltk_data]   Package stopwords is already up-to-date!\n",
            "[nltk_data] Downloading package punkt to /root/nltk_data...\n",
            "[nltk_data]   Package punkt is already up-to-date!\n",
            "[nltk_data] Downloading package averaged_perceptron_tagger to\n",
            "[nltk_data]     /root/nltk_data...\n",
            "[nltk_data]   Package averaged_perceptron_tagger is already up-to-\n",
            "[nltk_data]       date!\n",
            "[nltk_data] Downloading package wordnet to /root/nltk_data...\n",
            "[nltk_data]   Package wordnet is already up-to-date!\n"
          ],
          "name": "stdout"
        },
        {
          "output_type": "execute_result",
          "data": {
            "text/plain": [
              "True"
            ]
          },
          "metadata": {
            "tags": []
          },
          "execution_count": 43
        }
      ]
    },
    {
      "cell_type": "code",
      "metadata": {
        "id": "ZsL2jeYs5J0O",
        "colab_type": "code",
        "outputId": "33867749-78d5-4935-b166-c0ff17f60498",
        "colab": {
          "base_uri": "https://localhost:8080/",
          "height": 55
        }
      },
      "source": [
        "from nltk.corpus import stopwords\n",
        "stop_words = nltk.corpus.stopwords.words('english')\n",
        "print(stop_words)"
      ],
      "execution_count": 44,
      "outputs": [
        {
          "output_type": "stream",
          "text": [
            "['i', 'me', 'my', 'myself', 'we', 'our', 'ours', 'ourselves', 'you', \"you're\", \"you've\", \"you'll\", \"you'd\", 'your', 'yours', 'yourself', 'yourselves', 'he', 'him', 'his', 'himself', 'she', \"she's\", 'her', 'hers', 'herself', 'it', \"it's\", 'its', 'itself', 'they', 'them', 'their', 'theirs', 'themselves', 'what', 'which', 'who', 'whom', 'this', 'that', \"that'll\", 'these', 'those', 'am', 'is', 'are', 'was', 'were', 'be', 'been', 'being', 'have', 'has', 'had', 'having', 'do', 'does', 'did', 'doing', 'a', 'an', 'the', 'and', 'but', 'if', 'or', 'because', 'as', 'until', 'while', 'of', 'at', 'by', 'for', 'with', 'about', 'against', 'between', 'into', 'through', 'during', 'before', 'after', 'above', 'below', 'to', 'from', 'up', 'down', 'in', 'out', 'on', 'off', 'over', 'under', 'again', 'further', 'then', 'once', 'here', 'there', 'when', 'where', 'why', 'how', 'all', 'any', 'both', 'each', 'few', 'more', 'most', 'other', 'some', 'such', 'no', 'nor', 'not', 'only', 'own', 'same', 'so', 'than', 'too', 'very', 's', 't', 'can', 'will', 'just', 'don', \"don't\", 'should', \"should've\", 'now', 'd', 'll', 'm', 'o', 're', 've', 'y', 'ain', 'aren', \"aren't\", 'couldn', \"couldn't\", 'didn', \"didn't\", 'doesn', \"doesn't\", 'hadn', \"hadn't\", 'hasn', \"hasn't\", 'haven', \"haven't\", 'isn', \"isn't\", 'ma', 'mightn', \"mightn't\", 'mustn', \"mustn't\", 'needn', \"needn't\", 'shan', \"shan't\", 'shouldn', \"shouldn't\", 'wasn', \"wasn't\", 'weren', \"weren't\", 'won', \"won't\", 'wouldn', \"wouldn't\"]\n"
          ],
          "name": "stdout"
        }
      ]
    },
    {
      "cell_type": "code",
      "metadata": {
        "id": "nED0gXSYNRVt",
        "colab_type": "code",
        "colab": {}
      },
      "source": [
        "stop_words.extend([\"0o\", \"0s\", \"3a\", \"3b\", \"3d\", \"6b\", \"6o\", \"a\", \"a1\", \"a2\", \"a3\", \"a4\", \"ab\", \"able\", \"about\", \"above\", \"abst\", \"ac\", \"accordance\", \"according\", \"accordingly\", \"across\", \"act\", \"actually\", \"ad\", \"added\", \"adj\", \"ae\", \"af\", \"affected\", \"affecting\", \"affects\", \"after\", \"afterwards\", \"ag\", \"again\", \"against\", \"ah\", \"ain\", \"ain't\", \"aj\", \"al\", \"all\", \"allow\", \"allows\", \"almost\", \"alone\", \"along\", \"already\", \"also\", \"although\", \"always\", \"am\", \"among\", \"amongst\", \"amoungst\", \"amount\", \"an\", \"and\", \"announce\", \"another\", \"any\", \"anybody\", \"anyhow\", \"anymore\", \"anyone\", \"anything\", \"anyway\", \"anyways\", \"anywhere\", \"ao\", \"ap\", \"apart\", \"apparently\", \"appear\", \"appreciate\", \"appropriate\", \"approximately\", \"ar\", \"are\", \"aren\", \"arent\", \"aren't\", \"arise\", \"around\", \"as\", \"a's\", \"aside\", \"ask\", \"asking\", \"associated\", \"at\", \"au\", \"auth\", \"av\", \"available\", \"aw\", \"away\", \"awfully\", \"ax\", \"ay\", \"az\", \"b\", \"b1\", \"b2\", \"b3\", \"ba\", \"back\", \"bc\", \"bd\", \"be\", \"became\", \"because\", \"become\", \"becomes\", \"becoming\", \"been\", \"before\", \"beforehand\", \"begin\", \"beginning\", \"beginnings\", \"begins\", \"behind\", \"being\", \"believe\", \"below\", \"beside\", \"besides\", \"best\", \"better\", \"between\", \"beyond\", \"bi\", \"bill\", \"biol\", \"bj\", \"bk\", \"bl\", \"bn\", \"both\", \"bottom\", \"bp\", \"br\", \"brief\", \"briefly\", \"bs\", \"bt\", \"bu\", \"but\", \"bx\", \"by\", \"c\", \"c1\", \"c2\", \"c3\", \"ca\", \"call\", \"came\", \"can\", \"cannot\", \"cant\", \"can't\", \"cause\", \"causes\", \"cc\", \"cd\", \"ce\", \"certain\", \"certainly\", \"cf\", \"cg\", \"ch\", \"changes\", \"ci\", \"cit\", \"cj\", \"cl\", \"clearly\", \"cm\", \"c'mon\", \"cn\", \"co\", \"com\", \"come\", \"comes\", \"con\", \"concerning\", \"consequently\", \"consider\", \"considering\", \"contain\", \"containing\", \"contains\", \"corresponding\", \"could\", \"couldn\", \"couldnt\", \"couldn't\", \"course\", \"cp\", \"cq\", \"cr\", \"cry\", \"cs\", \"c's\", \"ct\", \"cu\", \"currently\", \"cv\", \"cx\", \"cy\", \"cz\", \"d\", \"d2\", \"da\", \"date\", \"dc\", \"dd\", \"de\", \"definitely\", \"describe\", \"described\", \"despite\", \"detail\", \"df\", \"di\", \"did\", \"didn\", \"didn't\", \"different\", \"dj\", \"dk\", \"dl\", \"do\", \"does\", \"doesn\", \"doesn't\", \"doing\", \"don\", \"done\", \"don't\", \"down\", \"downwards\", \"dp\", \"dr\", \"ds\", \"dt\", \"du\", \"due\", \"during\", \"dx\", \"dy\", \"e\", \"e2\", \"e3\", \"ea\", \"each\", \"ec\", \"ed\", \"edu\", \"ee\", \"ef\", \"effect\", \"eg\", \"ei\", \"eight\", \"eighty\", \"either\", \"ej\", \"el\", \"eleven\", \"else\", \"elsewhere\", \"em\", \"empty\", \"en\", \"end\", \"ending\", \"enough\", \"entirely\", \"eo\", \"ep\", \"eq\", \"er\", \"es\", \"especially\", \"est\", \"et\", \"et-al\", \"etc\", \"eu\", \"ev\", \"even\", \"ever\", \"every\", \"everybody\", \"everyone\", \"everything\", \"everywhere\", \"ex\", \"exactly\", \"example\", \"except\", \"ey\", \"f\", \"f2\", \"fa\", \"far\", \"fc\", \"few\", \"ff\", \"fi\", \"fifteen\", \"fifth\", \"fify\", \"fill\", \"find\", \"fire\", \"first\", \"five\", \"fix\", \"fj\", \"fl\", \"fn\", \"fo\", \"followed\", \"following\", \"follows\", \"for\", \"former\", \"formerly\", \"forth\", \"forty\", \"found\", \"four\", \"fr\", \"from\", \"front\", \"fs\", \"ft\", \"fu\", \"full\", \"further\", \"furthermore\", \"fy\", \"g\", \"ga\", \"gave\", \"ge\", \"get\", \"gets\", \"getting\", \"gi\", \"give\", \"given\", \"gives\", \"giving\", \"gj\", \"gl\", \"go\", \"goes\", \"going\", \"gone\", \"got\", \"gotten\", \"gr\", \"greetings\", \"gs\", \"gy\", \"h\", \"h2\", \"h3\", \"had\", \"hadn\", \"hadn't\", \"happens\", \"hardly\", \"has\", \"hasn\", \"hasnt\", \"hasn't\", \"have\", \"haven\", \"haven't\", \"having\", \"he\", \"hed\", \"he'd\", \"he'll\", \"hello\", \"help\", \"hence\", \"her\", \"here\", \"hereafter\", \"hereby\", \"herein\", \"heres\", \"here's\", \"hereupon\", \"hers\", \"herself\", \"hes\", \"he's\", \"hh\", \"hi\", \"hid\", \"him\", \"himself\", \"his\", \"hither\", \"hj\", \"ho\", \"home\", \"hopefully\", \"how\", \"howbeit\", \"however\", \"how's\", \"hr\", \"hs\", \"http\", \"hu\", \"hundred\", \"hy\", \"i\", \"i2\", \"i3\", \"i4\", \"i6\", \"i7\", \"i8\", \"ia\", \"ib\", \"ibid\", \"ic\", \"id\", \"i'd\", \"ie\", \"if\", \"ig\", \"ignored\", \"ih\", \"ii\", \"ij\", \"il\", \"i'll\", \"im\", \"i'm\", \"immediate\", \"immediately\", \"importance\", \"important\", \"in\", \"inasmuch\", \"inc\", \"indeed\", \"index\", \"indicate\", \"indicated\", \"indicates\", \"information\", \"inner\", \"insofar\", \"instead\", \"interest\", \"into\", \"invention\", \"inward\", \"io\", \"ip\", \"iq\", \"ir\", \"is\", \"isn\", \"isn't\", \"it\", \"itd\", \"it'd\", \"it'll\", \"its\", \"it's\", \"itself\", \"iv\", \"i've\", \"ix\", \"iy\", \"iz\", \"j\", \"jj\", \"jr\", \"js\", \"jt\", \"ju\", \"just\", \"k\", \"ke\", \"keep\", \"keeps\", \"kept\", \"kg\", \"kj\", \"km\", \"know\", \"known\", \"knows\", \"ko\", \"l\", \"l2\", \"la\", \"largely\", \"last\", \"lately\", \"later\", \"latter\", \"latterly\", \"lb\", \"lc\", \"le\", \"least\", \"les\", \"less\", \"lest\", \"let\", \"lets\", \"let's\", \"lf\", \"like\", \"liked\", \"likely\", \"line\", \"little\", \"lj\", \"ll\", \"ll\", \"ln\", \"lo\", \"look\", \"looking\", \"looks\", \"los\", \"lr\", \"ls\", \"lt\", \"ltd\", \"m\", \"m2\", \"ma\", \"made\", \"mainly\", \"make\", \"makes\", \"many\", \"may\", \"maybe\", \"me\", \"mean\", \"means\", \"meantime\", \"meanwhile\", \"merely\", \"mg\", \"might\", \"mightn\", \"mightn't\", \"mill\", \"million\", \"mine\", \"miss\", \"ml\", \"mn\", \"mo\", \"more\", \"moreover\", \"most\", \"mostly\", \"move\", \"mr\", \"mrs\", \"ms\", \"mt\", \"mu\", \"much\", \"mug\", \"must\", \"mustn\", \"mustn't\", \"my\", \"myself\", \"n\", \"n2\", \"na\", \"name\", \"namely\", \"nay\", \"nc\", \"nd\", \"ne\", \"near\", \"nearly\", \"necessarily\", \"necessary\", \"need\", \"needn\", \"needn't\", \"needs\", \"neither\", \"never\", \"nevertheless\", \"new\", \"next\", \"ng\", \"ni\", \"nine\", \"ninety\", \"nj\", \"nl\", \"nn\", \"no\", \"nobody\", \"non\", \"none\", \"nonetheless\", \"noone\", \"nor\", \"normally\", \"nos\", \"not\", \"noted\", \"nothing\", \"novel\", \"now\", \"nowhere\", \"nr\", \"ns\", \"nt\", \"ny\", \"o\", \"oa\", \"ob\", \"obtain\", \"obtained\", \"obviously\", \"oc\", \"od\", \"of\", \"off\", \"often\", \"og\", \"oh\", \"oi\", \"oj\", \"ok\", \"okay\", \"ol\", \"old\", \"om\", \"omitted\", \"on\", \"once\", \"one\", \"ones\", \"only\", \"onto\", \"oo\", \"op\", \"oq\", \"or\", \"ord\", \"os\", \"ot\", \"other\", \"others\", \"otherwise\", \"ou\", \"ought\", \"our\", \"ours\", \"ourselves\", \"out\", \"outside\", \"over\", \"overall\", \"ow\", \"owing\", \"own\", \"ox\", \"oz\", \"p\", \"p1\", \"p2\", \"p3\", \"page\", \"pagecount\", \"pages\", \"par\", \"part\", \"particular\", \"particularly\", \"pas\", \"past\", \"pc\", \"pd\", \"pe\", \"per\", \"perhaps\", \"pf\", \"ph\", \"pi\", \"pj\", \"pk\", \"pl\", \"placed\", \"please\", \"plus\", \"pm\", \"pn\", \"po\", \"poorly\", \"possible\", \"possibly\", \"potentially\", \"pp\", \"pq\", \"pr\", \"predominantly\", \"present\", \"presumably\", \"previously\", \"primarily\", \"probably\", \"promptly\", \"proud\", \"provides\", \"ps\", \"pt\", \"pu\", \"put\", \"py\", \"q\", \"qj\", \"qu\", \"que\", \"quickly\", \"quite\", \"qv\", \"r\", \"r2\", \"ra\", \"ran\", \"rather\", \"rc\", \"rd\", \"re\", \"readily\", \"really\", \"reasonably\", \"recent\", \"recently\", \"ref\", \"refs\", \"regarding\", \"regardless\", \"regards\", \"related\", \"relatively\", \"research\", \"research-articl\", \"respectively\", \"resulted\", \"resulting\", \"results\", \"rf\", \"rh\", \"ri\", \"right\", \"rj\", \"rl\", \"rm\", \"rn\", \"ro\", \"rq\", \"rr\", \"rs\", \"rt\", \"ru\", \"run\", \"rv\", \"ry\", \"s\", \"s2\", \"sa\", \"said\", \"same\", \"saw\", \"say\", \"saying\", \"says\", \"sc\", \"sd\", \"se\", \"sec\", \"second\", \"secondly\", \"section\", \"see\", \"seeing\", \"seem\", \"seemed\", \"seeming\", \"seems\", \"seen\", \"self\", \"selves\", \"sensible\", \"sent\", \"serious\", \"seriously\", \"seven\", \"several\", \"sf\", \"shall\", \"shan\", \"shan't\", \"she\", \"shed\", \"she'd\", \"she'll\", \"shes\", \"she's\", \"should\", \"shouldn\", \"shouldn't\", \"should've\", \"show\", \"showed\", \"shown\", \"showns\", \"shows\", \"si\", \"side\", \"significant\", \"significantly\", \"similar\", \"similarly\", \"since\", \"sincere\", \"six\", \"sixty\", \"sj\", \"sl\", \"slightly\", \"sm\", \"sn\", \"so\", \"some\", \"somebody\", \"somehow\", \"someone\", \"somethan\", \"something\", \"sometime\", \"sometimes\", \"somewhat\", \"somewhere\", \"soon\", \"sorry\", \"sp\", \"specifically\", \"specified\", \"specify\", \"specifying\", \"sq\", \"sr\", \"ss\", \"st\", \"still\", \"stop\", \"strongly\", \"sub\", \"substantially\", \"successfully\", \"such\", \"sufficiently\", \"suggest\", \"sup\", \"sure\", \"sy\", \"system\", \"sz\", \"t\", \"t1\", \"t2\", \"t3\", \"take\", \"taken\", \"taking\", \"tb\", \"tc\", \"td\", \"te\", \"tell\", \"ten\", \"tends\", \"tf\", \"th\", \"than\", \"thank\", \"thanks\", \"thanx\", \"that\", \"that'll\", \"thats\", \"that's\", \"that've\", \"the\", \"their\", \"theirs\", \"them\", \"themselves\", \"then\", \"thence\", \"there\", \"thereafter\", \"thereby\", \"thered\", \"therefore\", \"therein\", \"there'll\", \"thereof\", \"therere\", \"theres\", \"there's\", \"thereto\", \"thereupon\", \"there've\", \"these\", \"they\", \"theyd\", \"they'd\", \"they'll\", \"theyre\", \"they're\", \"they've\", \"thickv\", \"thin\", \"think\", \"third\", \"this\", \"thorough\", \"thoroughly\", \"those\", \"thou\", \"though\", \"thoughh\", \"thousand\", \"three\", \"throug\", \"through\", \"throughout\", \"thru\", \"thus\", \"ti\", \"til\", \"tip\", \"tj\", \"tl\", \"tm\", \"tn\", \"to\", \"together\", \"too\", \"took\", \"top\", \"toward\", \"towards\", \"tp\", \"tq\", \"tr\", \"tried\", \"tries\", \"truly\", \"try\", \"trying\", \"ts\", \"t's\", \"tt\", \"tv\", \"twelve\", \"twenty\", \"twice\", \"two\", \"tx\", \"u\", \"u201d\", \"ue\", \"ui\", \"uj\", \"uk\", \"um\", \"un\", \"under\", \"unfortunately\", \"unless\", \"unlike\", \"unlikely\", \"until\", \"unto\", \"uo\", \"up\", \"upon\", \"ups\", \"ur\", \"us\", \"use\", \"used\", \"useful\", \"usefully\", \"usefulness\", \"uses\", \"using\", \"usually\", \"ut\", \"v\", \"va\", \"value\", \"various\", \"vd\", \"ve\", \"ve\", \"very\", \"via\", \"viz\", \"vj\", \"vo\", \"vol\", \"vols\", \"volumtype\", \"vq\", \"vs\", \"vt\", \"vu\", \"w\", \"wa\", \"want\", \"wants\", \"was\", \"wasn\", \"wasnt\", \"wasn't\", \"way\", \"we\", \"wed\", \"we'd\", \"welcome\", \"well\", \"we'll\", \"well-b\", \"went\", \"were\", \"we're\", \"weren\", \"werent\", \"weren't\", \"we've\", \"what\", \"whatever\", \"what'll\", \"whats\", \"what's\", \"when\", \"whence\", \"whenever\", \"when's\", \"where\", \"whereafter\", \"whereas\", \"whereby\", \"wherein\", \"wheres\", \"where's\", \"whereupon\", \"wherever\", \"whether\", \"which\", \"while\", \"whim\", \"whither\", \"who\", \"whod\", \"whoever\", \"whole\", \"who'll\", \"whom\", \"whomever\", \"whos\", \"who's\", \"whose\", \"why\", \"why's\", \"wi\", \"widely\", \"will\", \"willing\", \"wish\", \"with\", \"within\", \"without\", \"wo\", \"won\", \"wonder\", \"wont\", \"won't\", \"words\", \"world\", \"would\", \"wouldn\", \"wouldnt\", \"wouldn't\", \"www\", \"x\", \"x1\", \"x2\", \"x3\", \"xf\", \"xi\", \"xj\", \"xk\", \"xl\", \"xn\", \"xo\", \"xs\", \"xt\", \"xv\", \"xx\", \"y\", \"y2\", \"yes\", \"yet\", \"yj\", \"yl\", \"you\", \"youd\", \"you'd\", \"you'll\", \"your\", \"youre\", \"you're\", \"yours\", \"yourself\", \"yourselves\", \"you've\", \"yr\", \"ys\", \"yt\", \"z\", \"zero\", \"zi\", \"zz\"])\n"
      ],
      "execution_count": 0,
      "outputs": []
    },
    {
      "cell_type": "code",
      "metadata": {
        "id": "OQGQ-K-BVCXw",
        "colab_type": "code",
        "colab": {}
      },
      "source": [
        "stop_words.extend([\"0\", \"1\", \"2\", \"3\", \"4\", \"5\", \"6\", \"7\", \"8\", \"9\", \"a\", \"aaron\", \"abbey\",\n",
        "                   \"abbie\", \"abdul\", \"abe\", \"across\", \"abel\", \"abigail\", \"about\", \"above\", \n",
        "                   \"abraham\", \"abram\", \"abst\", \"accordance\", \"according\", \"act\", \"actually\", \n",
        "                   \"ada\", \"adah\", \"adalberto\", \"adaline\", \"adam\", \"adan\", \"added\", \"among\", \n",
        "                   \"addie\", \"adela\", \"adelaida\", \"adelaide\", \"adele\", \"adelia\", \"adelina\", \n",
        "                   \"adeline\", \"adell\", \"adella\", \"adelle\", \"adena\", \"adina\", \"adj\", \"adolfo\", \n",
        "                   \"adolph\", \"adopted\", \"adria\", \"adrian\", \"adriana\", \"adriane\", \"adrianna\", \n",
        "                   \"adrien\", \"adrienne\", \"after\", \"afterwards\", \"afton\", \"again\", \"against\", \n",
        "                   \"agatha\", \"agnes\", \"agnus\", \"agueda\", \"agustina\", \"ahmad\", \"ahmed\", \"ai\",\n",
        "                   \"aida\", \"besides\", \"aide\", \"aiko\", \"aileen\", \"ailene\", \"aimee\", \"aja\", \"akilah\", \"al\", \"alaina\", \"alaine\", \"alan\", \"alana\", \"alane\", \"alanna\", \"alayna\", \"alba\", \"albert\", \"alberta\", \"albertha\", \"albertina\", \"albertine\", \"alberto\", \"albina\", \"alda\", \"alden\", \"aldo\", \"alease\", \"alec\", \"alecia\", \"e\", \"aleen\", \"aleisha\", \"eg\", \"alejandra\", \"alejandrina\", \"alejandro\", \"alena\", \"elsewhere\", \"alene\", \"alesha\", \"aleshia\", \"alesia\", \"alessandra\", \"aleta\", \"aletha\", \"everywhere\", \"alethea\", \"alethia\", \"alex\", \"alexander\", \"alexandria\", \"alexia\", \"alexis\", \"alfonso\", \"alfonzo\", \"alfred\", \"alfreda\", \"alfredia\", \"alfredo\", \"ali\", \"alia\", \"alica\", \"alice\", \"alicia\", \"alida\", \"alina\", \"alisa\", \"alise\", \"had\", \"alisha\", \"alishia\", \"alisia\", \"alison\", \"alissa\", \"alita\", \"alix\", \"aliza\", \"all\", \"alla\", \"allan\", \"alleen\", \"allegra\", \"allen\", \"allena\", \"allene\", \"allie\", \"alline\", \"allison\", \"allyn\", \"allyson\", \"alma\", \"hop\", \"almeda\", \"almeta\", \"almost\", \"alona\", \"alone\", \"along\", \"alonso\", \"alonzo\", \"alpha\", \"alphonse\", \"alphonso\", \"already\", \"also\", \"alta\", \"altagracia\", \"altha\", \"althea\", \"although\", \"alton\", \"alva\", \"alvaro\", \"alvera\", \"alverta\", \"alvin\", \"alvina\", \"always\", \"alyce\", \"alycia\", \"alysa\", \"alyse\", \"alysha\", \"alysia\", \"alyson\", \"alyssa\", \"am\", \"amado\", \"amal\", \"amalia\", \"amanda\", \"amber\", \"amberly\", \"ambrose\", \"amee\", \"amelia\", \"long\", \"america\", \"m\", \"ami\", \"amie\", \"amiee\", \"amina\", \"may\", \"amira\", \"ammie\", \"amongst\", \"amos\", \"might\", \"amparo\", \"amy\", \"an\", \"ana\", \"anabel\", \"anamaria\", \"anastacia\", \"anastasia\", \"and\", \"andera\", \"anderson\", \"andra\", \"andre\", \"na\", \"andrea\", \"andreas\", \"andres\", \"andrew\", \"andria\", \"andy\", \"anette\", \"angel\", \"angela\", \"angele\", \"angelena\", \"angeles\", \"angelia\", \"angelic\", \"angelica\", \"angelina\", \"angeline\", \"angelique\", \"angelita\", \"angella\", \"angelo\", \"angelyn\", \"angie\", \"angila\", \"angla\", \"angle\", \"anglea\", \"anh\", \"anibal\", \"anika\", \"anisha\", \"anissa\", \"anita\", \"anitra\", \"anjanette\", \"anjelica\", \"ann\", \"anna\", \"annabel\", \"annabell\", \"annabelle\", \"overall\", \"annalee\", \"annalisa\", \"annamae\", \"annamaria\", \"annamarie\", \"anne\", \"anneliese\", \"annelle\", \"annemarie\", \"put\", \"annetta\", \"annice\", \"annie\", \"rather\", \"annika\", \"annis\", \"annmarie\", \"announce\", \"another\", \"answered\", \"anthony\", \"antione\", \"antionette\", \"antoine\", \"anton\", \"antone\", \"antonetta\", \"antonette\", \"antonia\", \"antonietta\", \"antonina\", \"antonio\", \"antony\", \"antwan\", \"any\", \"anya\", \"anyhow\", \"anyone\", \"anything\", \"anywhere\", \"apolonia\", \"april\", \"apryl\", \"ara\", \"should\", \"araceli\", \"aracelis\", \"aracely\", \"arcelia\", \"archie\", \"ardath\", \"ardelia\", \"ardell\", \"ardella\", \"ardelle\", \"arden\", \"ardis\", \"ardith\", \"are\", \"aren\", \"arent\", \"aretha\", \"argelia\", \"argentina\", \"ariana\", \"arianna\", \"arianne\", \"arica\", \"arie\", \"ariel\", \"arielle\", \"arla\", \"arlean\", \"arleen\", \"arlen\", \"there\", \"arlena\", \"arlene\", \"arletha\", \"arletta\", \"arlette\", \"arlie\", \"arlinda\", \"arline\", \"arlyne\", \"armand\", \"armanda\", \"they\", \"armandina\", \"armando\", \"armida\", \"arminda\", \"arnetta\", \"arnette\", \"arnita\", \"arnold\", \"arnoldo\", \"arnulfo\", \"around\", \"arron\", \"three\", \"art\", \"arthur\", \"artie\", \"arturo\", \"arvilla\", \"as\", \"asa\", \"asha\", \"ashanti\", \"ashely\", \"ashlea\", \"toward\", \"ashlee\", \"ashleigh\", \"ashley\", \"ashli\", \"ashlie\", \"ashly\", \"ashlyn\", \"asia\", \"ask\", \"unlikely\", \"asked\", \"asley\", \"assunta\", \"astrid\", \"ups\", \"at\", \"athena\", \"aubrey\", \"audie\", \"audra\", \"audrea\", \"audrey\", \"audria\", \"audrie\", \"audry\", \"august\", \"augusta\", \"augustina\", \"augustine\", \"augustus\", \"aundrea\", \"aura\", \"aurea\", \"aurelia\", \"aurelio\", \"aurora\", \"aurore\", \"austin\", \"auth\", \"autumn\", \"ava\", \"available\", \"avelina\", \"avery\", \"avis\", \"avril\", \"awilda\", \"ayako\", \"ayana\", \"ayanna\", \"ayesha\", \"azalee\", \"azucena\", \"azzie\", \"b\", \"babara\", \"babette\", \"back\", \"bailey\", \"bambi\", \"bao\", \"barabara\", \"barb\", \"barbara\", \"barbera\", \"barbie\", \"barbra\", \"bari\", \"barney\", \"barrett\", \"barrie\", \"bart\", \"basil\", \"would\", \"basilia\", \"be\", \"bea\", \"beata\", \"beatrice\", \"beatris\", \"beatriz\", \"beau\", \"beaulah\", \"bebe\", \"became\", \"because\", \"becki\", \"becky\", \"become\", \"becomes\", \"becoming\", \"bee\", \"abby\", \"been\", \"before\", \"beforehand\", \"begin\", \"beginning\", \"behind\", \"being\", \"belen\", \"belia\", \"belinda\", \"belkis\", \"bell\", \"bella\", \"belle\", \"below\", \"ben\", \"benedict\", \"benita\", \"benito\", \"benjamin\", \"bennett\", \"benny\", \"benton\", \"berenice\", \"berna\", \"bernadette\", \"bernadine\", \"bernard\", \"bernarda\", \"bernardina\", \"bernardine\", \"bernardo\", \"adrianne\", \"berneice\", \"adriene\", \"bernice\", \"bernie\", \"berniece\", \"bernita\", \"bert\", \"agripina\", \"berta\", \"agustin\", \"bertha\", \"bertie\", \"bertram\", \"beryl\", \"beside\", \"bess\", \"bessie\", \"best\", \"beth\", \"bethanie\", \"aisha\", \"bethann\", \"akiko\", \"bethany\", \"bethel\", \"betsey\", \"bette\", \"better\", \"bettie\", \"bettina\", \"betty\", \"bettyann\", \"bettye\", \"between\", \"beula\", \"beulah\", \"bev\", \"beverlee\", \"beverley\", \"beverly\", \"beyond\", \"bianca\", \"bibi\", \"bill\", \"billie\", \"billy\", \"billye\", \"aleida\", \"birdie\", \"birgit\", \"blaine\", \"blair\", \"blake\", \"blanca\", \"blanch\", \"blanche\", \"blondell\", \"blossom\", \"blythe\", \"bo\", \"bobbi\", \"bobbie\", \"bobbye\", \"alexa\", \"bok\", \"alexandra\", \"bong\", \"bonita\", \"bonnie\", \"bonny\", \"booker\", \"boris\", \"both\", \"boyce\", \"boyd\", \"brad\", \"bradford\", \"bradley\", \"bradly\", \"brady\", \"brain\", \"branda\", \"aline\", \"brande\", \"brandee\", \"branden\", \"brandi\", \"brandon\", \"brandy\", \"brant\", \"breana\", \"breann\", \"breanna\", \"breanne\", \"bree\", \"brenda\", \"brendan\", \"brendon\", \"brenna\", \"brent\", \"brenton\", \"bret\", \"brett\", \"brian\", \"briana\", \"brianne\", \"brice\", \"bridget\", \"bridgett\", \"bridgette\", \"brigette\", \"brigid\", \"brigida\", \"brigitte\", \"brinda\", \"britany\", \"britney\", \"britni\", \"britt\", \"britta\", \"brittaney\", \"brittani\", \"brittanie\", \"britteny\", \"brittni\", \"brittny\", \"brock\", \"broderick\", \"bronwyn\", \"brook\", \"brooke\", \"brooks\", \"bruce\", \"amada\", \"bruna\", \"brunilda\", \"bruno\", \"bryan\", \"bryanna\", \"bryant\", \"bryce\", \"brynn\", \"bryon\", \"bud\", \"buddy\", \"buena\", \"buffy\", \"buford\", \"bula\", \"bunny\", \"burl\", \"burma\", \"burt\", \"burton\", \"buster\", \"but\", \"analisa\", \"by\", \"byron\", \"c\", \"ca\", \"caitlin\", \"caitlyn\", \"calandra\", \"caleb\", \"calista\", \"andree\", \"callie\", \"calvin\", \"camelia\", \"camellia\", \"cameron\", \"camie\", \"camila\", \"camilla\", \"camille\", \"cammy\", \"can\", \"candace\", \"candance\", \"angelika\", \"candelaria\", \"candi\", \"candice\", \"candida\", \"candis\", \"candy\", \"candyce\", \"cannot\", \"cant\", \"caprice\", \"caption\", \"cara\", \"caren\", \"carey\", \"cari\", \"anisa\", \"caridad\", \"carie\", \"carina\", \"carisa\", \"anja\", \"carissa\", \"carita\", \"carl\", \"carla\", \"carlee\", \"carleen\", \"carlena\", \"carlene\", \"carletta\", \"carley\", \"carli\", \"carline\", \"carlita\", \"carlo\", \"carlos\", \"carlota\", \"annett\", \"carlotta\", \"annette\", \"carlton\", \"carly\", \"carlyn\", \"carma\", \"annita\", \"carman\", \"carmel\", \"carmela\", \"carmelia\", \"carmelina\", \"antoinette\", \"carmelita\", \"carmella\", \"carmelo\", \"carmen\", \"carmina\", \"carmine\", \"carmon\", \"carol\", \"carola\", \"carolann\", \"carole\", \"carolee\", \"carolin\", \"caroline\", \"caroll\", \"carolyn\", \"carolyne\", \"carolynn\", \"caron\", \"caroyln\", \"carri\", \"carrie\", \"carrol\", \"carry\", \"carson\", \"cary\", \"caryl\", \"carylon\", \"caryn\", \"casandra\", \"casey\", \"casie\", \"ariane\", \"casimira\", \"cassandra\", \"cassaundra\", \"cassey\", \"cassidy\", \"cassie\", \"cassondra\", \"cassy\", \"catalina\", \"catarina\", \"caterina\", \"catharine\", \"catherin\", \"catherina\", \"catherine\", \"cathern\", \"catheryn\", \"cathey\", \"cathi\", \"cathie\", \"cathleen\", \"cathrine\", \"cathryn\", \"cathy\", \"catina\", \"catrice\", \"catrina\", \"cayla\", \"cecil\", \"cecila\", \"cecile\", \"aron\", \"cecilia\", \"cecille\", \"cecily\", \"cedric\", \"cedrick\", \"celena\", \"celesta\", \"celeste\", \"celestina\", \"celestine\", \"celia\", \"celina\", \"celinda\", \"celine\", \"celsa\", \"ceola\", \"cesar\", \"chad\", \"ashton\", \"chadwick\", \"chae\", \"chan\", \"chana\", \"asuncion\", \"chance\", \"chanda\", \"chandra\", \"chanel\", \"chanell\", \"chanelle\", \"chang\", \"chantal\", \"chantay\", \"chante\", \"chantel\", \"chantell\", \"chantelle\", \"chapter\", \"chara\", \"charis\", \"charise\", \"charissa\", \"charisse\", \"charita\", \"charity\", \"charla\", \"charlena\", \"charlene\", \"charles\", \"charlesetta\", \"charlette\", \"charley\", \"charlie\", \"charline\", \"charlott\", \"charlotte\", \"charlsie\", \"charlyn\", \"charmaine\", \"charolette\", \"chase\", \"chasidy\", \"chasity\", \"chastity\", \"chau\", \"chauncey\", \"chaya\", \"barbar\", \"chelsea\", \"chelsey\", \"chelsie\", \"cher\", \"chere\", \"cheree\", \"cherelle\", \"cheri\", \"barry\", \"cherie\", \"barton\", \"cherilyn\", \"cherish\", \"cherlyn\", \"cherri\", \"cherrie\", \"cherry\", \"cherryl\", \"chery\", \"cheryl\", \"cheryle\", \"cheryll\", \"beckie\", \"chester\", \"chet\", \"cheyenne\", \"chi\", \"chia\", \"chieko\", \"chin\", \"china\", \"ching\", \"belva\", \"chiquita\", \"chloe\", \"chong\", \"chris\", \"chrissy\", \"christa\", \"bennie\", \"christal\", \"christeen\", \"christel\", \"christen\", \"christene\", \"christi\", \"christia\", \"christian\", \"christiana\", \"christiane\", \"christie\", \"christin\", \"bernetta\", \"christina\", \"christine\", \"christinia\", \"christoper\", \"berry\", \"christopher\", \"christy\", \"chrystal\", \"chu\", \"chuck\", \"chun\", \"chung\", \"cicely\", \"ciera\", \"cierra\", \"cinda\", \"cinderella\", \"cindi\", \"cindy\", \"betsy\", \"cinthia\", \"cira\", \"clair\", \"clara\", \"clare\", \"clarence\", \"claretha\", \"claretta\", \"claribel\", \"clarice\", \"clarine\", \"claris\", \"clarisa\", \"clarissa\", \"clarita\", \"billi\", \"clark\", \"classie\", \"claud\", \"claude\", \"claudette\", \"claudia\", \"claudie\", \"claudine\", \"claudio\", \"clay\", \"clayton\", \"clemencia\", \"clement\", \"clemente\", \"clementina\", \"bob\", \"clementine\", \"clemmie\", \"bobby\", \"cleo\", \"bobette\", \"cleopatra\", \"cleora\", \"cleotilde\", \"cleta\", \"cletus\", \"cleveland\", \"cliff\", \"clifford\", \"clifton\", \"clint\", \"clinton\", \"clora\", \"clorinda\", \"clotilde\", \"clyde\", \"co\", \"codi\", \"cody\", \"colby\", \"coleen\", \"brandie\", \"coleman\", \"colene\", \"coletta\", \"colette\", \"colin\", \"colleen\", \"collen\", \"collene\", \"collette\", \"collin\", \"columbus\", \"come\", \"concepcion\", \"conception\", \"concetta\", \"concha\", \"conchita\", \"connie\", \"brianna\", \"conrad\", \"constance\", \"consuela\", \"consuelo\", \"contessa\", \"cora\", \"coral\", \"coralee\", \"coralie\", \"corazon\", \"cordelia\", \"cordell\", \"cordia\", \"cordie\", \"coreen\", \"corene\", \"coretta\", \"corey\", \"brittany\",\n",
        "                   \"corie\", \"brittney\", \"corina\", \"corine\", \"corinna\", \"corinne\", \"corliss\", \"cornelia\", \"cornelius\", \"cornell\", \"corrie\", \"corrin\", \"corrina\", \"corrine\", \"corrinne\", \"cortez\", \"cortney\", \"could\", \"couldnt\", \"courtney\", \"buck\", \"coy\", \"craig\", \"creola\", \"cried\", \"cris\", \"criselda\", \"bulah\", \"crissy\", \"crista\", \"cristal\", \"cristen\", \"cristi\", \"cristie\", \"cristin\", \"cristina\", \"cristine\", \"cristobal\", \"cristopher\", \"cristy\", \"cruz\", \"crysta\", \"crystal\", \"crystle\", \"cuc\", \"cami\", \"curt\", \"curtis\", \"cyndi\", \"cyndy\", \"cammie\", \"cynthia\", \"cyril\", \"cyrstal\", \"cyrus\", \"cythia\", \"d\", \"dacia\", \"candie\", \"dagmar\", \"candra\", \"dagny\", \"dahlia\", \"daina\", \"daine\", \"daisey\", \"daisy\", \"dakota\", \"dale\", \"dalene\", \"carin\", \"dalia\", \"dalila\", \"dallas\", \"dalton\", \"damaris\", \"damian\", \"damien\", \"damion\", \"damon\", \"dan\", \"dana\", \"danae\", \"dane\", \"carlie\", \"danelle\", \"danette\", \"dani\", \"danial\", \"danica\", \"daniel\", \"daniela\", \"daniele\", \"daniell\", \"daniella\", \"danielle\", \"danika\", \"danille\", \"danilo\", \"danita\", \"dann\", \"danna\", \"dannette\", \"dannie\", \"dannielle\", \"danny\", \"danuta\", \"danyel\", \"danyell\", \"danyelle\", \"daphine\", \"dara\", \"darby\", \"carolina\", \"darcel\", \"darcey\", \"darci\", \"darcie\", \"darcy\", \"darell\", \"daren\", \"daria\", \"darin\", \"dario\", \"carroll\", \"darius\", \"darla\", \"carter\", \"darleen\", \"darlena\", \"darlene\", \"darline\", \"darnell\", \"daron\", \"darrel\", \"darrell\", \"darren\", \"darrick\", \"darrin\", \"cassi\", \"darron\", \"darryl\", \"darwin\", \"daryl\", \"date\", \"dave\", \"david\", \"davida\", \"davina\", \"davis\", \"dawn\", \"dawna\", \"dawne\", \"dayle\", \"dayna\", \"daysi\", \"deadra\", \"dean\", \"deana\", \"deandra\", \"deandre\", \"deandrea\", \"deane\", \"deangelo\", \"cecelia\", \"deann\", \"deanna\", \"deanne\", \"deb\", \"debbi\", \"debbie\", \"debbra\", \"debby\", \"debera\", \"debi\", \"debora\", \"deborah\", \"debra\", \"debrah\", \"debroah\", \"dede\", \"dedra\", \"dee\", \"deeann\", \"deeanna\", \"deedee\", \"deena\", \"deetta\", \"deidra\", \"deidre\", \"deirdre\", \"deja\", \"del\", \"delana\", \"delbert\", \"delcie\", \"delena\", \"delfina\", \"delia\", \"delicia\", \"delila\", \"delilah\", \"delinda\", \"delisa\", \"dell\", \"della\", \"delma\", \"delmar\", \"delmer\", \"delmy\", \"delois\", \"charleen\", \"deloise\", \"delora\", \"deloras\", \"delores\", \"deloris\", \"delorse\", \"delpha\", \"delphia\", \"delphine\", \"delsie\", \"delta\", \"demarcus\", \"charmain\", \"demetra\", \"demetria\", \"chas\", \"demetrice\", \"demetrius\", \"dena\", \"chassidy\", \"denae\", \"deneen\", \"denese\", \"denice\", \"denis\", \"denise\", \"denisha\", \"denita\", \"denna\", \"dennis\", \"dennise\", \"denny\", \"denver\", \"denyse\", \"cherise\", \"deon\", \"cherly\", \"deonna\", \"derek\", \"derick\", \"derrick\", \"deshawn\", \"desirae\", \"desire\", \"desiree\", \"despina\", \"dessie\", \"destiny\", \"detra\", \"devin\", \"devon\", \"devona\", \"devora\", \"devorah\", \"dewayne\", \"dewey\", \"dewitt\", \"dexter\", \"dia\", \"diamond\", \"dian\", \"diana\", \"diane\", \"diann\", \"dianna\", \"christena\", \"dianne\", \"dick\", \"did\", \"didnt\", \"diedra\", \"diedre\", \"diego\", \"dierdre\", \"digna\", \"dillon\", \"dimple\", \"dina\", \"dinah\", \"dino\", \"dinorah\", \"dion\", \"dione\", \"dionna\", \"dionne\", \"ciara\", \"dirk\", \"divina\", \"dixie\", \"do\", \"dodie\", \"does\", \"cindie\", \"doesnt\", \"dollie\", \"dolly\", \"dolores\", \"claire\", \"doloris\", \"domenic\", \"domenica\", \"dominga\", \"domingo\", \"dominic\", \"dominica\", \"clarinda\", \"dominick\", \"dominique\", \"dominque\", \"domitila\", \"domonique\", \"don\", \"dona\", \"donald\", \"donella\", \"donetta\", \"donette\", \"dong\", \"donita\", \"donn\", \"donna\", \"donnell\", \"clelia\", \"donnetta\", \"donnette\", \"donnie\", \"donny\", \"donovan\", \"dont\", \"donte\", \"donya\", \"dora\", \"dorathy\", \"dorcas\", \"doreatha\", \"doreen\", \"dorene\", \"doretha\", \"dorethea\", \"doretta\", \"dori\", \"doria\", \"dorian\", \"dorie\", \"dorinda\", \"dorine\", \"doris\", \"dorla\", \"cole\", \"dorotha\", \"dorothea\", \"dorothy\", \"dorris\", \"dorsey\", \"dortha\", \"dorthea\", \"dorthey\", \"dorthy\", \"dot\", \"dotty\", \"colton\", \"doug\", \"douglas\", \"douglass\", \"dovie\", \"down\", \"doyle\", \"dreama\", \"drew\", \"drucilla\", \"duane\", \"dudley\", \"dulcie\", \"dung\", \"during\", \"dusti\", \"dustin\", \"dusty\", \"dwana\", \"dwayne\", \"dwight\", \"dylan\", \"each\", \"earl\", \"earle\", \"earlean\", \"cori\", \"earleen\", \"earlene\", \"earlie\", \"earline\", \"earnest\", \"earnestine\", \"eartha\", \"easter\", \"eboni\", \"ebonie\", \"ebony\", \"echo\", \"ed\", \"edda\", \"eddie\", \"cory\", \"eddy\", \"edelmira\", \"eden\", \"edgardo\", \"edie\", \"edith\", \"edmond\", \"edmund\", \"edmundo\", \"edna\", \"edra\", \"edris\", \"eduardo\", \"edward\", \"edwardo\", \"edwin\", \"edyth\", \"edythe\", \"effie\", \"efrain\", \"efren\", \"ehtel\", \"eight\", \"eighty\", \"eilene\", \"either\", \"ela\", \"eladia\", \"elaina\", \"elaine\", \"elana\", \"elane\", \"elanor\", \"elayne\", \"elba\", \"elda\", \"elden\", \"eldon\", \"eldora\", \"eldridge\", \"eleanor\", \"eleanora\", \"eleanore\", \"elease\", \"elena\", \"elene\", \"eleni\", \"elenor\", \"elenora\", \"eleonor\", \"eleonora\", \"eleonore\", \"elfreda\", \"elfrieda\", \"elfriede\", \"eli\", \"elia\", \"eliana\", \"elias\", \"dania\", \"elicia\", \"elida\", \"elidia\", \"elijah\", \"elina\", \"elinor\", \"elinore\", \"elisa\", \"elisabeth\", \"elise\", \"eliseo\", \"elisha\", \"elissa\", \"eliz\", \"eliza\", \"elizabeth\", \"elizbeth\", \"elizebeth\", \"dante\", \"elke\", \"ella\", \"ellamae\", \"ellan\", \"ellen\", \"daphne\", \"ellena\", \"elli\", \"ellie\", \"elliot\", \"elliott\", \"ellis\", \"ellsworth\", \"elly\", \"ellyn\", \"elma\", \"elmer\", \"elmira\", \"elmo\", \"elna\", \"elnora\", \"elodia\", \"elois\", \"eloisa\", \"eloise\", \"elouise\", \"eloy\", \"elroy\", \"elsa\", \"else\", \"elsie\", \"elsy\", \"elton\", \"elva\", \"elvera\", \"elvia\", \"elvie\", \"elvina\", \"elvira\", \"elvis\", \"elwanda\", \"elwood\", \"elyse\", \"elza\", \"ema\", \"emanuel\", \"emelda\", \"emelia\", \"emelina\", \"emeline\", \"emely\", \"emerald\", \"emerita\", \"emerson\", \"emery\", \"emiko\", \"emil\", \"emile\", \"emilee\", \"emilia\", \"emilie\", \"emilio\", \"emily\", \"emma\", \"emmaline\", \"emmanuel\", \"emmie\", \"emmitt\", \"emmy\", \"emogene\", \"emory\", \"ena\", \"enda\", \"enedina\", \"deedra\", \"enid\", \"enoch\", \"enola\", \"enough\", \"enrique\", \"enriqueta\", \"epifania\", \"delaine\", \"era\", \"erasmo\", \"eric\", \"erica\", \"erich\", \"erick\", \"ericka\", \"erik\", \"erika\", \"erin\", \"erinn\", \"erlene\", \"erlinda\", \"erline\", \"erma\", \"ermelinda\", \"erminia\", \"erna\", \"ernest\", \"ernestina\", \"ernestine\", \"ernesto\", \"ernie\", \"errol\", \"ervin\", \"erwin\", \"eryn\", \"esmeralda\", \"esperanza\", \"essie\", \"esteban\", \"estefana\", \"estela\", \"estell\", \"estella\", \"estelle\", \"ester\", \"esther\", \"estrella\", \"etc\", \"etha\", \"ethan\", \"denisse\", \"ethel\", \"ethelene\", \"ethelyn\", \"ethyl\", \"etsuko\", \"etta\", \"ettie\", \"eufemia\", \"eugena\", \"eugene\", \"eugenia\", \"eugenie\", \"eugenio\", \"eula\", \"eulah\", \"eulalia\", \"desmond\", \"eun\", \"euna\", \"eunice\", \"eura\", \"eusebia\", \"eusebio\", \"eustolia\", \"evalyn\", \"evan\", \"evangelina\", \"evangeline\", \"eve\", \"evelia\", \"evelin\", \"evelina\", \"eveline\", \"evelyn\", \"evelyne\", \"evelynn\", \"even\", \"ever\", \"everett\", \"everette\", \"every\", \"everyone\", \"everything\", \"evette\", \"evia\", \"evie\", \"evita\", \"evon\", \"evonne\", \"ewa\", \"except\", \"exie\", \"ezekiel\", \"ezequiel\", \"ezra\", \"f\", \"fabian\", \"fabiola\", \"fae\", \"fairy\", \"faith\", \"fallon\", \"fannie\", \"fanny\", \"far\", \"farah\", \"farrah\", \"fatima\", \"fatimah\", \"faustina\", \"faustino\", \"fausto\", \"fawn\", \"fay\", \"faye\", \"fe\", \"felecia\", \"felica\", \"felice\", \"felicia\", \"felicidad\", \"felicita\", \"felicitas\", \"felipa\", \"felipe\", \"felisa\", \"felisha\", \"felix\", \"felton\", \"ferdinand\", \"fermin\", \"fermina\", \"fern\", \"fernanda\", \"fernande\", \"fernando\", \"ferne\", \"few\", \"fidel\", \"fidela\", \"fidelia\", \"fifty\", \"filiberto\", \"filomena\", \"fiona\", \"first\", \"five\", \"flavia\", \"fleta\", \"fletcher\", \"flo\", \"flor\", \"flora\", \"florance\", \"florence\", \"florencia\", \"florencio\", \"florene\", \"dottie\", \"florentina\", \"florentino\", \"floretta\", \"floria\", \"florida\", \"florinda\", \"florine\", \"drema\", \"florrie\", \"flossie\", \"drusilla\", \"floy\", \"floyd\", \"dulce\", \"fonda\", \"duncan\", \"for\", \"forest\", \"former\", \"formerly\", \"dwain\", \"forrest\", \"forty\", \"foster\", \"dyan\", \"found\", \"four\", \"fran\", \"france\", \"francene\", \"frances\", \"francesca\", \"francesco\", \"franchesca\", \"francie\", \"francina\", \"francine\", \"francis\", \"francisca\", \"francisco\", \"francoise\", \"frank\", \"eda\", \"frankie\", \"franklyn\", \"fransisca\", \"fred\", \"freda\", \"edgar\", \"fredda\", \"freddie\", \"edison\", \"freddy\", \"frederic\", \"frederica\", \"frederick\", \"fredericka\", \"fredia\", \"fredric\", \"fredrick\", \"fredricka\", \"freeda\", \"freeman\", \"edwina\", \"freida\", \"frida\", \"frieda\", \"fritz\", \"from\", \"fumiko\", \"eileen\", \"further\", \"g\", \"gabriel\", \"gabriela\", \"gabriele\", \"gabriella\", \"gabrielle\", \"gail\", \"gala\", \"gale\", \"elbert\", \"galen\", \"galina\", \"garfield\", \"garland\", \"garnet\", \"garnett\", \"garret\", \"garrett\", \"garry\", \"gary\", \"gaston\", \"gavin\", \"gay\", \"gaye\", \"elenore\", \"gayla\", \"gayle\", \"gaylene\", \"gaylord\", \"gaynell\", \"gearldine\", \"gema\", \"gemma\", \"gena\", \"gene\", \"genesis\", \"geneva\", \"genevie\", \"genevieve\", \"elin\", \"genevive\", \"genia\", \"genie\", \"genna\", \"gennie\", \"genny\", \"genoveva\", \"geoffrey\", \"georgann\", \"george\", \"georgeann\", \"elizabet\", \"georgeanna\", \"georgene\", \"georgetta\", \"georgette\", \"georgia\", \"georgiana\", \"georgiann\", \"georgianne\", \"georgina\", \"georgine\", \"gerald\", \"geraldine\", \"geraldo\", \"geralyn\", \"gerard\", \"gerardo\", \"gerda\", \"geri\", \"german\", \"gerri\", \"gerry\", \"gertie\", \"gertrude\", \"gertrudis\", \"get\", \"ghislaine\", \"gia\", \"gianna\", \"gidget\", \"gigi\", \"gilbert\", \"gilberte\", \"gilberto\", \"gilda\", \"gillian\", \"gilma\", \"gina\", \"ginette\", \"ginger\", \"elvin\", \"ginny\", \"gino\", \"giovanna\", \"giovanni\", \"gisela\", \"gisele\", \"giselle\", \"gita\", \"giuseppe\", \"giuseppina\", \"gladis\", \"glady\", \"gladys\", \"glayds\", \"glen\", \"glenda\", \"glendora\", \"glenn\", \"glenna\", \"glennie\", \"glennis\", \"glinda\", \"gloria\", \"glory\", \"glynda\", \"glynis\", \"go\", \"golda\", \"golden\", \"emmett\", \"goldie\", \"gonzalo\", \"good\", \"gordon\", \"got\", \"grace\", \"gracia\", \"gracie\", \"eneida\", \"graciela\", \"grady\", \"graham\", \"grant\", \"granville\", \"grayce\", \"grazyna\", \"great\", \"gregg\", \"gregoria\", \"gregorio\", \"gregory\", \"greta\", \"gretchen\", \"gretta\", \"gricelda\", \"grisel\", \"griselda\", \"guadalupe\", \"gudrun\", \"guillermina\", \"guillermo\", \"gus\", \"gussie\", \"gustavo\", \"guy\", \"gwen\", \"gwenda\", \"gwendolyn\", \"gwenn\", \"gwyn\", \"gwyneth\", \"h\", \"ha\", \"hae\", \"hai\", \"esta\", \"hailey\", \"hal\", \"haley\", \"halina\", \"halley\", \"hallie\", \"han\", \"hang\", \"hanh\", \"hank\", \"hanna\", \"hannah\", \"hannelore\", \"hans\", \"harlan\", \"harland\", \"harley\", \"harmony\", \"harold\", \"harriet\", \"harriett\",\n",
        "                   \"harriette\", \"harris\", \"harrison\", \"harry\", \"harvey\", \"has\", \"hasnt\", \"hassan\", \"hassie\", \"hattie\", \"have\", \"havent\", \"haydee\", \"eva\", \"hayden\", \"hayley\", \"haywood\", \"hazel\", \"he\", \"heath\", \"heather\", \"hector\", \"hed\", \"hedwig\", \"hedy\", \"heide\", \"heidi\", \"heidy\", \"heike\", \"helaine\", \"helen\", \"helena\", \"helene\", \"helga\", \"hellen\", \"hence\", \"henrietta\", \"henriette\", \"henry\", \"her\", \"herb\", \"herbert\", \"here\", \"hereafter\", \"hereby\", \"herein\", \"heres\", \"hereupon\", \"herlinda\", \"herma\", \"herman\", \"hermelinda\", \"hermina\", \"hermine\", \"faviola\", \"herminia\", \"hers\", \"herschel\", \"herself\", \"federico\", \"hershel\", \"hertha\", \"hes\", \"hester\", \"hettie\", \"hid\", \"hien\", \"hilaria\", \"hilario\", \"hilary\", \"hilda\", \"hildegard\", \"hildred\", \"hillary\", \"hilma\", \"hilton\", \"him\", \"himself\", \"hipolito\", \"hiroko\", \"his\", \"hoa\", \"hobert\", \"holley\", \"holli\", \"hollie\", \"holly\", \"home\", \"homer\", \"honey\", \"hong\", \"hope\", \"horace\", \"horacio\", \"hortencia\", \"hortense\", \"hortensia\", \"hosea\", \"houston\", \"how\", \"howard\", \"however\", \"hoyt\", \"hubert\", \"huey\", \"hugh\", \"hui\", \"hulda\", \"humberto\", \"hundred\", \"hung\", \"hunter\", \"huong\", \"hwa\", \"hye\", \"hyman\", \"hyo\", \"hyon\", \"i\", \"ian\", \"id\", \"ida\", \"idalia\", \"idell\", \"idella\", \"ie\", \"iesha\", \"if\", \"ignacio\", \"franklin\", \"ike\", \"ilana\", \"ileana\", \"ileen\", \"ilene\", \"iliana\", \"ill\", \"illa\", \"ilona\", \"ilse\", \"iluminada\", \"im\", \"ima\", \"imelda\", \"imogene\", \"in\", \"inc\", \"include\", \"includes\", \"indeed\", \"index\", \"india\", \"indira\", \"inell\", \"ines\", \"inez\", \"information\", \"inga\", \"inge\", \"ingeborg\", \"inger\", \"ingrid\", \"inocencia\", \"instead\", \"internet\", \"into\", \"iola\", \"iona\", \"garth\", \"ione\", \"iraida\", \"irena\", \"irene\", \"iris\", \"irish\", \"irma\", \"irmgard\", \"irvin\", \"irving\", \"gaynelle\", \"is\", \"isa\", \"isaac\", \"isabel\", \"genaro\", \"isabell\", \"isabella\", \"isadora\", \"isaiah\", \"isaias\", \"isaura\", \"isela\", \"isiah\", \"isidra\", \"isidro\", \"isis\", \"ismael\", \"isnt\", \"isobel\", \"israel\", \"isreal\", \"issac\", \"it\", \"its\", \"itself\", \"ivan\", \"ivana\", \"ive\", \"georgianna\", \"ivelisse\", \"georgie\", \"ivey\", \"ivonne\", \"ivory\", \"ivy\", \"izetta\", \"izola\", \"j\", \"ja\", \"jacalyn\", \"jacelyn\", \"germaine\", \"jacinda\", \"jacinta\", \"jacinto\", \"gertha\", \"jackeline\", \"gertrud\", \"jackelyn\", \"jacki\", \"gertude\", \"jackie\", \"jacklyn\", \"jackqueline\", \"jackson\", \"jaclyn\", \"gil\", \"jacob\", \"jacqualine\", \"jacque\", \"jacquelin\", \"jacqueline\", \"jacquelyne\", \"jacquelynn\", \"jacques\", \"jacquetta\", \"jacqui\", \"jacquie\", \"jacquiline\", \"jacquline\", \"jacqulyn\", \"jada\", \"jadwiga\", \"jae\", \"jaime\", \"jaimee\", \"jaimie\", \"jake\", \"jaleesa\", \"jalisa\", \"jama\", \"jamaal\", \"jamal\", \"jamar\", \"jame\", \"jamee\", \"jamel\", \"james\", \"jamey\", \"jami\", \"jamie\", \"jamika\", \"jamila\", \"jamison\", \"jammie\", \"jan\", \"jana\", \"janae\", \"janay\", \"jane\", \"janean\", \"janee\", \"janeen\", \"graig\", \"janel\", \"janell\", \"janella\", \"janelle\", \"greg\", \"janene\", \"janessa\", \"janet\", \"janeth\", \"janett\", \"janetta\", \"janette\", \"janey\", \"jani\", \"janice\", \"grover\", \"janie\", \"janina\", \"janine\", \"janis\", \"janise\", \"janita\", \"jann\", \"janna\", \"jannet\", \"jannette\", \"jannie\", \"january\", \"janyce\", \"jaqueline\", \"jaquelyn\", \"jared\", \"jarod\", \"jarred\", \"jarrett\", \"jarrod\", \"jarvis\", \"jasmin\", \"jason\", \"jasper\", \"hana\", \"jaunita\", \"javier\", \"jay\", \"jaye\", \"jayme\", \"jaymie\", \"jayna\", \"jayne\", \"jayson\", \"jazmin\", \"jazmine\", \"jc\", \"jean\", \"jeana\", \"jeane\", \"jeanelle\", \"jeanene\", \"jeanett\", \"jeanetta\", \"jeanette\", \"jeanice\", \"jeanie\", \"jeanine\", \"jeanmarie\", \"jeanna\", \"jeanne\", \"jeannetta\", \"jeannette\", \"jeannie\", \"jeannine\", \"jed\", \"jeff\", \"hee\", \"jefferey\", \"jefferson\", \"jeffery\", \"jeffie\", \"jeffrey\", \"jeffry\", \"jen\", \"jena\", \"jenae\", \"jene\", \"jenee\", \"jenell\", \"jenelle\", \"jenette\", \"jeneva\", \"heriberto\", \"jeni\", \"jenice\", \"jenifer\", \"jeniffer\", \"hermila\", \"jenine\", \"jenise\", \"jenna\", \"jennefer\", \"jennell\", \"herta\", \"jennette\", \"jenni\", \"jennie\", \"hiedi\", \"jennifer\", \"jenniffer\", \"jennine\", \"jerald\", \"jeraldine\", \"hilde\", \"jeramy\", \"hildegarde\", \"jere\", \"jeremiah\", \"jeri\", \"jerica\", \"jerilyn\", \"hiram\", \"jermaine\", \"hisako\", \"jerold\", \"jerome\", \"jeromy\", \"jerrell\", \"jerri\", \"hollis\", \"jerrica\", \"jerrie\", \"jerrod\", \"jerrold\", \"jerry\", \"jesica\", \"jess\", \"jesse\", \"jessenia\", \"jessi\", \"jessia\", \"jessica\", \"jessika\", \"jestine\", \"hsiu\", \"jesus\", \"hue\", \"jesusa\", \"jesusita\", \"hugo\", \"jetta\", \"jettie\", \"jewel\", \"jewell\", \"ji\", \"jill\", \"jillian\", \"hyacinth\", \"jim\", \"jimmie\", \"jin\", \"jina\", \"hyun\", \"jinny\", \"jo\", \"joan\", \"joana\", \"joane\", \"joann\", \"ignacia\", \"joanna\", \"joanne\", \"ila\", \"joannie\", \"ilda\", \"joaquin\", \"joaquina\", \"jocelyn\", \"jodee\", \"jodi\", \"jodie\", \"jody\", \"joeann\", \"joel\", \"joella\", \"joelle\", \"joellen\", \"ina\", \"joesph\", \"joetta\", \"joette\", \"joey\", \"johana\", \"johanna\", \"johanne\", \"john\", \"johna\", \"johnathan\", \"johnathon\", \"johnetta\", \"johnie\", \"johnna\", \"ira\", \"johnnie\", \"johnny\", \"johnsie\", \"irina\", \"johnson\", \"joi\", \"joie\", \"jolanda\", \"joleen\", \"jolene\", \"irwin\", \"jolie\", \"joline\", \"jolyn\", \"jolynn\", \"jon\", \"isabelle\", \"jona\", \"jonah\", \"jonas\", \"jonathon\", \"jone\", \"jonell\", \"jonelle\", \"jong\", \"joni\", \"jonie\", \"jonna\", \"jonnie\", \"jordan\", \"jordon\", \"iva\", \"jorge\", \"jose\", \"josef\", \"ivette\", \"josefa\", \"josefina\", \"josefine\", \"joselyn\", \"joseph\", \"josephina\", \"josephine\", \"josette\", \"josh\", \"joshua\", \"josiah\", \"josie\", \"jack\", \"joslyn\", \"jospeh\", \"josphine\", \"josue\", \"jovan\", \"joy\", \"joya\", \"joyce\", \"joycelyn\", \"joye\", \"juan\", \"juana\", \"juanita\", \"jacquelyn\", \"jude\", \"judi\", \"judie\", \"judith\", \"judson\", \"judy\", \"julee\", \"julene\", \"jules\", \"juli\", \"jade\", \"julia\", \"julian\", \"juliana\", \"juliane\", \"juliann\", \"julianna\", \"julianne\", \"julie\", \"julieann\", \"julienne\", \"juliet\", \"julieta\", \"julietta\", \"juliette\", \"julio\", \"julissa\", \"julius\", \"june\", \"jung\", \"junie\", \"junior\", \"junita\", \"junko\", \"just\", \"justa\", \"justina\", \"justine\", \"jutta\", \"k\", \"ka\", \"kacey\", \"kaci\", \"kacie\", \"kacy\", \"kai\", \"kaila\", \"kaitlin\", \"kaitlyn\", \"kala\", \"kaleigh\", \"kaley\", \"kali\", \"kallie\", \"kalyn\", \"kam\", \"kamala\", \"janiece\", \"kami\", \"kamilah\", \"kandace\", \"kandice\", \"kandis\", \"kandra\", \"kandy\", \"kanesha\", \"kanisha\", \"kara\", \"karan\", \"kareem\", \"kareen\", \"karen\", \"karena\", \"karey\", \"kari\", \"karie\", \"karima\", \"karin\", \"karina\", \"jasmine\", \"karine\", \"karisa\", \"karissa\", \"karl\", \"karla\", \"karleen\", \"karlene\", \"karly\", \"karlyn\", \"karma\", \"karmen\", \"karol\", \"karole\", \"karoline\", \"karolyn\", \"karon\", \"karren\", \"karri\", \"karrie\", \"karry\", \"kary\", \"karyl\", \"karyn\", \"kasandra\", \"kasha\", \"kasi\", \"kassandra\", \"kassie\", \"kate\", \"katelin\", \"katelyn\", \"katelynn\", \"katerine\", \"kathaleen\", \"katharina\", \"katharine\", \"katharyn\", \"kathe\", \"katheleen\", \"katherin\", \"katherine\", \"kathern\", \"kathey\", \"kathi\", \"kathie\", \"kathleen\", \"kathlene\", \"kathline\", \"kathlyn\", \"kathrin\", \"kathrine\", \"kathryn\", \"kathryne\", \"kathy\", \"kathyrn\", \"kati\", \"katia\", \"katie\", \"katlyn\", \"katrice\", \"katrina\", \"kattie\", \"katy\", \"kay\", \"jenny\", \"kayce\", \"kaycee\", \"kaye\", \"kayla\", \"kaylee\", \"jeremy\", \"kayleen\", \"kayleigh\", \"kaylene\", \"jerlene\", \"kazuko\", \"kecia\", \"keeley\", \"keely\", \"keena\", \"keesha\", \"keiko\", \"keila\", \"keira\", \"keisha\", \"keith\", \"jesenia\", \"keitha\", \"keli\", \"kelle\", \"kelley\", \"kelli\", \"kellie\", \"kelly\", \"jessie\", \"kellye\", \"kelsey\", \"kelsi\", \"kelsie\", \"kelvin\", \"kemberly\", \"ken\", \"kena\", \"kenda\", \"kendal\", \"kendall\", \"kendra\", \"kendrick\", \"keneth\", \"jimmy\", \"kenia\", \"kenisha\", \"kenna\", \"kenneth\", \"kenny\", \"kent\", \"kenton\", \"joanie\", \"kenyatta\", \"kenyetta\", \"kera\", \"keren\", \"keri\", \"kermit\", \"kerri\", \"kerrie\", \"kerry\", \"kerstin\", \"kesha\", \"joe\", \"keshia\", \"keturah\", \"keva\", \"keven\", \"kevin\", \"khadijah\", \"khalilah\", \"kia\", \"kiana\", \"kiara\", \"kiera\", \"kiersten\", \"kiesha\", \"kieth\", \"kim\", \"kimber\", \"kimberlee\", \"johnette\", \"kimberley\", \"kimberlie\", \"kimberly\", \"kimbery\", \"kimbra\", \"kimi\", \"kimiko\", \"kina\", \"kindra\", \"king\", \"kira\", \"kirby\", \"kirk\", \"kirsten\", \"kirstie\", \"kirstin\", \"kisha\", \"kit\", \"kittie\", \"jonathan\", \"kitty\", \"kiyoko\", \"kizzie\", \"kizzy\", \"klara\", \"know\", \"korey\", \"kori\", \"kortney\", \"kory\", \"kourtney\", \"kraig\", \"kris\", \"krishna\", \"krissy\", \"krista\", \"kristal\", \"kristan\", \"kristeen\", \"kristel\", \"kristen\", \"kristi\", \"kristian\", \"kristie\", \"kristin\", \"kristina\", \"kristine\", \"kristofer\", \"kristy\", \"kristyn\", \"krysta\", \"jovita\", \"krystal\", \"krysten\", \"krystin\", \"krystina\", \"krystle\", \"krystyna\", \"kum\", \"kurt\", \"kurtis\", \"kyla\", \"kyle\", \"kylee\", \"kylie\", \"kym\", \"jule\", \"kymberly\", \"kyoko\", \"kyong\", \"kyra\", \"kyung\", \"l\", \"lacey\", \"lachelle\", \"laci\", \"lacie\", \"lacresha\", \"lacy\", \"ladawn\", \"ladonna\", \"lady\", \"lael\", \"lahoma\", \"lai\", \"laine\", \"lajuana\", \"lakeesha\", \"lakeisha\", \"lakendra\", \"lakenya\", \"lakesha\", \"lakeshia\", \"lakia\", \"lakiesha\", \"justin\", \"lakisha\", \"lakita\", \"lala\", \"lamonica\", \"lamont\", \"lan\", \"lana\", \"lance\", \"landon\", \"lane\", \"lanell\", \"lanelle\", \"lanette\", \"lani\", \"lanie\", \"lanita\", \"lannie\", \"lanny\", \"lanora\", \"laquanda\", \"laquita\", \"lara\", \"larae\", \"kandi\", \"laraine\", \"laree\", \"larhonda\", \"larisa\", \"larissa\", \"larita\", \"laronda\", \"larraine\", \"larry\", \"larue\", \"lasandra\", \"lashanda\", \"lashandra\", \"lashaun\", \"lashaunda\", \"lashawn\", \"lashawna\", \"lashay\", \"lashell\", \"lashon\", \"lashonda\", \"lashunda\", \"last\", \"latanya\", \"latasha\", \"latashia\", \"later\", \"latesha\", \"latia\", \"laticia\", \"latina\", \"latisha\", \"latonia\", \"latonya\", \"latoria\", \"latosha\", \"latoya\", \"latoyia\", \"latrice\", \"latricia\", \"latrina\", \"latrisha\", \"kasey\", \"latter\", \"latterly\", \"kasie\", \"launa\", \"laura\", \"lauralee\", \"lauran\", \"laure\", \"laureen\", \"laurel\", \"lauren\", \"laurena\", \"laurence\", \"laurene\", \"lauretta\", \"laurette\", \"lauri\", \"katherina\", \"laurice\", \"laurie\", \"katheryn\", \"laurinda\", \"laurine\", \"lauryn\", \"lavada\", \"lavelle\", \"lavenia\", \"lavera\", \"lavern\", \"laverna\", \"laverne\", \"laveta\", \"lavette\", \"lavinia\", \"lavon\", \"lavona\", \"lavonda\", \"katina\", \"lavone\", \"lavonia\", \"lavonna\", \"lawana\", \"lawanda\", \"lawanna\", \"lawerence\", \"lawrence\", \"layla\", \"layne\", \"lazaro\", \"le\", \"lea\", \"leah\", \"lean\", \"leana\", \"leandra\", \"leandro\", \"leann\", \"keenan\", \"leanna\", \"leanne\", \"leanora\", \"least\", \"leatha\", \"leatrice\", \"lecia\", \"leda\", \"leeann\", \"kellee\", \"leeanna\", \"leeanne\", \"leena\", \"leesa\", \"left\", \"leia\", \"leida\", \n",
        "                   \"leif\", \"leigh\", \"leigha\", \"leighann\", \"leila\", \"leilani\", \"leisa\", \"leisha\", \"lekisha\", \"lela\", \"lelah\", \"leland\", \"lelia\", \"lemuel\", \"len\", \"kennith\", \"lena\", \"lenard\", \"lenita\", \"kenya\", \"lenna\", \"lennie\", \"lenny\", \"lenora\", \"lenore\", \"leo\", \"leola\", \"leoma\", \"leon\", \"leona\", \"leonard\", \"leonarda\", \"leonardo\", \"leone\", \"leonel\", \"leonia\", \"leonida\", \"leonie\", \"leonila\", \"leonor\", \"leonora\", \"leonore\", \"leontine\", \"leopoldo\", \"leora\", \"kiley\", \"leota\", \"lera\", \"kimberely\", \"leroy\", \"les\", \"kimberli\", \"lesa\", \"lesha\", \"lesia\", \"leslee\", \"lesley\", \"lesli\", \"leslie\", \"less\", \"lessie\", \"kip\", \"lester\", \"let\", \"leta\", \"letha\", \"leticia\", \"letisha\", \"letitia\", \"lets\", \"lettie\", \"letty\", \"levi\", \"lewis\", \"lezlie\", \"li\", \"lia\", \"liana\", \"liane\", \"lianne\", \"libbie\", \"libby\", \"liberty\", \"librada\", \"lida\", \"lidia\", \"lien\", \"lieselotte\", \"ligia\", \"like\", \"likely\", \"lila\", \"lili\", \"lilia\", \"lilian\", \"liliana\", \"lilla\", \"kristle\", \"lilli\", \"kristopher\", \"lillia\", \"lilliam\", \"lillian\", \"lilliana\", \"lillie\", \"lilly\", \"lily\", \"lin\", \"lina\", \"lincoln\", \"linda\", \"lindsay\", \"lindsey\", \"lindsy\", \"lindy\", \"line\", \"linette\", \"ling\", \"linh\", \"links\", \"linn\", \"linnea\", \"linnie\", \"lino\", \"linsey\", \"linwood\", \"lionel\", \"lisa\", \"lisabeth\", \"lisandra\", \"lisbeth\", \"lise\", \"lisette\", \"lisha\", \"laila\", \"lissa\", \"lissette\", \"lita\", \"livia\", \"liz\", \"liza\", \"lizabeth\", \"lizbeth\", \"lizeth\", \"lizette\", \"lizzette\", \"lizzie\", \"ll\", \"lamar\", \"lloyd\", \"loan\", \"logan\", \"loida\", \"lois\", \"lola\", \"lolita\", \"loma\", \"lon\", \"lona\", \"lang\", \"londa\", \"loni\", \"lonna\", \"lonnie\", \"lonny\", \"lora\", \"loraine\", \"loralee\", \"lore\", \"lorean\", \"loree\", \"loreen\", \"lorelei\", \"loren\", \"lorena\", \"lorene\", \"lorenza\", \"lorenzo\", \"loreta\", \"loretta\", \"lorette\", \"lori\", \"loria\", \"loriann\", \"lorie\", \"lorilee\", \"lashawnda\", \"lorinda\", \"loris\", \"lorita\", \"lorna\", \"lorraine\", \"lasonya\", \"lorretta\", \"latarsha\", \"lorri\", \"lorriane\", \"lorrie\", \"lorrine\", \"lory\", \"lottie\", \"lou\", \"louanne\", \"louella\", \"louetta\", \"louie\", \"louis\", \"louisa\", \"louise\", \"loura\", \"lourdes\", \"lourie\", \"love\", \"lovella\", \"lovetta\", \"lovie\", \"lowell\", \"loyce\", \"loyd\", \"ltd\", \"lu\", \"luana\", \"luann\", \"luanna\", \"luanne\", \"luba\", \"lucas\", \"luci\", \"lucia\", \"luciano\", \"lucie\", \"lucien\", \"lucienne\", \"lucila\", \"lucilla\", \"lucille\", \"lucina\", \"lucio\", \"lucius\", \"lucrecia\", \"lavina\", \"lucretia\", \"lucy\", \"ludie\", \"ludivina\", \"luella\", \"luetta\", \"luigi\", \"lavonne\", \"luis\", \"luisa\", \"luise\", \"luke\", \"lula\", \"lulu\", \"luna\", \"lupe\", \"lupita\", \"lura\", \"lurlene\", \"lurline\", \"luther\", \"luvenia\", \"luz\", \"lyda\", \"lydia\", \"lyla\", \"lyle\", \"lyman\", \"lyn\", \"lynda\", \"lyndia\", \"lee\", \"lyndon\", \"lyndsay\", \"lyndsey\", \"lynell\", \"lynelle\", \"lynette\", \"lynn\", \"lynna\", \"lynne\", \"lynnette\", \"lynsey\", \"lynwood\", \"mabel\", \"mabelle\", \"mable\", \"mac\", \"machelle\", \"macie\", \"mack\", \"mackenzie\", \"macy\", \"madalene\", \"madaline\", \"madalyn\", \"maddie\", \"made\", \"madelaine\", \"madeleine\", \"madelene\", \"madeline\", \"madelyn\", \"madge\", \"madie\", \"madison\", \"madlyn\", \"madonna\", \"mae\", \"maegan\", \"mafalda\", \"magali\", \"magaly\", \"magan\", \"magaret\", \"magda\", \"magdalen\", \"magdalena\", \"magdalene\", \"magen\", \"maggie\", \"magnolia\", \"mahalia\", \"mai\", \"maia\", \"maida\", \"maile\", \"maira\", \"maire\", \"maisha\", \"maisie\", \"major\", \"majorie\", \"make\", \"makeda\", \"makes\", \"malcolm\", \"malcom\", \"malena\", \"malia\", \"malik\", \"malika\", \"malinda\", \"malisa\", \"lexie\", \"malissa\", \"malka\", \"mallie\", \"mallory\", \"malorie\", \"mamie\", \"mammie\", \"man\", \"mana\", \"manda\", \"mandi\", \"mandie\", \"mandy\", \"manie\", \"manual\", \"manuel\", \"manuela\", \"many\", \"maple\", \"mara\", \"maragaret\", \"maragret\", \"maranda\", \"marc\", \"marcel\", \"marcela\", \"marcelina\", \"marceline\", \"marcelino\", \"marcell\", \"marcella\", \"marcelle\", \"marcellus\", \"marcelo\", \"marcene\", \"marchelle\", \"marcia\", \"marcie\", \"marcos\", \"marcus\", \"marcy\", \"maren\", \"marg\", \"margareta\", \"margarett\", \"margaretta\", \"margarette\", \"margarita\", \"margarite\", \"margarito\", \"margart\", \"margene\", \"margeret\", \"margert\", \"margery\", \"marget\", \"margherita\", \"margie\", \"margit\", \"margo\", \"margorie\", \"margret\", \"margrett\", \"marguerita\", \"marguerite\", \"margurite\", \"margy\", \"marhta\", \"mari\", \"maria\", \"loise\", \"mariah\", \"mariam\", \"marian\", \"mariana\", \"marianela\", \"mariann\", \"marianna\", \"marianne\", \"mariano\", \"maribel\", \"maribeth\", \"marica\", \"maricela\", \"maricruz\", \"marie\", \"mariel\", \"mariela\", \"mariella\", \"marietta\", \"mariette\", \"mariko\", \"marilee\", \"marilou\", \"marilu\", \"marilyn\", \"marilynn\", \"marin\", \"marina\", \"marinda\", \"marine\", \"mario\", \"marion\", \"lorina\", \"maris\", \"lorine\", \"marisa\", \"marisela\", \"marisha\", \"marisol\", \"marissa\", \"marita\", \"maritza\", \"marivel\", \"marjory\", \"mark\", \"marketta\", \"markita\", \"louann\", \"markus\", \"marla\", \"marlana\", \"marleen\", \"marlen\", \"marlena\", \"marlene\", \"marlin\", \"marline\", \"marlo\", \"louvenia\", \"marlon\", \"marlyn\", \"marlys\", \"marna\", \"marni\", \"marnie\", \"marquerite\", \"marquetta\", \"marquis\", \"marquita\", \"marquitta\", \"marry\", \"marsha\", \"marshall\", \"marth\", \"martha\", \"luciana\", \"marti\", \"martin\", \"martina\", \"martine\", \"marty\", \"lucile\", \"marva\", \"marvel\", \"marvella\", \"lucinda\", \"marvin\", \"marvis\", \"marx\", \"mary\", \"marya\", \"maryalice\", \"maryam\", \"lue\", \"maryann\", \"maryanna\", \"maryanne\", \"marybelle\", \"marybeth\", \"maryellen\", \"maryetta\", \"maryjane\", \"maryjo\", \"maryland\", \"marylee\", \"marylin\", \"maryln\", \"marylou\", \"marylouise\", \"marylyn\", \"marylynn\", \"maryrose\", \"masako\", \"mason\", \"matha\", \"mathew\", \"mathilda\", \"mathilde\", \"matilda\", \"matilde\", \"matt\", \"matthew\", \"mattie\", \"maud\", \"maude\", \"lynetta\", \"maudie\", \"maura\", \"maureen\", \"maurice\", \"mauricio\", \"maurine\", \"maurita\", \"ma\", \"mauro\", \"mavis\", \"max\", \"maxie\", \"maxima\", \"maximina\", \"maximo\", \"maxine\", \"maxwell\", \"maya\", \"maybe\", \"maybell\", \"maybelle\", \"maye\", \"mayme\", \"maynard\", \"mayola\", \"mayra\", \"mazie\", \"mckenzie\", \"mckinley\", \"me\", \"meagan\", \"meaghan\", \"meantime\", \"meanwhile\", \"mechelle\", \"meda\", \"mee\", \"meg\", \"megan\", \"meggan\", \"meghan\", \"meghann\", \"mei\", \"mel\", \"melaine\", \"melani\", \"melania\", \"melanie\", \"melany\", \"melba\", \"melda\", \"melia\", \"melida\", \"melina\", \"melinda\", \"melisa\", \"melissa\", \"melissia\", \"melita\", \"mellie\", \"mellisa\", \"mellissa\", \"melodee\", \"melodi\", \"melodie\", \"melody\", \"melonie\", \"melony\", \"melva\", \"malvina\", \"melvin\", \"melvina\", \"mendy\", \"mercedes\", \"mercedez\", \"mercy\", \"meredith\", \"meri\", \"merideth\", \"meridith\", \"merilyn\", \"merissa\", \"merle\", \"mao\", \"merlene\", \"merlin\", \"merlyn\", \"merna\", \"merri\", \"merrie\", \"merrilee\", \"merrill\", \"marcelene\", \"merry\", \"mertie\", \"mervin\", \"meryl\", \"meta\", \"mi\", \"mia\", \"mica\", \"micaela\", \"micah\", \"marci\", \"michael\", \"michaela\", \"marco\", \"michaele\", \"michal\", \"michale\", \"mardell\", \"micheal\", \"michel\", \"margaret\", \"michele\", \"margarete\", \"michelina\", \"micheline\", \"michell\", \"michelle\", \"michiko\", \"mickey\", \"micki\", \"marge\", \"mickie\", \"miesha\", \"migdalia\", \"mignon\", \"miguelina\", \"mika\", \"mikaela\", \"mike\", \"mikel\", \"miki\", \"margot\", \"mikki\", \"milagro\", \"milagros\", \"milan\", \"milda\", \"mildred\", \"miles\", \"milford\", \"milissa\", \"millard\", \"millie\", \"million\", \"milly\", \"milo\", \"milton\", \"mimi\", \"min\", \"mina\", \"minda\", \"mindi\", \"mindy\", \"minerva\", \"ming\", \"minh\", \"minna\", \"minnie\", \"minta\", \"marielle\", \"miquel\", \"mira\", \"miranda\", \"mireille\", \"mireya\", \"miriam\", \"mirian\", \"mirna\", \"mirta\", \"mirtha\", \"misha\", \"miss\", \"missy\", \"misti\", \"mistie\", \"misty\", \"mitch\", \"mitchel\", \"mitchell\", \"mitsue\", \"mitsuko\", \"mittie\", \"marjorie\", \"mitzi\", \"mitzie\", \"miyoko\", \"modesto\", \"mohamed\", \"mohammad\", \"mohammed\", \"moira\", \"mollie\", \"molly\", \"moment\", \"mona\", \"monet\", \"monica\", \"monika\", \"monique\", \"monnie\", \"monroe\", \"monserrate\", \"monte\", \"monty\", \"moon\", \"mora\", \"more\", \"moreover\", \"morgan\", \"moriah\", \"morris\", \"marta\", \"morton\", \"mose\", \"moses\", \"moshe\", \"most\", \"mostly\", \"mozell\", \"mozella\", \"mozelle\", \"mr\", \"mrs\", \"much\", \"mui\", \"muoi\", \"murray\", \"must\", \"my\", \"myesha\", \"myles\", \"myong\", \"myra\", \"myrl\", \"myrle\", \"myrna\", \"myron\", \"myrta\", \"myrtie\", \"myrtle\", \"myself\", \"myung\", \"n\", \"nada\", \"nadene\", \"nadia\", \"naida\", \"nakesha\", \"nakia\", \"nakisha\", \"nakita\", \"nam\", \"namely\", \"nan\", \"nana\", \"nancee\", \"nancey\", \"nanci\", \"nancie\", \"nancy\", \"nanette\", \"nannette\", \"nannie\", \"naoma\", \"naomi\", \"napoleon\", \"narcisa\", \"natacha\", \"natalia\", \"natalie\", \"natalya\", \"natasha\", \"natashia\", \"nathalie\", \"nathanael\", \"nathanial\", \"natisha\", \"natividad\", \"natosha\", \"neal\", \"near\", \"necole\", \"ned\", \"neda\", \"nedra\", \"neely\", \"neida\", \"neil\", \"neither\", \"nelda\", \"nelia\", \"nelida\", \"nell\", \"nella\", \"nelle\", \"nellie\", \"nelly\", \"nelson\", \"nena\", \"nenita\", \"neoma\", \"neomi\", \"nereida\", \"nerissa\", \"nery\", \"nestor\", \"neta\", \"nettie\", \"neva\", \"nevada\", \"never\", \"nevertheless\", \"neville\", \"new\", \"newton\", \"next\", \"nga\", \"ngan\", \"ngoc\", \"nguyet\", \"nia\", \"nichelle\", \"nichol\", \"nicholas\", \"nichole\", \"melynda\", \"nicholle\", \"nick\", \"nicki\", \"nickie\", \"nickole\", \"nicky\", \"nicol\", \"nicola\", \"nicolas\", \"nicolasa\", \"nicole\", \"nicolette\", \"nicolle\", \"nida\", \"nidia\", \"niesha\", \"nieves\", \"nigel\", \"niki\", \"nikia\", \"nikita\", \"nikki\", \"nikole\", \"nila\", \"nilda\", \"nilsa\", \"nina\", \"nine\", \"ninety\", \"micha\", \"ninfa\", \"nisha\", \"nita\", \"no\", \"noah\", \"noble\", \"nobody\", \"nobuko\", \"noe\", \"noel\", \"noelia\", \"noella\", \"noelle\", \"noemi\", \"nola\", \"nolan\", \"noma\", \"nona\", \"none\", \"miguel\", \"nonetheless\", \"noone\", \"nor\", \"nora\", \"norah\", \"norbert\", \"norberto\", \"mila\", \"noreen\", \"noriko\", \"norine\", \"norma\", \"norman\", \"normand\", \"not\", \"nothing\", \"nova\", \"millicent\", \"novella\", \"now\", \"nowhere\", \"nu\", \"nubia\", \"numbers\", \"nydia\", \"nyla\", \"o\", \"obdulia\", \"ocie\", \"octavia\", \"octavio\", \"oda\", \"odelia\", \"odell\", \"odessa\", \"odette\", \"odilia\", \"odis\", \"mirella\", \"of\", \"ofelia\", \"off\", \"often\", \"oh\", \"ola\", \"olen\", \"olene\", \"oleta\", \"olevia\", \"olga\", \"olimpia\", \"olin\", \"olinda\", \"oliva\", \"olive\", \"oliver\", \"olivia\", \"ollie\", \"olympia\", \"oma\", \"modesta\", \"omar\", \"omega\", \"omer\", \"omitted\", \"on\", \"moises\", \"ona\", \"once\", \"one\", \"oneida\", \"ones\", \"onie\", \"onita\", \"only\", \"onto\", \"opal\", \"ophelia\", \"or\", \"oralee\", \"oralia\", \"ord\", \"oren\", \"oretha\", \"orlando\", \"orpha\", \"orval\", \"orville\", \"oscar\", \"ossie\", \"osvaldo\", \"oswaldo\", \n",
        "                   \"otelia\", \"muriel\", \"otha\", \"other\", \"others\", \"otherwise\", \"otilia\", \"otis\", \"myriam\", \"otto\", \"ouida\", \"our\", \"ours\", \"ourselves\", \"myrtice\", \"out\", \"myrtis\", \"over\", \"owen\", \"own\", \"ozell\", \"ozella\", \"ozie\", \"nadine\", \"p\", \"pa\", \"pablo\", \"page\", \"pages\", \"paige\", \"palma\", \"palmer\", \"palmira\", \"pamala\", \"pamela\", \"pamelia\", \"pamella\", \"pamila\", \"pamula\", \"pansy\", \"paola\", \"paris\", \"parker\", \"part\", \"parthenia\", \"particia\", \"pasquale\", \"pasty\", \"pat\", \"patience\", \"nathan\", \"patria\", \"patrica\", \"nathaniel\", \"patrice\", \"patricia\", \"patrina\", \"patsy\", \"patti\", \"pattie\", \"patty\", \"paula\", \"paulene\", \"paulette\", \"pauline\", \"paulita\", \"paz\", \"pearl\", \"pearle\", \"pearlene\", \"pearlie\", \"pearline\", \"pearly\", \"pedro\", \"peg\", \"peggie\", \"peggy\", \"pei\", \"penelope\", \"penney\", \"penni\", \"pennie\", \"penny\", \"per\", \"percy\", \"perhaps\", \"perla\", \"perry\", \"pete\", \"peter\", \"petra\", \"petrina\", \"petronila\", \"phebe\", \"phil\", \"philip\", \"phillip\", \"phillis\", \"philomena\", \"phung\", \"phuong\", \"nickolas\", \"phylicia\", \"phylis\", \"phyliss\", \"pia\", \"piedad\", \"pierre\", \"ping\", \"pinkie\", \"piper\", \"pok\", \"polly\", \"porfirio\", \"porsche\", \"porsha\", \"porter\", \"portia\", \"pp\", \"precious\", \"preston\", \"pricilla\", \"prince\", \"princess\", \"priscila\", \"priscilla\", \"proud\", \"providencia\", \"prudence\", \"q\", \"qiana\", \"queen\", \"queenie\", \"quentin\", \"quiana\", \"quincy\", \"quinn\", \"nohemi\", \"quintin\", \"quinton\", \"quyen\", \"r\", \"rachael\", \"rachal\", \"racheal\", \"rachel\", \"rachele\", \"norene\", \"rachell\", \"rachelle\", \"racquel\", \"rae\", \"raeann\", \"norris\", \"raelene\", \"rafael\", \"rafaela\", \"raguel\", \"raina\", \"raisa\", \"raleigh\", \"ralph\", \"ramiro\", \"ramon\", \"ramona\", \"ramonita\", \"ran\", \"rana\", \"ranae\", \"randa\", \"randal\", \"randall\", \"randee\", \"ok\", \"randi\", \"randolph\", \"ranee\", \"raphael\", \"raquel\", \"rashad\", \"rasheeda\", \"rashida\", \"raul\", \"raven\", \"ray\", \"raye\", \"rayford\", \"raymon\", \"raymond\", \"raymonde\", \"raymundo\", \"rayna\", \"re\", \"rea\", \"reagan\", \"reatha\", \"reba\", \"rebbeca\", \"rebbecca\", \"ora\", \"rebeca\", \"rebecca\", \"rebecka\", \"rebekah\", \"recent\", \"recently\", \"reed\", \"reena\", \"ref\", \"refs\", \"refugia\", \"refugio\", \"regan\", \"regena\", \"regenia\", \"reggie\", \"regina\", \"reginald\", \"regine\", \"reginia\", \"reid\", \"reiko\", \"reina\", \"reinaldo\", \"reita\", \"related\", \"rema\", \"remedios\", \"remona\", \"pam\", \"rena\", \"renaldo\", \"renata\", \"renate\", \"renato\", \"renay\", \"pandora\", \"renda\", \"renea\", \"renetta\", \"renita\", \"replied\", \"research\", \"ressie\", \"reta\", \"retha\", \"retta\", \"reuben\", \"reva\", \"rex\", \"reyes\", \"patrick\", \"reyna\", \"reynaldo\", \"rhea\", \"rheba\", \"rhett\", \"paul\", \"rhiannon\", \"rhoda\", \"pauletta\", \"rhona\", \"paulina\", \"rhonda\", \"ria\", \"ricardo\", \"rich\", \"richard\", \"richelle\", \"richie\", \"rick\", \"rickey\", \"ricki\", \"rickie\", \"ricky\", \"rico\", \"rigoberto\", \"rikki\", \"riley\", \"rima\", \"rina\", \"risa\", \"rita\", \"rivka\", \"robbi\", \"robbie\", \"robby\", \"robbyn\", \"robena\", \"robert\", \"roberta\", \"roberto\", \"robin\", \"robt\", \"robyn\", \"rocco\", \"phoebe\", \"rochel\", \"rochell\", \"rochelle\", \"rocio\", \"rocky\", \"phyllis\", \"rod\", \"roderick\", \"rodger\", \"pilar\", \"rodney\", \"rodolfo\", \"rodrick\", \"rodrigo\", \"rogelio\", \"roger\", \"roland\", \"rolanda\", \"rolande\", \"rolando\", \"rolf\", \"rolland\", \"roma\", \"romaine\", \"roman\", \"romana\", \"romelia\", \"romeo\", \"romona\", \"pura\", \"ron\", \"rona\", \"ronald\", \"roni\", \"ronna\", \"ronni\", \"ronnie\", \"ronny\", \"roosevelt\", \"rory\", \"rosa\", \"rosalba\", \"rosalee\", \"rosalia\", \"rosalie\", \"rosalind\", \"rosalinda\", \"rosaline\", \"rosalva\", \"rosalyn\", \"rosamaria\", \"rosamond\", \"rosana\", \"rosann\", \"rosanna\", \"rosanne\", \"rosaria\", \"rosario\", \"rosaura\", \"roscoe\", \"rose\", \"roseann\", \"roseanna\", \"roseanne\", \"roselee\", \"roselia\", \"roseline\", \"rosella\", \"randell\", \"roselle\", \"roselyn\", \"randy\", \"rosemarie\", \"rosemary\", \"rosena\", \"rosenda\", \"rosendo\", \"rosetta\", \"rosette\", \"rosia\", \"rosie\", \"rosina\", \"rosio\", \"raylene\", \"roslyn\", \"ross\", \"rossana\", \"rossie\", \"rosy\", \"rowena\", \"roxana\", \"reanna\", \"roxane\", \"roxann\", \"roxanna\", \"roxanne\", \"roxie\", \"roy\", \"royal\", \"royce\", \"reda\", \"rozanne\", \"rozella\", \"ruben\", \"rubi\", \"rubie\", \"rubin\", \"rubye\", \"rudolf\", \"rudolph\", \"rudy\", \"rueben\", \"rufina\", \"rufus\", \"run\", \"rupert\", \"russel\", \"russell\", \"rusty\", \"ruth\", \"rutha\", \"ruthann\", \"renae\", \"ruthanne\", \"ruthe\", \"ruthie\", \"ryan\", \"ryann\", \"s\", \"rene\", \"sabina\", \"renee\", \"sabine\", \"sabra\", \"renna\", \"sabrina\", \"sacha\", \"sachiko\", \"sade\", \"sadie\", \"sadye\", \"sage\", \"rey\", \"said\", \"sal\", \"reynalda\", \"salena\", \"salina\", \"salley\", \"sallie\", \"sally\", \"salome\", \"salvador\", \"salvatore\", \"sam\", \"ricarda\", \"samantha\", \"samara\", \"samatha\", \"same\", \"samella\", \"samira\", \"sammie\", \"sammy\", \"samual\", \"samuel\", \"sana\", \"sanda\", \"sandee\", \"sandi\", \"sandie\", \"sandra\", \"sandy\", \"sanford\", \"riva\", \"sang\", \"rob\", \"sanjuana\", \"sanjuanita\", \"robbin\", \"sanora\", \"santa\", \"santana\", \"santiago\", \"santo\", \"santos\", \"sara\", \"sarah\", \"sarai\", \"saran\", \"sari\", \"sarina\", \"sarita\", \"sasha\", \"saturnina\", \"sau\", \"saul\", \"saundra\", \"savanna\", \"say\", \"scarlet\", \"scarlett\", \"scot\", \"scott\", \"scottie\", \"scotty\", \"sean\", \"search\", \"season\", \"sebastian\", \"sebrina\", \"sec\", \"section\", \"see\", \"seem\", \"seema\", \"seemed\", \"seeming\", \"seems\", \"ronda\", \"selena\", \"selene\", \"selina\", \"selma\", \"sena\", \"senaida\", \"september\", \"serafina\", \"serena\", \"sergio\", \"serina\", \"serita\", \"rosalina\", \"server\", \"seth\", \"seven\", \"seventy\", \"several\", \"seymour\", \"sha\", \"shad\", \"shae\", \"shaina\", \"shakia\", \"shakita\", \"shala\", \"shalanda\", \"shall\", \"shalon\", \"shalonda\", \"shameka\", \"shamika\", \"shan\", \"shana\", \"shanae\", \"shanda\", \"shandi\", \"shandra\", \"shane\", \"shaneka\", \"shanel\", \"shanell\", \"shanelle\", \"shanice\", \"shanika\", \"shaniqua\", \"shanita\", \"shannan\", \"shannon\", \"rosita\", \"shanon\", \"shanta\", \"shantae\", \"shantay\", \"shante\", \"shantel\", \"shantell\", \"shantelle\", \"shanti\", \"shaquana\", \"shaquita\", \"shara\", \"roxy\", \"sharan\", \"sharda\", \"sharee\", \"sharell\", \"sharen\", \"shari\", \"sharice\", \"sharie\", \"sharika\", \"ruby\", \"sharilyn\", \"sharla\", \"sharleen\", \"sharlene\", \"sharmaine\", \"sharolyn\", \"sharon\", \"sharri\", \"russ\", \"sharyl\", \"sharyn\", \"shasta\", \"shaun\", \"shauna\", \"shaunda\", \"shaunna\", \"shaunta\", \"shaunte\", \"shavon\", \"shavonda\", \"shavonne\", \"shawana\", \"shawanda\", \"shawanna\", \"shawn\", \"shawnda\", \"shawnee\", \"shawnna\", \"shawnta\", \"shay\", \"shayla\", \"shayna\", \"shayne\", \"she\", \"shea\", \"sheba\", \"shed\", \"sheena\", \"sheila\", \"sheilah\", \"shela\", \"shelba\", \"shelby\", \"sheldon\", \"shelia\", \"shell\", \"shella\", \"shelley\", \"shelli\", \"shellie\", \"shelly\", \"shemeka\", \"shemika\", \"shena\", \"shenika\", \"shenita\", \"shenna\", \"shera\", \"sheree\", \"sherell\", \"sheri\", \"sherice\", \"sheridan\", \"sherie\", \"santina\", \"sherika\", \"sherill\", \"sherilyn\", \"sherise\", \"sherita\", \"sherlene\", \"sherley\", \"sherly\", \"sherlyn\", \"sherman\", \"sheron\", \"sherrell\", \"sherri\", \"sherrie\", \"sherril\", \"savannah\", \"sherrill\", \"sherron\", \"sherry\", \"sherryl\", \"sherwood\", \"shery\", \"sheryl\", \"sheryll\", \"shes\", \"shiela\", \"shila\", \"shiloh\", \"shin\", \"shira\", \"shirely\", \"shirl\", \"shirlee\", \"shirleen\", \"shirlene\", \"shirley\", \"shirly\", \"shizue\", \"shizuko\", \"shon\", \"shona\", \"setsuko\", \"shonda\", \"shondra\", \"shonna\", \"shonta\", \"shoshana\", \"shu\", \"shakira\", \"shyla\", \"sibyl\", \"sid\", \"sidney\", \"sierra\", \"signe\", \"sigrid\", \"silas\", \"silva\", \"silvana\", \"silvia\", \"sima\", \"simon\", \"simona\", \"simone\", \"simonne\", \"sina\", \"since\", \"shani\", \"sindy\", \"siobhan\", \"sirena\", \"siu\", \"shanna\", \"six\", \"sixty\", \"skye\", \"slyvia\", \"so\", \"socorro\", \"sofia\", \"soila\", \"sol\", \"solange\", \"soledad\", \"solomon\", \"some\", \"somehow\", \"someone\", \"somer\", \"something\", \"sometime\", \"sometimes\", \"somewhere\", \"sommer\", \"son\", \"sona\", \"sharita\", \"sondra\", \"song\", \"sonia\", \"sonja\", \"sonny\", \"sonya\", \"sharonda\", \"soo\", \"sharron\", \"sook\", \"soon\", \"sophia\", \"sophie\", \"soraya\", \"sparkle\", \"spencer\", \"spring\", \"stacee\", \"stacey\", \"staci\", \"stacia\", \"stacie\", \"stacy\", \"stanford\", \"shawna\", \"stanley\", \"stanton\", \"star\", \"starla\", \"starr\", \"stefan\", \"stefani\", \"stefania\", \"stefanie\", \"stefany\", \"steffanie\", \"stella\", \"stepanie\", \"stephan\", \"stephane\", \"stephani\", \"stephania\", \"stephanie\", \"stephen\", \"stephenie\", \"stephine\", \"stephnie\", \"sterling\", \"shelton\", \"steve\", \"steven\", \"stevie\", \"stewart\", \"still\", \"stop\", \"stormy\", \"stuart\", \"suanne\", \"such\", \"sudie\", \"sue\", \"sueann\", \"suellen\", \"suk\", \"sulema\", \"sumiko\", \"summer\", \"sun\", \"sunday\", \"sung\", \"sunni\", \"sunny\", \"sunshine\", \"susan\", \"susana\", \"susann\", \"susanna\", \"susannah\", \"susanne\", \"susie\", \"susy\", \"suzan\", \"suzann\", \"suzanna\", \"suzanne\", \"suzette\", \"suzi\", \"suzy\", \"svetlana\", \"sybil\", \"syble\", \"sydney\", \"sylvester\", \"sylvia\", \"sylvie\", \"synthia\", \"syreeta\", \"t\", \"ta\", \"tabetha\", \"tabitha\", \"tad\", \"tai\", \"taina\", \"taisha\", \"tajuana\", \"takako\", \"taking\", \"takisha\", \"talia\", \"talisha\", \"talitha\", \"tama\", \"tamar\", \"tamara\", \"tamatha\", \"tambra\", \"tameika\", \"tameka\", \"tamekia\", \"tamela\", \"tamera\", \"tamesha\", \"tami\", \"tamica\", \"tamie\", \"tamiko\", \"tamisha\", \"sixta\", \"tammara\", \"tammera\", \"tammi\", \"tammie\", \"tammy\", \"tana\", \"tandra\", \"tandy\", \"taneka\", \"tanesha\", \"tangela\", \"tania\", \"tanika\", \"tanja\", \"tanna\", \"tanner\", \"tara\", \"tarah\", \"taren\", \"tarra\", \"tarsha\", \"taryn\", \"tasha\", \"tashia\", \"tashina\", \"tasia\", \"tatiana\", \"tatum\", \"tatyana\", \"taunya\", \"tawana\", \"tawanda\", \"tawanna\", \"tawna\", \"tawnya\", \"stan\", \"taylor\", \"tayna\", \"ted\", \"teddy\", \"tegan\", \"tell\", \"stasia\", \"telma\", \"temeka\", \"temika\", \"tempie\", \"temple\", \"ten\", \"tena\", \"tenesha\", \"stephaine\", \"tenisha\", \"tennie\", \"tennille\", \"teodora\", \"teodoro\", \"stephany\", \"teofila\", \"tequila\", \"tera\", \"tereasa\", \"terence\", \"teresa\", \"teresia\", \"teresita\", \"teressa\", \"teri\", \"terica\", \"su\", \"terina\", \"terisa\", \"terra\", \"terrance\", \"terrell\", \"terrence\", \"terresa\", \"terri\", \"terrie\", \"terrilyn\", \"terry\", \"tesha\", \"tessa\", \"tessie\", \"thad\", \"thaddeus\", \"thalia\", \"than\", \"thanh\", \"thao\", \"that\", \"thatll\", \"thats\", \"thatve\", \"the\", \"theda\", \"their\", \"thelma\", \"them\", \"suzie\", \"themselves\", \"then\", \"thence\", \"theo\", \"theodora\", \"theodore\", \"theola\", \"thereafter\", \"thereby\", \"thered\", \"therefore\", \"tabatha\", \"therein\", \"therell\", \"therere\", \"theres\", \"theresa\", \"therese\", \"theressa\", \"thereupon\", \"thereve\", \"theron\", \"thersa\", \"these\",\n",
        "                   \"tam\", \"theyd\", \"tamala\", \"theyll\", \"theyre\", \"theyve\", \"thi\", \"thing\", \"think\", \"thirty\", \"this\", \"thomas\", \"thomasena\", \"thomasina\", \"thomasine\", \"thora\", \"tamika\", \"those\", \"though\", \"thought\", \"thousand\", \"thresa\", \"through\", \"throughout\", \"tamra\", \"thru\", \"thu\", \"thurman\", \"thus\", \"thuy\", \"tia\", \"tiana\", \"tianna\", \"tanisha\", \"tiara\", \"tien\", \"tiera\", \"tanya\", \"tierra\", \"tiesha\", \"tifany\", \"tari\", \"tiffaney\", \"tiffani\", \"tiffanie\", \"tiffany\", \"tiffiny\", \"tijuana\", \"til\", \"tilda\", \"till\", \"tillie\", \"tim\", \"timika\", \"timmy\", \"timothy\", \"tina\", \"tawny\", \"tinisha\", \"tiny\", \"tip\", \"tisa\", \"tish\", \"teena\", \"tisha\", \"teisha\", \"titus\", \"to\", \"tobi\", \"tobias\", \"tobie\", \"toby\", \"toccara\", \"tod\", \"together\", \"toi\", \"told\", \"tom\", \"tomas\", \"tomasa\", \"tomeka\", \"tomi\", \"tomika\", \"tomiko\", \"terese\", \"tommie\", \"tommy\", \"tommye\", \"tomoko\", \"tona\", \"tonda\", \"tonette\", \"toney\", \"tonia\", \"tonie\", \"tonisha\", \"tonita\", \"tonja\", \"tony\", \"tonya\", \"too\", \"tora\", \"tess\", \"tori\", \"torie\", \"torri\", \"torrie\", \"tory\", \"tosha\", \"toshia\", \"thea\", \"toshiko\", \"tova\", \"towanda\", \"towards\", \"toya\", \"tracee\", \"traci\", \"tracie\", \"theresia\", \"tracy\", \"tran\", \"trang\", \"travis\", \"treasa\", \"treena\", \"trena\", \"trent\", \"trenton\", \"tresa\", \"tressa\", \"tressie\", \"treva\", \"trevor\", \"trey\", \"tricia\", \"trillion\", \"trina\", \"trinh\", \"trinidad\", \"trinity\", \"trisha\", \"trista\", \"tristan\", \"troy\", \"trudi\", \"trudie\", \"trudy\", \"trula\", \"truman\", \"try\", \"tu\", \"tuan\", \"tula\", \"tuyet\", \"twana\", \"twanda\", \"twanna\", \"twenty\", \"twila\", \"two\", \"twyla\", \"ty\", \"tyesha\", \"tyisha\", \"tyler\", \"tynisha\", \"todd\", \"tyra\", \"tyree\", \"tyron\", \"tyrone\", \"tyson\", \"u\", \"ulrike\", \"ulysses\", \"un\", \"una\", \"under\", \"unless\", \"unlike\", \"until\", \"unto\", \"up\", \"toni\", \"upon\", \"ursula\", \"us\", \"used\", \"usha\", \"using\", \"ute\", \"v\", \"vada\", \"val\", \"valarie\", \"valda\", \"valencia\", \"valene\", \"valentin\", \"valentina\", \"valentine\", \"valeri\", \"valeria\", \"valerie\", \"tracey\", \"valery\", \"valorie\", \"valrie\", \"van\", \"vanda\", \"vanesa\", \"vanessa\", \"vanetta\", \"vania\", \"vanita\", \"vanna\", \"vannesa\", \"vannessa\", \"vashti\", \"vasiliki\", \"vaughn\", \"ve\", \"veda\", \"velda\", \"velia\", \"vella\", \"velma\", \"trish\", \"velva\", \"velvet\", \"vena\", \"venessa\", \"venetta\", \"venice\", \"venita\", \"vennie\", \"venus\", \"veola\", \"vera\", \"verda\", \"verdell\", \"verdie\", \"verena\", \"vergie\", \"verla\", \"verlene\", \"verlie\", \"verline\", \"vern\", \"verna\", \"vernell\", \"vernetta\", \"vernia\", \"tyrell\", \"vernice\", \"vernie\", \"vernita\", \"ula\", \"vernon\", \"verona\", \"veronica\", \"veronika\", \"veronique\", \"versie\", \"vertie\", \"very\", \"vesta\", \"veta\", \"vi\", \"via\", \"vicenta\", \"vicente\", \"vickey\", \"vickie\", \"vicky\", \"victor\", \"victoria\", \"vida\", \"vallie\", \"viki\", \"vikki\", \"vilma\", \"vance\", \"vina\", \"vince\", \"vincent\", \"vincenza\", \"vincenzo\", \"vinita\", \"vinnie\", \"viola\", \"violet\", \"violeta\", \"violette\", \"virgen\", \"virgie\", \"virgil\", \"virgilio\", \"virgina\", \"virginia\", \"vita\", \"vito\", \"viva\", \"vivan\", \"vivian\", \"viviana\", \"vivien\", \"vivienne\", \"vol\", \"vols\", \"von\", \"voncile\", \"vonda\", \"vonnie\", \"vs\", \"w\", \"wade\", \"wai\", \"waldo\", \"walker\", \"wallace\", \"wally\", \"walter\", \"walton\", \"waltraud\", \"wan\", \"wanda\", \"waneta\", \"wanetta\", \"wanita\", \"ward\", \"warner\", \"warren\", \"was\", \"wasnt\", \"wava\", \"way\", \"waylon\", \"wayne\", \"we\", \"wed\", \"vicki\", \"wei\", \"weldon\", \"well\", \"wen\", \"victorina\", \"wendell\", \"wendi\", \"wendie\", \"wendolyn\", \"wendy\", \"wenona\", \"went\", \"were\", \"werent\", \"werner\", \"wes\", \"wesley\", \"weston\", \"weve\", \"what\", \"whatever\", \"whatll\", \"whats\", \"whatve\", \"when\", \"whence\", \"whenever\", \"where\", \"whereafter\", \"whereas\", \"whereby\", \"wherein\", \"wheres\", \"whereupon\", \"wherever\", \"whether\", \"which\", \"while\", \"whim\", \"whither\", \"whitley\", \"whitney\", \"who\", \"whod\", \"whoever\", \"whole\", \"wholl\", \"whom\", \"whomever\", \"whos\", \"whose\", \"why\", \"wilber\", \"wilbert\", \"wilbur\", \"wilburn\", \"wilda\", \"wiley\", \"wilford\", \"wilfred\", \"wilfredo\", \"wilhelmina\", \"wilhemina\", \"will\", \"willa\", \"willard\", \"willena\", \"willene\", \"willetta\", \"willette\", \"willia\", \"william\", \"williams\", \"willian\", \"willie\", \"williemae\", \"willis\", \"willodean\", \"willow\", \"willy\", \"wilma\", \"wilmer\", \"wilson\", \"wilton\", \"windy\", \"winford\", \"winfred\", \"winifred\", \"winnie\", \"winnifred\", \"winona\", \"winston\", \"winter\", \"with\", \"within\", \"without\", \"wm\", \"wonda\", \"wont\", \"woodrow\", \"words\", \"wouldnt\", \"wyatt\", \"wynell\", \"wynona\", \"x\", \"xavier\", \"xenia\", \"xiao\", \"xiomara\", \"xochitl\", \"xuan\", \"y\", \"yadira\", \"yaeko\", \"yael\", \"yahaira\", \"yajaira\", \"yan\", \"yang\", \"yanira\", \"yasmin\", \"yasmine\", \"yasuko\", \"yee\", \"yelena\", \"yen\", \"yer\", \"yes\", \"yesenia\", \"yessenia\", \"yet\", \"yetta\", \"yevette\", \"yi\", \"ying\", \"yoko\", \"yolanda\", \"yolande\", \"yolando\", \"yolonda\", \"yon\", \"yong\", \"yoshie\", \"yoshiko\", \"you\", \"youd\", \"youlanda\", \"youll\", \"young\", \"your\", \"youre\", \"yours\", \"yourself\", \"yourselves\", \"youve\", \"yu\", \"yuette\", \"yuk\", \"yuki\", \"yukiko\", \"yuko\", \"yulanda\", \"yun\", \"yung\", \"yuonne\", \"yuri\", \"yuriko\", \"yvette\", \"yvone\", \"yvonne\", \"z\", \"zachariah\", \"zachary\", \"zachery\", \"zack\", \"zackary\", \"zada\", \"zaida\", \"zana\", \"zandra\", \"zane\", \"zelda\", \"zella\", \"zelma\", \"zena\", \"zenaida\", \"zenia\", \"zenobia\", \"zetta\", \"zina\", \"zita\", \"zoe\", \"zofia\", \"zoila\", \"zola\", \"zona\", \"zonia\", \"zora\", \"zoraida\", \"zula\", \"zulema\", \"zulma\"])"
      ],
      "execution_count": 0,
      "outputs": []
    },
    {
      "cell_type": "code",
      "metadata": {
        "id": "RURy-MC_KjGI",
        "colab_type": "code",
        "colab": {}
      },
      "source": [
        "import re\n",
        "def preprocess(x):\n",
        "    x = re.sub('[^a-z\\s]', '', x.lower())                  # get rid of noise\n",
        "    x = [w for w in x.split() if w not in stop_words] # remove stopwords\n",
        "    return ' '.join(x) \n",
        "\n",
        "over_sampled['SData'] = over_sampled['data'].apply(preprocess)\n"
      ],
      "execution_count": 0,
      "outputs": []
    },
    {
      "cell_type": "code",
      "metadata": {
        "id": "m7-LWZ7QGIIh",
        "colab_type": "code",
        "colab": {}
      },
      "source": [
        "over_sampled['SData'] = over_sampled['SData'].str.replace('\\d+', '') #remove numeric"
      ],
      "execution_count": 0,
      "outputs": []
    },
    {
      "cell_type": "code",
      "metadata": {
        "id": "EoBxMnKmGcs-",
        "colab_type": "code",
        "colab": {}
      },
      "source": [
        "over_sampled['SData'] = over_sampled['SData'].str.replace(r'\\b\\w\\b','').str.replace(r'\\s+', ' ') #removing single words"
      ],
      "execution_count": 0,
      "outputs": []
    },
    {
      "cell_type": "code",
      "metadata": {
        "id": "E5oZpK8o_QVN",
        "colab_type": "code",
        "colab": {}
      },
      "source": [
        "from nltk import word_tokenize, pos_tag, ne_chunk\n",
        "\n",
        "import spacy\n",
        "\n",
        "nlp = spacy.load('en' ,disable=['parser', 'ner'])\n",
        "nlp.max_length = 1500000\n",
        "def lemmatization(texts, allowed_postags=['ADJ', 'VERB', 'ADV']):\n",
        "   \n",
        "    texts_out = []\n",
        "    for sent in texts:\n",
        "        doc = nlp(\" \".join(sent)) \n",
        "        texts_out.append([token.lemma_ for token in doc if token.pos_ in allowed_postags])\n",
        "    return (texts_out)"
      ],
      "execution_count": 0,
      "outputs": []
    },
    {
      "cell_type": "code",
      "metadata": {
        "id": "noDuB6lZ_7XL",
        "colab_type": "code",
        "colab": {}
      },
      "source": [
        "over_sampled['SNData'] = lemmatization(over_sampled['SData'].apply(word_tokenize).tolist(), allowed_postags=['VERB', 'NOUN'])\n",
        "#books['SNData'] = lemmatization(books['SData'], allowed_postags=['VERB', 'NOUN']) #change allowed_tag for other tags to be included\n",
        "over_sampled['SNData'] = over_sampled['SNData'].str.join(' ')"
      ],
      "execution_count": 0,
      "outputs": []
    },
    {
      "cell_type": "markdown",
      "metadata": {
        "id": "C8qFOMHSnx3T",
        "colab_type": "text"
      },
      "source": [
        "**Classifier PipeLine**"
      ]
    },
    {
      "cell_type": "code",
      "metadata": {
        "id": "IWFwMh7Msz6O",
        "colab_type": "code",
        "colab": {}
      },
      "source": [
        "X , y = over_sampled['SNData'], over_sampled['genre']"
      ],
      "execution_count": 0,
      "outputs": []
    },
    {
      "cell_type": "code",
      "metadata": {
        "id": "m4b9TjdbFWzR",
        "colab_type": "code",
        "colab": {
          "base_uri": "https://localhost:8080/",
          "height": 55
        },
        "outputId": "ffe45f24-52c9-4b39-8f7b-444b17cb083c"
      },
      "source": [
        "from collections import Counter\n",
        "print('Dataset shape %s' % Counter(y))"
      ],
      "execution_count": 53,
      "outputs": [
        {
          "output_type": "stream",
          "text": [
            "Dataset shape Counter({'Literary': 40, 'Sea and Adventure': 36, 'Detective and Mystery': 34, 'Love and Romance': 34, 'Western Stories': 34, 'Christmas Stories': 34, 'Ghost and Horror': 34, 'Humorous and Wit and Satire': 34, 'Allegories': 34})\n"
          ],
          "name": "stdout"
        }
      ]
    },
    {
      "cell_type": "code",
      "metadata": {
        "scrolled": true,
        "id": "bpqgCvk0r_h3",
        "colab_type": "code",
        "colab": {
          "base_uri": "https://localhost:8080/",
          "height": 74
        },
        "outputId": "d46ac476-d6f9-4712-ed72-e92341cd060e"
      },
      "source": [
        "\"\"\" calling base line and balanced accuracy compariosn by making it in impbalance for better comparision\"\"\"\n",
        "\n",
        "\"\"\" Making classification using pipline with only bag of words to check the under sampling effect\"\"\"\n",
        "\n",
        "\"\"\" This fucntion basically cna be called from any pipline with hold out method, hence callling this for various sampling techniques\"\"\"\n",
        "\n",
        "from sklearn.naive_bayes import MultinomialNB\n",
        "from sklearn.pipeline import Pipeline\n",
        "from sklearn.feature_extraction.text import TfidfVectorizer\n",
        "from nltk.corpus import stopwords\n",
        "\n",
        "from sklearn.model_selection import train_test_split\n",
        "import time\n",
        "import seaborn as sns\n",
        "from sklearn.metrics import confusion_matrix\n",
        "import matplotlib.pyplot as plt\n",
        "from sklearn.metrics import classification_report\n",
        "import pandas as pd\n",
        "from sklearn.metrics import balanced_accuracy_score\n",
        "from collections import Counter\n",
        "\n",
        "def eve_clf(classifier, X, y , df_scores, clf_name=None):\n",
        "    start = time.time()\n",
        "    X_train, X_test, y_train, y_test = train_test_split(X, y, test_size=0.3,shuffle = True, random_state=11, stratify=y)\n",
        "\n",
        "    classifier.fit(X_train, y_train)\n",
        "    end = time.time()\n",
        "    acc =classifier.score(X_test, y_test)\n",
        "\n",
        "    print(\"Accuracy: \" + str(classifier.score(X_test, y_test)) + \", Time duration: \" + str(end - start))\n",
        "    print('Changed dataset shape y_train %s' % Counter(y_train))\n",
        "    print('Changed dataset shape y_test %s' % Counter(y_test))\n",
        "    y_pred = classifier.predict(X_test)\n",
        "    conf_mat = confusion_matrix(y_test, y_pred)\n",
        "    #balanced accuracy\n",
        "    bal_acc = balanced_accuracy_score(y_test, y_pred)\n",
        "    clf_score = pd.DataFrame(\n",
        "        {clf_name: [acc, bal_acc]},\n",
        "        index=['Accuracy', 'Balanced accuracy']\n",
        "    )\n",
        "    \n",
        "    # Plot confusion_matrix\n",
        "    fig, ax = plt.subplots(figsize=(15, 10))\n",
        "    sns.heatmap(conf_mat, annot=True, cmap = \"Set3\", fmt =\"d\",\n",
        "    xticklabels=books.genre.unique(), yticklabels=books.genre.unique())\n",
        "    plt.ylabel('Actual')\n",
        "    plt.xlabel('Predicted')\n",
        "    plt.show()\n",
        "    \n",
        "    print(classification_report(y_test, y_pred))\n",
        "    df_scores = pd.concat([df_scores, clf_score], axis=1).round(decimals=3)\n",
        "    return df_scores\n",
        "\n",
        "df_scores = pd.DataFrame()\n",
        "\n"
      ],
      "execution_count": 54,
      "outputs": [
        {
          "output_type": "stream",
          "text": [
            "/usr/local/lib/python3.6/dist-packages/statsmodels/tools/_testing.py:19: FutureWarning: pandas.util.testing is deprecated. Use the functions in the public API at pandas.testing instead.\n",
            "  import pandas.util.testing as tm\n"
          ],
          "name": "stderr"
        }
      ]
    },
    {
      "cell_type": "code",
      "metadata": {
        "id": "lLHDy8TvsvH3",
        "colab_type": "code",
        "colab": {
          "base_uri": "https://localhost:8080/",
          "height": 1000
        },
        "outputId": "06c8ab03-633d-4267-d252-1654a235d3b7"
      },
      "source": [
        "#Calling with NB\n",
        "trial1 = Pipeline([ ('vectorizer', TfidfVectorizer(stop_words=stopwords.words('english'))), ('classifier', MultinomialNB())])\n",
        "\n",
        "\n",
        "#It shall just give me over alla ccuracy and CM for bag of words approach in imbalaned data\n",
        "df_scores=eve_clf(trial1, X, y, df_scores,'NaiveBayes')\n",
        "print(df_scores)"
      ],
      "execution_count": 55,
      "outputs": [
        {
          "output_type": "stream",
          "text": [
            "Accuracy: 0.6947368421052632, Time duration: 2.0979206562042236\n",
            "Changed dataset shape y_train Counter({'Literary': 28, 'Sea and Adventure': 25, 'Ghost and Horror': 24, 'Love and Romance': 24, 'Humorous and Wit and Satire': 24, 'Western Stories': 24, 'Detective and Mystery': 24, 'Christmas Stories': 23, 'Allegories': 23})\n",
            "Changed dataset shape y_test Counter({'Literary': 12, 'Sea and Adventure': 11, 'Allegories': 11, 'Christmas Stories': 11, 'Love and Romance': 10, 'Detective and Mystery': 10, 'Humorous and Wit and Satire': 10, 'Ghost and Horror': 10, 'Western Stories': 10})\n"
          ],
          "name": "stdout"
        },
        {
          "output_type": "display_data",
          "data": {
            "image/png": "[encoded data removed]",
            "text/plain": [
              "<Figure size 1080x720 with 2 Axes>"
            ]
          },
          "metadata": {
            "tags": [],
            "needs_background": "light"
          }
        },
        {
          "output_type": "stream",
          "text": [
            "                             precision    recall  f1-score   support\n",
            "\n",
            "                 Allegories       0.55      1.00      0.71        11\n",
            "          Christmas Stories       1.00      1.00      1.00        11\n",
            "      Detective and Mystery       0.00      0.00      0.00        10\n",
            "           Ghost and Horror       0.89      0.80      0.84        10\n",
            "Humorous and Wit and Satire       0.77      1.00      0.87        10\n",
            "                   Literary       0.31      0.42      0.36        12\n",
            "           Love and Romance       1.00      0.60      0.75        10\n",
            "          Sea and Adventure       0.70      0.64      0.67        11\n",
            "            Western Stories       0.80      0.80      0.80        10\n",
            "\n",
            "                   accuracy                           0.69        95\n",
            "                  macro avg       0.67      0.69      0.67        95\n",
            "               weighted avg       0.66      0.69      0.66        95\n",
            "\n",
            "                   NaiveBayes\n",
            "Accuracy                0.695\n",
            "Balanced accuracy       0.695\n"
          ],
          "name": "stdout"
        },
        {
          "output_type": "stream",
          "text": [
            "/usr/local/lib/python3.6/dist-packages/sklearn/metrics/_classification.py:1272: UndefinedMetricWarning: Precision and F-score are ill-defined and being set to 0.0 in labels with no predicted samples. Use `zero_division` parameter to control this behavior.\n",
            "  _warn_prf(average, modifier, msg_start, len(result))\n"
          ],
          "name": "stderr"
        }
      ]
    },
    {
      "cell_type": "code",
      "metadata": {
        "id": "7GKwRz9Pr_iF",
        "colab_type": "code",
        "colab": {
          "base_uri": "https://localhost:8080/",
          "height": 1000
        },
        "outputId": "27e319b1-e3ca-4247-d3fa-55357b617ffd"
      },
      "source": [
        "\"\"\"Calling it with logistic regression\"\"\"\n",
        "\n",
        "from sklearn.linear_model import LogisticRegression\n",
        "\n",
        "trial2 = Pipeline([ ('vectorizer', TfidfVectorizer(stop_words=stopwords.words('english'))), ('classifier', LogisticRegression())])\n",
        "\n",
        "#It shall just give me over alla ccuracy and CM for bag of words approach in imbalaned data\n",
        "df_scores=eve_clf(trial2, X, y, df_scores,'LR')\n",
        "print(df_scores)"
      ],
      "execution_count": 56,
      "outputs": [
        {
          "output_type": "stream",
          "text": [
            "Accuracy: 0.8526315789473684, Time duration: 5.118206024169922\n",
            "Changed dataset shape y_train Counter({'Literary': 28, 'Sea and Adventure': 25, 'Ghost and Horror': 24, 'Love and Romance': 24, 'Humorous and Wit and Satire': 24, 'Western Stories': 24, 'Detective and Mystery': 24, 'Christmas Stories': 23, 'Allegories': 23})\n",
            "Changed dataset shape y_test Counter({'Literary': 12, 'Sea and Adventure': 11, 'Allegories': 11, 'Christmas Stories': 11, 'Love and Romance': 10, 'Detective and Mystery': 10, 'Humorous and Wit and Satire': 10, 'Ghost and Horror': 10, 'Western Stories': 10})\n"
          ],
          "name": "stdout"
        },
        {
          "output_type": "display_data",
          "data": {
            "image/png": "[encoded data removed]",
            "text/plain": [
              "<Figure size 1080x720 with 2 Axes>"
            ]
          },
          "metadata": {
            "tags": [],
            "needs_background": "light"
          }
        },
        {
          "output_type": "stream",
          "text": [
            "                             precision    recall  f1-score   support\n",
            "\n",
            "                 Allegories       1.00      1.00      1.00        11\n",
            "          Christmas Stories       1.00      1.00      1.00        11\n",
            "      Detective and Mystery       1.00      0.50      0.67        10\n",
            "           Ghost and Horror       1.00      1.00      1.00        10\n",
            "Humorous and Wit and Satire       1.00      1.00      1.00        10\n",
            "                   Literary       0.56      0.75      0.64        12\n",
            "           Love and Romance       0.90      0.90      0.90        10\n",
            "          Sea and Adventure       0.70      0.64      0.67        11\n",
            "            Western Stories       0.75      0.90      0.82        10\n",
            "\n",
            "                   accuracy                           0.85        95\n",
            "                  macro avg       0.88      0.85      0.85        95\n",
            "               weighted avg       0.87      0.85      0.85        95\n",
            "\n",
            "                   NaiveBayes     LR\n",
            "Accuracy                0.695  0.853\n",
            "Balanced accuracy       0.695  0.854\n"
          ],
          "name": "stdout"
        }
      ]
    },
    {
      "cell_type": "code",
      "metadata": {
        "id": "Jbrh0bWED_d_",
        "colab_type": "code",
        "colab": {
          "base_uri": "https://localhost:8080/",
          "height": 1000
        },
        "outputId": "2d99838e-5150-4848-c288-83456df8de2a"
      },
      "source": [
        "\"\"\"Calling it with logistic regression weighted\"\"\"\n",
        "\n",
        "from sklearn.linear_model import LogisticRegression\n",
        "\n",
        "trial2 = Pipeline([ ('vectorizer', TfidfVectorizer(stop_words=stopwords.words('english'))), ('classifier', LogisticRegression(class_weight='balanced'))])\n",
        "\n",
        "#It shall just give me over alla ccuracy and CM for bag of words approach in imbalaned data\n",
        "df_scores=eve_clf(trial2, X, y, df_scores,'LR with weights')\n",
        "print(df_scores)"
      ],
      "execution_count": 57,
      "outputs": [
        {
          "output_type": "stream",
          "text": [
            "Accuracy: 0.8421052631578947, Time duration: 4.591930150985718\n",
            "Changed dataset shape y_train Counter({'Literary': 28, 'Sea and Adventure': 25, 'Ghost and Horror': 24, 'Love and Romance': 24, 'Humorous and Wit and Satire': 24, 'Western Stories': 24, 'Detective and Mystery': 24, 'Christmas Stories': 23, 'Allegories': 23})\n",
            "Changed dataset shape y_test Counter({'Literary': 12, 'Sea and Adventure': 11, 'Allegories': 11, 'Christmas Stories': 11, 'Love and Romance': 10, 'Detective and Mystery': 10, 'Humorous and Wit and Satire': 10, 'Ghost and Horror': 10, 'Western Stories': 10})\n"
          ],
          "name": "stdout"
        },
        {
          "output_type": "display_data",
          "data": {
            "image/png": "[encoded data removed]",
            "text/plain": [
              "<Figure size 1080x720 with 2 Axes>"
            ]
          },
          "metadata": {
            "tags": [],
            "needs_background": "light"
          }
        },
        {
          "output_type": "stream",
          "text": [
            "                             precision    recall  f1-score   support\n",
            "\n",
            "                 Allegories       1.00      1.00      1.00        11\n",
            "          Christmas Stories       1.00      1.00      1.00        11\n",
            "      Detective and Mystery       1.00      0.70      0.82        10\n",
            "           Ghost and Horror       1.00      1.00      1.00        10\n",
            "Humorous and Wit and Satire       0.83      1.00      0.91        10\n",
            "                   Literary       0.67      0.33      0.44        12\n",
            "           Love and Romance       0.71      1.00      0.83        10\n",
            "          Sea and Adventure       0.70      0.64      0.67        11\n",
            "            Western Stories       0.71      1.00      0.83        10\n",
            "\n",
            "                   accuracy                           0.84        95\n",
            "                  macro avg       0.85      0.85      0.83        95\n",
            "               weighted avg       0.85      0.84      0.83        95\n",
            "\n",
            "                   NaiveBayes     LR  LR with weights\n",
            "Accuracy                0.695  0.853            0.842\n",
            "Balanced accuracy       0.695  0.854            0.852\n"
          ],
          "name": "stdout"
        }
      ]
    },
    {
      "cell_type": "code",
      "metadata": {
        "id": "hUoiYmqobEO5",
        "colab_type": "code",
        "outputId": "935915af-312e-4e54-888a-f3adc383b5b1",
        "colab": {
          "base_uri": "https://localhost:8080/",
          "height": 1000
        }
      },
      "source": [
        "\"\"\"Calling it with SVM without class balance\"\"\"\n",
        "\n",
        "from sklearn.svm import SVC\n",
        "\n",
        "trial2 = Pipeline([ ('vectorizer', TfidfVectorizer(max_df = .10,stop_words=stopwords.words('english'))), ('classifier', SVC())])\n",
        "\n",
        "#It shall just give me over alla ccuracy and CM for bag of words approach in imbalaned data\n",
        "df_scores=eve_clf(trial2, X, y, df_scores,'SVM')\n",
        "print(df_scores)"
      ],
      "execution_count": 58,
      "outputs": [
        {
          "output_type": "stream",
          "text": [
            "Accuracy: 0.7684210526315789, Time duration: 2.373152017593384\n",
            "Changed dataset shape y_train Counter({'Literary': 28, 'Sea and Adventure': 25, 'Ghost and Horror': 24, 'Love and Romance': 24, 'Humorous and Wit and Satire': 24, 'Western Stories': 24, 'Detective and Mystery': 24, 'Christmas Stories': 23, 'Allegories': 23})\n",
            "Changed dataset shape y_test Counter({'Literary': 12, 'Sea and Adventure': 11, 'Allegories': 11, 'Christmas Stories': 11, 'Love and Romance': 10, 'Detective and Mystery': 10, 'Humorous and Wit and Satire': 10, 'Ghost and Horror': 10, 'Western Stories': 10})\n"
          ],
          "name": "stdout"
        },
        {
          "output_type": "display_data",
          "data": {
            "image/png": "[encoded data removed]",
            "text/plain": [
              "<Figure size 1080x720 with 2 Axes>"
            ]
          },
          "metadata": {
            "tags": [],
            "needs_background": "light"
          }
        },
        {
          "output_type": "stream",
          "text": [
            "                             precision    recall  f1-score   support\n",
            "\n",
            "                 Allegories       1.00      1.00      1.00        11\n",
            "          Christmas Stories       1.00      1.00      1.00        11\n",
            "      Detective and Mystery       0.00      0.00      0.00        10\n",
            "           Ghost and Horror       1.00      1.00      1.00        10\n",
            "Humorous and Wit and Satire       1.00      1.00      1.00        10\n",
            "                   Literary       0.35      1.00      0.52        12\n",
            "           Love and Romance       1.00      0.70      0.82        10\n",
            "          Sea and Adventure       1.00      0.27      0.43        11\n",
            "            Western Stories       1.00      0.90      0.95        10\n",
            "\n",
            "                   accuracy                           0.77        95\n",
            "                  macro avg       0.82      0.76      0.75        95\n",
            "               weighted avg       0.81      0.77      0.74        95\n",
            "\n",
            "                   NaiveBayes     LR  LR with weights    SVM\n",
            "Accuracy                0.695  0.853            0.842  0.768\n",
            "Balanced accuracy       0.695  0.854            0.852  0.764\n"
          ],
          "name": "stdout"
        },
        {
          "output_type": "stream",
          "text": [
            "/usr/local/lib/python3.6/dist-packages/sklearn/metrics/_classification.py:1272: UndefinedMetricWarning: Precision and F-score are ill-defined and being set to 0.0 in labels with no predicted samples. Use `zero_division` parameter to control this behavior.\n",
            "  _warn_prf(average, modifier, msg_start, len(result))\n"
          ],
          "name": "stderr"
        }
      ]
    },
    {
      "cell_type": "code",
      "metadata": {
        "id": "K_r_c8YTbbdp",
        "colab_type": "code",
        "outputId": "c4cac1b7-359d-4082-ad97-86c3c24e8102",
        "colab": {
          "base_uri": "https://localhost:8080/",
          "height": 1000
        }
      },
      "source": [
        "\"\"\"Calling it with SVM with class balance\"\"\"\n",
        "\n",
        "from sklearn.svm import SVC\n",
        "\n",
        "trial2 = Pipeline([ ('vectorizer', TfidfVectorizer(max_df = .10,stop_words=stopwords.words('english'))), ('classifier', SVC(class_weight='balanced'))])\n",
        "\n",
        "#It shall just give me over alla ccuracy and CM for bag of words approach in imbalaned data\n",
        "df_scores=eve_clf(trial2, X, y, df_scores,'SVM with weights')\n",
        "print(df_scores)"
      ],
      "execution_count": 59,
      "outputs": [
        {
          "output_type": "stream",
          "text": [
            "Accuracy: 0.7789473684210526, Time duration: 2.3552629947662354\n",
            "Changed dataset shape y_train Counter({'Literary': 28, 'Sea and Adventure': 25, 'Ghost and Horror': 24, 'Love and Romance': 24, 'Humorous and Wit and Satire': 24, 'Western Stories': 24, 'Detective and Mystery': 24, 'Christmas Stories': 23, 'Allegories': 23})\n",
            "Changed dataset shape y_test Counter({'Literary': 12, 'Sea and Adventure': 11, 'Allegories': 11, 'Christmas Stories': 11, 'Love and Romance': 10, 'Detective and Mystery': 10, 'Humorous and Wit and Satire': 10, 'Ghost and Horror': 10, 'Western Stories': 10})\n"
          ],
          "name": "stdout"
        },
        {
          "output_type": "display_data",
          "data": {
            "image/png": "[encoded data removed]",
            "text/plain": [
              "<Figure size 1080x720 with 2 Axes>"
            ]
          },
          "metadata": {
            "tags": [],
            "needs_background": "light"
          }
        },
        {
          "output_type": "stream",
          "text": [
            "                             precision    recall  f1-score   support\n",
            "\n",
            "                 Allegories       1.00      1.00      1.00        11\n",
            "          Christmas Stories       1.00      1.00      1.00        11\n",
            "      Detective and Mystery       0.00      0.00      0.00        10\n",
            "           Ghost and Horror       1.00      1.00      1.00        10\n",
            "Humorous and Wit and Satire       1.00      1.00      1.00        10\n",
            "                   Literary       0.36      1.00      0.53        12\n",
            "           Love and Romance       1.00      0.70      0.82        10\n",
            "          Sea and Adventure       1.00      0.36      0.53        11\n",
            "            Western Stories       1.00      0.90      0.95        10\n",
            "\n",
            "                   accuracy                           0.78        95\n",
            "                  macro avg       0.82      0.77      0.76        95\n",
            "               weighted avg       0.81      0.78      0.76        95\n",
            "\n",
            "                   NaiveBayes     LR  LR with weights    SVM  SVM with weights\n",
            "Accuracy                0.695  0.853            0.842  0.768             0.779\n",
            "Balanced accuracy       0.695  0.854            0.852  0.764             0.774\n"
          ],
          "name": "stdout"
        },
        {
          "output_type": "stream",
          "text": [
            "/usr/local/lib/python3.6/dist-packages/sklearn/metrics/_classification.py:1272: UndefinedMetricWarning: Precision and F-score are ill-defined and being set to 0.0 in labels with no predicted samples. Use `zero_division` parameter to control this behavior.\n",
            "  _warn_prf(average, modifier, msg_start, len(result))\n"
          ],
          "name": "stderr"
        }
      ]
    },
    {
      "cell_type": "markdown",
      "metadata": {
        "id": "LY-zd6W1Skzu",
        "colab_type": "text"
      },
      "source": [
        "Calling the models only with undersampled data"
      ]
    },
    {
      "cell_type": "code",
      "metadata": {
        "id": "_5Ko-JNnT1Mi",
        "colab_type": "code",
        "colab": {
          "base_uri": "https://localhost:8080/",
          "height": 254
        },
        "outputId": "5596e98d-8a59-493d-d88a-07c50a6e8e3d"
      },
      "source": [
        "under_sampled_books.info()"
      ],
      "execution_count": 74,
      "outputs": [
        {
          "output_type": "stream",
          "text": [
            "<class 'pandas.core.frame.DataFrame'>\n",
            "Int64Index: 165 entries, 19 to 973\n",
            "Data columns (total 6 columns):\n",
            " #   Column       Non-Null Count  Dtype \n",
            "---  ------       --------------  ----- \n",
            " 0   data         165 non-null    object\n",
            " 1   FileNo       165 non-null    int64 \n",
            " 2   Book_Name    165 non-null    object\n",
            " 3   genre        165 non-null    object\n",
            " 4   Author_Name  165 non-null    object\n",
            " 5   Count        165 non-null    int64 \n",
            "dtypes: int64(2), object(4)\n",
            "memory usage: 9.0+ KB\n"
          ],
          "name": "stdout"
        }
      ]
    },
    {
      "cell_type": "code",
      "metadata": {
        "colab_type": "code",
        "id": "n_9Ha2dXTguR",
        "colab": {}
      },
      "source": [
        "import re\n",
        "def preprocess(x):\n",
        "    x = re.sub('[^a-z\\s]', '', x.lower())                  # get rid of noise\n",
        "    x = [w for w in x.split() if w not in stop_words] # remove stopwords\n",
        "    return ' '.join(x) \n",
        "\n",
        "under_sampled_books['SData'] = under_sampled_books['data'].apply(preprocess)\n"
      ],
      "execution_count": 0,
      "outputs": []
    },
    {
      "cell_type": "code",
      "metadata": {
        "colab_type": "code",
        "id": "NPmyft85Tgui",
        "colab": {}
      },
      "source": [
        "under_sampled_books['SData'] = under_sampled_books['SData'].str.replace('\\d+', '') #remove numeric"
      ],
      "execution_count": 0,
      "outputs": []
    },
    {
      "cell_type": "code",
      "metadata": {
        "colab_type": "code",
        "id": "ty7LUndRTgus",
        "colab": {}
      },
      "source": [
        "under_sampled_books['SData'] = under_sampled_books['SData'].str.replace(r'\\b\\w\\b','').str.replace(r'\\s+', ' ') #removing single words"
      ],
      "execution_count": 0,
      "outputs": []
    },
    {
      "cell_type": "code",
      "metadata": {
        "colab_type": "code",
        "id": "2TbM17deTgu0",
        "colab": {}
      },
      "source": [
        "from nltk import word_tokenize, pos_tag, ne_chunk\n",
        "\n",
        "import spacy\n",
        "\n",
        "nlp = spacy.load('en' ,disable=['parser', 'ner'])\n",
        "nlp.max_length = 1500000\n",
        "def lemmatization(texts, allowed_postags=['ADJ', 'VERB', 'ADV']):\n",
        "   \n",
        "    texts_out = []\n",
        "    for sent in texts:\n",
        "        doc = nlp(\" \".join(sent)) \n",
        "        texts_out.append([token.lemma_ for token in doc if token.pos_ in allowed_postags])\n",
        "    return (texts_out)"
      ],
      "execution_count": 0,
      "outputs": []
    },
    {
      "cell_type": "code",
      "metadata": {
        "colab_type": "code",
        "id": "DCfFiKjGTgu9",
        "colab": {}
      },
      "source": [
        "under_sampled_books['SNData'] = lemmatization(under_sampled_books['SData'].apply(word_tokenize).tolist(), allowed_postags=['VERB', 'NOUN'])\n",
        "#books['SNData'] = lemmatization(books['SData'], allowed_postags=['VERB', 'NOUN']) #change allowed_tag for other tags to be included\n",
        "under_sampled_books['SNData'] = under_sampled_books['SNData'].str.join(' ')"
      ],
      "execution_count": 0,
      "outputs": []
    },
    {
      "cell_type": "code",
      "metadata": {
        "colab_type": "code",
        "id": "ngmgG6SPSoeA",
        "colab": {}
      },
      "source": [
        "X , y = under_sampled_books['SNData'], under_sampled_books['genre']"
      ],
      "execution_count": 0,
      "outputs": []
    },
    {
      "cell_type": "code",
      "metadata": {
        "colab_type": "code",
        "outputId": "756d84f1-5639-4180-fccd-d8ff4bd75c5f",
        "id": "rOlPSGJ_SoeV",
        "colab": {
          "base_uri": "https://localhost:8080/",
          "height": 55
        }
      },
      "source": [
        "from collections import Counter\n",
        "print('Dataset shape %s' % Counter(y))"
      ],
      "execution_count": 81,
      "outputs": [
        {
          "output_type": "stream",
          "text": [
            "Dataset shape Counter({'Literary': 40, 'Sea and Adventure': 36, 'Detective and Mystery': 34, 'Love and Romance': 18, 'Western Stories': 18, 'Ghost and Horror': 6, 'Humorous and Wit and Satire': 6, 'Christmas Stories': 5, 'Allegories': 2})\n"
          ],
          "name": "stdout"
        }
      ]
    },
    {
      "cell_type": "code",
      "metadata": {
        "scrolled": true,
        "colab_type": "code",
        "id": "9TgEwVfNSoeh",
        "colab": {}
      },
      "source": [
        "\"\"\" calling base line and balanced accuracy compariosn by making it in impbalance for better comparision\"\"\"\n",
        "\n",
        "\"\"\" Making classification using pipline with only bag of words to check the under sampling effect\"\"\"\n",
        "\n",
        "\"\"\" This fucntion basically cna be called from any pipline with hold out method, hence callling this for various sampling techniques\"\"\"\n",
        "\n",
        "from sklearn.naive_bayes import MultinomialNB\n",
        "from sklearn.pipeline import Pipeline\n",
        "from sklearn.feature_extraction.text import TfidfVectorizer\n",
        "from nltk.corpus import stopwords\n",
        "\n",
        "from sklearn.model_selection import train_test_split\n",
        "import time\n",
        "import seaborn as sns\n",
        "from sklearn.metrics import confusion_matrix\n",
        "import matplotlib.pyplot as plt\n",
        "from sklearn.metrics import classification_report\n",
        "import pandas as pd\n",
        "from sklearn.metrics import balanced_accuracy_score\n",
        "from collections import Counter\n",
        "\n",
        "def eve_clf(classifier, X, y , df_scores, clf_name=None):\n",
        "    start = time.time()\n",
        "    X_train, X_test, y_train, y_test = train_test_split(X, y, test_size=0.3,shuffle = True, random_state=11, stratify=y)\n",
        "\n",
        "    classifier.fit(X_train, y_train)\n",
        "    end = time.time()\n",
        "    acc =classifier.score(X_test, y_test)\n",
        "\n",
        "    print(\"Accuracy: \" + str(classifier.score(X_test, y_test)) + \", Time duration: \" + str(end - start))\n",
        "    print('Changed dataset shape y_train %s' % Counter(y_train))\n",
        "    print('Changed dataset shape y_test %s' % Counter(y_test))\n",
        "    y_pred = classifier.predict(X_test)\n",
        "    conf_mat = confusion_matrix(y_test, y_pred)\n",
        "    #balanced accuracy\n",
        "    bal_acc = balanced_accuracy_score(y_test, y_pred)\n",
        "    clf_score = pd.DataFrame(\n",
        "        {clf_name: [acc, bal_acc]},\n",
        "        index=['Accuracy', 'Balanced accuracy']\n",
        "    )\n",
        "    \n",
        "    # Plot confusion_matrix\n",
        "    fig, ax = plt.subplots(figsize=(15, 10))\n",
        "    sns.heatmap(conf_mat, annot=True, cmap = \"Set3\", fmt =\"d\",\n",
        "    xticklabels=books.genre.unique(), yticklabels=books.genre.unique())\n",
        "    plt.ylabel('Actual')\n",
        "    plt.xlabel('Predicted')\n",
        "    plt.show()\n",
        "    \n",
        "    print(classification_report(y_test, y_pred))\n",
        "    df_scores = pd.concat([df_scores, clf_score], axis=1).round(decimals=3)\n",
        "    return df_scores\n",
        "\n",
        "df_scores = pd.DataFrame()\n",
        "\n"
      ],
      "execution_count": 0,
      "outputs": []
    },
    {
      "cell_type": "code",
      "metadata": {
        "colab_type": "code",
        "outputId": "e87b2698-11ed-417e-8521-a9ecd79a1823",
        "id": "tbIWbQuySoeq",
        "colab": {
          "base_uri": "https://localhost:8080/",
          "height": 1000
        }
      },
      "source": [
        "#Calling with NB\n",
        "trial1 = Pipeline([ ('vectorizer', TfidfVectorizer(stop_words=stopwords.words('english'))), ('classifier', MultinomialNB())])\n",
        "\n",
        "\n",
        "#It shall just give me over alla ccuracy and CM for bag of words approach in imbalaned data\n",
        "df_scores=eve_clf(trial1, X, y, df_scores,'NaiveBayes')\n",
        "print(df_scores)"
      ],
      "execution_count": 83,
      "outputs": [
        {
          "output_type": "stream",
          "text": [
            "Accuracy: 0.38, Time duration: 1.2275283336639404\n",
            "Changed dataset shape y_train Counter({'Literary': 28, 'Sea and Adventure': 25, 'Detective and Mystery': 24, 'Western Stories': 13, 'Love and Romance': 13, 'Ghost and Horror': 4, 'Humorous and Wit and Satire': 4, 'Christmas Stories': 3, 'Allegories': 1})\n",
            "Changed dataset shape y_test Counter({'Literary': 12, 'Sea and Adventure': 11, 'Detective and Mystery': 10, 'Western Stories': 5, 'Love and Romance': 5, 'Christmas Stories': 2, 'Humorous and Wit and Satire': 2, 'Ghost and Horror': 2, 'Allegories': 1})\n"
          ],
          "name": "stdout"
        },
        {
          "output_type": "display_data",
          "data": {
            "image/png": "[encoded data removed]",
            "text/plain": [
              "<Figure size 1080x720 with 2 Axes>"
            ]
          },
          "metadata": {
            "tags": [],
            "needs_background": "light"
          }
        },
        {
          "output_type": "stream",
          "text": [
            "                             precision    recall  f1-score   support\n",
            "\n",
            "                 Allegories       0.00      0.00      0.00         1\n",
            "          Christmas Stories       0.00      0.00      0.00         2\n",
            "      Detective and Mystery       0.00      0.00      0.00        10\n",
            "           Ghost and Horror       0.00      0.00      0.00         2\n",
            "Humorous and Wit and Satire       0.00      0.00      0.00         2\n",
            "                   Literary       0.30      0.92      0.45        12\n",
            "           Love and Romance       0.00      0.00      0.00         5\n",
            "          Sea and Adventure       0.62      0.73      0.67        11\n",
            "            Western Stories       0.00      0.00      0.00         5\n",
            "\n",
            "                   accuracy                           0.38        50\n",
            "                  macro avg       0.10      0.18      0.12        50\n",
            "               weighted avg       0.21      0.38      0.25        50\n",
            "\n",
            "                   NaiveBayes\n",
            "Accuracy                0.380\n",
            "Balanced accuracy       0.183\n"
          ],
          "name": "stdout"
        },
        {
          "output_type": "stream",
          "text": [
            "/usr/local/lib/python3.6/dist-packages/sklearn/metrics/_classification.py:1272: UndefinedMetricWarning: Precision and F-score are ill-defined and being set to 0.0 in labels with no predicted samples. Use `zero_division` parameter to control this behavior.\n",
            "  _warn_prf(average, modifier, msg_start, len(result))\n"
          ],
          "name": "stderr"
        }
      ]
    },
    {
      "cell_type": "code",
      "metadata": {
        "colab_type": "code",
        "outputId": "bdbdab5c-32ac-4b32-a22d-9f604fb1d7f5",
        "id": "FYYV75bJSoe6",
        "colab": {
          "base_uri": "https://localhost:8080/",
          "height": 1000
        }
      },
      "source": [
        "\"\"\"Calling it with logistic regression\"\"\"\n",
        "\n",
        "from sklearn.linear_model import LogisticRegression\n",
        "\n",
        "trial2 = Pipeline([ ('vectorizer', TfidfVectorizer(stop_words=stopwords.words('english'))), ('classifier', LogisticRegression())])\n",
        "\n",
        "#It shall just give me over alla ccuracy and CM for bag of words approach in imbalaned data\n",
        "df_scores=eve_clf(trial2, X, y, df_scores,'LR')\n",
        "print(df_scores)"
      ],
      "execution_count": 84,
      "outputs": [
        {
          "output_type": "stream",
          "text": [
            "Accuracy: 0.54, Time duration: 3.1510794162750244\n",
            "Changed dataset shape y_train Counter({'Literary': 28, 'Sea and Adventure': 25, 'Detective and Mystery': 24, 'Western Stories': 13, 'Love and Romance': 13, 'Ghost and Horror': 4, 'Humorous and Wit and Satire': 4, 'Christmas Stories': 3, 'Allegories': 1})\n",
            "Changed dataset shape y_test Counter({'Literary': 12, 'Sea and Adventure': 11, 'Detective and Mystery': 10, 'Western Stories': 5, 'Love and Romance': 5, 'Christmas Stories': 2, 'Humorous and Wit and Satire': 2, 'Ghost and Horror': 2, 'Allegories': 1})\n"
          ],
          "name": "stdout"
        },
        {
          "output_type": "display_data",
          "data": {
            "image/png": "[encoded data removed]",
            "text/plain": [
              "<Figure size 1080x720 with 2 Axes>"
            ]
          },
          "metadata": {
            "tags": [],
            "needs_background": "light"
          }
        },
        {
          "output_type": "stream",
          "text": [
            "                             precision    recall  f1-score   support\n",
            "\n",
            "                 Allegories       0.00      0.00      0.00         1\n",
            "          Christmas Stories       0.00      0.00      0.00         2\n",
            "      Detective and Mystery       0.90      0.90      0.90        10\n",
            "           Ghost and Horror       0.00      0.00      0.00         2\n",
            "Humorous and Wit and Satire       0.00      0.00      0.00         2\n",
            "                   Literary       0.39      0.75      0.51        12\n",
            "           Love and Romance       0.00      0.00      0.00         5\n",
            "          Sea and Adventure       0.50      0.73      0.59        11\n",
            "            Western Stories       1.00      0.20      0.33         5\n",
            "\n",
            "                   accuracy                           0.54        50\n",
            "                  macro avg       0.31      0.29      0.26        50\n",
            "               weighted avg       0.48      0.54      0.47        50\n",
            "\n",
            "                   NaiveBayes     LR\n",
            "Accuracy                0.380  0.540\n",
            "Balanced accuracy       0.183  0.286\n"
          ],
          "name": "stdout"
        },
        {
          "output_type": "stream",
          "text": [
            "/usr/local/lib/python3.6/dist-packages/sklearn/metrics/_classification.py:1272: UndefinedMetricWarning: Precision and F-score are ill-defined and being set to 0.0 in labels with no predicted samples. Use `zero_division` parameter to control this behavior.\n",
            "  _warn_prf(average, modifier, msg_start, len(result))\n"
          ],
          "name": "stderr"
        }
      ]
    },
    {
      "cell_type": "code",
      "metadata": {
        "colab_type": "code",
        "outputId": "18154687-26c0-49e5-bb6b-c013476d7c19",
        "id": "DeMSvN2xSofD",
        "colab": {
          "base_uri": "https://localhost:8080/",
          "height": 1000
        }
      },
      "source": [
        "\"\"\"Calling it with logistic regression weighted\"\"\"\n",
        "\n",
        "from sklearn.linear_model import LogisticRegression\n",
        "\n",
        "trial2 = Pipeline([ ('vectorizer', TfidfVectorizer(stop_words=stopwords.words('english'))), ('classifier', LogisticRegression(class_weight='balanced'))])\n",
        "\n",
        "#It shall just give me over alla ccuracy and CM for bag of words approach in imbalaned data\n",
        "df_scores=eve_clf(trial2, X, y, df_scores,'LR with weights')\n",
        "print(df_scores)"
      ],
      "execution_count": 85,
      "outputs": [
        {
          "output_type": "stream",
          "text": [
            "Accuracy: 0.62, Time duration: 3.1464085578918457\n",
            "Changed dataset shape y_train Counter({'Literary': 28, 'Sea and Adventure': 25, 'Detective and Mystery': 24, 'Western Stories': 13, 'Love and Romance': 13, 'Ghost and Horror': 4, 'Humorous and Wit and Satire': 4, 'Christmas Stories': 3, 'Allegories': 1})\n",
            "Changed dataset shape y_test Counter({'Literary': 12, 'Sea and Adventure': 11, 'Detective and Mystery': 10, 'Western Stories': 5, 'Love and Romance': 5, 'Christmas Stories': 2, 'Humorous and Wit and Satire': 2, 'Ghost and Horror': 2, 'Allegories': 1})\n"
          ],
          "name": "stdout"
        },
        {
          "output_type": "display_data",
          "data": {
            "image/png": "[encoded data removed]",
            "text/plain": [
              "<Figure size 1080x720 with 2 Axes>"
            ]
          },
          "metadata": {
            "tags": [],
            "needs_background": "light"
          }
        },
        {
          "output_type": "stream",
          "text": [
            "                             precision    recall  f1-score   support\n",
            "\n",
            "                 Allegories       0.00      0.00      0.00         1\n",
            "          Christmas Stories       0.00      0.00      0.00         2\n",
            "      Detective and Mystery       0.82      0.90      0.86        10\n",
            "           Ghost and Horror       1.00      0.50      0.67         2\n",
            "Humorous and Wit and Satire       0.00      0.00      0.00         2\n",
            "                   Literary       0.50      0.17      0.25        12\n",
            "           Love and Romance       0.33      1.00      0.50         5\n",
            "          Sea and Adventure       0.64      0.82      0.72        11\n",
            "            Western Stories       1.00      1.00      1.00         5\n",
            "\n",
            "                   accuracy                           0.62        50\n",
            "                  macro avg       0.48      0.49      0.44        50\n",
            "               weighted avg       0.60      0.62      0.57        50\n",
            "\n",
            "                   NaiveBayes     LR  LR with weights\n",
            "Accuracy                0.380  0.540            0.620\n",
            "Balanced accuracy       0.183  0.286            0.487\n"
          ],
          "name": "stdout"
        },
        {
          "output_type": "stream",
          "text": [
            "/usr/local/lib/python3.6/dist-packages/sklearn/metrics/_classification.py:1272: UndefinedMetricWarning: Precision and F-score are ill-defined and being set to 0.0 in labels with no predicted samples. Use `zero_division` parameter to control this behavior.\n",
            "  _warn_prf(average, modifier, msg_start, len(result))\n"
          ],
          "name": "stderr"
        }
      ]
    },
    {
      "cell_type": "code",
      "metadata": {
        "colab_type": "code",
        "outputId": "b4952833-3040-4fa0-e95b-de5ee602524e",
        "id": "EgdjCTaVSofL",
        "colab": {
          "base_uri": "https://localhost:8080/",
          "height": 1000
        }
      },
      "source": [
        "\"\"\"Calling it with SVM without class balance\"\"\"\n",
        "\n",
        "from sklearn.svm import SVC\n",
        "\n",
        "trial2 = Pipeline([ ('vectorizer', TfidfVectorizer(max_df = .10,stop_words=stopwords.words('english'))), ('classifier', SVC())])\n",
        "\n",
        "#It shall just give me over alla ccuracy and CM for bag of words approach in imbalaned data\n",
        "df_scores=eve_clf(trial2, X, y, df_scores,'SVM')\n",
        "print(df_scores)"
      ],
      "execution_count": 86,
      "outputs": [
        {
          "output_type": "stream",
          "text": [
            "Accuracy: 0.24, Time duration: 1.56913161277771\n",
            "Changed dataset shape y_train Counter({'Literary': 28, 'Sea and Adventure': 25, 'Detective and Mystery': 24, 'Western Stories': 13, 'Love and Romance': 13, 'Ghost and Horror': 4, 'Humorous and Wit and Satire': 4, 'Christmas Stories': 3, 'Allegories': 1})\n",
            "Changed dataset shape y_test Counter({'Literary': 12, 'Sea and Adventure': 11, 'Detective and Mystery': 10, 'Western Stories': 5, 'Love and Romance': 5, 'Christmas Stories': 2, 'Humorous and Wit and Satire': 2, 'Ghost and Horror': 2, 'Allegories': 1})\n"
          ],
          "name": "stdout"
        },
        {
          "output_type": "display_data",
          "data": {
            "image/png": "[encoded data removed]",
            "text/plain": [
              "<Figure size 1080x720 with 2 Axes>"
            ]
          },
          "metadata": {
            "tags": [],
            "needs_background": "light"
          }
        },
        {
          "output_type": "stream",
          "text": [
            "                             precision    recall  f1-score   support\n",
            "\n",
            "                 Allegories       0.00      0.00      0.00         1\n",
            "          Christmas Stories       0.00      0.00      0.00         2\n",
            "      Detective and Mystery       0.00      0.00      0.00        10\n",
            "           Ghost and Horror       0.00      0.00      0.00         2\n",
            "Humorous and Wit and Satire       0.00      0.00      0.00         2\n",
            "                   Literary       0.24      1.00      0.39        12\n",
            "           Love and Romance       0.00      0.00      0.00         5\n",
            "          Sea and Adventure       0.00      0.00      0.00        11\n",
            "            Western Stories       0.00      0.00      0.00         5\n",
            "\n",
            "                   accuracy                           0.24        50\n",
            "                  macro avg       0.03      0.11      0.04        50\n",
            "               weighted avg       0.06      0.24      0.09        50\n",
            "\n",
            "                   NaiveBayes     LR  LR with weights    SVM\n",
            "Accuracy                0.380  0.540            0.620  0.240\n",
            "Balanced accuracy       0.183  0.286            0.487  0.111\n"
          ],
          "name": "stdout"
        },
        {
          "output_type": "stream",
          "text": [
            "/usr/local/lib/python3.6/dist-packages/sklearn/metrics/_classification.py:1272: UndefinedMetricWarning: Precision and F-score are ill-defined and being set to 0.0 in labels with no predicted samples. Use `zero_division` parameter to control this behavior.\n",
            "  _warn_prf(average, modifier, msg_start, len(result))\n"
          ],
          "name": "stderr"
        }
      ]
    },
    {
      "cell_type": "code",
      "metadata": {
        "colab_type": "code",
        "outputId": "c62969cf-4c2b-4bcc-c6c7-ac540aea2929",
        "id": "8GLh4VY-SofT",
        "colab": {
          "base_uri": "https://localhost:8080/",
          "height": 1000
        }
      },
      "source": [
        "\"\"\"Calling it with SVM with class balance\"\"\"\n",
        "\n",
        "from sklearn.svm import SVC\n",
        "\n",
        "trial2 = Pipeline([ ('vectorizer', TfidfVectorizer(max_df = .10,stop_words=stopwords.words('english'))), ('classifier', SVC(class_weight='balanced'))])\n",
        "\n",
        "#It shall just give me over alla ccuracy and CM for bag of words approach in imbalaned data\n",
        "df_scores=eve_clf(trial2, X, y, df_scores,'SVM with weights')\n",
        "print(df_scores)"
      ],
      "execution_count": 87,
      "outputs": [
        {
          "output_type": "stream",
          "text": [
            "Accuracy: 0.2, Time duration: 1.4133548736572266\n",
            "Changed dataset shape y_train Counter({'Literary': 28, 'Sea and Adventure': 25, 'Detective and Mystery': 24, 'Western Stories': 13, 'Love and Romance': 13, 'Ghost and Horror': 4, 'Humorous and Wit and Satire': 4, 'Christmas Stories': 3, 'Allegories': 1})\n",
            "Changed dataset shape y_test Counter({'Literary': 12, 'Sea and Adventure': 11, 'Detective and Mystery': 10, 'Western Stories': 5, 'Love and Romance': 5, 'Christmas Stories': 2, 'Humorous and Wit and Satire': 2, 'Ghost and Horror': 2, 'Allegories': 1})\n"
          ],
          "name": "stdout"
        },
        {
          "output_type": "display_data",
          "data": {
            "image/png": "[encoded data removed]",
            "text/plain": [
              "<Figure size 1080x720 with 2 Axes>"
            ]
          },
          "metadata": {
            "tags": [],
            "needs_background": "light"
          }
        },
        {
          "output_type": "stream",
          "text": [
            "                             precision    recall  f1-score   support\n",
            "\n",
            "                 Allegories       0.00      0.00      0.00         1\n",
            "          Christmas Stories       0.00      0.00      0.00         2\n",
            "      Detective and Mystery       0.20      1.00      0.33        10\n",
            "           Ghost and Horror       0.00      0.00      0.00         2\n",
            "Humorous and Wit and Satire       0.00      0.00      0.00         2\n",
            "                   Literary       0.00      0.00      0.00        12\n",
            "           Love and Romance       0.00      0.00      0.00         5\n",
            "          Sea and Adventure       0.00      0.00      0.00        11\n",
            "            Western Stories       0.00      0.00      0.00         5\n",
            "\n",
            "                   accuracy                           0.20        50\n",
            "                  macro avg       0.02      0.11      0.04        50\n",
            "               weighted avg       0.04      0.20      0.07        50\n",
            "\n",
            "                   NaiveBayes     LR  LR with weights    SVM  SVM with weights\n",
            "Accuracy                0.380  0.540            0.620  0.240             0.200\n",
            "Balanced accuracy       0.183  0.286            0.487  0.111             0.111\n"
          ],
          "name": "stdout"
        },
        {
          "output_type": "stream",
          "text": [
            "/usr/local/lib/python3.6/dist-packages/sklearn/metrics/_classification.py:1272: UndefinedMetricWarning: Precision and F-score are ill-defined and being set to 0.0 in labels with no predicted samples. Use `zero_division` parameter to control this behavior.\n",
            "  _warn_prf(average, modifier, msg_start, len(result))\n"
          ],
          "name": "stderr"
        }
      ]
    },
    {
      "cell_type": "code",
      "metadata": {
        "id": "Cvi1GduWbgeM",
        "colab_type": "code",
        "colab": {}
      },
      "source": [
        "balanced_books = over_sampled[['data', 'genre']]"
      ],
      "execution_count": 0,
      "outputs": []
    },
    {
      "cell_type": "code",
      "metadata": {
        "id": "NLwgG_93bokP",
        "colab_type": "code",
        "colab": {
          "base_uri": "https://localhost:8080/",
          "height": 35
        },
        "outputId": "4eaf7196-92fc-4653-8819-5954accee899"
      },
      "source": [
        "balanced_books.shape"
      ],
      "execution_count": 89,
      "outputs": [
        {
          "output_type": "execute_result",
          "data": {
            "text/plain": [
              "(314, 2)"
            ]
          },
          "metadata": {
            "tags": []
          },
          "execution_count": 89
        }
      ]
    },
    {
      "cell_type": "code",
      "metadata": {
        "id": "l7mT7Mzbbvca",
        "colab_type": "code",
        "colab": {}
      },
      "source": [
        "balanced_books.to_csv(\"balanced_books.csv\")"
      ],
      "execution_count": 0,
      "outputs": []
    }
  ]
}
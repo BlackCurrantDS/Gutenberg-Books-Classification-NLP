{
  "nbformat": 4,
  "nbformat_minor": 0,
  "metadata": {
    "colab": {
      "name": "Train_Test_Split.ipynb",
      "provenance": [],
      "toc_visible": true,
      "authorship_tag": "ABX9TyPh1LP9IO377YrUc0gc2G8p",
      "include_colab_link": true
    },
    "kernelspec": {
      "name": "python3",
      "display_name": "Python 3"
    }
  },
  "cells": [
    {
      "cell_type": "markdown",
      "metadata": {
        "id": "view-in-github",
        "colab_type": "text"
      },
      "source": [
        "<a href=\"https://colab.research.google.com/github/BlackCurrantDS/ATiML-Project/blob/master/Train_Test_Split.ipynb\" target=\"_parent\"><img src=\"https://colab.research.google.com/assets/colab-badge.svg\" alt=\"Open In Colab\"/></a>"
      ]
    },
    {
      "cell_type": "code",
      "metadata": {
        "id": "gWRUVJU59T4e",
        "colab_type": "code",
        "colab": {}
      },
      "source": [
        "from sklearn.model_selection import train_test_split"
      ],
      "execution_count": 0,
      "outputs": []
    },
    {
      "cell_type": "code",
      "metadata": {
        "id": "BUmLLkbijnlq",
        "colab_type": "code",
        "outputId": "fb0f7e76-d08e-4880-83ec-eb65b0d4eb13",
        "colab": {
          "base_uri": "https://localhost:8080/",
          "height": 204
        }
      },
      "source": [
        "import pandas as pd\n",
        "books = pd.read_csv(\"balanced_books.csv\",index_col=0)\n",
        "books.head(5)"
      ],
      "execution_count": 0,
      "outputs": [
        {
          "output_type": "execute_result",
          "data": {
            "text/html": [
              "<div>\n",
              "<style scoped>\n",
              "    .dataframe tbody tr th:only-of-type {\n",
              "        vertical-align: middle;\n",
              "    }\n",
              "\n",
              "    .dataframe tbody tr th {\n",
              "        vertical-align: top;\n",
              "    }\n",
              "\n",
              "    .dataframe thead th {\n",
              "        text-align: right;\n",
              "    }\n",
              "</style>\n",
              "<table border=\"1\" class=\"dataframe\">\n",
              "  <thead>\n",
              "    <tr style=\"text-align: right;\">\n",
              "      <th></th>\n",
              "      <th>data</th>\n",
              "      <th>genre</th>\n",
              "    </tr>\n",
              "  </thead>\n",
              "  <tbody>\n",
              "    <tr>\n",
              "      <th>0</th>\n",
              "      <td>\"As a recounter of stories of mingled mystery ...</td>\n",
              "      <td>Detective and Mystery</td>\n",
              "    </tr>\n",
              "    <tr>\n",
              "      <th>1</th>\n",
              "      <td>The dull October afternoon was rapidly drawing...</td>\n",
              "      <td>Detective and Mystery</td>\n",
              "    </tr>\n",
              "    <tr>\n",
              "      <th>2</th>\n",
              "      <td>It was Carnival time in the ancient and once i...</td>\n",
              "      <td>Detective and Mystery</td>\n",
              "    </tr>\n",
              "    <tr>\n",
              "      <th>3</th>\n",
              "      <td>Certain portions of England yet remain undisco...</td>\n",
              "      <td>Detective and Mystery</td>\n",
              "    </tr>\n",
              "    <tr>\n",
              "      <th>4</th>\n",
              "      <td>Hearing the sound of lightly-falling footsteps...</td>\n",
              "      <td>Detective and Mystery</td>\n",
              "    </tr>\n",
              "  </tbody>\n",
              "</table>\n",
              "</div>"
            ],
            "text/plain": [
              "                                                data                  genre\n",
              "0  \"As a recounter of stories of mingled mystery ...  Detective and Mystery\n",
              "1  The dull October afternoon was rapidly drawing...  Detective and Mystery\n",
              "2  It was Carnival time in the ancient and once i...  Detective and Mystery\n",
              "3  Certain portions of England yet remain undisco...  Detective and Mystery\n",
              "4  Hearing the sound of lightly-falling footsteps...  Detective and Mystery"
            ]
          },
          "metadata": {
            "tags": []
          },
          "execution_count": 27
        }
      ]
    },
    {
      "cell_type": "markdown",
      "metadata": {
        "id": "3brRP_JhODmN",
        "colab_type": "text"
      },
      "source": [
        "**Assign a new ID column **"
      ]
    },
    {
      "cell_type": "code",
      "metadata": {
        "id": "jz0ZQ7irOKTh",
        "colab_type": "code",
        "colab": {}
      },
      "source": [
        "books.insert(0, 'ID', range(100, 100 + len(books)))"
      ],
      "execution_count": 0,
      "outputs": []
    },
    {
      "cell_type": "code",
      "metadata": {
        "id": "5MMzNpRIj50Z",
        "colab_type": "code",
        "outputId": "0bb056e7-2a4f-4bc4-ba71-21ab940b6de4",
        "colab": {
          "base_uri": "https://localhost:8080/",
          "height": 34
        }
      },
      "source": [
        "books.shape"
      ],
      "execution_count": 0,
      "outputs": [
        {
          "output_type": "execute_result",
          "data": {
            "text/plain": [
              "(314, 3)"
            ]
          },
          "metadata": {
            "tags": []
          },
          "execution_count": 29
        }
      ]
    },
    {
      "cell_type": "code",
      "metadata": {
        "id": "7RGJSPFhOrjZ",
        "colab_type": "code",
        "outputId": "8e21afb4-ca1f-4f58-9576-cf7a015cf571",
        "colab": {
          "base_uri": "https://localhost:8080/",
          "height": 204
        }
      },
      "source": [
        "books.head(5)"
      ],
      "execution_count": 0,
      "outputs": [
        {
          "output_type": "execute_result",
          "data": {
            "text/html": [
              "<div>\n",
              "<style scoped>\n",
              "    .dataframe tbody tr th:only-of-type {\n",
              "        vertical-align: middle;\n",
              "    }\n",
              "\n",
              "    .dataframe tbody tr th {\n",
              "        vertical-align: top;\n",
              "    }\n",
              "\n",
              "    .dataframe thead th {\n",
              "        text-align: right;\n",
              "    }\n",
              "</style>\n",
              "<table border=\"1\" class=\"dataframe\">\n",
              "  <thead>\n",
              "    <tr style=\"text-align: right;\">\n",
              "      <th></th>\n",
              "      <th>ID</th>\n",
              "      <th>data</th>\n",
              "      <th>genre</th>\n",
              "    </tr>\n",
              "  </thead>\n",
              "  <tbody>\n",
              "    <tr>\n",
              "      <th>0</th>\n",
              "      <td>100</td>\n",
              "      <td>\"As a recounter of stories of mingled mystery ...</td>\n",
              "      <td>Detective and Mystery</td>\n",
              "    </tr>\n",
              "    <tr>\n",
              "      <th>1</th>\n",
              "      <td>101</td>\n",
              "      <td>The dull October afternoon was rapidly drawing...</td>\n",
              "      <td>Detective and Mystery</td>\n",
              "    </tr>\n",
              "    <tr>\n",
              "      <th>2</th>\n",
              "      <td>102</td>\n",
              "      <td>It was Carnival time in the ancient and once i...</td>\n",
              "      <td>Detective and Mystery</td>\n",
              "    </tr>\n",
              "    <tr>\n",
              "      <th>3</th>\n",
              "      <td>103</td>\n",
              "      <td>Certain portions of England yet remain undisco...</td>\n",
              "      <td>Detective and Mystery</td>\n",
              "    </tr>\n",
              "    <tr>\n",
              "      <th>4</th>\n",
              "      <td>104</td>\n",
              "      <td>Hearing the sound of lightly-falling footsteps...</td>\n",
              "      <td>Detective and Mystery</td>\n",
              "    </tr>\n",
              "  </tbody>\n",
              "</table>\n",
              "</div>"
            ],
            "text/plain": [
              "    ID  ...                  genre\n",
              "0  100  ...  Detective and Mystery\n",
              "1  101  ...  Detective and Mystery\n",
              "2  102  ...  Detective and Mystery\n",
              "3  103  ...  Detective and Mystery\n",
              "4  104  ...  Detective and Mystery\n",
              "\n",
              "[5 rows x 3 columns]"
            ]
          },
          "metadata": {
            "tags": []
          },
          "execution_count": 30
        }
      ]
    },
    {
      "cell_type": "markdown",
      "metadata": {
        "id": "Iy9VD9nkpH3a",
        "colab_type": "text"
      },
      "source": [
        "# 25% test data"
      ]
    },
    {
      "cell_type": "code",
      "metadata": {
        "id": "26qYjUA6m1_2",
        "colab_type": "code",
        "colab": {}
      },
      "source": [
        "books_tr, books_test = train_test_split(books, test_size=.25, shuffle=True, stratify = books['genre'])"
      ],
      "execution_count": 0,
      "outputs": []
    },
    {
      "cell_type": "code",
      "metadata": {
        "id": "oohk0GJZnO82",
        "colab_type": "code",
        "outputId": "89161e07-3918-4609-f584-32399f6e912b",
        "colab": {
          "base_uri": "https://localhost:8080/",
          "height": 51
        }
      },
      "source": [
        "print(\"Lenght of the training is\", len(books_tr), books_tr.shape)\n",
        "print(\"Lenght of the test is\", len(books_test), books_test.shape)"
      ],
      "execution_count": 0,
      "outputs": [
        {
          "output_type": "stream",
          "text": [
            "Lenght of the training is 235 (235, 3)\n",
            "Lenght of the test is 79 (79, 3)\n"
          ],
          "name": "stdout"
        }
      ]
    },
    {
      "cell_type": "markdown",
      "metadata": {
        "id": "fCfN2pzIuwPW",
        "colab_type": "text"
      },
      "source": [
        "# 25% Validation set"
      ]
    },
    {
      "cell_type": "code",
      "metadata": {
        "id": "eVajafC1o-E_",
        "colab_type": "code",
        "colab": {}
      },
      "source": [
        "books_train, books_validation = train_test_split(books_tr, test_size=.34, shuffle=True, stratify = books_tr['genre'])"
      ],
      "execution_count": 0,
      "outputs": []
    },
    {
      "cell_type": "code",
      "metadata": {
        "id": "GdYW4qYopY8M",
        "colab_type": "code",
        "outputId": "9be8014e-10bc-4f2c-f9d9-a6f1f18380f3",
        "colab": {
          "base_uri": "https://localhost:8080/",
          "height": 51
        }
      },
      "source": [
        "print(\"Lenght of the training is\", len(books_train), books_train.shape)\n",
        "print(\"Lenght of the validation is\", len(books_validation), books_validation.shape)"
      ],
      "execution_count": 0,
      "outputs": [
        {
          "output_type": "stream",
          "text": [
            "Lenght of the training is 155 (155, 3)\n",
            "Lenght of the validation is 80 (80, 3)\n"
          ],
          "name": "stdout"
        }
      ]
    },
    {
      "cell_type": "markdown",
      "metadata": {
        "id": "XUgkJ1uIvV5i",
        "colab_type": "text"
      },
      "source": [
        "**Export train/test/validation set as dataframe**"
      ]
    },
    {
      "cell_type": "code",
      "metadata": {
        "id": "UAYFIly2u7E2",
        "colab_type": "code",
        "outputId": "b644c99f-db54-45b2-e8b6-8d19dcd0e493",
        "colab": {
          "base_uri": "https://localhost:8080/",
          "height": 204
        }
      },
      "source": [
        "books_train.head(5)"
      ],
      "execution_count": 0,
      "outputs": [
        {
          "output_type": "execute_result",
          "data": {
            "text/html": [
              "<div>\n",
              "<style scoped>\n",
              "    .dataframe tbody tr th:only-of-type {\n",
              "        vertical-align: middle;\n",
              "    }\n",
              "\n",
              "    .dataframe tbody tr th {\n",
              "        vertical-align: top;\n",
              "    }\n",
              "\n",
              "    .dataframe thead th {\n",
              "        text-align: right;\n",
              "    }\n",
              "</style>\n",
              "<table border=\"1\" class=\"dataframe\">\n",
              "  <thead>\n",
              "    <tr style=\"text-align: right;\">\n",
              "      <th></th>\n",
              "      <th>ID</th>\n",
              "      <th>data</th>\n",
              "      <th>genre</th>\n",
              "    </tr>\n",
              "  </thead>\n",
              "  <tbody>\n",
              "    <tr>\n",
              "      <th>114</th>\n",
              "      <td>214</td>\n",
              "      <td>A solitary fisher ploughed the lively blue of ...</td>\n",
              "      <td>Allegories</td>\n",
              "    </tr>\n",
              "    <tr>\n",
              "      <th>315</th>\n",
              "      <td>387</td>\n",
              "      <td>Shortly.\\n... The first shot was just a rib to...</td>\n",
              "      <td>Sea and Adventure</td>\n",
              "    </tr>\n",
              "    <tr>\n",
              "      <th>100</th>\n",
              "      <td>200</td>\n",
              "      <td>In the steeple of an old church was a beautifu...</td>\n",
              "      <td>Allegories</td>\n",
              "    </tr>\n",
              "    <tr>\n",
              "      <th>211</th>\n",
              "      <td>311</td>\n",
              "      <td>The Works of E. P. Roe\\n\"Some shallow story of...</td>\n",
              "      <td>Love and Romance</td>\n",
              "    </tr>\n",
              "    <tr>\n",
              "      <th>151</th>\n",
              "      <td>251</td>\n",
              "      <td>IT will surprise and at the same time possibly...</td>\n",
              "      <td>Ghost and Horror</td>\n",
              "    </tr>\n",
              "  </tbody>\n",
              "</table>\n",
              "</div>"
            ],
            "text/plain": [
              "      ID                                               data              genre\n",
              "114  214  A solitary fisher ploughed the lively blue of ...         Allegories\n",
              "315  387  Shortly.\\n... The first shot was just a rib to...  Sea and Adventure\n",
              "100  200  In the steeple of an old church was a beautifu...         Allegories\n",
              "211  311  The Works of E. P. Roe\\n\"Some shallow story of...   Love and Romance\n",
              "151  251  IT will surprise and at the same time possibly...   Ghost and Horror"
            ]
          },
          "metadata": {
            "tags": []
          },
          "execution_count": 35
        }
      ]
    },
    {
      "cell_type": "code",
      "metadata": {
        "id": "1dLv1PSdvArg",
        "colab_type": "code",
        "colab": {}
      },
      "source": [
        "books_train.to_csv(\"books_train.csv\")\n",
        "books_test.to_csv(\"books_test.csv\")\n",
        "books_validation.to_csv(\"books_validation.csv\")"
      ],
      "execution_count": 0,
      "outputs": []
    }
  ]
}
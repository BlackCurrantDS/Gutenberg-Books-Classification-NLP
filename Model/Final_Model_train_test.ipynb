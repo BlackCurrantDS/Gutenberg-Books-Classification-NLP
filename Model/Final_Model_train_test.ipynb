{
  "nbformat": 4,
  "nbformat_minor": 0,
  "metadata": {
    "colab": {
      "name": "Final_Model_train_test.ipynb",
      "provenance": [],
      "collapsed_sections": [],
      "authorship_tag": "ABX9TyMTsblFZ9h3zQVHPN+gND5v",
      "include_colab_link": true
    },
    "kernelspec": {
      "name": "python3",
      "display_name": "Python 3"
    }
  },
  "cells": [
    {
      "cell_type": "markdown",
      "metadata": {
        "id": "view-in-github",
        "colab_type": "text"
      },
      "source": [
        "<a href=\"https://colab.research.google.com/github/BlackCurrantDS/ATiML-Project/blob/master/Final_Model_train_test.ipynb\" target=\"_parent\"><img src=\"https://colab.research.google.com/assets/colab-badge.svg\" alt=\"Open In Colab\"/></a>"
      ]
    },
    {
      "cell_type": "code",
      "metadata": {
        "id": "L8tjucG06c35",
        "colab_type": "code",
        "colab": {}
      },
      "source": [
        "import pandas as pd\n",
        "import numpy as np"
      ],
      "execution_count": 0,
      "outputs": []
    },
    {
      "cell_type": "code",
      "metadata": {
        "id": "vfLLajTo6ykE",
        "colab_type": "code",
        "colab": {}
      },
      "source": [
        "train_data = pd.read_csv(\"features_scaled_train.csv\", index_col=0)"
      ],
      "execution_count": 0,
      "outputs": []
    },
    {
      "cell_type": "code",
      "metadata": {
        "id": "l9w5mkjc6-v7",
        "colab_type": "code",
        "outputId": "7c67d5d7-1a24-430d-d18b-d5db453fdc19",
        "colab": {
          "base_uri": "https://localhost:8080/",
          "height": 100
        }
      },
      "source": [
        "train_data.head(1)"
      ],
      "execution_count": 3,
      "outputs": [
        {
          "output_type": "execute_result",
          "data": {
            "text/html": [
              "<div>\n",
              "<style scoped>\n",
              "    .dataframe tbody tr th:only-of-type {\n",
              "        vertical-align: middle;\n",
              "    }\n",
              "\n",
              "    .dataframe tbody tr th {\n",
              "        vertical-align: top;\n",
              "    }\n",
              "\n",
              "    .dataframe thead th {\n",
              "        text-align: right;\n",
              "    }\n",
              "</style>\n",
              "<table border=\"1\" class=\"dataframe\">\n",
              "  <thead>\n",
              "    <tr style=\"text-align: right;\">\n",
              "      <th></th>\n",
              "      <th>ID</th>\n",
              "      <th>book_lenght</th>\n",
              "      <th>book_sen</th>\n",
              "      <th>book_word</th>\n",
              "      <th>lenght_book</th>\n",
              "      <th>number_sen</th>\n",
              "      <th>number_word</th>\n",
              "      <th>number_of_stop_words</th>\n",
              "      <th>number_of_foreignwords</th>\n",
              "      <th>count_dial_break</th>\n",
              "      <th>noun</th>\n",
              "      <th>verb</th>\n",
              "      <th>adj</th>\n",
              "      <th>ProperNoun</th>\n",
              "      <th>num</th>\n",
              "      <th>Puch</th>\n",
              "      <th>she</th>\n",
              "      <th>he</th>\n",
              "      <th>she_he_ratio</th>\n",
              "      <th>period</th>\n",
              "      <th>comma</th>\n",
              "      <th>colon</th>\n",
              "      <th>semi_colon</th>\n",
              "      <th>exl</th>\n",
              "      <th>q</th>\n",
              "      <th>positive_x</th>\n",
              "      <th>negative_x</th>\n",
              "      <th>neutral</th>\n",
              "      <th>compund</th>\n",
              "      <th>positive_y</th>\n",
              "      <th>negative_y</th>\n",
              "      <th>anger</th>\n",
              "      <th>disgust</th>\n",
              "      <th>fear</th>\n",
              "      <th>sadness</th>\n",
              "      <th>anticipation</th>\n",
              "      <th>joy</th>\n",
              "      <th>surprise</th>\n",
              "      <th>trust</th>\n",
              "      <th>genre</th>\n",
              "    </tr>\n",
              "  </thead>\n",
              "  <tbody>\n",
              "    <tr>\n",
              "      <th>0</th>\n",
              "      <td>214.0</td>\n",
              "      <td>0.277991</td>\n",
              "      <td>0.299471</td>\n",
              "      <td>0.278088</td>\n",
              "      <td>0.277991</td>\n",
              "      <td>0.299471</td>\n",
              "      <td>0.278088</td>\n",
              "      <td>0.535962</td>\n",
              "      <td>0.038124</td>\n",
              "      <td>0.009887</td>\n",
              "      <td>0.527253</td>\n",
              "      <td>0.48169</td>\n",
              "      <td>0.653485</td>\n",
              "      <td>0.0</td>\n",
              "      <td>0.37607</td>\n",
              "      <td>0.598408</td>\n",
              "      <td>0.250728</td>\n",
              "      <td>0.30137</td>\n",
              "      <td>0.107704</td>\n",
              "      <td>0.390218</td>\n",
              "      <td>0.641153</td>\n",
              "      <td>0.699711</td>\n",
              "      <td>0.459219</td>\n",
              "      <td>0.278968</td>\n",
              "      <td>0.453705</td>\n",
              "      <td>0.011573</td>\n",
              "      <td>0.0</td>\n",
              "      <td>0.009859</td>\n",
              "      <td>0.073315</td>\n",
              "      <td>0.349139</td>\n",
              "      <td>1.0</td>\n",
              "      <td>1.0</td>\n",
              "      <td>0.944704</td>\n",
              "      <td>1.0</td>\n",
              "      <td>0.759819</td>\n",
              "      <td>0.580613</td>\n",
              "      <td>0.663251</td>\n",
              "      <td>0.653755</td>\n",
              "      <td>0.47033</td>\n",
              "      <td>Allegories</td>\n",
              "    </tr>\n",
              "  </tbody>\n",
              "</table>\n",
              "</div>"
            ],
            "text/plain": [
              "      ID  book_lenght  book_sen  ...  surprise    trust       genre\n",
              "0  214.0     0.277991  0.299471  ...  0.653755  0.47033  Allegories\n",
              "\n",
              "[1 rows x 40 columns]"
            ]
          },
          "metadata": {
            "tags": []
          },
          "execution_count": 3
        }
      ]
    },
    {
      "cell_type": "code",
      "metadata": {
        "id": "OmVRqi1D66nC",
        "colab_type": "code",
        "colab": {}
      },
      "source": [
        "val_data = pd.read_csv(\"features_scaled_test.csv\", index_col=0)"
      ],
      "execution_count": 0,
      "outputs": []
    },
    {
      "cell_type": "code",
      "metadata": {
        "id": "UPNP87Zf7D-O",
        "colab_type": "code",
        "outputId": "48e17ac3-53fb-467e-d12f-dbeac3c25b01",
        "colab": {
          "base_uri": "https://localhost:8080/",
          "height": 134
        }
      },
      "source": [
        "val_data.head(1)"
      ],
      "execution_count": 5,
      "outputs": [
        {
          "output_type": "execute_result",
          "data": {
            "text/html": [
              "<div>\n",
              "<style scoped>\n",
              "    .dataframe tbody tr th:only-of-type {\n",
              "        vertical-align: middle;\n",
              "    }\n",
              "\n",
              "    .dataframe tbody tr th {\n",
              "        vertical-align: top;\n",
              "    }\n",
              "\n",
              "    .dataframe thead th {\n",
              "        text-align: right;\n",
              "    }\n",
              "</style>\n",
              "<table border=\"1\" class=\"dataframe\">\n",
              "  <thead>\n",
              "    <tr style=\"text-align: right;\">\n",
              "      <th></th>\n",
              "      <th>ID</th>\n",
              "      <th>book_lenght</th>\n",
              "      <th>book_sen</th>\n",
              "      <th>book_word</th>\n",
              "      <th>lenght_book</th>\n",
              "      <th>number_sen</th>\n",
              "      <th>number_word</th>\n",
              "      <th>number_of_stop_words</th>\n",
              "      <th>number_of_foreignwords</th>\n",
              "      <th>count_dial_break</th>\n",
              "      <th>noun</th>\n",
              "      <th>verb</th>\n",
              "      <th>adj</th>\n",
              "      <th>ProperNoun</th>\n",
              "      <th>num</th>\n",
              "      <th>Puch</th>\n",
              "      <th>she</th>\n",
              "      <th>he</th>\n",
              "      <th>she_he_ratio</th>\n",
              "      <th>period</th>\n",
              "      <th>comma</th>\n",
              "      <th>colon</th>\n",
              "      <th>semi_colon</th>\n",
              "      <th>exl</th>\n",
              "      <th>q</th>\n",
              "      <th>positive_x</th>\n",
              "      <th>negative_x</th>\n",
              "      <th>neutral</th>\n",
              "      <th>compund</th>\n",
              "      <th>positive_y</th>\n",
              "      <th>negative_y</th>\n",
              "      <th>anger</th>\n",
              "      <th>disgust</th>\n",
              "      <th>fear</th>\n",
              "      <th>sadness</th>\n",
              "      <th>anticipation</th>\n",
              "      <th>joy</th>\n",
              "      <th>surprise</th>\n",
              "      <th>trust</th>\n",
              "      <th>genre</th>\n",
              "    </tr>\n",
              "  </thead>\n",
              "  <tbody>\n",
              "    <tr>\n",
              "      <th>0</th>\n",
              "      <td>147.0</td>\n",
              "      <td>0.37945</td>\n",
              "      <td>0.339057</td>\n",
              "      <td>0.360581</td>\n",
              "      <td>0.37945</td>\n",
              "      <td>0.339057</td>\n",
              "      <td>0.360581</td>\n",
              "      <td>0.501097</td>\n",
              "      <td>0.053684</td>\n",
              "      <td>0.144893</td>\n",
              "      <td>0.545683</td>\n",
              "      <td>0.0</td>\n",
              "      <td>1.0</td>\n",
              "      <td>0.0</td>\n",
              "      <td>0.049009</td>\n",
              "      <td>0.309116</td>\n",
              "      <td>0.158018</td>\n",
              "      <td>0.476556</td>\n",
              "      <td>0.158066</td>\n",
              "      <td>0.403872</td>\n",
              "      <td>0.913967</td>\n",
              "      <td>0.020178</td>\n",
              "      <td>0.283141</td>\n",
              "      <td>0.055442</td>\n",
              "      <td>0.091978</td>\n",
              "      <td>0.0</td>\n",
              "      <td>0.0</td>\n",
              "      <td>0.134361</td>\n",
              "      <td>0.431016</td>\n",
              "      <td>0.717646</td>\n",
              "      <td>0.602116</td>\n",
              "      <td>0.612711</td>\n",
              "      <td>0.643977</td>\n",
              "      <td>0.493043</td>\n",
              "      <td>0.504342</td>\n",
              "      <td>0.584063</td>\n",
              "      <td>0.658826</td>\n",
              "      <td>0.296342</td>\n",
              "      <td>0.857841</td>\n",
              "      <td>Ghost and Horror</td>\n",
              "    </tr>\n",
              "  </tbody>\n",
              "</table>\n",
              "</div>"
            ],
            "text/plain": [
              "      ID  book_lenght  book_sen  ...  surprise     trust             genre\n",
              "0  147.0      0.37945  0.339057  ...  0.296342  0.857841  Ghost and Horror\n",
              "\n",
              "[1 rows x 40 columns]"
            ]
          },
          "metadata": {
            "tags": []
          },
          "execution_count": 5
        }
      ]
    },
    {
      "cell_type": "code",
      "metadata": {
        "id": "iDqzlNte8WEb",
        "colab_type": "code",
        "colab": {}
      },
      "source": [
        "first_cols = ['ID','genre']#,'Author_Name', 'Book_Name'\n",
        "last_cols = [col for col in train_data.columns if col not in first_cols]\n",
        "\n",
        "train_data = train_data[first_cols+last_cols]"
      ],
      "execution_count": 0,
      "outputs": []
    },
    {
      "cell_type": "code",
      "metadata": {
        "id": "Brlu0iAP8qmx",
        "colab_type": "code",
        "outputId": "4b4d23eb-90b2-4bd6-ffa8-dcd1c6106809",
        "colab": {
          "base_uri": "https://localhost:8080/",
          "height": 100
        }
      },
      "source": [
        "train_data.head(1)"
      ],
      "execution_count": 7,
      "outputs": [
        {
          "output_type": "execute_result",
          "data": {
            "text/html": [
              "<div>\n",
              "<style scoped>\n",
              "    .dataframe tbody tr th:only-of-type {\n",
              "        vertical-align: middle;\n",
              "    }\n",
              "\n",
              "    .dataframe tbody tr th {\n",
              "        vertical-align: top;\n",
              "    }\n",
              "\n",
              "    .dataframe thead th {\n",
              "        text-align: right;\n",
              "    }\n",
              "</style>\n",
              "<table border=\"1\" class=\"dataframe\">\n",
              "  <thead>\n",
              "    <tr style=\"text-align: right;\">\n",
              "      <th></th>\n",
              "      <th>ID</th>\n",
              "      <th>genre</th>\n",
              "      <th>book_lenght</th>\n",
              "      <th>book_sen</th>\n",
              "      <th>book_word</th>\n",
              "      <th>lenght_book</th>\n",
              "      <th>number_sen</th>\n",
              "      <th>number_word</th>\n",
              "      <th>number_of_stop_words</th>\n",
              "      <th>number_of_foreignwords</th>\n",
              "      <th>count_dial_break</th>\n",
              "      <th>noun</th>\n",
              "      <th>verb</th>\n",
              "      <th>adj</th>\n",
              "      <th>ProperNoun</th>\n",
              "      <th>num</th>\n",
              "      <th>Puch</th>\n",
              "      <th>she</th>\n",
              "      <th>he</th>\n",
              "      <th>she_he_ratio</th>\n",
              "      <th>period</th>\n",
              "      <th>comma</th>\n",
              "      <th>colon</th>\n",
              "      <th>semi_colon</th>\n",
              "      <th>exl</th>\n",
              "      <th>q</th>\n",
              "      <th>positive_x</th>\n",
              "      <th>negative_x</th>\n",
              "      <th>neutral</th>\n",
              "      <th>compund</th>\n",
              "      <th>positive_y</th>\n",
              "      <th>negative_y</th>\n",
              "      <th>anger</th>\n",
              "      <th>disgust</th>\n",
              "      <th>fear</th>\n",
              "      <th>sadness</th>\n",
              "      <th>anticipation</th>\n",
              "      <th>joy</th>\n",
              "      <th>surprise</th>\n",
              "      <th>trust</th>\n",
              "    </tr>\n",
              "  </thead>\n",
              "  <tbody>\n",
              "    <tr>\n",
              "      <th>0</th>\n",
              "      <td>214.0</td>\n",
              "      <td>Allegories</td>\n",
              "      <td>0.277991</td>\n",
              "      <td>0.299471</td>\n",
              "      <td>0.278088</td>\n",
              "      <td>0.277991</td>\n",
              "      <td>0.299471</td>\n",
              "      <td>0.278088</td>\n",
              "      <td>0.535962</td>\n",
              "      <td>0.038124</td>\n",
              "      <td>0.009887</td>\n",
              "      <td>0.527253</td>\n",
              "      <td>0.48169</td>\n",
              "      <td>0.653485</td>\n",
              "      <td>0.0</td>\n",
              "      <td>0.37607</td>\n",
              "      <td>0.598408</td>\n",
              "      <td>0.250728</td>\n",
              "      <td>0.30137</td>\n",
              "      <td>0.107704</td>\n",
              "      <td>0.390218</td>\n",
              "      <td>0.641153</td>\n",
              "      <td>0.699711</td>\n",
              "      <td>0.459219</td>\n",
              "      <td>0.278968</td>\n",
              "      <td>0.453705</td>\n",
              "      <td>0.011573</td>\n",
              "      <td>0.0</td>\n",
              "      <td>0.009859</td>\n",
              "      <td>0.073315</td>\n",
              "      <td>0.349139</td>\n",
              "      <td>1.0</td>\n",
              "      <td>1.0</td>\n",
              "      <td>0.944704</td>\n",
              "      <td>1.0</td>\n",
              "      <td>0.759819</td>\n",
              "      <td>0.580613</td>\n",
              "      <td>0.663251</td>\n",
              "      <td>0.653755</td>\n",
              "      <td>0.47033</td>\n",
              "    </tr>\n",
              "  </tbody>\n",
              "</table>\n",
              "</div>"
            ],
            "text/plain": [
              "      ID       genre  book_lenght  ...       joy  surprise    trust\n",
              "0  214.0  Allegories     0.277991  ...  0.663251  0.653755  0.47033\n",
              "\n",
              "[1 rows x 40 columns]"
            ]
          },
          "metadata": {
            "tags": []
          },
          "execution_count": 7
        }
      ]
    },
    {
      "cell_type": "code",
      "metadata": {
        "id": "x8tEGvOEGWtx",
        "colab_type": "code",
        "outputId": "e47ac6aa-c7e9-4411-9b7e-04fd3abaf59f",
        "colab": {
          "base_uri": "https://localhost:8080/",
          "height": 34
        }
      },
      "source": [
        "train_data.shape"
      ],
      "execution_count": 8,
      "outputs": [
        {
          "output_type": "execute_result",
          "data": {
            "text/plain": [
              "(155, 40)"
            ]
          },
          "metadata": {
            "tags": []
          },
          "execution_count": 8
        }
      ]
    },
    {
      "cell_type": "code",
      "metadata": {
        "id": "wLyAHHIR8wux",
        "colab_type": "code",
        "colab": {}
      },
      "source": [
        "first_cols = ['ID','genre'] #,'Author_Name', 'Book_Name'\n",
        "last_cols = [col for col in val_data.columns if col not in first_cols]\n",
        "\n",
        "val_data = val_data[first_cols+last_cols]"
      ],
      "execution_count": 0,
      "outputs": []
    },
    {
      "cell_type": "code",
      "metadata": {
        "id": "Csty5zvr7QA8",
        "colab_type": "code",
        "colab": {}
      },
      "source": [
        "X_train,y_train = train_data.values[:,2:], train_data.values[:,1]"
      ],
      "execution_count": 0,
      "outputs": []
    },
    {
      "cell_type": "code",
      "metadata": {
        "id": "1aZRLgV_9N4q",
        "colab_type": "code",
        "outputId": "42ac016b-b906-4b63-c46c-567af671eb95",
        "colab": {
          "base_uri": "https://localhost:8080/",
          "height": 51
        }
      },
      "source": [
        "print(\"Shape of training input\", X_train.shape)\n",
        "print(\"Shape of training output\", y_train.shape)"
      ],
      "execution_count": 11,
      "outputs": [
        {
          "output_type": "stream",
          "text": [
            "Shape of training input (155, 38)\n",
            "Shape of training output (155,)\n"
          ],
          "name": "stdout"
        }
      ]
    },
    {
      "cell_type": "code",
      "metadata": {
        "id": "qXgQdESB9EE-",
        "colab_type": "code",
        "colab": {}
      },
      "source": [
        "X_val,y_val = val_data.values[:,2:], val_data.values[:,1]"
      ],
      "execution_count": 0,
      "outputs": []
    },
    {
      "cell_type": "code",
      "metadata": {
        "id": "Lg099GWU9b8O",
        "colab_type": "code",
        "outputId": "6940ec65-73ed-4fa7-bddf-3beee8b65a67",
        "colab": {
          "base_uri": "https://localhost:8080/",
          "height": 51
        }
      },
      "source": [
        "print(\"Shape of test input\", X_val.shape)\n",
        "print(\"Shape of test output\", y_val.shape)"
      ],
      "execution_count": 13,
      "outputs": [
        {
          "output_type": "stream",
          "text": [
            "Shape of test input (79, 38)\n",
            "Shape of test output (79,)\n"
          ],
          "name": "stdout"
        }
      ]
    },
    {
      "cell_type": "code",
      "metadata": {
        "id": "mWcQKcjuF7Vq",
        "colab_type": "code",
        "outputId": "a7681e8e-d61f-4850-c24e-b0b6321b3ae0",
        "colab": {
          "base_uri": "https://localhost:8080/",
          "height": 71
        }
      },
      "source": [
        "from sklearn.linear_model import LogisticRegression\n",
        "from sklearn import metrics\n",
        "from sklearn.model_selection import cross_val_score\n",
        "from sklearn.metrics import classification_report\n",
        "from sklearn.metrics import confusion_matrix\n",
        "import pandas as pd\n",
        "import seaborn as sns\n",
        "from sklearn.decomposition import PCA"
      ],
      "execution_count": 14,
      "outputs": [
        {
          "output_type": "stream",
          "text": [
            "/usr/local/lib/python3.6/dist-packages/statsmodels/tools/_testing.py:19: FutureWarning: pandas.util.testing is deprecated. Use the functions in the public API at pandas.testing instead.\n",
            "  import pandas.util.testing as tm\n"
          ],
          "name": "stderr"
        }
      ]
    },
    {
      "cell_type": "code",
      "metadata": {
        "id": "sXU4_BzrH6NX",
        "colab_type": "code",
        "colab": {}
      },
      "source": [
        "pca = PCA(n_components=20)\n",
        "X_train_pca = pca.fit(X_train)\n",
        "X_train_pca = pca.transform(X_train)\n",
        "X_val_pca = pca.transform(X_val)\n"
      ],
      "execution_count": 0,
      "outputs": []
    },
    {
      "cell_type": "markdown",
      "metadata": {
        "id": "RFxImaRGfW9W",
        "colab_type": "text"
      },
      "source": [
        "**Logistic regression**"
      ]
    },
    {
      "cell_type": "code",
      "metadata": {
        "id": "kXzjUl2UKhau",
        "colab_type": "code",
        "colab": {}
      },
      "source": [
        "lr = LogisticRegression()\n",
        "lr.fit(X_train_pca,y_train)\n",
        "y_pred_lr = lr.predict(X_val_pca)"
      ],
      "execution_count": 0,
      "outputs": []
    },
    {
      "cell_type": "code",
      "metadata": {
        "id": "9M7p-KelK5c1",
        "colab_type": "code",
        "outputId": "5ba56707-b9a1-47fe-9971-1844f8819543",
        "colab": {
          "base_uri": "https://localhost:8080/",
          "height": 34
        }
      },
      "source": [
        "print(\"Accuracy on overall test set is:\", metrics.accuracy_score(y_val,y_pred_lr))"
      ],
      "execution_count": 17,
      "outputs": [
        {
          "output_type": "stream",
          "text": [
            "Accuracy on overall test set is: 0.6075949367088608\n"
          ],
          "name": "stdout"
        }
      ]
    },
    {
      "cell_type": "code",
      "metadata": {
        "id": "mOEBfk1KLPP1",
        "colab_type": "code",
        "outputId": "8f7168c4-d3d0-4659-a798-925ae8146b35",
        "colab": {
          "base_uri": "https://localhost:8080/",
          "height": 432
        }
      },
      "source": [
        "from matplotlib import pyplot as plt\n",
        "from sklearn.metrics import accuracy_score\n",
        "cm = confusion_matrix(y_val, y_pred_lr)\n",
        "sns.heatmap(cm, annot=True , xticklabels=train_data.genre.unique(), yticklabels=train_data.genre.unique())\n",
        "plt.title('Accuracy using validation test set'.format(accuracy_score(y_val, y_pred_lr)))\n",
        "plt.ylabel('Actual label')\n",
        "plt.xlabel('Predicted label')\n",
        "plt.show()"
      ],
      "execution_count": 18,
      "outputs": [
        {
          "output_type": "display_data",
          "data": {
            "image/png": "[encoded data removed]",
            "text/plain": [
              "<Figure size 432x288 with 2 Axes>"
            ]
          },
          "metadata": {
            "tags": [],
            "needs_background": "light"
          }
        }
      ]
    },
    {
      "cell_type": "code",
      "metadata": {
        "id": "NY_shfY8MUx9",
        "colab_type": "code",
        "outputId": "582bd653-299e-49af-e28a-7b6afef6beb0",
        "colab": {
          "base_uri": "https://localhost:8080/",
          "height": 289
        }
      },
      "source": [
        "print(classification_report(y_val, y_pred_lr))"
      ],
      "execution_count": 19,
      "outputs": [
        {
          "output_type": "stream",
          "text": [
            "                             precision    recall  f1-score   support\n",
            "\n",
            "                 Allegories       0.73      1.00      0.84         8\n",
            "          Christmas Stories       1.00      0.89      0.94         9\n",
            "      Detective and Mystery       0.53      0.89      0.67         9\n",
            "           Ghost and Horror       0.83      0.62      0.71         8\n",
            "Humorous and Wit and Satire       0.71      0.56      0.63         9\n",
            "                   Literary       0.20      0.10      0.13        10\n",
            "           Love and Romance       0.50      0.44      0.47         9\n",
            "          Sea and Adventure       0.45      0.56      0.50         9\n",
            "            Western Stories       0.50      0.50      0.50         8\n",
            "\n",
            "                   accuracy                           0.61        79\n",
            "                  macro avg       0.61      0.62      0.60        79\n",
            "               weighted avg       0.60      0.61      0.59        79\n",
            "\n"
          ],
          "name": "stdout"
        }
      ]
    },
    {
      "cell_type": "markdown",
      "metadata": {
        "id": "DnV1GxTB9NU3",
        "colab_type": "text"
      },
      "source": [
        "**LR with weights**"
      ]
    },
    {
      "cell_type": "code",
      "metadata": {
        "colab_type": "code",
        "id": "7rB9Nxuk9QQK",
        "colab": {}
      },
      "source": [
        "lr = LogisticRegression(class_weight='balanced')\n",
        "lr.fit(X_train_pca,y_train)\n",
        "y_pred_lr = lr.predict(X_val_pca)"
      ],
      "execution_count": 0,
      "outputs": []
    },
    {
      "cell_type": "code",
      "metadata": {
        "colab_type": "code",
        "outputId": "da197c29-0814-49ee-c07c-c2407d736abf",
        "id": "9BQ1tSz09QQc",
        "colab": {
          "base_uri": "https://localhost:8080/",
          "height": 34
        }
      },
      "source": [
        "print(\"Accuracy on overall test set is:\", metrics.accuracy_score(y_val,y_pred_lr))"
      ],
      "execution_count": 26,
      "outputs": [
        {
          "output_type": "stream",
          "text": [
            "Accuracy on overall test set is: 0.5949367088607594\n"
          ],
          "name": "stdout"
        }
      ]
    },
    {
      "cell_type": "code",
      "metadata": {
        "colab_type": "code",
        "outputId": "c667c90c-828f-411f-8ab7-63623d3d63d6",
        "id": "fvnGFr0z9QQo",
        "colab": {
          "base_uri": "https://localhost:8080/",
          "height": 432
        }
      },
      "source": [
        "from matplotlib import pyplot as plt\n",
        "from sklearn.metrics import accuracy_score\n",
        "cm = confusion_matrix(y_val, y_pred_lr)\n",
        "sns.heatmap(cm, annot=True , xticklabels=train_data.genre.unique(), yticklabels=train_data.genre.unique())\n",
        "plt.title('Accuracy using validation test set'.format(accuracy_score(y_val, y_pred_lr)))\n",
        "plt.ylabel('Actual label')\n",
        "plt.xlabel('Predicted label')\n",
        "plt.show()"
      ],
      "execution_count": 27,
      "outputs": [
        {
          "output_type": "display_data",
          "data": {
            "image/png": "[encoded data removed]",
            "text/plain": [
              "<Figure size 432x288 with 2 Axes>"
            ]
          },
          "metadata": {
            "tags": [],
            "needs_background": "light"
          }
        }
      ]
    },
    {
      "cell_type": "code",
      "metadata": {
        "colab_type": "code",
        "outputId": "a78108a9-947b-4558-da95-cc30ba5d0784",
        "id": "NiRVq-B99QQz",
        "colab": {
          "base_uri": "https://localhost:8080/",
          "height": 289
        }
      },
      "source": [
        "print(classification_report(y_val, y_pred_lr))"
      ],
      "execution_count": 28,
      "outputs": [
        {
          "output_type": "stream",
          "text": [
            "                             precision    recall  f1-score   support\n",
            "\n",
            "                 Allegories       0.67      1.00      0.80         8\n",
            "          Christmas Stories       1.00      0.89      0.94         9\n",
            "      Detective and Mystery       0.53      0.89      0.67         9\n",
            "           Ghost and Horror       0.83      0.62      0.71         8\n",
            "Humorous and Wit and Satire       0.56      0.56      0.56         9\n",
            "                   Literary       0.00      0.00      0.00        10\n",
            "           Love and Romance       0.44      0.44      0.44         9\n",
            "          Sea and Adventure       0.45      0.56      0.50         9\n",
            "            Western Stories       0.50      0.50      0.50         8\n",
            "\n",
            "                   accuracy                           0.59        79\n",
            "                  macro avg       0.55      0.61      0.57        79\n",
            "               weighted avg       0.54      0.59      0.56        79\n",
            "\n"
          ],
          "name": "stdout"
        }
      ]
    },
    {
      "cell_type": "markdown",
      "metadata": {
        "id": "SCy0FsGyfdxh",
        "colab_type": "text"
      },
      "source": [
        "**SVM**"
      ]
    },
    {
      "cell_type": "code",
      "metadata": {
        "colab_type": "code",
        "id": "_fLoqJj0flxT",
        "colab": {}
      },
      "source": [
        "from sklearn.svm import SVC\n",
        "lr = SVC()\n",
        "lr.fit(X_train_pca,y_train)\n",
        "y_pred_lr = lr.predict(X_val_pca)"
      ],
      "execution_count": 0,
      "outputs": []
    },
    {
      "cell_type": "code",
      "metadata": {
        "colab_type": "code",
        "outputId": "a8d3f3b0-2ff7-40a4-ff25-b38f43b877f2",
        "id": "tFt4Vfj-flxg",
        "colab": {
          "base_uri": "https://localhost:8080/",
          "height": 34
        }
      },
      "source": [
        "print(\"Accuracy on overall test set is:\", metrics.accuracy_score(y_val,y_pred_lr))"
      ],
      "execution_count": 21,
      "outputs": [
        {
          "output_type": "stream",
          "text": [
            "Accuracy on overall test set is: 0.5443037974683544\n"
          ],
          "name": "stdout"
        }
      ]
    },
    {
      "cell_type": "code",
      "metadata": {
        "colab_type": "code",
        "outputId": "6529492b-d8bf-4672-b5ca-5f9e10e82476",
        "id": "F0u7ociYflxu",
        "colab": {
          "base_uri": "https://localhost:8080/",
          "height": 432
        }
      },
      "source": [
        "from matplotlib import pyplot as plt\n",
        "from sklearn.metrics import accuracy_score\n",
        "cm = confusion_matrix(y_val, y_pred_lr)\n",
        "sns.heatmap(cm, annot=True , xticklabels=train_data.genre.unique(), yticklabels=train_data.genre.unique())\n",
        "plt.title('Accuracy using validation test set'.format(accuracy_score(y_val, y_pred_lr)))\n",
        "plt.ylabel('Actual label')\n",
        "plt.xlabel('Predicted label')\n",
        "plt.show()"
      ],
      "execution_count": 22,
      "outputs": [
        {
          "output_type": "display_data",
          "data": {
            "image/png": "[encoded data removed]",
            "text/plain": [
              "<Figure size 432x288 with 2 Axes>"
            ]
          },
          "metadata": {
            "tags": [],
            "needs_background": "light"
          }
        }
      ]
    },
    {
      "cell_type": "code",
      "metadata": {
        "colab_type": "code",
        "outputId": "b998488a-cba8-4dac-ebef-057743c90aea",
        "id": "Pb2RZTduflx6",
        "colab": {
          "base_uri": "https://localhost:8080/",
          "height": 289
        }
      },
      "source": [
        "print(classification_report(y_val, y_pred_lr))"
      ],
      "execution_count": 23,
      "outputs": [
        {
          "output_type": "stream",
          "text": [
            "                             precision    recall  f1-score   support\n",
            "\n",
            "                 Allegories       1.00      1.00      1.00         8\n",
            "          Christmas Stories       1.00      0.44      0.62         9\n",
            "      Detective and Mystery       0.22      0.44      0.30         9\n",
            "           Ghost and Horror       1.00      0.75      0.86         8\n",
            "Humorous and Wit and Satire       1.00      0.67      0.80         9\n",
            "                   Literary       0.27      0.30      0.29        10\n",
            "           Love and Romance       0.57      0.44      0.50         9\n",
            "          Sea and Adventure       0.38      0.56      0.45         9\n",
            "            Western Stories       0.50      0.38      0.43         8\n",
            "\n",
            "                   accuracy                           0.54        79\n",
            "                  macro avg       0.66      0.55      0.58        79\n",
            "               weighted avg       0.65      0.54      0.57        79\n",
            "\n"
          ],
          "name": "stdout"
        }
      ]
    },
    {
      "cell_type": "markdown",
      "metadata": {
        "id": "1ixG6CQ5g_EK",
        "colab_type": "text"
      },
      "source": [
        "**Naive Bayes**"
      ]
    },
    {
      "cell_type": "code",
      "metadata": {
        "colab_type": "code",
        "id": "J0zL3q3thCUB",
        "colab": {}
      },
      "source": [
        "from sklearn.naive_bayes import MultinomialNB\n",
        "lr = MultinomialNB()\n",
        "lr.fit(X_train_pca,y_train)\n",
        "y_pred_lr = lr.predict(X_val_pca)"
      ],
      "execution_count": 0,
      "outputs": []
    },
    {
      "cell_type": "code",
      "metadata": {
        "colab_type": "code",
        "id": "-sti8n5qhCUN",
        "colab": {}
      },
      "source": [
        "print(\"Accuracy on overall test set is:\", metrics.accuracy_score(y_val,y_pred_lr))"
      ],
      "execution_count": 0,
      "outputs": []
    },
    {
      "cell_type": "code",
      "metadata": {
        "colab_type": "code",
        "id": "plHx7MdnhCUb",
        "colab": {}
      },
      "source": [
        "from matplotlib import pyplot as plt\n",
        "from sklearn.metrics import accuracy_score\n",
        "cm = confusion_matrix(y_val, y_pred_lr)\n",
        "sns.heatmap(cm, annot=True , xticklabels=train_data.genre.unique(), yticklabels=train_data.genre.unique())\n",
        "plt.title('Accuracy using validation test set'.format(accuracy_score(y_val, y_pred_lr)))\n",
        "plt.ylabel('Actual label')\n",
        "plt.xlabel('Predicted label')\n",
        "plt.show()"
      ],
      "execution_count": 0,
      "outputs": []
    },
    {
      "cell_type": "code",
      "metadata": {
        "colab_type": "code",
        "id": "thLK9nZPhCUp",
        "colab": {}
      },
      "source": [
        "print(classification_report(y_val, y_pred_lr))"
      ],
      "execution_count": 0,
      "outputs": []
    }
  ]
}